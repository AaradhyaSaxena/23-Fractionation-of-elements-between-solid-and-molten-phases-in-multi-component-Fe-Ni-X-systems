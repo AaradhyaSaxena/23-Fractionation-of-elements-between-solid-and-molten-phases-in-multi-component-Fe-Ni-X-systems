{
 "cells": [
  {
   "cell_type": "code",
   "execution_count": 1,
   "metadata": {},
   "outputs": [],
   "source": [
    "# %load ../standard_import.txt\n",
    "import pandas as pd\n",
    "import numpy as np\n",
    "import matplotlib.pyplot as plt\n",
    "from mpl_toolkits.mplot3d import axes3d\n",
    "import seaborn as sns\n",
    "\n",
    "from sklearn.preprocessing import scale\n",
    "import sklearn.linear_model as skl_lm\n",
    "from sklearn.metrics import mean_squared_error, r2_score\n",
    "from sklearn import preprocessing, neighbors, svm\n",
    "from sklearn.model_selection import train_test_split\n",
    "from scipy.optimize import curve_fit\n",
    "import statsmodels.api as sm\n",
    "import statsmodels.formula.api as smf\n",
    "import re\n",
    "%matplotlib inline\n",
    "plt.style.use('seaborn-white')"
   ]
  },
  {
   "cell_type": "markdown",
   "metadata": {},
   "source": [
    "Here we are just dealing with Cu data"
   ]
  },
  {
   "cell_type": "code",
   "execution_count": 2,
   "metadata": {},
   "outputs": [
    {
     "name": "stdout",
     "output_type": "stream",
     "text": [
      "['Sheet1', 'Sheet3', 'xS vs FeS domain']\n"
     ]
    }
   ],
   "source": [
    "data = pd.ExcelFile('Data1/Cu.xlsx')\n",
    "print(data.sheet_names)"
   ]
  },
  {
   "cell_type": "code",
   "execution_count": 3,
   "metadata": {},
   "outputs": [
    {
     "data": {
      "text/html": [
       "<div>\n",
       "<style scoped>\n",
       "    .dataframe tbody tr th:only-of-type {\n",
       "        vertical-align: middle;\n",
       "    }\n",
       "\n",
       "    .dataframe tbody tr th {\n",
       "        vertical-align: top;\n",
       "    }\n",
       "\n",
       "    .dataframe thead th {\n",
       "        text-align: right;\n",
       "    }\n",
       "</style>\n",
       "<table border=\"1\" class=\"dataframe\">\n",
       "  <thead>\n",
       "    <tr style=\"text-align: right;\">\n",
       "      <th></th>\n",
       "      <th>Reference</th>\n",
       "      <th>Run #</th>\n",
       "      <th>D(Cu)</th>\n",
       "      <th>Dinv</th>\n",
       "      <th>LnFeDomains</th>\n",
       "      <th>LnDinv</th>\n",
       "    </tr>\n",
       "  </thead>\n",
       "  <tbody>\n",
       "    <tr>\n",
       "      <th>0</th>\n",
       "      <td>NaN</td>\n",
       "      <td>IT10</td>\n",
       "      <td>0.43</td>\n",
       "      <td>2.325581</td>\n",
       "      <td>-0.063935</td>\n",
       "      <td>0.843970</td>\n",
       "    </tr>\n",
       "    <tr>\n",
       "      <th>1</th>\n",
       "      <td>3</td>\n",
       "      <td>IT11</td>\n",
       "      <td>0.32</td>\n",
       "      <td>3.125000</td>\n",
       "      <td>-0.171537</td>\n",
       "      <td>1.139434</td>\n",
       "    </tr>\n",
       "    <tr>\n",
       "      <th>2</th>\n",
       "      <td>Chabot 2008</td>\n",
       "      <td>IT14</td>\n",
       "      <td>0.33</td>\n",
       "      <td>3.030303</td>\n",
       "      <td>-0.297457</td>\n",
       "      <td>1.108663</td>\n",
       "    </tr>\n",
       "    <tr>\n",
       "      <th>3</th>\n",
       "      <td>Fe-Ni-S, 1 atm</td>\n",
       "      <td>IT3</td>\n",
       "      <td>0.33</td>\n",
       "      <td>3.030303</td>\n",
       "      <td>-0.565593</td>\n",
       "      <td>1.108663</td>\n",
       "    </tr>\n",
       "    <tr>\n",
       "      <th>4</th>\n",
       "      <td>NaN</td>\n",
       "      <td>IT4</td>\n",
       "      <td>0.24</td>\n",
       "      <td>4.166667</td>\n",
       "      <td>-0.818951</td>\n",
       "      <td>1.427116</td>\n",
       "    </tr>\n",
       "  </tbody>\n",
       "</table>\n",
       "</div>"
      ],
      "text/plain": [
       "        Reference Run #  D(Cu)      Dinv  LnFeDomains    LnDinv\n",
       "0             NaN  IT10   0.43  2.325581    -0.063935  0.843970\n",
       "1               3  IT11   0.32  3.125000    -0.171537  1.139434\n",
       "2     Chabot 2008  IT14   0.33  3.030303    -0.297457  1.108663\n",
       "3  Fe-Ni-S, 1 atm   IT3   0.33  3.030303    -0.565593  1.108663\n",
       "4             NaN   IT4   0.24  4.166667    -0.818951  1.427116"
      ]
     },
     "execution_count": 3,
     "metadata": {},
     "output_type": "execute_result"
    }
   ],
   "source": [
    "df1 = data.parse('Sheet1')\n",
    "df1.head(5)"
   ]
  },
  {
   "cell_type": "code",
   "execution_count": 4,
   "metadata": {
    "scrolled": false
   },
   "outputs": [
    {
     "name": "stdout",
     "output_type": "stream",
     "text": [
      "<class 'pandas.core.frame.DataFrame'>\n",
      "RangeIndex: 72 entries, 0 to 71\n",
      "Data columns (total 3 columns):\n",
      "Dinv           72 non-null float64\n",
      "LnFeDomains    72 non-null float64\n",
      "LnDinv         72 non-null float64\n",
      "dtypes: float64(3)\n",
      "memory usage: 1.8 KB\n"
     ]
    },
    {
     "data": {
      "text/html": [
       "<div>\n",
       "<style scoped>\n",
       "    .dataframe tbody tr th:only-of-type {\n",
       "        vertical-align: middle;\n",
       "    }\n",
       "\n",
       "    .dataframe tbody tr th {\n",
       "        vertical-align: top;\n",
       "    }\n",
       "\n",
       "    .dataframe thead th {\n",
       "        text-align: right;\n",
       "    }\n",
       "</style>\n",
       "<table border=\"1\" class=\"dataframe\">\n",
       "  <thead>\n",
       "    <tr style=\"text-align: right;\">\n",
       "      <th></th>\n",
       "      <th>Dinv</th>\n",
       "      <th>LnFeDomains</th>\n",
       "      <th>LnDinv</th>\n",
       "    </tr>\n",
       "  </thead>\n",
       "  <tbody>\n",
       "    <tr>\n",
       "      <th>0</th>\n",
       "      <td>2.325581</td>\n",
       "      <td>-0.063935</td>\n",
       "      <td>0.843970</td>\n",
       "    </tr>\n",
       "    <tr>\n",
       "      <th>1</th>\n",
       "      <td>3.125000</td>\n",
       "      <td>-0.171537</td>\n",
       "      <td>1.139434</td>\n",
       "    </tr>\n",
       "    <tr>\n",
       "      <th>2</th>\n",
       "      <td>3.030303</td>\n",
       "      <td>-0.297457</td>\n",
       "      <td>1.108663</td>\n",
       "    </tr>\n",
       "    <tr>\n",
       "      <th>3</th>\n",
       "      <td>3.030303</td>\n",
       "      <td>-0.565593</td>\n",
       "      <td>1.108663</td>\n",
       "    </tr>\n",
       "    <tr>\n",
       "      <th>4</th>\n",
       "      <td>4.166667</td>\n",
       "      <td>-0.818951</td>\n",
       "      <td>1.427116</td>\n",
       "    </tr>\n",
       "  </tbody>\n",
       "</table>\n",
       "</div>"
      ],
      "text/plain": [
       "       Dinv  LnFeDomains    LnDinv\n",
       "0  2.325581    -0.063935  0.843970\n",
       "1  3.125000    -0.171537  1.139434\n",
       "2  3.030303    -0.297457  1.108663\n",
       "3  3.030303    -0.565593  1.108663\n",
       "4  4.166667    -0.818951  1.427116"
      ]
     },
     "execution_count": 4,
     "metadata": {},
     "output_type": "execute_result"
    }
   ],
   "source": [
    "df2 = df1.drop(['Reference', 'Run #', 'D(Cu)'], axis=1)\n",
    "df2.dropna()\n",
    "pd.options.display.max_rows = 999\n",
    "df2.info()\n",
    "df2.head()"
   ]
  },
  {
   "cell_type": "code",
   "execution_count": 5,
   "metadata": {},
   "outputs": [
    {
     "data": {
      "text/html": [
       "<div>\n",
       "<style scoped>\n",
       "    .dataframe tbody tr th:only-of-type {\n",
       "        vertical-align: middle;\n",
       "    }\n",
       "\n",
       "    .dataframe tbody tr th {\n",
       "        vertical-align: top;\n",
       "    }\n",
       "\n",
       "    .dataframe thead th {\n",
       "        text-align: right;\n",
       "    }\n",
       "</style>\n",
       "<table border=\"1\" class=\"dataframe\">\n",
       "  <thead>\n",
       "    <tr style=\"text-align: right;\">\n",
       "      <th></th>\n",
       "      <th>Dinv</th>\n",
       "      <th>LnFeDomains</th>\n",
       "      <th>LnDinv</th>\n",
       "      <th>FeDomains</th>\n",
       "    </tr>\n",
       "  </thead>\n",
       "  <tbody>\n",
       "    <tr>\n",
       "      <th>0</th>\n",
       "      <td>2.325581</td>\n",
       "      <td>-0.063935</td>\n",
       "      <td>0.843970</td>\n",
       "      <td>0.938066</td>\n",
       "    </tr>\n",
       "    <tr>\n",
       "      <th>1</th>\n",
       "      <td>3.125000</td>\n",
       "      <td>-0.171537</td>\n",
       "      <td>1.139434</td>\n",
       "      <td>0.842369</td>\n",
       "    </tr>\n",
       "    <tr>\n",
       "      <th>2</th>\n",
       "      <td>3.030303</td>\n",
       "      <td>-0.297457</td>\n",
       "      <td>1.108663</td>\n",
       "      <td>0.742704</td>\n",
       "    </tr>\n",
       "    <tr>\n",
       "      <th>3</th>\n",
       "      <td>3.030303</td>\n",
       "      <td>-0.565593</td>\n",
       "      <td>1.108663</td>\n",
       "      <td>0.568023</td>\n",
       "    </tr>\n",
       "    <tr>\n",
       "      <th>4</th>\n",
       "      <td>4.166667</td>\n",
       "      <td>-0.818951</td>\n",
       "      <td>1.427116</td>\n",
       "      <td>0.440894</td>\n",
       "    </tr>\n",
       "  </tbody>\n",
       "</table>\n",
       "</div>"
      ],
      "text/plain": [
       "       Dinv  LnFeDomains    LnDinv  FeDomains\n",
       "0  2.325581    -0.063935  0.843970   0.938066\n",
       "1  3.125000    -0.171537  1.139434   0.842369\n",
       "2  3.030303    -0.297457  1.108663   0.742704\n",
       "3  3.030303    -0.565593  1.108663   0.568023\n",
       "4  4.166667    -0.818951  1.427116   0.440894"
      ]
     },
     "execution_count": 5,
     "metadata": {},
     "output_type": "execute_result"
    }
   ],
   "source": [
    "df2['FeDomains'] = np.exp(df2['LnFeDomains'])\n",
    "df2.head()"
   ]
  },
  {
   "cell_type": "markdown",
   "metadata": {},
   "source": [
    "**Assumption**: We have initially asssumed that all the non-metals have equal impact, and the concentration of Fe-domains is the only criteron on which the fractionation of elements depends."
   ]
  },
  {
   "cell_type": "markdown",
   "metadata": {},
   "source": [
    "Plotting Fe-Domains vs 1/D"
   ]
  },
  {
   "cell_type": "code",
   "execution_count": 6,
   "metadata": {},
   "outputs": [
    {
     "data": {
      "image/png": "[encoded data removed]",
      "text/plain": [
       "<Figure size 432x288 with 1 Axes>"
      ]
     },
     "metadata": {},
     "output_type": "display_data"
    }
   ],
   "source": [
    "plt.plot(df2['FeDomains'],df2['Dinv'], marker='.', linestyle='none')\n",
    "plt.show()"
   ]
  },
  {
   "cell_type": "code",
   "execution_count": 7,
   "metadata": {},
   "outputs": [
    {
     "data": {
      "text/plain": [
       "0.625"
      ]
     },
     "execution_count": 7,
     "metadata": {},
     "output_type": "execute_result"
    }
   ],
   "source": [
    "df2['Dinv'].min()"
   ]
  },
  {
   "cell_type": "markdown",
   "metadata": {},
   "source": [
    "Dinv reaches its minimum value at aroud 7 and after that no point is below that, this curve looks more like a **hyperbola** than a linear , quadratic or logarithmic fit.\n",
    "\n",
    "But if we **reject the Fe-C data** then even a linear model will give us a nice fit. Try this with qualitative variable introduction of different non-metals."
   ]
  },
  {
   "cell_type": "markdown",
   "metadata": {},
   "source": [
    "#### **(A)** Fitting a linear model"
   ]
  },
  {
   "cell_type": "code",
   "execution_count": 8,
   "metadata": {},
   "outputs": [
    {
     "data": {
      "image/png": "[encoded data removed]",
      "text/plain": [
       "<Figure size 360x360 with 1 Axes>"
      ]
     },
     "metadata": {},
     "output_type": "display_data"
    }
   ],
   "source": [
    "sns.lmplot(x='FeDomains', y='Dinv', data=df2)\n",
    "plt.show()"
   ]
  },
  {
   "cell_type": "code",
   "execution_count": 9,
   "metadata": {},
   "outputs": [
    {
     "data": {
      "image/png": "[encoded data removed]",
      "text/plain": [
       "<Figure size 432x288 with 1 Axes>"
      ]
     },
     "metadata": {},
     "output_type": "display_data"
    }
   ],
   "source": [
    "sns.residplot(x='FeDomains', y='Dinv', lowess=True, order = 1,data=df2, color='green')\n",
    "plt.show()"
   ]
  },
  {
   "cell_type": "markdown",
   "metadata": {},
   "source": [
    "**Residual plots are tools to identify non-linearity of data. Ideally, residual plots show no discernible pattern but presence of a pattern may show problem with some aspect of linear model.**"
   ]
  },
  {
   "cell_type": "markdown",
   "metadata": {},
   "source": [
    "Here we can clearly see a pattern in the values of residuals and also the R^2 value of the fit is too low.\n",
    "Trying log, minus x2, square-root x to remove any pattern from the residual plot."
   ]
  },
  {
   "cell_type": "code",
   "execution_count": 10,
   "metadata": {},
   "outputs": [
    {
     "data": {
      "text/html": [
       "<table class=\"simpletable\">\n",
       "<caption>OLS Regression Results</caption>\n",
       "<tr>\n",
       "  <th>Dep. Variable:</th>          <td>Dinv</td>       <th>  R-squared:         </th> <td>   0.546</td>\n",
       "</tr>\n",
       "<tr>\n",
       "  <th>Model:</th>                   <td>OLS</td>       <th>  Adj. R-squared:    </th> <td>   0.539</td>\n",
       "</tr>\n",
       "<tr>\n",
       "  <th>Method:</th>             <td>Least Squares</td>  <th>  F-statistic:       </th> <td>   84.07</td>\n",
       "</tr>\n",
       "<tr>\n",
       "  <th>Date:</th>             <td>Sun, 08 Jul 2018</td> <th>  Prob (F-statistic):</th> <td>1.30e-13</td>\n",
       "</tr>\n",
       "<tr>\n",
       "  <th>Time:</th>                 <td>23:15:40</td>     <th>  Log-Likelihood:    </th> <td> -154.85</td>\n",
       "</tr>\n",
       "<tr>\n",
       "  <th>No. Observations:</th>      <td>    72</td>      <th>  AIC:               </th> <td>   313.7</td>\n",
       "</tr>\n",
       "<tr>\n",
       "  <th>Df Residuals:</th>          <td>    70</td>      <th>  BIC:               </th> <td>   318.3</td>\n",
       "</tr>\n",
       "<tr>\n",
       "  <th>Df Model:</th>              <td>     1</td>      <th>                     </th>     <td> </td>   \n",
       "</tr>\n",
       "<tr>\n",
       "  <th>Covariance Type:</th>      <td>nonrobust</td>    <th>                     </th>     <td> </td>   \n",
       "</tr>\n",
       "</table>\n",
       "<table class=\"simpletable\">\n",
       "<tr>\n",
       "      <td></td>         <th>coef</th>     <th>std err</th>      <th>t</th>      <th>P>|t|</th>  <th>[0.025</th>    <th>0.975]</th>  \n",
       "</tr>\n",
       "<tr>\n",
       "  <th>Intercept</th> <td>    9.1166</td> <td>    0.723</td> <td>   12.616</td> <td> 0.000</td> <td>    7.675</td> <td>   10.558</td>\n",
       "</tr>\n",
       "<tr>\n",
       "  <th>FeDomains</th> <td>   -9.2683</td> <td>    1.011</td> <td>   -9.169</td> <td> 0.000</td> <td>  -11.284</td> <td>   -7.252</td>\n",
       "</tr>\n",
       "</table>\n",
       "<table class=\"simpletable\">\n",
       "<tr>\n",
       "  <th>Omnibus:</th>       <td>52.668</td> <th>  Durbin-Watson:     </th> <td>   0.836</td>\n",
       "</tr>\n",
       "<tr>\n",
       "  <th>Prob(Omnibus):</th> <td> 0.000</td> <th>  Jarque-Bera (JB):  </th> <td> 225.974</td>\n",
       "</tr>\n",
       "<tr>\n",
       "  <th>Skew:</th>          <td> 2.215</td> <th>  Prob(JB):          </th> <td>8.52e-50</td>\n",
       "</tr>\n",
       "<tr>\n",
       "  <th>Kurtosis:</th>      <td>10.463</td> <th>  Cond. No.          </th> <td>    5.98</td>\n",
       "</tr>\n",
       "</table><br/><br/>Warnings:<br/>[1] Standard Errors assume that the covariance matrix of the errors is correctly specified."
      ],
      "text/plain": [
       "<class 'statsmodels.iolib.summary.Summary'>\n",
       "\"\"\"\n",
       "                            OLS Regression Results                            \n",
       "==============================================================================\n",
       "Dep. Variable:                   Dinv   R-squared:                       0.546\n",
       "Model:                            OLS   Adj. R-squared:                  0.539\n",
       "Method:                 Least Squares   F-statistic:                     84.07\n",
       "Date:                Sun, 08 Jul 2018   Prob (F-statistic):           1.30e-13\n",
       "Time:                        23:15:40   Log-Likelihood:                -154.85\n",
       "No. Observations:                  72   AIC:                             313.7\n",
       "Df Residuals:                      70   BIC:                             318.3\n",
       "Df Model:                           1                                         \n",
       "Covariance Type:            nonrobust                                         \n",
       "==============================================================================\n",
       "                 coef    std err          t      P>|t|      [0.025      0.975]\n",
       "------------------------------------------------------------------------------\n",
       "Intercept      9.1166      0.723     12.616      0.000       7.675      10.558\n",
       "FeDomains     -9.2683      1.011     -9.169      0.000     -11.284      -7.252\n",
       "==============================================================================\n",
       "Omnibus:                       52.668   Durbin-Watson:                   0.836\n",
       "Prob(Omnibus):                  0.000   Jarque-Bera (JB):              225.974\n",
       "Skew:                           2.215   Prob(JB):                     8.52e-50\n",
       "Kurtosis:                      10.463   Cond. No.                         5.98\n",
       "==============================================================================\n",
       "\n",
       "Warnings:\n",
       "[1] Standard Errors assume that the covariance matrix of the errors is correctly specified.\n",
       "\"\"\""
      ]
     },
     "execution_count": 10,
     "metadata": {},
     "output_type": "execute_result"
    }
   ],
   "source": [
    "est = smf.ols('Dinv ~ FeDomains', df2).fit()\n",
    "est.summary()"
   ]
  },
  {
   "cell_type": "markdown",
   "metadata": {},
   "source": [
    "The linear regression model assumes that there is a straight-line relationship between the predictors and the response. If the true relationship is far from linear, then virtually all of the conclusions that we draw from the fit are suspect. In addition, the prediction accuracy of the model can be significantly reduced.\n",
    "The nonlinearity in the regression plot and the poor R-squared value(~.54) tells us that linear model is not suitable for this data."
   ]
  },
  {
   "cell_type": "markdown",
   "metadata": {},
   "source": [
    "Degree 2 might do better!"
   ]
  },
  {
   "cell_type": "markdown",
   "metadata": {},
   "source": [
    "### (B) Squared model"
   ]
  },
  {
   "cell_type": "code",
   "execution_count": 11,
   "metadata": {},
   "outputs": [
    {
     "data": {
      "image/png": "[encoded data removed]",
      "text/plain": [
       "<Figure size 432x288 with 1 Axes>"
      ]
     },
     "metadata": {},
     "output_type": "display_data"
    },
    {
     "name": "stdout",
     "output_type": "stream",
     "text": [
      "Function equation : \n",
      "        2\n",
      "28.62 x - 43.5 x + 17.47\n"
     ]
    }
   ],
   "source": [
    "fit = np.polyfit(df2['FeDomains'],df2['Dinv'], 2)\n",
    "fit_fn = np.poly1d(fit)\n",
    "\n",
    "plt.plot(df2['FeDomains'],df2['Dinv'], '.', np.sort(df2['FeDomains']), fit_fn(np.sort(df2['FeDomains'])), '--r', linewidth=2)\n",
    "plt.xlabel(\"FeDomains\")\n",
    "plt.ylabel(\"Dinv\")\n",
    "plt.show()\n",
    "print('Function equation : \\n',fit_fn)"
   ]
  },
  {
   "cell_type": "code",
   "execution_count": 12,
   "metadata": {},
   "outputs": [
    {
     "data": {
      "image/png": "[encoded data removed]",
      "text/plain": [
       "<Figure size 432x288 with 1 Axes>"
      ]
     },
     "metadata": {},
     "output_type": "display_data"
    }
   ],
   "source": [
    "sns.residplot(x='FeDomains', y='Dinv', order = 2,data=df2, color='green')\n",
    "plt.show()"
   ]
  },
  {
   "cell_type": "markdown",
   "metadata": {},
   "source": [
    "The residual plot makes us clear the non-linearity of the data in the squared model above."
   ]
  },
  {
   "cell_type": "markdown",
   "metadata": {},
   "source": [
    "**IF WE COULD JUST IGNORE THE THREE POINTS** at the top then the rest of the data fits the linear model just fine. While, on changing the degree to 2 other than the 3 points on the top, rest of the model resists the degree 2 model."
   ]
  },
  {
   "cell_type": "markdown",
   "metadata": {},
   "source": [
    "However, this time we get a higher Rsquared value (~.78), than the linear model. But this is due to the fact that the earlier linear model was distorted too much by the outlier values of the Fe-Ni-C data."
   ]
  },
  {
   "cell_type": "code",
   "execution_count": 13,
   "metadata": {},
   "outputs": [
    {
     "data": {
      "text/html": [
       "<table class=\"simpletable\">\n",
       "<caption>OLS Regression Results</caption>\n",
       "<tr>\n",
       "  <th>Dep. Variable:</th>          <td>Dinv</td>       <th>  R-squared:         </th> <td>   0.785</td>\n",
       "</tr>\n",
       "<tr>\n",
       "  <th>Model:</th>                   <td>OLS</td>       <th>  Adj. R-squared:    </th> <td>   0.779</td>\n",
       "</tr>\n",
       "<tr>\n",
       "  <th>Method:</th>             <td>Least Squares</td>  <th>  F-statistic:       </th> <td>   125.9</td>\n",
       "</tr>\n",
       "<tr>\n",
       "  <th>Date:</th>             <td>Sun, 08 Jul 2018</td> <th>  Prob (F-statistic):</th> <td>9.48e-24</td>\n",
       "</tr>\n",
       "<tr>\n",
       "  <th>Time:</th>                 <td>23:18:30</td>     <th>  Log-Likelihood:    </th> <td> -127.94</td>\n",
       "</tr>\n",
       "<tr>\n",
       "  <th>No. Observations:</th>      <td>    72</td>      <th>  AIC:               </th> <td>   261.9</td>\n",
       "</tr>\n",
       "<tr>\n",
       "  <th>Df Residuals:</th>          <td>    69</td>      <th>  BIC:               </th> <td>   268.7</td>\n",
       "</tr>\n",
       "<tr>\n",
       "  <th>Df Model:</th>              <td>     2</td>      <th>                     </th>     <td> </td>   \n",
       "</tr>\n",
       "<tr>\n",
       "  <th>Covariance Type:</th>      <td>nonrobust</td>    <th>                     </th>     <td> </td>   \n",
       "</tr>\n",
       "</table>\n",
       "<table class=\"simpletable\">\n",
       "<tr>\n",
       "            <td></td>              <th>coef</th>     <th>std err</th>      <th>t</th>      <th>P>|t|</th>  <th>[0.025</th>    <th>0.975]</th>  \n",
       "</tr>\n",
       "<tr>\n",
       "  <th>Intercept</th>            <td>   17.4690</td> <td>    1.077</td> <td>   16.220</td> <td> 0.000</td> <td>   15.320</td> <td>   19.618</td>\n",
       "</tr>\n",
       "<tr>\n",
       "  <th>FeDomains</th>            <td>  -43.5000</td> <td>    3.970</td> <td>  -10.957</td> <td> 0.000</td> <td>  -51.420</td> <td>  -35.580</td>\n",
       "</tr>\n",
       "<tr>\n",
       "  <th>np.square(FeDomains)</th> <td>   28.6214</td> <td>    3.267</td> <td>    8.760</td> <td> 0.000</td> <td>   22.103</td> <td>   35.140</td>\n",
       "</tr>\n",
       "</table>\n",
       "<table class=\"simpletable\">\n",
       "<tr>\n",
       "  <th>Omnibus:</th>       <td>18.583</td> <th>  Durbin-Watson:     </th> <td>   1.132</td>\n",
       "</tr>\n",
       "<tr>\n",
       "  <th>Prob(Omnibus):</th> <td> 0.000</td> <th>  Jarque-Bera (JB):  </th> <td>  41.610</td>\n",
       "</tr>\n",
       "<tr>\n",
       "  <th>Skew:</th>          <td> 0.792</td> <th>  Prob(JB):          </th> <td>9.22e-10</td>\n",
       "</tr>\n",
       "<tr>\n",
       "  <th>Kurtosis:</th>      <td> 6.371</td> <th>  Cond. No.          </th> <td>    40.4</td>\n",
       "</tr>\n",
       "</table><br/><br/>Warnings:<br/>[1] Standard Errors assume that the covariance matrix of the errors is correctly specified."
      ],
      "text/plain": [
       "<class 'statsmodels.iolib.summary.Summary'>\n",
       "\"\"\"\n",
       "                            OLS Regression Results                            \n",
       "==============================================================================\n",
       "Dep. Variable:                   Dinv   R-squared:                       0.785\n",
       "Model:                            OLS   Adj. R-squared:                  0.779\n",
       "Method:                 Least Squares   F-statistic:                     125.9\n",
       "Date:                Sun, 08 Jul 2018   Prob (F-statistic):           9.48e-24\n",
       "Time:                        23:18:30   Log-Likelihood:                -127.94\n",
       "No. Observations:                  72   AIC:                             261.9\n",
       "Df Residuals:                      69   BIC:                             268.7\n",
       "Df Model:                           2                                         \n",
       "Covariance Type:            nonrobust                                         \n",
       "========================================================================================\n",
       "                           coef    std err          t      P>|t|      [0.025      0.975]\n",
       "----------------------------------------------------------------------------------------\n",
       "Intercept               17.4690      1.077     16.220      0.000      15.320      19.618\n",
       "FeDomains              -43.5000      3.970    -10.957      0.000     -51.420     -35.580\n",
       "np.square(FeDomains)    28.6214      3.267      8.760      0.000      22.103      35.140\n",
       "==============================================================================\n",
       "Omnibus:                       18.583   Durbin-Watson:                   1.132\n",
       "Prob(Omnibus):                  0.000   Jarque-Bera (JB):               41.610\n",
       "Skew:                           0.792   Prob(JB):                     9.22e-10\n",
       "Kurtosis:                       6.371   Cond. No.                         40.4\n",
       "==============================================================================\n",
       "\n",
       "Warnings:\n",
       "[1] Standard Errors assume that the covariance matrix of the errors is correctly specified.\n",
       "\"\"\""
      ]
     },
     "execution_count": 13,
     "metadata": {},
     "output_type": "execute_result"
    }
   ],
   "source": [
    "est = smf.ols('Dinv ~ FeDomains + np.square(FeDomains)', df2).fit()\n",
    "est.summary()"
   ]
  },
  {
   "cell_type": "markdown",
   "metadata": {},
   "source": [
    "### (C) Trying Square-root of x"
   ]
  },
  {
   "cell_type": "markdown",
   "metadata": {},
   "source": [
    "Now rather than fitting a square-root line to the data, we are fitting a straight line to the squared data."
   ]
  },
  {
   "cell_type": "markdown",
   "metadata": {},
   "source": [
    "Now, this is a bit unintuitive, the reason is that np.polyfit works only with integer values"
   ]
  },
  {
   "cell_type": "code",
   "execution_count": 14,
   "metadata": {},
   "outputs": [
    {
     "data": {
      "text/html": [
       "<div>\n",
       "<style scoped>\n",
       "    .dataframe tbody tr th:only-of-type {\n",
       "        vertical-align: middle;\n",
       "    }\n",
       "\n",
       "    .dataframe tbody tr th {\n",
       "        vertical-align: top;\n",
       "    }\n",
       "\n",
       "    .dataframe thead th {\n",
       "        text-align: right;\n",
       "    }\n",
       "</style>\n",
       "<table border=\"1\" class=\"dataframe\">\n",
       "  <thead>\n",
       "    <tr style=\"text-align: right;\">\n",
       "      <th></th>\n",
       "      <th>Dinv</th>\n",
       "      <th>LnFeDomains</th>\n",
       "      <th>LnDinv</th>\n",
       "      <th>FeDomains</th>\n",
       "    </tr>\n",
       "  </thead>\n",
       "  <tbody>\n",
       "    <tr>\n",
       "      <th>0</th>\n",
       "      <td>2.325581</td>\n",
       "      <td>-0.063935</td>\n",
       "      <td>0.843970</td>\n",
       "      <td>0.938066</td>\n",
       "    </tr>\n",
       "    <tr>\n",
       "      <th>1</th>\n",
       "      <td>3.125000</td>\n",
       "      <td>-0.171537</td>\n",
       "      <td>1.139434</td>\n",
       "      <td>0.842369</td>\n",
       "    </tr>\n",
       "    <tr>\n",
       "      <th>2</th>\n",
       "      <td>3.030303</td>\n",
       "      <td>-0.297457</td>\n",
       "      <td>1.108663</td>\n",
       "      <td>0.742704</td>\n",
       "    </tr>\n",
       "    <tr>\n",
       "      <th>3</th>\n",
       "      <td>3.030303</td>\n",
       "      <td>-0.565593</td>\n",
       "      <td>1.108663</td>\n",
       "      <td>0.568023</td>\n",
       "    </tr>\n",
       "    <tr>\n",
       "      <th>4</th>\n",
       "      <td>4.166667</td>\n",
       "      <td>-0.818951</td>\n",
       "      <td>1.427116</td>\n",
       "      <td>0.440894</td>\n",
       "    </tr>\n",
       "  </tbody>\n",
       "</table>\n",
       "</div>"
      ],
      "text/plain": [
       "       Dinv  LnFeDomains    LnDinv  FeDomains\n",
       "0  2.325581    -0.063935  0.843970   0.938066\n",
       "1  3.125000    -0.171537  1.139434   0.842369\n",
       "2  3.030303    -0.297457  1.108663   0.742704\n",
       "3  3.030303    -0.565593  1.108663   0.568023\n",
       "4  4.166667    -0.818951  1.427116   0.440894"
      ]
     },
     "execution_count": 14,
     "metadata": {},
     "output_type": "execute_result"
    }
   ],
   "source": [
    "df2.head()"
   ]
  },
  {
   "cell_type": "code",
   "execution_count": 15,
   "metadata": {
    "scrolled": true
   },
   "outputs": [
    {
     "data": {
      "text/html": [
       "<div>\n",
       "<style scoped>\n",
       "    .dataframe tbody tr th:only-of-type {\n",
       "        vertical-align: middle;\n",
       "    }\n",
       "\n",
       "    .dataframe tbody tr th {\n",
       "        vertical-align: top;\n",
       "    }\n",
       "\n",
       "    .dataframe thead th {\n",
       "        text-align: right;\n",
       "    }\n",
       "</style>\n",
       "<table border=\"1\" class=\"dataframe\">\n",
       "  <thead>\n",
       "    <tr style=\"text-align: right;\">\n",
       "      <th></th>\n",
       "      <th>Dinv</th>\n",
       "      <th>LnFeDomains</th>\n",
       "      <th>LnDinv</th>\n",
       "      <th>FeDomains</th>\n",
       "      <th>sqrtFeDomains</th>\n",
       "    </tr>\n",
       "  </thead>\n",
       "  <tbody>\n",
       "    <tr>\n",
       "      <th>0</th>\n",
       "      <td>2.325581</td>\n",
       "      <td>-0.063935</td>\n",
       "      <td>0.843970</td>\n",
       "      <td>0.938066</td>\n",
       "      <td>0.968538</td>\n",
       "    </tr>\n",
       "    <tr>\n",
       "      <th>1</th>\n",
       "      <td>3.125000</td>\n",
       "      <td>-0.171537</td>\n",
       "      <td>1.139434</td>\n",
       "      <td>0.842369</td>\n",
       "      <td>0.917807</td>\n",
       "    </tr>\n",
       "    <tr>\n",
       "      <th>2</th>\n",
       "      <td>3.030303</td>\n",
       "      <td>-0.297457</td>\n",
       "      <td>1.108663</td>\n",
       "      <td>0.742704</td>\n",
       "      <td>0.861803</td>\n",
       "    </tr>\n",
       "    <tr>\n",
       "      <th>3</th>\n",
       "      <td>3.030303</td>\n",
       "      <td>-0.565593</td>\n",
       "      <td>1.108663</td>\n",
       "      <td>0.568023</td>\n",
       "      <td>0.753673</td>\n",
       "    </tr>\n",
       "    <tr>\n",
       "      <th>4</th>\n",
       "      <td>4.166667</td>\n",
       "      <td>-0.818951</td>\n",
       "      <td>1.427116</td>\n",
       "      <td>0.440894</td>\n",
       "      <td>0.663998</td>\n",
       "    </tr>\n",
       "  </tbody>\n",
       "</table>\n",
       "</div>"
      ],
      "text/plain": [
       "       Dinv  LnFeDomains    LnDinv  FeDomains  sqrtFeDomains\n",
       "0  2.325581    -0.063935  0.843970   0.938066       0.968538\n",
       "1  3.125000    -0.171537  1.139434   0.842369       0.917807\n",
       "2  3.030303    -0.297457  1.108663   0.742704       0.861803\n",
       "3  3.030303    -0.565593  1.108663   0.568023       0.753673\n",
       "4  4.166667    -0.818951  1.427116   0.440894       0.663998"
      ]
     },
     "execution_count": 15,
     "metadata": {},
     "output_type": "execute_result"
    }
   ],
   "source": [
    "df2['sqrtFeDomains'] = np.sqrt(df2['FeDomains'])\n",
    "df2.head()"
   ]
  },
  {
   "cell_type": "code",
   "execution_count": null,
   "metadata": {},
   "outputs": [],
   "source": [
    "## ya! this doesn't work, just gives a stright line\n",
    "## So, we need to plot a regressio w/o a library or just a st-line on the square-rooted data\n",
    "## Taking the square root seems much more convinient than writing the code w/o any library !! \n",
    "\n",
    "# fit = np.polyfit(df2['FeDomains'],df2['Dinv'], 0.5)\n",
    "# fit_fn = np.poly1d(fit)\n",
    "\n",
    "# plt.plot(df2['FeDomains'],df2['Dinv'], '.', np.sort(df2['FeDomains']), fit_fn(np.sort(df2['FeDomains'])), '--r', linewidth=2)\n",
    "# plt.xlabel(\"FeDomains\")\n",
    "# plt.ylabel(\"Dinv\")\n",
    "# plt.show()"
   ]
  },
  {
   "cell_type": "code",
   "execution_count": 16,
   "metadata": {},
   "outputs": [
    {
     "data": {
      "text/html": [
       "<table class=\"simpletable\">\n",
       "<caption>OLS Regression Results</caption>\n",
       "<tr>\n",
       "  <th>Dep. Variable:</th>          <td>Dinv</td>       <th>  R-squared:         </th> <td>   0.842</td>\n",
       "</tr>\n",
       "<tr>\n",
       "  <th>Model:</th>                   <td>OLS</td>       <th>  Adj. R-squared:    </th> <td>   0.838</td>\n",
       "</tr>\n",
       "<tr>\n",
       "  <th>Method:</th>             <td>Least Squares</td>  <th>  F-statistic:       </th> <td>   184.2</td>\n",
       "</tr>\n",
       "<tr>\n",
       "  <th>Date:</th>             <td>Sun, 08 Jul 2018</td> <th>  Prob (F-statistic):</th> <td>2.14e-28</td>\n",
       "</tr>\n",
       "<tr>\n",
       "  <th>Time:</th>                 <td>23:20:14</td>     <th>  Log-Likelihood:    </th> <td> -116.77</td>\n",
       "</tr>\n",
       "<tr>\n",
       "  <th>No. Observations:</th>      <td>    72</td>      <th>  AIC:               </th> <td>   239.5</td>\n",
       "</tr>\n",
       "<tr>\n",
       "  <th>Df Residuals:</th>          <td>    69</td>      <th>  BIC:               </th> <td>   246.4</td>\n",
       "</tr>\n",
       "<tr>\n",
       "  <th>Df Model:</th>              <td>     2</td>      <th>                     </th>     <td> </td>   \n",
       "</tr>\n",
       "<tr>\n",
       "  <th>Covariance Type:</th>      <td>nonrobust</td>    <th>                     </th>     <td> </td>   \n",
       "</tr>\n",
       "</table>\n",
       "<table class=\"simpletable\">\n",
       "<tr>\n",
       "        <td></td>           <th>coef</th>     <th>std err</th>      <th>t</th>      <th>P>|t|</th>  <th>[0.025</th>    <th>0.975]</th>  \n",
       "</tr>\n",
       "<tr>\n",
       "  <th>Intercept</th>     <td>   40.4117</td> <td>    2.781</td> <td>   14.532</td> <td> 0.000</td> <td>   34.864</td> <td>   45.959</td>\n",
       "</tr>\n",
       "<tr>\n",
       "  <th>FeDomains</th>     <td>   52.3154</td> <td>    5.440</td> <td>    9.617</td> <td> 0.000</td> <td>   41.463</td> <td>   63.168</td>\n",
       "</tr>\n",
       "<tr>\n",
       "  <th>sqrtFeDomains</th> <td>  -90.5812</td> <td>    7.953</td> <td>  -11.390</td> <td> 0.000</td> <td> -106.447</td> <td>  -74.716</td>\n",
       "</tr>\n",
       "</table>\n",
       "<table class=\"simpletable\">\n",
       "<tr>\n",
       "  <th>Omnibus:</th>       <td> 7.058</td> <th>  Durbin-Watson:     </th> <td>   1.167</td>\n",
       "</tr>\n",
       "<tr>\n",
       "  <th>Prob(Omnibus):</th> <td> 0.029</td> <th>  Jarque-Bera (JB):  </th> <td>  12.746</td>\n",
       "</tr>\n",
       "<tr>\n",
       "  <th>Skew:</th>          <td> 0.083</td> <th>  Prob(JB):          </th> <td> 0.00171</td>\n",
       "</tr>\n",
       "<tr>\n",
       "  <th>Kurtosis:</th>      <td> 5.055</td> <th>  Cond. No.          </th> <td>    99.2</td>\n",
       "</tr>\n",
       "</table><br/><br/>Warnings:<br/>[1] Standard Errors assume that the covariance matrix of the errors is correctly specified."
      ],
      "text/plain": [
       "<class 'statsmodels.iolib.summary.Summary'>\n",
       "\"\"\"\n",
       "                            OLS Regression Results                            \n",
       "==============================================================================\n",
       "Dep. Variable:                   Dinv   R-squared:                       0.842\n",
       "Model:                            OLS   Adj. R-squared:                  0.838\n",
       "Method:                 Least Squares   F-statistic:                     184.2\n",
       "Date:                Sun, 08 Jul 2018   Prob (F-statistic):           2.14e-28\n",
       "Time:                        23:20:14   Log-Likelihood:                -116.77\n",
       "No. Observations:                  72   AIC:                             239.5\n",
       "Df Residuals:                      69   BIC:                             246.4\n",
       "Df Model:                           2                                         \n",
       "Covariance Type:            nonrobust                                         \n",
       "=================================================================================\n",
       "                    coef    std err          t      P>|t|      [0.025      0.975]\n",
       "---------------------------------------------------------------------------------\n",
       "Intercept        40.4117      2.781     14.532      0.000      34.864      45.959\n",
       "FeDomains        52.3154      5.440      9.617      0.000      41.463      63.168\n",
       "sqrtFeDomains   -90.5812      7.953    -11.390      0.000    -106.447     -74.716\n",
       "==============================================================================\n",
       "Omnibus:                        7.058   Durbin-Watson:                   1.167\n",
       "Prob(Omnibus):                  0.029   Jarque-Bera (JB):               12.746\n",
       "Skew:                           0.083   Prob(JB):                      0.00171\n",
       "Kurtosis:                       5.055   Cond. No.                         99.2\n",
       "==============================================================================\n",
       "\n",
       "Warnings:\n",
       "[1] Standard Errors assume that the covariance matrix of the errors is correctly specified.\n",
       "\"\"\""
      ]
     },
     "execution_count": 16,
     "metadata": {},
     "output_type": "execute_result"
    }
   ],
   "source": [
    "est = smf.ols('Dinv ~ FeDomains + sqrtFeDomains', df2).fit()\n",
    "est.summary()"
   ]
  },
  {
   "cell_type": "code",
   "execution_count": 17,
   "metadata": {},
   "outputs": [
    {
     "name": "stdout",
     "output_type": "stream",
     "text": [
      "regr_coeff : [ 52.31543059 -90.58121186]\n",
      "regr_intercept : 40.41165509917685\n",
      "regr_score : 0.8422477831659844\n"
     ]
    },
    {
     "data": {
      "text/plain": [
       "<matplotlib.axes._subplots.AxesSubplot at 0x1eb18a167f0>"
      ]
     },
     "execution_count": 17,
     "metadata": {},
     "output_type": "execute_result"
    },
    {
     "data": {
      "image/png": "[encoded data removed]",
      "text/plain": [
       "<Figure size 432x288 with 1 Axes>"
      ]
     },
     "metadata": {},
     "output_type": "display_data"
    }
   ],
   "source": [
    "regr = skl_lm.LinearRegression()\n",
    "\n",
    "# Linear fit\n",
    "Xsqrt = df2[['FeDomains','sqrtFeDomains']].values\n",
    "ysqrt = df2['Dinv']\n",
    "regr.fit(Xsqrt, ysqrt)\n",
    "print('regr_coeff :',regr.coef_)\n",
    "print('regr_intercept :',regr.intercept_)\n",
    "print('regr_score :',regr.score(Xsqrt,ysqrt))\n",
    "\n",
    "df2['predSqrt'] = regr.predict(Xsqrt)\n",
    "df2['residSqrt'] = df2.Dinv - df2.predSqrt\n",
    "\n",
    "sns.regplot(df2['residSqrt'],df2['predSqrt'], lowess=True, color='green')"
   ]
  },
  {
   "cell_type": "markdown",
   "metadata": {},
   "source": [
    "Now, the sqrt model is definately rejected with this much non-linearity in the data."
   ]
  },
  {
   "cell_type": "markdown",
   "metadata": {},
   "source": [
    "### (D) Trying log of x"
   ]
  },
  {
   "cell_type": "code",
   "execution_count": 18,
   "metadata": {},
   "outputs": [
    {
     "data": {
      "image/png": "[encoded data removed]",
      "text/plain": [
       "<Figure size 360x360 with 1 Axes>"
      ]
     },
     "metadata": {},
     "output_type": "display_data"
    }
   ],
   "source": [
    "sns.lmplot(x='LnFeDomains', y='Dinv', data=df2)\n",
    "plt.show()"
   ]
  },
  {
   "cell_type": "code",
   "execution_count": 19,
   "metadata": {},
   "outputs": [
    {
     "data": {
      "image/png": "[encoded data removed]",
      "text/plain": [
       "<Figure size 432x288 with 1 Axes>"
      ]
     },
     "metadata": {},
     "output_type": "display_data"
    }
   ],
   "source": [
    "sns.residplot(x='LnFeDomains', y='Dinv', lowess=True, order = 1,data=df2, color='green')\n",
    "plt.show()"
   ]
  },
  {
   "cell_type": "markdown",
   "metadata": {},
   "source": [
    "Here the regression line of the residual plot looks better than the squared model(B). The residual curve for the linear model(A) might look better than this one at first glance but its has a different axis than this and actually that one is very similar to this one. But this might also be due to outliers. W/o the outliers the regression plot of residuals will be worse."
   ]
  },
  {
   "cell_type": "code",
   "execution_count": 20,
   "metadata": {},
   "outputs": [
    {
     "data": {
      "text/html": [
       "<table class=\"simpletable\">\n",
       "<caption>OLS Regression Results</caption>\n",
       "<tr>\n",
       "  <th>Dep. Variable:</th>          <td>Dinv</td>       <th>  R-squared:         </th> <td>   0.721</td>\n",
       "</tr>\n",
       "<tr>\n",
       "  <th>Model:</th>                   <td>OLS</td>       <th>  Adj. R-squared:    </th> <td>   0.718</td>\n",
       "</tr>\n",
       "<tr>\n",
       "  <th>Method:</th>             <td>Least Squares</td>  <th>  F-statistic:       </th> <td>   181.3</td>\n",
       "</tr>\n",
       "<tr>\n",
       "  <th>Date:</th>             <td>Sun, 08 Jul 2018</td> <th>  Prob (F-statistic):</th> <td>4.13e-21</td>\n",
       "</tr>\n",
       "<tr>\n",
       "  <th>Time:</th>                 <td>23:33:23</td>     <th>  Log-Likelihood:    </th> <td> -137.24</td>\n",
       "</tr>\n",
       "<tr>\n",
       "  <th>No. Observations:</th>      <td>    72</td>      <th>  AIC:               </th> <td>   278.5</td>\n",
       "</tr>\n",
       "<tr>\n",
       "  <th>Df Residuals:</th>          <td>    70</td>      <th>  BIC:               </th> <td>   283.0</td>\n",
       "</tr>\n",
       "<tr>\n",
       "  <th>Df Model:</th>              <td>     1</td>      <th>                     </th>     <td> </td>   \n",
       "</tr>\n",
       "<tr>\n",
       "  <th>Covariance Type:</th>      <td>nonrobust</td>    <th>                     </th>     <td> </td>   \n",
       "</tr>\n",
       "</table>\n",
       "<table class=\"simpletable\">\n",
       "<tr>\n",
       "       <td></td>          <th>coef</th>     <th>std err</th>      <th>t</th>      <th>P>|t|</th>  <th>[0.025</th>    <th>0.975]</th>  \n",
       "</tr>\n",
       "<tr>\n",
       "  <th>Intercept</th>   <td>    0.2343</td> <td>    0.277</td> <td>    0.845</td> <td> 0.401</td> <td>   -0.319</td> <td>    0.787</td>\n",
       "</tr>\n",
       "<tr>\n",
       "  <th>LnFeDomains</th> <td>   -5.3741</td> <td>    0.399</td> <td>  -13.466</td> <td> 0.000</td> <td>   -6.170</td> <td>   -4.578</td>\n",
       "</tr>\n",
       "</table>\n",
       "<table class=\"simpletable\">\n",
       "<tr>\n",
       "  <th>Omnibus:</th>       <td>26.178</td> <th>  Durbin-Watson:     </th> <td>   0.913</td>\n",
       "</tr>\n",
       "<tr>\n",
       "  <th>Prob(Omnibus):</th> <td> 0.000</td> <th>  Jarque-Bera (JB):  </th> <td>  54.571</td>\n",
       "</tr>\n",
       "<tr>\n",
       "  <th>Skew:</th>          <td> 1.222</td> <th>  Prob(JB):          </th> <td>1.41e-12</td>\n",
       "</tr>\n",
       "<tr>\n",
       "  <th>Kurtosis:</th>      <td> 6.495</td> <th>  Cond. No.          </th> <td>    2.67</td>\n",
       "</tr>\n",
       "</table><br/><br/>Warnings:<br/>[1] Standard Errors assume that the covariance matrix of the errors is correctly specified."
      ],
      "text/plain": [
       "<class 'statsmodels.iolib.summary.Summary'>\n",
       "\"\"\"\n",
       "                            OLS Regression Results                            \n",
       "==============================================================================\n",
       "Dep. Variable:                   Dinv   R-squared:                       0.721\n",
       "Model:                            OLS   Adj. R-squared:                  0.718\n",
       "Method:                 Least Squares   F-statistic:                     181.3\n",
       "Date:                Sun, 08 Jul 2018   Prob (F-statistic):           4.13e-21\n",
       "Time:                        23:33:23   Log-Likelihood:                -137.24\n",
       "No. Observations:                  72   AIC:                             278.5\n",
       "Df Residuals:                      70   BIC:                             283.0\n",
       "Df Model:                           1                                         \n",
       "Covariance Type:            nonrobust                                         \n",
       "===============================================================================\n",
       "                  coef    std err          t      P>|t|      [0.025      0.975]\n",
       "-------------------------------------------------------------------------------\n",
       "Intercept       0.2343      0.277      0.845      0.401      -0.319       0.787\n",
       "LnFeDomains    -5.3741      0.399    -13.466      0.000      -6.170      -4.578\n",
       "==============================================================================\n",
       "Omnibus:                       26.178   Durbin-Watson:                   0.913\n",
       "Prob(Omnibus):                  0.000   Jarque-Bera (JB):               54.571\n",
       "Skew:                           1.222   Prob(JB):                     1.41e-12\n",
       "Kurtosis:                       6.495   Cond. No.                         2.67\n",
       "==============================================================================\n",
       "\n",
       "Warnings:\n",
       "[1] Standard Errors assume that the covariance matrix of the errors is correctly specified.\n",
       "\"\"\""
      ]
     },
     "execution_count": 20,
     "metadata": {},
     "output_type": "execute_result"
    }
   ],
   "source": [
    "est = smf.ols('Dinv ~ LnFeDomains', df2).fit()\n",
    "est.summary()"
   ]
  },
  {
   "cell_type": "markdown",
   "metadata": {},
   "source": [
    "**Taking the log of X**(Rsquared value = 0.72), not as good as squared x."
   ]
  },
  {
   "cell_type": "markdown",
   "metadata": {},
   "source": [
    "**Summary**: Now Ln(Fe-domains) somewhat removes the non-linearity of the data, which is seen in the square(Fe-domains) model.\n",
    "But the R^2 of the squared model (0.78) is better than the log model(0.72). Rest of the possible linear-models are rulled out when considering complete data."
   ]
  },
  {
   "cell_type": "markdown",
   "metadata": {},
   "source": [
    "### (E) Checking for hyperbola"
   ]
  },
  {
   "cell_type": "code",
   "execution_count": 21,
   "metadata": {},
   "outputs": [
    {
     "data": {
      "text/html": [
       "<div>\n",
       "<style scoped>\n",
       "    .dataframe tbody tr th:only-of-type {\n",
       "        vertical-align: middle;\n",
       "    }\n",
       "\n",
       "    .dataframe tbody tr th {\n",
       "        vertical-align: top;\n",
       "    }\n",
       "\n",
       "    .dataframe thead th {\n",
       "        text-align: right;\n",
       "    }\n",
       "</style>\n",
       "<table border=\"1\" class=\"dataframe\">\n",
       "  <thead>\n",
       "    <tr style=\"text-align: right;\">\n",
       "      <th></th>\n",
       "      <th>Dinv</th>\n",
       "      <th>LnFeDomains</th>\n",
       "      <th>LnDinv</th>\n",
       "      <th>FeDomains</th>\n",
       "      <th>sqrtFeDomains</th>\n",
       "      <th>predSqrt</th>\n",
       "      <th>residSqrt</th>\n",
       "      <th>FeDomainsInv</th>\n",
       "    </tr>\n",
       "  </thead>\n",
       "  <tbody>\n",
       "    <tr>\n",
       "      <th>0</th>\n",
       "      <td>2.325581</td>\n",
       "      <td>-0.063935</td>\n",
       "      <td>0.843970</td>\n",
       "      <td>0.938066</td>\n",
       "      <td>0.968538</td>\n",
       "      <td>1.755631</td>\n",
       "      <td>0.569950</td>\n",
       "      <td>1.066023</td>\n",
       "    </tr>\n",
       "    <tr>\n",
       "      <th>1</th>\n",
       "      <td>3.125000</td>\n",
       "      <td>-0.171537</td>\n",
       "      <td>1.139434</td>\n",
       "      <td>0.842369</td>\n",
       "      <td>0.917807</td>\n",
       "      <td>1.344516</td>\n",
       "      <td>1.780484</td>\n",
       "      <td>1.187128</td>\n",
       "    </tr>\n",
       "    <tr>\n",
       "      <th>2</th>\n",
       "      <td>3.030303</td>\n",
       "      <td>-0.297457</td>\n",
       "      <td>1.108663</td>\n",
       "      <td>0.742704</td>\n",
       "      <td>0.861803</td>\n",
       "      <td>1.203396</td>\n",
       "      <td>1.826907</td>\n",
       "      <td>1.346431</td>\n",
       "    </tr>\n",
       "    <tr>\n",
       "      <th>3</th>\n",
       "      <td>3.030303</td>\n",
       "      <td>-0.565593</td>\n",
       "      <td>1.108663</td>\n",
       "      <td>0.568023</td>\n",
       "      <td>0.753673</td>\n",
       "      <td>1.859406</td>\n",
       "      <td>1.170897</td>\n",
       "      <td>1.760491</td>\n",
       "    </tr>\n",
       "    <tr>\n",
       "      <th>4</th>\n",
       "      <td>4.166667</td>\n",
       "      <td>-0.818951</td>\n",
       "      <td>1.427116</td>\n",
       "      <td>0.440894</td>\n",
       "      <td>0.663998</td>\n",
       "      <td>3.331429</td>\n",
       "      <td>0.835238</td>\n",
       "      <td>2.268120</td>\n",
       "    </tr>\n",
       "  </tbody>\n",
       "</table>\n",
       "</div>"
      ],
      "text/plain": [
       "       Dinv  LnFeDomains    LnDinv  FeDomains  sqrtFeDomains  predSqrt  \\\n",
       "0  2.325581    -0.063935  0.843970   0.938066       0.968538  1.755631   \n",
       "1  3.125000    -0.171537  1.139434   0.842369       0.917807  1.344516   \n",
       "2  3.030303    -0.297457  1.108663   0.742704       0.861803  1.203396   \n",
       "3  3.030303    -0.565593  1.108663   0.568023       0.753673  1.859406   \n",
       "4  4.166667    -0.818951  1.427116   0.440894       0.663998  3.331429   \n",
       "\n",
       "   residSqrt  FeDomainsInv  \n",
       "0   0.569950      1.066023  \n",
       "1   1.780484      1.187128  \n",
       "2   1.826907      1.346431  \n",
       "3   1.170897      1.760491  \n",
       "4   0.835238      2.268120  "
      ]
     },
     "execution_count": 21,
     "metadata": {},
     "output_type": "execute_result"
    }
   ],
   "source": [
    "df2['FeDomainsInv'] = np.reciprocal(df2['FeDomains'])\n",
    "df2.head()"
   ]
  },
  {
   "cell_type": "code",
   "execution_count": 27,
   "metadata": {},
   "outputs": [
    {
     "name": "stdout",
     "output_type": "stream",
     "text": [
      "popt:  [2.70669002]\n"
     ]
    },
    {
     "data": {
      "image/png": "[encoded data removed]",
      "text/plain": [
       "<Figure size 432x288 with 1 Axes>"
      ]
     },
     "metadata": {},
     "output_type": "display_data"
    }
   ],
   "source": [
    "def hyperbola(t,a):\n",
    "    return a/t\n",
    "\n",
    "popt, pcov = curve_fit(hyperbola, df2['FeDomainsInv'], df2['Dinv'])\n",
    "print('popt: ',popt)\n",
    "plt.plot(df2['FeDomainsInv'], hyperbola(df2['FeDomainsInv'], *popt), 'o', )\n",
    "\n",
    "plt.plot(df2['FeDomains'],df2['Dinv'], marker='.', linestyle='none',  color='green')\n",
    "\n",
    "plt.xlabel('FeDomainsinv')\n",
    "plt.ylabel('Dinv')\n",
    "plt.legend()\n",
    "plt.show()"
   ]
  },
  {
   "cell_type": "markdown",
   "metadata": {},
   "source": [
    "Something is wrong with hyperbola, correct it."
   ]
  },
  {
   "cell_type": "code",
   "execution_count": null,
   "metadata": {},
   "outputs": [],
   "source": []
  },
  {
   "cell_type": "code",
   "execution_count": null,
   "metadata": {},
   "outputs": [],
   "source": []
  },
  {
   "cell_type": "markdown",
   "metadata": {},
   "source": [
    "#########################################################################\n",
    "#########################################################################\n",
    "#########################################################################"
   ]
  },
  {
   "cell_type": "markdown",
   "metadata": {},
   "source": [
    "The data is resisting almost all the linear models. While we may get a much better fit on removing some of the data."
   ]
  },
  {
   "cell_type": "markdown",
   "metadata": {},
   "source": [
    "**SUMMARY:** "
   ]
  },
  {
   "cell_type": "markdown",
   "metadata": {},
   "source": [
    "**MODEL(A)**:  R^2 value is too low. But the model seems to have less non-linearity in the residual plots than the rest"
   ]
  },
  {
   "cell_type": "markdown",
   "metadata": {},
   "source": [
    "**MODEL(B)**: R^2 value is good. But a clear non-linearity in data is visible in the residual plots."
   ]
  },
  {
   "cell_type": "markdown",
   "metadata": {},
   "source": [
    "**MODEL(c)**: Rulling out square-root of x for sure, non-linearity of the data is far too much."
   ]
  },
  {
   "cell_type": "markdown",
   "metadata": {},
   "source": [
    "**MODEL(D)**: R^2 value is decent not as hight as (B) but it also has much lesser non-linearity in data of the residual plots(comparable to (A)."
   ]
  },
  {
   "cell_type": "markdown",
   "metadata": {},
   "source": [
    "**MODEL(E):** First do this one properly !"
   ]
  },
  {
   "cell_type": "markdown",
   "metadata": {},
   "source": [
    "## Removed the 3 data points from the Fe-S-C system"
   ]
  },
  {
   "cell_type": "code",
   "execution_count": 54,
   "metadata": {
    "scrolled": true
   },
   "outputs": [
    {
     "name": "stdout",
     "output_type": "stream",
     "text": [
      "['Sheet1', 'Sheet3', 'xS vs FeS domain']\n",
      "<class 'pandas.core.frame.DataFrame'>\n",
      "RangeIndex: 69 entries, 0 to 68\n",
      "Data columns (total 4 columns):\n",
      "Dinv           69 non-null float64\n",
      "LnFeDomains    69 non-null float64\n",
      "LnDinv         69 non-null float64\n",
      "FeNiX          69 non-null int64\n",
      "dtypes: float64(3), int64(1)\n",
      "memory usage: 2.2 KB\n"
     ]
    },
    {
     "data": {
      "text/html": [
       "<div>\n",
       "<style scoped>\n",
       "    .dataframe tbody tr th:only-of-type {\n",
       "        vertical-align: middle;\n",
       "    }\n",
       "\n",
       "    .dataframe tbody tr th {\n",
       "        vertical-align: top;\n",
       "    }\n",
       "\n",
       "    .dataframe thead th {\n",
       "        text-align: right;\n",
       "    }\n",
       "</style>\n",
       "<table border=\"1\" class=\"dataframe\">\n",
       "  <thead>\n",
       "    <tr style=\"text-align: right;\">\n",
       "      <th></th>\n",
       "      <th>Dinv</th>\n",
       "      <th>LnFeDomains</th>\n",
       "      <th>LnDinv</th>\n",
       "      <th>FeNiX</th>\n",
       "      <th>FeDomains</th>\n",
       "      <th>squaredFeDomains</th>\n",
       "    </tr>\n",
       "  </thead>\n",
       "  <tbody>\n",
       "    <tr>\n",
       "      <th>0</th>\n",
       "      <td>2.325581</td>\n",
       "      <td>-0.063935</td>\n",
       "      <td>0.843970</td>\n",
       "      <td>1</td>\n",
       "      <td>0.938066</td>\n",
       "      <td>0.879968</td>\n",
       "    </tr>\n",
       "    <tr>\n",
       "      <th>1</th>\n",
       "      <td>3.125000</td>\n",
       "      <td>-0.171537</td>\n",
       "      <td>1.139434</td>\n",
       "      <td>1</td>\n",
       "      <td>0.842369</td>\n",
       "      <td>0.709586</td>\n",
       "    </tr>\n",
       "    <tr>\n",
       "      <th>2</th>\n",
       "      <td>3.030303</td>\n",
       "      <td>-0.297457</td>\n",
       "      <td>1.108663</td>\n",
       "      <td>1</td>\n",
       "      <td>0.742704</td>\n",
       "      <td>0.551610</td>\n",
       "    </tr>\n",
       "    <tr>\n",
       "      <th>3</th>\n",
       "      <td>3.030303</td>\n",
       "      <td>-0.565593</td>\n",
       "      <td>1.108663</td>\n",
       "      <td>1</td>\n",
       "      <td>0.568023</td>\n",
       "      <td>0.322650</td>\n",
       "    </tr>\n",
       "    <tr>\n",
       "      <th>4</th>\n",
       "      <td>4.166667</td>\n",
       "      <td>-0.818951</td>\n",
       "      <td>1.427116</td>\n",
       "      <td>1</td>\n",
       "      <td>0.440894</td>\n",
       "      <td>0.194387</td>\n",
       "    </tr>\n",
       "    <tr>\n",
       "      <th>5</th>\n",
       "      <td>4.166667</td>\n",
       "      <td>-0.977994</td>\n",
       "      <td>1.427116</td>\n",
       "      <td>1</td>\n",
       "      <td>0.376065</td>\n",
       "      <td>0.141425</td>\n",
       "    </tr>\n",
       "    <tr>\n",
       "      <th>6</th>\n",
       "      <td>5.555556</td>\n",
       "      <td>-1.540667</td>\n",
       "      <td>1.714798</td>\n",
       "      <td>1</td>\n",
       "      <td>0.214238</td>\n",
       "      <td>0.045898</td>\n",
       "    </tr>\n",
       "    <tr>\n",
       "      <th>7</th>\n",
       "      <td>7.142857</td>\n",
       "      <td>-1.522616</td>\n",
       "      <td>1.966113</td>\n",
       "      <td>1</td>\n",
       "      <td>0.218141</td>\n",
       "      <td>0.047585</td>\n",
       "    </tr>\n",
       "    <tr>\n",
       "      <th>8</th>\n",
       "      <td>6.060606</td>\n",
       "      <td>-1.208104</td>\n",
       "      <td>1.801810</td>\n",
       "      <td>1</td>\n",
       "      <td>0.298763</td>\n",
       "      <td>0.089259</td>\n",
       "    </tr>\n",
       "    <tr>\n",
       "      <th>9</th>\n",
       "      <td>4.347826</td>\n",
       "      <td>-0.943130</td>\n",
       "      <td>1.469676</td>\n",
       "      <td>1</td>\n",
       "      <td>0.389407</td>\n",
       "      <td>0.151638</td>\n",
       "    </tr>\n",
       "    <tr>\n",
       "      <th>10</th>\n",
       "      <td>3.225806</td>\n",
       "      <td>-1.046791</td>\n",
       "      <td>1.171183</td>\n",
       "      <td>1</td>\n",
       "      <td>0.351063</td>\n",
       "      <td>0.123245</td>\n",
       "    </tr>\n",
       "    <tr>\n",
       "      <th>11</th>\n",
       "      <td>2.564103</td>\n",
       "      <td>-0.615965</td>\n",
       "      <td>0.941609</td>\n",
       "      <td>1</td>\n",
       "      <td>0.540119</td>\n",
       "      <td>0.291729</td>\n",
       "    </tr>\n",
       "    <tr>\n",
       "      <th>12</th>\n",
       "      <td>2.631579</td>\n",
       "      <td>-0.684856</td>\n",
       "      <td>0.967584</td>\n",
       "      <td>1</td>\n",
       "      <td>0.504163</td>\n",
       "      <td>0.254180</td>\n",
       "    </tr>\n",
       "    <tr>\n",
       "      <th>13</th>\n",
       "      <td>1.282051</td>\n",
       "      <td>-0.589063</td>\n",
       "      <td>0.248461</td>\n",
       "      <td>1</td>\n",
       "      <td>0.554847</td>\n",
       "      <td>0.307855</td>\n",
       "    </tr>\n",
       "    <tr>\n",
       "      <th>14</th>\n",
       "      <td>1.111111</td>\n",
       "      <td>-0.520782</td>\n",
       "      <td>0.105361</td>\n",
       "      <td>1</td>\n",
       "      <td>0.594056</td>\n",
       "      <td>0.352902</td>\n",
       "    </tr>\n",
       "    <tr>\n",
       "      <th>15</th>\n",
       "      <td>1.190476</td>\n",
       "      <td>-0.455926</td>\n",
       "      <td>0.174353</td>\n",
       "      <td>1</td>\n",
       "      <td>0.633861</td>\n",
       "      <td>0.401780</td>\n",
       "    </tr>\n",
       "    <tr>\n",
       "      <th>16</th>\n",
       "      <td>1.298701</td>\n",
       "      <td>-0.393313</td>\n",
       "      <td>0.261365</td>\n",
       "      <td>1</td>\n",
       "      <td>0.674818</td>\n",
       "      <td>0.455379</td>\n",
       "    </tr>\n",
       "    <tr>\n",
       "      <th>17</th>\n",
       "      <td>1.333333</td>\n",
       "      <td>-0.158020</td>\n",
       "      <td>0.287682</td>\n",
       "      <td>1</td>\n",
       "      <td>0.853832</td>\n",
       "      <td>0.729030</td>\n",
       "    </tr>\n",
       "    <tr>\n",
       "      <th>18</th>\n",
       "      <td>1.428571</td>\n",
       "      <td>-0.058086</td>\n",
       "      <td>0.356675</td>\n",
       "      <td>1</td>\n",
       "      <td>0.943569</td>\n",
       "      <td>0.890323</td>\n",
       "    </tr>\n",
       "    <tr>\n",
       "      <th>19</th>\n",
       "      <td>2.564103</td>\n",
       "      <td>-0.961070</td>\n",
       "      <td>0.941609</td>\n",
       "      <td>1</td>\n",
       "      <td>0.382484</td>\n",
       "      <td>0.146294</td>\n",
       "    </tr>\n",
       "    <tr>\n",
       "      <th>20</th>\n",
       "      <td>2.127660</td>\n",
       "      <td>-0.406588</td>\n",
       "      <td>0.755023</td>\n",
       "      <td>1</td>\n",
       "      <td>0.665918</td>\n",
       "      <td>0.443447</td>\n",
       "    </tr>\n",
       "    <tr>\n",
       "      <th>21</th>\n",
       "      <td>1.785714</td>\n",
       "      <td>-0.145010</td>\n",
       "      <td>0.579818</td>\n",
       "      <td>1</td>\n",
       "      <td>0.865014</td>\n",
       "      <td>0.748249</td>\n",
       "    </tr>\n",
       "    <tr>\n",
       "      <th>22</th>\n",
       "      <td>1.785714</td>\n",
       "      <td>-0.092567</td>\n",
       "      <td>0.579818</td>\n",
       "      <td>1</td>\n",
       "      <td>0.911588</td>\n",
       "      <td>0.830993</td>\n",
       "    </tr>\n",
       "    <tr>\n",
       "      <th>23</th>\n",
       "      <td>1.298701</td>\n",
       "      <td>-0.101780</td>\n",
       "      <td>0.261365</td>\n",
       "      <td>1</td>\n",
       "      <td>0.903228</td>\n",
       "      <td>0.815821</td>\n",
       "    </tr>\n",
       "    <tr>\n",
       "      <th>24</th>\n",
       "      <td>1.666667</td>\n",
       "      <td>-0.152303</td>\n",
       "      <td>0.510826</td>\n",
       "      <td>1</td>\n",
       "      <td>0.858728</td>\n",
       "      <td>0.737413</td>\n",
       "    </tr>\n",
       "    <tr>\n",
       "      <th>25</th>\n",
       "      <td>2.000000</td>\n",
       "      <td>-0.259003</td>\n",
       "      <td>0.693147</td>\n",
       "      <td>1</td>\n",
       "      <td>0.771820</td>\n",
       "      <td>0.595707</td>\n",
       "    </tr>\n",
       "    <tr>\n",
       "      <th>26</th>\n",
       "      <td>2.222222</td>\n",
       "      <td>-0.402859</td>\n",
       "      <td>0.798508</td>\n",
       "      <td>1</td>\n",
       "      <td>0.668407</td>\n",
       "      <td>0.446767</td>\n",
       "    </tr>\n",
       "    <tr>\n",
       "      <th>27</th>\n",
       "      <td>1.960784</td>\n",
       "      <td>-0.530864</td>\n",
       "      <td>0.673345</td>\n",
       "      <td>1</td>\n",
       "      <td>0.588096</td>\n",
       "      <td>0.345857</td>\n",
       "    </tr>\n",
       "    <tr>\n",
       "      <th>28</th>\n",
       "      <td>3.333333</td>\n",
       "      <td>-0.622777</td>\n",
       "      <td>1.203973</td>\n",
       "      <td>1</td>\n",
       "      <td>0.536453</td>\n",
       "      <td>0.287782</td>\n",
       "    </tr>\n",
       "    <tr>\n",
       "      <th>29</th>\n",
       "      <td>2.500000</td>\n",
       "      <td>-0.748119</td>\n",
       "      <td>0.916291</td>\n",
       "      <td>1</td>\n",
       "      <td>0.473256</td>\n",
       "      <td>0.223971</td>\n",
       "    </tr>\n",
       "    <tr>\n",
       "      <th>30</th>\n",
       "      <td>5.263158</td>\n",
       "      <td>-1.189585</td>\n",
       "      <td>1.660731</td>\n",
       "      <td>1</td>\n",
       "      <td>0.304347</td>\n",
       "      <td>0.092627</td>\n",
       "    </tr>\n",
       "    <tr>\n",
       "      <th>31</th>\n",
       "      <td>4.000000</td>\n",
       "      <td>-1.163809</td>\n",
       "      <td>1.386294</td>\n",
       "      <td>1</td>\n",
       "      <td>0.312294</td>\n",
       "      <td>0.097528</td>\n",
       "    </tr>\n",
       "    <tr>\n",
       "      <th>32</th>\n",
       "      <td>1.408451</td>\n",
       "      <td>-0.034364</td>\n",
       "      <td>0.342490</td>\n",
       "      <td>1</td>\n",
       "      <td>0.966220</td>\n",
       "      <td>0.933581</td>\n",
       "    </tr>\n",
       "    <tr>\n",
       "      <th>33</th>\n",
       "      <td>1.754386</td>\n",
       "      <td>-0.034740</td>\n",
       "      <td>0.562119</td>\n",
       "      <td>1</td>\n",
       "      <td>0.965857</td>\n",
       "      <td>0.932879</td>\n",
       "    </tr>\n",
       "    <tr>\n",
       "      <th>34</th>\n",
       "      <td>1.818182</td>\n",
       "      <td>-0.050113</td>\n",
       "      <td>0.597837</td>\n",
       "      <td>1</td>\n",
       "      <td>0.951122</td>\n",
       "      <td>0.904634</td>\n",
       "    </tr>\n",
       "    <tr>\n",
       "      <th>35</th>\n",
       "      <td>2.000000</td>\n",
       "      <td>-0.040445</td>\n",
       "      <td>0.693147</td>\n",
       "      <td>1</td>\n",
       "      <td>0.960362</td>\n",
       "      <td>0.922295</td>\n",
       "    </tr>\n",
       "    <tr>\n",
       "      <th>36</th>\n",
       "      <td>1.818182</td>\n",
       "      <td>-0.052132</td>\n",
       "      <td>0.597837</td>\n",
       "      <td>1</td>\n",
       "      <td>0.949203</td>\n",
       "      <td>0.900987</td>\n",
       "    </tr>\n",
       "    <tr>\n",
       "      <th>37</th>\n",
       "      <td>1.587302</td>\n",
       "      <td>-0.030821</td>\n",
       "      <td>0.462035</td>\n",
       "      <td>1</td>\n",
       "      <td>0.969649</td>\n",
       "      <td>0.940219</td>\n",
       "    </tr>\n",
       "    <tr>\n",
       "      <th>38</th>\n",
       "      <td>1.785714</td>\n",
       "      <td>-0.036396</td>\n",
       "      <td>0.579818</td>\n",
       "      <td>1</td>\n",
       "      <td>0.964258</td>\n",
       "      <td>0.929794</td>\n",
       "    </tr>\n",
       "    <tr>\n",
       "      <th>39</th>\n",
       "      <td>0.970874</td>\n",
       "      <td>-0.313092</td>\n",
       "      <td>-0.029559</td>\n",
       "      <td>2</td>\n",
       "      <td>0.731183</td>\n",
       "      <td>0.534628</td>\n",
       "    </tr>\n",
       "    <tr>\n",
       "      <th>40</th>\n",
       "      <td>0.990099</td>\n",
       "      <td>-0.352000</td>\n",
       "      <td>-0.009950</td>\n",
       "      <td>2</td>\n",
       "      <td>0.703280</td>\n",
       "      <td>0.494603</td>\n",
       "    </tr>\n",
       "    <tr>\n",
       "      <th>41</th>\n",
       "      <td>1.111111</td>\n",
       "      <td>-0.256048</td>\n",
       "      <td>0.105361</td>\n",
       "      <td>2</td>\n",
       "      <td>0.774105</td>\n",
       "      <td>0.599238</td>\n",
       "    </tr>\n",
       "    <tr>\n",
       "      <th>42</th>\n",
       "      <td>0.833333</td>\n",
       "      <td>-0.254146</td>\n",
       "      <td>-0.182322</td>\n",
       "      <td>2</td>\n",
       "      <td>0.775579</td>\n",
       "      <td>0.601522</td>\n",
       "    </tr>\n",
       "    <tr>\n",
       "      <th>43</th>\n",
       "      <td>0.862069</td>\n",
       "      <td>-0.162992</td>\n",
       "      <td>-0.148420</td>\n",
       "      <td>2</td>\n",
       "      <td>0.849598</td>\n",
       "      <td>0.721816</td>\n",
       "    </tr>\n",
       "    <tr>\n",
       "      <th>44</th>\n",
       "      <td>0.900901</td>\n",
       "      <td>-0.122005</td>\n",
       "      <td>-0.104360</td>\n",
       "      <td>2</td>\n",
       "      <td>0.885144</td>\n",
       "      <td>0.783480</td>\n",
       "    </tr>\n",
       "    <tr>\n",
       "      <th>45</th>\n",
       "      <td>1.010101</td>\n",
       "      <td>-0.084530</td>\n",
       "      <td>0.010050</td>\n",
       "      <td>2</td>\n",
       "      <td>0.918945</td>\n",
       "      <td>0.844459</td>\n",
       "    </tr>\n",
       "    <tr>\n",
       "      <th>46</th>\n",
       "      <td>0.709220</td>\n",
       "      <td>-0.345282</td>\n",
       "      <td>-0.343590</td>\n",
       "      <td>3</td>\n",
       "      <td>0.708021</td>\n",
       "      <td>0.501294</td>\n",
       "    </tr>\n",
       "    <tr>\n",
       "      <th>47</th>\n",
       "      <td>0.757576</td>\n",
       "      <td>-0.321051</td>\n",
       "      <td>-0.277632</td>\n",
       "      <td>3</td>\n",
       "      <td>0.725387</td>\n",
       "      <td>0.526186</td>\n",
       "    </tr>\n",
       "    <tr>\n",
       "      <th>48</th>\n",
       "      <td>0.625000</td>\n",
       "      <td>-0.301654</td>\n",
       "      <td>-0.470004</td>\n",
       "      <td>3</td>\n",
       "      <td>0.739594</td>\n",
       "      <td>0.546999</td>\n",
       "    </tr>\n",
       "    <tr>\n",
       "      <th>49</th>\n",
       "      <td>0.769231</td>\n",
       "      <td>-0.253828</td>\n",
       "      <td>-0.262364</td>\n",
       "      <td>3</td>\n",
       "      <td>0.775825</td>\n",
       "      <td>0.601904</td>\n",
       "    </tr>\n",
       "    <tr>\n",
       "      <th>50</th>\n",
       "      <td>0.636943</td>\n",
       "      <td>-0.260830</td>\n",
       "      <td>-0.451076</td>\n",
       "      <td>3</td>\n",
       "      <td>0.770412</td>\n",
       "      <td>0.593534</td>\n",
       "    </tr>\n",
       "    <tr>\n",
       "      <th>51</th>\n",
       "      <td>0.833333</td>\n",
       "      <td>-0.246840</td>\n",
       "      <td>-0.182322</td>\n",
       "      <td>3</td>\n",
       "      <td>0.781265</td>\n",
       "      <td>0.610376</td>\n",
       "    </tr>\n",
       "    <tr>\n",
       "      <th>52</th>\n",
       "      <td>0.806452</td>\n",
       "      <td>-0.211973</td>\n",
       "      <td>-0.215111</td>\n",
       "      <td>3</td>\n",
       "      <td>0.808987</td>\n",
       "      <td>0.654459</td>\n",
       "    </tr>\n",
       "    <tr>\n",
       "      <th>53</th>\n",
       "      <td>0.840336</td>\n",
       "      <td>-0.186509</td>\n",
       "      <td>-0.173953</td>\n",
       "      <td>3</td>\n",
       "      <td>0.829851</td>\n",
       "      <td>0.688653</td>\n",
       "    </tr>\n",
       "    <tr>\n",
       "      <th>54</th>\n",
       "      <td>0.869565</td>\n",
       "      <td>-0.150908</td>\n",
       "      <td>-0.139762</td>\n",
       "      <td>3</td>\n",
       "      <td>0.859927</td>\n",
       "      <td>0.739475</td>\n",
       "    </tr>\n",
       "    <tr>\n",
       "      <th>55</th>\n",
       "      <td>0.840336</td>\n",
       "      <td>-0.138321</td>\n",
       "      <td>-0.173953</td>\n",
       "      <td>3</td>\n",
       "      <td>0.870819</td>\n",
       "      <td>0.758325</td>\n",
       "    </tr>\n",
       "    <tr>\n",
       "      <th>56</th>\n",
       "      <td>0.884956</td>\n",
       "      <td>-0.120942</td>\n",
       "      <td>-0.122218</td>\n",
       "      <td>3</td>\n",
       "      <td>0.886085</td>\n",
       "      <td>0.785147</td>\n",
       "    </tr>\n",
       "    <tr>\n",
       "      <th>57</th>\n",
       "      <td>1.086957</td>\n",
       "      <td>-0.111135</td>\n",
       "      <td>0.083382</td>\n",
       "      <td>3</td>\n",
       "      <td>0.894818</td>\n",
       "      <td>0.800700</td>\n",
       "    </tr>\n",
       "    <tr>\n",
       "      <th>58</th>\n",
       "      <td>1.075269</td>\n",
       "      <td>-0.075594</td>\n",
       "      <td>0.072571</td>\n",
       "      <td>3</td>\n",
       "      <td>0.927193</td>\n",
       "      <td>0.859687</td>\n",
       "    </tr>\n",
       "    <tr>\n",
       "      <th>59</th>\n",
       "      <td>1.369863</td>\n",
       "      <td>-0.051717</td>\n",
       "      <td>0.314711</td>\n",
       "      <td>3</td>\n",
       "      <td>0.949598</td>\n",
       "      <td>0.901736</td>\n",
       "    </tr>\n",
       "    <tr>\n",
       "      <th>60</th>\n",
       "      <td>4.347826</td>\n",
       "      <td>-0.599531</td>\n",
       "      <td>1.469676</td>\n",
       "      <td>6</td>\n",
       "      <td>0.549069</td>\n",
       "      <td>0.301477</td>\n",
       "    </tr>\n",
       "    <tr>\n",
       "      <th>61</th>\n",
       "      <td>6.666667</td>\n",
       "      <td>-0.986388</td>\n",
       "      <td>1.897120</td>\n",
       "      <td>6</td>\n",
       "      <td>0.372921</td>\n",
       "      <td>0.139070</td>\n",
       "    </tr>\n",
       "    <tr>\n",
       "      <th>62</th>\n",
       "      <td>3.225806</td>\n",
       "      <td>-0.353501</td>\n",
       "      <td>1.171183</td>\n",
       "      <td>6</td>\n",
       "      <td>0.702225</td>\n",
       "      <td>0.493121</td>\n",
       "    </tr>\n",
       "    <tr>\n",
       "      <th>63</th>\n",
       "      <td>5.882353</td>\n",
       "      <td>-1.076011</td>\n",
       "      <td>1.771957</td>\n",
       "      <td>6</td>\n",
       "      <td>0.340953</td>\n",
       "      <td>0.116249</td>\n",
       "    </tr>\n",
       "    <tr>\n",
       "      <th>64</th>\n",
       "      <td>4.545455</td>\n",
       "      <td>-0.480008</td>\n",
       "      <td>1.514128</td>\n",
       "      <td>6</td>\n",
       "      <td>0.618779</td>\n",
       "      <td>0.382887</td>\n",
       "    </tr>\n",
       "    <tr>\n",
       "      <th>65</th>\n",
       "      <td>2.439024</td>\n",
       "      <td>-0.092811</td>\n",
       "      <td>0.891598</td>\n",
       "      <td>6</td>\n",
       "      <td>0.911366</td>\n",
       "      <td>0.830587</td>\n",
       "    </tr>\n",
       "    <tr>\n",
       "      <th>66</th>\n",
       "      <td>1.923077</td>\n",
       "      <td>-0.047822</td>\n",
       "      <td>0.653926</td>\n",
       "      <td>6</td>\n",
       "      <td>0.953303</td>\n",
       "      <td>0.908787</td>\n",
       "    </tr>\n",
       "    <tr>\n",
       "      <th>67</th>\n",
       "      <td>5.000000</td>\n",
       "      <td>-1.332359</td>\n",
       "      <td>1.609438</td>\n",
       "      <td>6</td>\n",
       "      <td>0.263854</td>\n",
       "      <td>0.069619</td>\n",
       "    </tr>\n",
       "    <tr>\n",
       "      <th>68</th>\n",
       "      <td>5.882353</td>\n",
       "      <td>-1.083738</td>\n",
       "      <td>1.771957</td>\n",
       "      <td>6</td>\n",
       "      <td>0.338329</td>\n",
       "      <td>0.114466</td>\n",
       "    </tr>\n",
       "  </tbody>\n",
       "</table>\n",
       "</div>"
      ],
      "text/plain": [
       "        Dinv  LnFeDomains    LnDinv  FeNiX   FeDomains  squaredFeDomains\n",
       "0   2.325581    -0.063935  0.843970       1   0.938066          0.879968\n",
       "1   3.125000    -0.171537  1.139434       1   0.842369          0.709586\n",
       "2   3.030303    -0.297457  1.108663       1   0.742704          0.551610\n",
       "3   3.030303    -0.565593  1.108663       1   0.568023          0.322650\n",
       "4   4.166667    -0.818951  1.427116       1   0.440894          0.194387\n",
       "5   4.166667    -0.977994  1.427116       1   0.376065          0.141425\n",
       "6   5.555556    -1.540667  1.714798       1   0.214238          0.045898\n",
       "7   7.142857    -1.522616  1.966113       1   0.218141          0.047585\n",
       "8   6.060606    -1.208104  1.801810       1   0.298763          0.089259\n",
       "9   4.347826    -0.943130  1.469676       1   0.389407          0.151638\n",
       "10  3.225806    -1.046791  1.171183       1   0.351063          0.123245\n",
       "11  2.564103    -0.615965  0.941609       1   0.540119          0.291729\n",
       "12  2.631579    -0.684856  0.967584       1   0.504163          0.254180\n",
       "13  1.282051    -0.589063  0.248461       1   0.554847          0.307855\n",
       "14  1.111111    -0.520782  0.105361       1   0.594056          0.352902\n",
       "15  1.190476    -0.455926  0.174353       1   0.633861          0.401780\n",
       "16  1.298701    -0.393313  0.261365       1   0.674818          0.455379\n",
       "17  1.333333    -0.158020  0.287682       1   0.853832          0.729030\n",
       "18  1.428571    -0.058086  0.356675       1   0.943569          0.890323\n",
       "19  2.564103    -0.961070  0.941609       1   0.382484          0.146294\n",
       "20  2.127660    -0.406588  0.755023       1   0.665918          0.443447\n",
       "21  1.785714    -0.145010  0.579818       1   0.865014          0.748249\n",
       "22  1.785714    -0.092567  0.579818       1   0.911588          0.830993\n",
       "23  1.298701    -0.101780  0.261365       1   0.903228          0.815821\n",
       "24  1.666667    -0.152303  0.510826       1   0.858728          0.737413\n",
       "25  2.000000    -0.259003  0.693147       1   0.771820          0.595707\n",
       "26  2.222222    -0.402859  0.798508       1   0.668407          0.446767\n",
       "27  1.960784    -0.530864  0.673345       1   0.588096          0.345857\n",
       "28  3.333333    -0.622777  1.203973       1   0.536453          0.287782\n",
       "29  2.500000    -0.748119  0.916291       1   0.473256          0.223971\n",
       "30  5.263158    -1.189585  1.660731       1   0.304347          0.092627\n",
       "31  4.000000    -1.163809  1.386294       1   0.312294          0.097528\n",
       "32  1.408451    -0.034364  0.342490       1   0.966220          0.933581\n",
       "33  1.754386    -0.034740  0.562119       1   0.965857          0.932879\n",
       "34  1.818182    -0.050113  0.597837       1   0.951122          0.904634\n",
       "35  2.000000    -0.040445  0.693147       1   0.960362          0.922295\n",
       "36  1.818182    -0.052132  0.597837       1   0.949203          0.900987\n",
       "37  1.587302    -0.030821  0.462035       1   0.969649          0.940219\n",
       "38  1.785714    -0.036396  0.579818       1   0.964258          0.929794\n",
       "39  0.970874    -0.313092 -0.029559       2   0.731183          0.534628\n",
       "40  0.990099    -0.352000 -0.009950       2   0.703280          0.494603\n",
       "41  1.111111    -0.256048  0.105361       2   0.774105          0.599238\n",
       "42  0.833333    -0.254146 -0.182322       2   0.775579          0.601522\n",
       "43  0.862069    -0.162992 -0.148420       2   0.849598          0.721816\n",
       "44  0.900901    -0.122005 -0.104360       2   0.885144          0.783480\n",
       "45  1.010101    -0.084530  0.010050       2   0.918945          0.844459\n",
       "46  0.709220    -0.345282 -0.343590       3   0.708021          0.501294\n",
       "47  0.757576    -0.321051 -0.277632       3   0.725387          0.526186\n",
       "48  0.625000    -0.301654 -0.470004       3   0.739594          0.546999\n",
       "49  0.769231    -0.253828 -0.262364       3   0.775825          0.601904\n",
       "50  0.636943    -0.260830 -0.451076       3   0.770412          0.593534\n",
       "51  0.833333    -0.246840 -0.182322       3   0.781265          0.610376\n",
       "52  0.806452    -0.211973 -0.215111       3   0.808987          0.654459\n",
       "53  0.840336    -0.186509 -0.173953       3   0.829851          0.688653\n",
       "54  0.869565    -0.150908 -0.139762       3   0.859927          0.739475\n",
       "55  0.840336    -0.138321 -0.173953       3   0.870819          0.758325\n",
       "56  0.884956    -0.120942 -0.122218       3   0.886085          0.785147\n",
       "57  1.086957    -0.111135  0.083382       3   0.894818          0.800700\n",
       "58  1.075269    -0.075594  0.072571       3   0.927193          0.859687\n",
       "59  1.369863    -0.051717  0.314711       3   0.949598          0.901736\n",
       "60  4.347826    -0.599531  1.469676       6   0.549069          0.301477\n",
       "61  6.666667    -0.986388  1.897120       6   0.372921          0.139070\n",
       "62  3.225806    -0.353501  1.171183       6   0.702225          0.493121\n",
       "63  5.882353    -1.076011  1.771957       6   0.340953          0.116249\n",
       "64  4.545455    -0.480008  1.514128       6   0.618779          0.382887\n",
       "65  2.439024    -0.092811  0.891598       6   0.911366          0.830587\n",
       "66  1.923077    -0.047822  0.653926       6   0.953303          0.908787\n",
       "67  5.000000    -1.332359  1.609438       6   0.263854          0.069619\n",
       "68  5.882353    -1.083738  1.771957       6   0.338329          0.114466"
      ]
     },
     "execution_count": 54,
     "metadata": {},
     "output_type": "execute_result"
    }
   ],
   "source": [
    "data2 = pd.ExcelFile('ModifiedData/Cu_S-C_del.xlsx')\n",
    "print(data.sheet_names)\n",
    "df3 = data2.parse('Sheet1')\n",
    "df3.head(5)\n",
    "\n",
    "df4 = df3.drop(['Reference', 'Run #', 'D(Cu)'], axis=1)\n",
    "df4.dropna()\n",
    "pd.options.display.max_rows = 999\n",
    "df4.info()\n",
    "\n",
    "df4['FeDomains'] = np.exp(df4['LnFeDomains'])\n",
    "df4['squaredFeDomains'] = np.square(df4['FeDomains'])\n",
    "\n",
    "# df4= pd.DataFrame(dict(color=color))\n",
    "# colors = {'1':'red', '2':'blue', '3':'green', '6':'black'}\n",
    "# plt.plot(df4['FeDomains'],df4['Dinv'], marker='.', linestyle='none', c=df4['Fe-Ni-X'].apply(lambda x: colors[x]))\n",
    "\n",
    "plt.show()\n",
    "df4.head(69)"
   ]
  },
  {
   "cell_type": "markdown",
   "metadata": {},
   "source": [
    "**(A1) Linear**"
   ]
  },
  {
   "cell_type": "code",
   "execution_count": 55,
   "metadata": {},
   "outputs": [
    {
     "data": {
      "image/png": "[encoded data removed]",
      "text/plain": [
       "<Figure size 360x360 with 1 Axes>"
      ]
     },
     "metadata": {},
     "output_type": "display_data"
    },
    {
     "data": {
      "image/png": "[encoded data removed]",
      "text/plain": [
       "<Figure size 432x288 with 1 Axes>"
      ]
     },
     "metadata": {},
     "output_type": "display_data"
    }
   ],
   "source": [
    "sns.lmplot(x='FeDomains', y='Dinv', data=df4)\n",
    "plt.show()\n",
    "sns.residplot(x='FeDomains', y='Dinv', lowess=True, order = 1,data=df4, color='green')\n",
    "plt.show()"
   ]
  },
  {
   "cell_type": "markdown",
   "metadata": {},
   "source": [
    "Non-linearity in the data is clearly visible here."
   ]
  },
  {
   "cell_type": "code",
   "execution_count": 56,
   "metadata": {},
   "outputs": [
    {
     "data": {
      "text/html": [
       "<table class=\"simpletable\">\n",
       "<caption>OLS Regression Results</caption>\n",
       "<tr>\n",
       "  <th>Dep. Variable:</th>          <td>Dinv</td>       <th>  R-squared:         </th> <td>   0.608</td>\n",
       "</tr>\n",
       "<tr>\n",
       "  <th>Model:</th>                   <td>OLS</td>       <th>  Adj. R-squared:    </th> <td>   0.602</td>\n",
       "</tr>\n",
       "<tr>\n",
       "  <th>Method:</th>             <td>Least Squares</td>  <th>  F-statistic:       </th> <td>   104.0</td>\n",
       "</tr>\n",
       "<tr>\n",
       "  <th>Date:</th>             <td>Mon, 09 Jul 2018</td> <th>  Prob (F-statistic):</th> <td>2.90e-15</td>\n",
       "</tr>\n",
       "<tr>\n",
       "  <th>Time:</th>                 <td>00:52:33</td>     <th>  Log-Likelihood:    </th> <td> -100.56</td>\n",
       "</tr>\n",
       "<tr>\n",
       "  <th>No. Observations:</th>      <td>    69</td>      <th>  AIC:               </th> <td>   205.1</td>\n",
       "</tr>\n",
       "<tr>\n",
       "  <th>Df Residuals:</th>          <td>    67</td>      <th>  BIC:               </th> <td>   209.6</td>\n",
       "</tr>\n",
       "<tr>\n",
       "  <th>Df Model:</th>              <td>     1</td>      <th>                     </th>     <td> </td>   \n",
       "</tr>\n",
       "<tr>\n",
       "  <th>Covariance Type:</th>      <td>nonrobust</td>    <th>                     </th>     <td> </td>   \n",
       "</tr>\n",
       "</table>\n",
       "<table class=\"simpletable\">\n",
       "<tr>\n",
       "      <td></td>         <th>coef</th>     <th>std err</th>      <th>t</th>      <th>P>|t|</th>  <th>[0.025</th>    <th>0.975]</th>  \n",
       "</tr>\n",
       "<tr>\n",
       "  <th>Intercept</th> <td>    6.3292</td> <td>    0.410</td> <td>   15.435</td> <td> 0.000</td> <td>    5.511</td> <td>    7.148</td>\n",
       "</tr>\n",
       "<tr>\n",
       "  <th>FeDomains</th> <td>   -5.7314</td> <td>    0.562</td> <td>  -10.197</td> <td> 0.000</td> <td>   -6.853</td> <td>   -4.609</td>\n",
       "</tr>\n",
       "</table>\n",
       "<table class=\"simpletable\">\n",
       "<tr>\n",
       "  <th>Omnibus:</th>       <td> 4.830</td> <th>  Durbin-Watson:     </th> <td>   0.585</td>\n",
       "</tr>\n",
       "<tr>\n",
       "  <th>Prob(Omnibus):</th> <td> 0.089</td> <th>  Jarque-Bera (JB):  </th> <td>   2.382</td>\n",
       "</tr>\n",
       "<tr>\n",
       "  <th>Skew:</th>          <td> 0.159</td> <th>  Prob(JB):          </th> <td>   0.304</td>\n",
       "</tr>\n",
       "<tr>\n",
       "  <th>Kurtosis:</th>      <td> 2.147</td> <th>  Cond. No.          </th> <td>    6.63</td>\n",
       "</tr>\n",
       "</table><br/><br/>Warnings:<br/>[1] Standard Errors assume that the covariance matrix of the errors is correctly specified."
      ],
      "text/plain": [
       "<class 'statsmodels.iolib.summary.Summary'>\n",
       "\"\"\"\n",
       "                            OLS Regression Results                            \n",
       "==============================================================================\n",
       "Dep. Variable:                   Dinv   R-squared:                       0.608\n",
       "Model:                            OLS   Adj. R-squared:                  0.602\n",
       "Method:                 Least Squares   F-statistic:                     104.0\n",
       "Date:                Mon, 09 Jul 2018   Prob (F-statistic):           2.90e-15\n",
       "Time:                        00:52:33   Log-Likelihood:                -100.56\n",
       "No. Observations:                  69   AIC:                             205.1\n",
       "Df Residuals:                      67   BIC:                             209.6\n",
       "Df Model:                           1                                         \n",
       "Covariance Type:            nonrobust                                         \n",
       "==============================================================================\n",
       "                 coef    std err          t      P>|t|      [0.025      0.975]\n",
       "------------------------------------------------------------------------------\n",
       "Intercept      6.3292      0.410     15.435      0.000       5.511       7.148\n",
       "FeDomains     -5.7314      0.562    -10.197      0.000      -6.853      -4.609\n",
       "==============================================================================\n",
       "Omnibus:                        4.830   Durbin-Watson:                   0.585\n",
       "Prob(Omnibus):                  0.089   Jarque-Bera (JB):                2.382\n",
       "Skew:                           0.159   Prob(JB):                        0.304\n",
       "Kurtosis:                       2.147   Cond. No.                         6.63\n",
       "==============================================================================\n",
       "\n",
       "Warnings:\n",
       "[1] Standard Errors assume that the covariance matrix of the errors is correctly specified.\n",
       "\"\"\""
      ]
     },
     "execution_count": 56,
     "metadata": {},
     "output_type": "execute_result"
    }
   ],
   "source": [
    "est = smf.ols('Dinv ~ FeDomains', df4).fit()\n",
    "est.summary()"
   ]
  },
  {
   "cell_type": "markdown",
   "metadata": {},
   "source": [
    "**(A2) Squared**"
   ]
  },
  {
   "cell_type": "code",
   "execution_count": 59,
   "metadata": {},
   "outputs": [],
   "source": [
    "# fit = np.polyfit(df4['FeDomains'],df4['Dinv'], 2)\n",
    "# fit_fn = np.poly1d(fit)\n",
    "\n",
    "# plt.plot(df4['FeDomains'],df4['Dinv'], '.', np.sort(df4['FeDomains']), fit_fn(np.sort(df4['FeDomains'])), '--r', linewidth=2)\n",
    "# plt.xlabel(\"FeDomains\")\n",
    "# plt.ylabel(\"Dinv\")\n",
    "# plt.show()\n",
    "# print('Function equation : \\n',fit_fn)\n",
    "\n",
    "# sns.residplot(x='squaredFeDomains', y='Dinv',lowess=True, order = 1,data=df4, color='green')\n",
    "# plt.show()\n",
    "\n",
    "## This thing fucks up, I don't know why, gives a st line in the residual plot."
   ]
  },
  {
   "cell_type": "code",
   "execution_count": 60,
   "metadata": {},
   "outputs": [
    {
     "data": {
      "image/png": "[encoded data removed]",
      "text/plain": [
       "<Figure size 360x360 with 1 Axes>"
      ]
     },
     "metadata": {},
     "output_type": "display_data"
    },
    {
     "data": {
      "image/png": "[encoded data removed]",
      "text/plain": [
       "<Figure size 432x288 with 1 Axes>"
      ]
     },
     "metadata": {},
     "output_type": "display_data"
    }
   ],
   "source": [
    "sns.lmplot(x='squaredFeDomains', y='Dinv', data=df4)\n",
    "plt.show()\n",
    "sns.residplot(x='squaredFeDomains', y='Dinv', lowess=True, order = 1,data=df4, color='green')\n",
    "plt.show()"
   ]
  },
  {
   "cell_type": "markdown",
   "metadata": {},
   "source": [
    "This one is again indicating non-linearity."
   ]
  },
  {
   "cell_type": "code",
   "execution_count": 61,
   "metadata": {},
   "outputs": [
    {
     "data": {
      "text/html": [
       "<table class=\"simpletable\">\n",
       "<caption>OLS Regression Results</caption>\n",
       "<tr>\n",
       "  <th>Dep. Variable:</th>          <td>Dinv</td>       <th>  R-squared:         </th> <td>   0.736</td>\n",
       "</tr>\n",
       "<tr>\n",
       "  <th>Model:</th>                   <td>OLS</td>       <th>  Adj. R-squared:    </th> <td>   0.728</td>\n",
       "</tr>\n",
       "<tr>\n",
       "  <th>Method:</th>             <td>Least Squares</td>  <th>  F-statistic:       </th> <td>   91.81</td>\n",
       "</tr>\n",
       "<tr>\n",
       "  <th>Date:</th>             <td>Mon, 09 Jul 2018</td> <th>  Prob (F-statistic):</th> <td>8.60e-20</td>\n",
       "</tr>\n",
       "<tr>\n",
       "  <th>Time:</th>                 <td>00:55:40</td>     <th>  Log-Likelihood:    </th> <td> -86.980</td>\n",
       "</tr>\n",
       "<tr>\n",
       "  <th>No. Observations:</th>      <td>    69</td>      <th>  AIC:               </th> <td>   180.0</td>\n",
       "</tr>\n",
       "<tr>\n",
       "  <th>Df Residuals:</th>          <td>    66</td>      <th>  BIC:               </th> <td>   186.7</td>\n",
       "</tr>\n",
       "<tr>\n",
       "  <th>Df Model:</th>              <td>     2</td>      <th>                     </th>     <td> </td>   \n",
       "</tr>\n",
       "<tr>\n",
       "  <th>Covariance Type:</th>      <td>nonrobust</td>    <th>                     </th>     <td> </td>   \n",
       "</tr>\n",
       "</table>\n",
       "<table class=\"simpletable\">\n",
       "<tr>\n",
       "          <td></td>            <th>coef</th>     <th>std err</th>      <th>t</th>      <th>P>|t|</th>  <th>[0.025</th>    <th>0.975]</th>  \n",
       "</tr>\n",
       "<tr>\n",
       "  <th>Intercept</th>        <td>   10.8787</td> <td>    0.875</td> <td>   12.433</td> <td> 0.000</td> <td>    9.132</td> <td>   12.626</td>\n",
       "</tr>\n",
       "<tr>\n",
       "  <th>FeDomains</th>        <td>  -22.5945</td> <td>    3.025</td> <td>   -7.469</td> <td> 0.000</td> <td>  -28.635</td> <td>  -16.554</td>\n",
       "</tr>\n",
       "<tr>\n",
       "  <th>squaredFeDomains</th> <td>   13.4313</td> <td>    2.381</td> <td>    5.641</td> <td> 0.000</td> <td>    8.678</td> <td>   18.185</td>\n",
       "</tr>\n",
       "</table>\n",
       "<table class=\"simpletable\">\n",
       "<tr>\n",
       "  <th>Omnibus:</th>       <td> 8.899</td> <th>  Durbin-Watson:     </th> <td>   0.822</td>\n",
       "</tr>\n",
       "<tr>\n",
       "  <th>Prob(Omnibus):</th> <td> 0.012</td> <th>  Jarque-Bera (JB):  </th> <td>   8.470</td>\n",
       "</tr>\n",
       "<tr>\n",
       "  <th>Skew:</th>          <td> 0.814</td> <th>  Prob(JB):          </th> <td>  0.0145</td>\n",
       "</tr>\n",
       "<tr>\n",
       "  <th>Kurtosis:</th>      <td> 3.545</td> <th>  Cond. No.          </th> <td>    50.5</td>\n",
       "</tr>\n",
       "</table><br/><br/>Warnings:<br/>[1] Standard Errors assume that the covariance matrix of the errors is correctly specified."
      ],
      "text/plain": [
       "<class 'statsmodels.iolib.summary.Summary'>\n",
       "\"\"\"\n",
       "                            OLS Regression Results                            \n",
       "==============================================================================\n",
       "Dep. Variable:                   Dinv   R-squared:                       0.736\n",
       "Model:                            OLS   Adj. R-squared:                  0.728\n",
       "Method:                 Least Squares   F-statistic:                     91.81\n",
       "Date:                Mon, 09 Jul 2018   Prob (F-statistic):           8.60e-20\n",
       "Time:                        00:55:40   Log-Likelihood:                -86.980\n",
       "No. Observations:                  69   AIC:                             180.0\n",
       "Df Residuals:                      66   BIC:                             186.7\n",
       "Df Model:                           2                                         \n",
       "Covariance Type:            nonrobust                                         \n",
       "====================================================================================\n",
       "                       coef    std err          t      P>|t|      [0.025      0.975]\n",
       "------------------------------------------------------------------------------------\n",
       "Intercept           10.8787      0.875     12.433      0.000       9.132      12.626\n",
       "FeDomains          -22.5945      3.025     -7.469      0.000     -28.635     -16.554\n",
       "squaredFeDomains    13.4313      2.381      5.641      0.000       8.678      18.185\n",
       "==============================================================================\n",
       "Omnibus:                        8.899   Durbin-Watson:                   0.822\n",
       "Prob(Omnibus):                  0.012   Jarque-Bera (JB):                8.470\n",
       "Skew:                           0.814   Prob(JB):                       0.0145\n",
       "Kurtosis:                       3.545   Cond. No.                         50.5\n",
       "==============================================================================\n",
       "\n",
       "Warnings:\n",
       "[1] Standard Errors assume that the covariance matrix of the errors is correctly specified.\n",
       "\"\"\""
      ]
     },
     "execution_count": 61,
     "metadata": {},
     "output_type": "execute_result"
    }
   ],
   "source": [
    "est = smf.ols('Dinv ~ FeDomains + squaredFeDomains', df4).fit()\n",
    "est.summary()"
   ]
  },
  {
   "cell_type": "markdown",
   "metadata": {},
   "source": [
    "**(A3) LOG**"
   ]
  },
  {
   "cell_type": "code",
   "execution_count": 51,
   "metadata": {},
   "outputs": [
    {
     "data": {
      "image/png": "[encoded data removed]",
      "text/plain": [
       "<Figure size 360x360 with 1 Axes>"
      ]
     },
     "metadata": {},
     "output_type": "display_data"
    }
   ],
   "source": [
    "sns.lmplot(x='LnFeDomains', y='Dinv', data=df4)\n",
    "plt.show()"
   ]
  },
  {
   "cell_type": "code",
   "execution_count": 52,
   "metadata": {},
   "outputs": [
    {
     "data": {
      "image/png": "[encoded data removed]",
      "text/plain": [
       "<Figure size 432x288 with 1 Axes>"
      ]
     },
     "metadata": {},
     "output_type": "display_data"
    }
   ],
   "source": [
    "sns.residplot(x='LnFeDomains', y='Dinv', lowess=True, order = 1,data=df4, color='green')\n",
    "plt.show()"
   ]
  },
  {
   "cell_type": "code",
   "execution_count": 63,
   "metadata": {},
   "outputs": [
    {
     "data": {
      "text/html": [
       "<table class=\"simpletable\">\n",
       "<caption>OLS Regression Results</caption>\n",
       "<tr>\n",
       "  <th>Dep. Variable:</th>          <td>Dinv</td>       <th>  R-squared:         </th> <td>   0.682</td>\n",
       "</tr>\n",
       "<tr>\n",
       "  <th>Model:</th>                   <td>OLS</td>       <th>  Adj. R-squared:    </th> <td>   0.677</td>\n",
       "</tr>\n",
       "<tr>\n",
       "  <th>Method:</th>             <td>Least Squares</td>  <th>  F-statistic:       </th> <td>   143.6</td>\n",
       "</tr>\n",
       "<tr>\n",
       "  <th>Date:</th>             <td>Mon, 09 Jul 2018</td> <th>  Prob (F-statistic):</th> <td>2.56e-18</td>\n",
       "</tr>\n",
       "<tr>\n",
       "  <th>Time:</th>                 <td>00:59:31</td>     <th>  Log-Likelihood:    </th> <td> -93.369</td>\n",
       "</tr>\n",
       "<tr>\n",
       "  <th>No. Observations:</th>      <td>    69</td>      <th>  AIC:               </th> <td>   190.7</td>\n",
       "</tr>\n",
       "<tr>\n",
       "  <th>Df Residuals:</th>          <td>    67</td>      <th>  BIC:               </th> <td>   195.2</td>\n",
       "</tr>\n",
       "<tr>\n",
       "  <th>Df Model:</th>              <td>     1</td>      <th>                     </th>     <td> </td>   \n",
       "</tr>\n",
       "<tr>\n",
       "  <th>Covariance Type:</th>      <td>nonrobust</td>    <th>                     </th>     <td> </td>   \n",
       "</tr>\n",
       "</table>\n",
       "<table class=\"simpletable\">\n",
       "<tr>\n",
       "       <td></td>          <th>coef</th>     <th>std err</th>      <th>t</th>      <th>P>|t|</th>  <th>[0.025</th>    <th>0.975]</th>  \n",
       "</tr>\n",
       "<tr>\n",
       "  <th>Intercept</th>   <td>    0.8732</td> <td>    0.168</td> <td>    5.186</td> <td> 0.000</td> <td>    0.537</td> <td>    1.209</td>\n",
       "</tr>\n",
       "<tr>\n",
       "  <th>LnFeDomains</th> <td>   -3.3978</td> <td>    0.284</td> <td>  -11.982</td> <td> 0.000</td> <td>   -3.964</td> <td>   -2.832</td>\n",
       "</tr>\n",
       "</table>\n",
       "<table class=\"simpletable\">\n",
       "<tr>\n",
       "  <th>Omnibus:</th>       <td> 2.763</td> <th>  Durbin-Watson:     </th> <td>   0.663</td>\n",
       "</tr>\n",
       "<tr>\n",
       "  <th>Prob(Omnibus):</th> <td> 0.251</td> <th>  Jarque-Bera (JB):  </th> <td>   2.252</td>\n",
       "</tr>\n",
       "<tr>\n",
       "  <th>Skew:</th>          <td> 0.311</td> <th>  Prob(JB):          </th> <td>   0.324</td>\n",
       "</tr>\n",
       "<tr>\n",
       "  <th>Kurtosis:</th>      <td> 2.371</td> <th>  Cond. No.          </th> <td>    3.02</td>\n",
       "</tr>\n",
       "</table><br/><br/>Warnings:<br/>[1] Standard Errors assume that the covariance matrix of the errors is correctly specified."
      ],
      "text/plain": [
       "<class 'statsmodels.iolib.summary.Summary'>\n",
       "\"\"\"\n",
       "                            OLS Regression Results                            \n",
       "==============================================================================\n",
       "Dep. Variable:                   Dinv   R-squared:                       0.682\n",
       "Model:                            OLS   Adj. R-squared:                  0.677\n",
       "Method:                 Least Squares   F-statistic:                     143.6\n",
       "Date:                Mon, 09 Jul 2018   Prob (F-statistic):           2.56e-18\n",
       "Time:                        00:59:31   Log-Likelihood:                -93.369\n",
       "No. Observations:                  69   AIC:                             190.7\n",
       "Df Residuals:                      67   BIC:                             195.2\n",
       "Df Model:                           1                                         \n",
       "Covariance Type:            nonrobust                                         \n",
       "===============================================================================\n",
       "                  coef    std err          t      P>|t|      [0.025      0.975]\n",
       "-------------------------------------------------------------------------------\n",
       "Intercept       0.8732      0.168      5.186      0.000       0.537       1.209\n",
       "LnFeDomains    -3.3978      0.284    -11.982      0.000      -3.964      -2.832\n",
       "==============================================================================\n",
       "Omnibus:                        2.763   Durbin-Watson:                   0.663\n",
       "Prob(Omnibus):                  0.251   Jarque-Bera (JB):                2.252\n",
       "Skew:                           0.311   Prob(JB):                        0.324\n",
       "Kurtosis:                       2.371   Cond. No.                         3.02\n",
       "==============================================================================\n",
       "\n",
       "Warnings:\n",
       "[1] Standard Errors assume that the covariance matrix of the errors is correctly specified.\n",
       "\"\"\""
      ]
     },
     "execution_count": 63,
     "metadata": {},
     "output_type": "execute_result"
    }
   ],
   "source": [
    "est = smf.ols('Dinv ~ LnFeDomains', df4).fit()\n",
    "est.summary()"
   ]
  },
  {
   "cell_type": "markdown",
   "metadata": {},
   "source": [
    "I will check for hyperbola, as soon as posible."
   ]
  },
  {
   "cell_type": "code",
   "execution_count": null,
   "metadata": {},
   "outputs": [],
   "source": []
  },
  {
   "cell_type": "code",
   "execution_count": null,
   "metadata": {},
   "outputs": [],
   "source": []
  },
  {
   "cell_type": "markdown",
   "metadata": {},
   "source": [
    "## Replicating the research paper"
   ]
  },
  {
   "cell_type": "markdown",
   "metadata": {},
   "source": [
    "Plotting Ln(Fe-domains) vs Ln(1/D)"
   ]
  },
  {
   "cell_type": "code",
   "execution_count": null,
   "metadata": {},
   "outputs": [],
   "source": [
    "plt.plot(df2['LnFeDomains'],df2['LnDinv'], marker='.', linestyle='none')\n",
    "plt.show()"
   ]
  },
  {
   "cell_type": "code",
   "execution_count": null,
   "metadata": {},
   "outputs": [],
   "source": [
    "sns.lmplot(x='LnFeDomains', y='LnDinv', data=df2)\n",
    "plt.show()"
   ]
  },
  {
   "cell_type": "code",
   "execution_count": null,
   "metadata": {},
   "outputs": [],
   "source": [
    "fit = np.polyfit(df2['LnFeDomains'],df2['LnDinv'], 2)\n",
    "fit_fn = np.poly1d(fit)\n",
    "\n",
    "plt.plot(df2['LnFeDomains'],df2['LnDinv'], '.', np.sort(df2['LnFeDomains']), fit_fn(np.sort(df2['LnFeDomains'])), '--r', linewidth=2)\n",
    "plt.xlabel(\"LnFeDomains\")\n",
    "plt.ylabel(\"LnDinv\")\n",
    "plt.show()"
   ]
  },
  {
   "cell_type": "code",
   "execution_count": null,
   "metadata": {},
   "outputs": [],
   "source": [
    "sns.residplot(x='LnFeDomains', y='LnDinv', order = 2,data=df2, color='green')\n",
    "plt.show()"
   ]
  },
  {
   "cell_type": "markdown",
   "metadata": {},
   "source": [
    "Residual plots are tools to identify non-linearity of data. Ideally, residual plots show no discernible pattern but presence of a pattern may show problem with some aspect of linear model. \n",
    "Here we can clearly see that as the concentration of Fe domains increases the spread \n",
    "This data is suffering from **heteroscedasticity**"
   ]
  },
  {
   "cell_type": "code",
   "execution_count": null,
   "metadata": {},
   "outputs": [],
   "source": []
  },
  {
   "cell_type": "code",
   "execution_count": null,
   "metadata": {},
   "outputs": [],
   "source": [
    "# Regression coefficients (Ordinary Least Squares)\n",
    "regr = skl_lm.LinearRegression()\n",
    "\n",
    "X = scale(df2['LnFeDomains'], with_mean=True, with_std=False).reshape(-1,1)\n",
    "y = df2['LnDinv']\n",
    "\n",
    "regr.fit(X,y)\n",
    "print(X.shape)\n",
    "print(y[:5])\n",
    "print('Beta0:',regr.intercept_)\n",
    "print('Beta1:',regr.coef_)"
   ]
  },
  {
   "cell_type": "code",
   "execution_count": null,
   "metadata": {},
   "outputs": [],
   "source": [
    "est = smf.ols('LnDinv ~ LnFeDomains', df2).fit()\n",
    "est.summary()"
   ]
  },
  {
   "cell_type": "code",
   "execution_count": null,
   "metadata": {},
   "outputs": [],
   "source": [
    "# RSS with regression coefficients\n",
    "((df2['LnDinv'] - (est.params[0] + est.params[1]*df2['LnFeDomains']))**2).sum()/1000"
   ]
  },
  {
   "cell_type": "code",
   "execution_count": null,
   "metadata": {},
   "outputs": [],
   "source": [
    "regr = skl_lm.LinearRegression()\n",
    "\n",
    "X = df2['LnFeDomains'].values.reshape(-1,1)\n",
    "y = df2['LnDinv']\n",
    "\n",
    "regr.fit(X,y)\n",
    "print(regr.intercept_)\n",
    "print(regr.coef_)"
   ]
  },
  {
   "cell_type": "code",
   "execution_count": null,
   "metadata": {},
   "outputs": [],
   "source": [
    "LnDinv_pred = regr.predict(X)\n",
    "r2_score(y, LnDinv_pred)"
   ]
  },
  {
   "cell_type": "markdown",
   "metadata": {},
   "source": [
    "### MULTIPLE LINEAR REGRESSION"
   ]
  },
  {
   "cell_type": "code",
   "execution_count": null,
   "metadata": {},
   "outputs": [],
   "source": [
    "est = smf.ols('LnDinv ~ LnFeDomains', df2).fit()\n",
    "est.summary()"
   ]
  },
  {
   "cell_type": "code",
   "execution_count": null,
   "metadata": {},
   "outputs": [],
   "source": []
  }
 ],
 "metadata": {
  "kernelspec": {
   "display_name": "Python 3",
   "language": "python",
   "name": "python3"
  },
  "language_info": {
   "codemirror_mode": {
    "name": "ipython",
    "version": 3
   },
   "file_extension": ".py",
   "mimetype": "text/x-python",
   "name": "python",
   "nbconvert_exporter": "python",
   "pygments_lexer": "ipython3",
   "version": "3.6.5"
  }
 },
 "nbformat": 4,
 "nbformat_minor": 2
}
