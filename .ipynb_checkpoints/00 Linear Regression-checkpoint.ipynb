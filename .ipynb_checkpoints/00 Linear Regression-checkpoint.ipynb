{
 "cells": [
  {
   "cell_type": "code",
   "execution_count": 1,
   "metadata": {},
   "outputs": [],
   "source": [
    "# %load ../standard_import.txt\n",
    "import pandas as pd\n",
    "import numpy as np\n",
    "import matplotlib\n",
    "import matplotlib.pyplot as plt\n",
    "from mpl_toolkits.mplot3d import axes3d\n",
    "import seaborn as sns\n",
    "\n",
    "from sklearn.preprocessing import scale\n",
    "import sklearn.linear_model as skl_lm\n",
    "from sklearn.metrics import mean_squared_error, r2_score\n",
    "from sklearn import preprocessing, neighbors, svm\n",
    "from sklearn.model_selection import train_test_split\n",
    "from scipy.optimize import curve_fit\n",
    "import statsmodels.api as sm\n",
    "import statsmodels.formula.api as smf\n",
    "import re\n",
    "%matplotlib inline\n",
    "plt.style.use('seaborn-white')"
   ]
  },
  {
   "cell_type": "markdown",
   "metadata": {},
   "source": [
    "Here we are just dealing with Cu data"
   ]
  },
  {
   "cell_type": "code",
   "execution_count": 2,
   "metadata": {},
   "outputs": [
    {
     "name": "stdout",
     "output_type": "stream",
     "text": [
      "['Sheet1', 'Sheet3', 'xS vs FeS domain']\n"
     ]
    }
   ],
   "source": [
    "data = pd.ExcelFile('Data1/Cu.xlsx')\n",
    "print(data.sheet_names)"
   ]
  },
  {
   "cell_type": "code",
   "execution_count": 3,
   "metadata": {},
   "outputs": [
    {
     "data": {
      "text/html": [
       "<div>\n",
       "<style scoped>\n",
       "    .dataframe tbody tr th:only-of-type {\n",
       "        vertical-align: middle;\n",
       "    }\n",
       "\n",
       "    .dataframe tbody tr th {\n",
       "        vertical-align: top;\n",
       "    }\n",
       "\n",
       "    .dataframe thead th {\n",
       "        text-align: right;\n",
       "    }\n",
       "</style>\n",
       "<table border=\"1\" class=\"dataframe\">\n",
       "  <thead>\n",
       "    <tr style=\"text-align: right;\">\n",
       "      <th></th>\n",
       "      <th>Reference</th>\n",
       "      <th>Run #</th>\n",
       "      <th>D(Cu)</th>\n",
       "      <th>Dinv</th>\n",
       "      <th>LnFeDomains</th>\n",
       "      <th>LnDinv</th>\n",
       "    </tr>\n",
       "  </thead>\n",
       "  <tbody>\n",
       "    <tr>\n",
       "      <th>0</th>\n",
       "      <td>NaN</td>\n",
       "      <td>IT10</td>\n",
       "      <td>0.43</td>\n",
       "      <td>2.325581</td>\n",
       "      <td>-0.063935</td>\n",
       "      <td>0.843970</td>\n",
       "    </tr>\n",
       "    <tr>\n",
       "      <th>1</th>\n",
       "      <td>3</td>\n",
       "      <td>IT11</td>\n",
       "      <td>0.32</td>\n",
       "      <td>3.125000</td>\n",
       "      <td>-0.171537</td>\n",
       "      <td>1.139434</td>\n",
       "    </tr>\n",
       "    <tr>\n",
       "      <th>2</th>\n",
       "      <td>Chabot 2008</td>\n",
       "      <td>IT14</td>\n",
       "      <td>0.33</td>\n",
       "      <td>3.030303</td>\n",
       "      <td>-0.297457</td>\n",
       "      <td>1.108663</td>\n",
       "    </tr>\n",
       "    <tr>\n",
       "      <th>3</th>\n",
       "      <td>Fe-Ni-S, 1 atm</td>\n",
       "      <td>IT3</td>\n",
       "      <td>0.33</td>\n",
       "      <td>3.030303</td>\n",
       "      <td>-0.565593</td>\n",
       "      <td>1.108663</td>\n",
       "    </tr>\n",
       "    <tr>\n",
       "      <th>4</th>\n",
       "      <td>NaN</td>\n",
       "      <td>IT4</td>\n",
       "      <td>0.24</td>\n",
       "      <td>4.166667</td>\n",
       "      <td>-0.818951</td>\n",
       "      <td>1.427116</td>\n",
       "    </tr>\n",
       "  </tbody>\n",
       "</table>\n",
       "</div>"
      ],
      "text/plain": [
       "        Reference Run #  D(Cu)      Dinv  LnFeDomains    LnDinv\n",
       "0             NaN  IT10   0.43  2.325581    -0.063935  0.843970\n",
       "1               3  IT11   0.32  3.125000    -0.171537  1.139434\n",
       "2     Chabot 2008  IT14   0.33  3.030303    -0.297457  1.108663\n",
       "3  Fe-Ni-S, 1 atm   IT3   0.33  3.030303    -0.565593  1.108663\n",
       "4             NaN   IT4   0.24  4.166667    -0.818951  1.427116"
      ]
     },
     "execution_count": 3,
     "metadata": {},
     "output_type": "execute_result"
    }
   ],
   "source": [
    "df1 = data.parse('Sheet1')\n",
    "df1.head(5)"
   ]
  },
  {
   "cell_type": "code",
   "execution_count": 4,
   "metadata": {
    "scrolled": false
   },
   "outputs": [
    {
     "name": "stdout",
     "output_type": "stream",
     "text": [
      "<class 'pandas.core.frame.DataFrame'>\n",
      "RangeIndex: 72 entries, 0 to 71\n",
      "Data columns (total 4 columns):\n",
      "D(Cu)          72 non-null float64\n",
      "Dinv           72 non-null float64\n",
      "LnFeDomains    72 non-null float64\n",
      "LnDinv         72 non-null float64\n",
      "dtypes: float64(4)\n",
      "memory usage: 2.3 KB\n"
     ]
    },
    {
     "data": {
      "text/html": [
       "<div>\n",
       "<style scoped>\n",
       "    .dataframe tbody tr th:only-of-type {\n",
       "        vertical-align: middle;\n",
       "    }\n",
       "\n",
       "    .dataframe tbody tr th {\n",
       "        vertical-align: top;\n",
       "    }\n",
       "\n",
       "    .dataframe thead th {\n",
       "        text-align: right;\n",
       "    }\n",
       "</style>\n",
       "<table border=\"1\" class=\"dataframe\">\n",
       "  <thead>\n",
       "    <tr style=\"text-align: right;\">\n",
       "      <th></th>\n",
       "      <th>D(Cu)</th>\n",
       "      <th>Dinv</th>\n",
       "      <th>LnFeDomains</th>\n",
       "      <th>LnDinv</th>\n",
       "    </tr>\n",
       "  </thead>\n",
       "  <tbody>\n",
       "    <tr>\n",
       "      <th>0</th>\n",
       "      <td>0.43</td>\n",
       "      <td>2.325581</td>\n",
       "      <td>-0.063935</td>\n",
       "      <td>0.843970</td>\n",
       "    </tr>\n",
       "    <tr>\n",
       "      <th>1</th>\n",
       "      <td>0.32</td>\n",
       "      <td>3.125000</td>\n",
       "      <td>-0.171537</td>\n",
       "      <td>1.139434</td>\n",
       "    </tr>\n",
       "    <tr>\n",
       "      <th>2</th>\n",
       "      <td>0.33</td>\n",
       "      <td>3.030303</td>\n",
       "      <td>-0.297457</td>\n",
       "      <td>1.108663</td>\n",
       "    </tr>\n",
       "    <tr>\n",
       "      <th>3</th>\n",
       "      <td>0.33</td>\n",
       "      <td>3.030303</td>\n",
       "      <td>-0.565593</td>\n",
       "      <td>1.108663</td>\n",
       "    </tr>\n",
       "    <tr>\n",
       "      <th>4</th>\n",
       "      <td>0.24</td>\n",
       "      <td>4.166667</td>\n",
       "      <td>-0.818951</td>\n",
       "      <td>1.427116</td>\n",
       "    </tr>\n",
       "  </tbody>\n",
       "</table>\n",
       "</div>"
      ],
      "text/plain": [
       "   D(Cu)      Dinv  LnFeDomains    LnDinv\n",
       "0   0.43  2.325581    -0.063935  0.843970\n",
       "1   0.32  3.125000    -0.171537  1.139434\n",
       "2   0.33  3.030303    -0.297457  1.108663\n",
       "3   0.33  3.030303    -0.565593  1.108663\n",
       "4   0.24  4.166667    -0.818951  1.427116"
      ]
     },
     "execution_count": 4,
     "metadata": {},
     "output_type": "execute_result"
    }
   ],
   "source": [
    "df2 = df1.drop(['Reference', 'Run #'], axis=1)\n",
    "df2.dropna()\n",
    "pd.options.display.max_rows = 999\n",
    "df2.info()\n",
    "df2.head()"
   ]
  },
  {
   "cell_type": "code",
   "execution_count": 5,
   "metadata": {},
   "outputs": [
    {
     "data": {
      "text/html": [
       "<div>\n",
       "<style scoped>\n",
       "    .dataframe tbody tr th:only-of-type {\n",
       "        vertical-align: middle;\n",
       "    }\n",
       "\n",
       "    .dataframe tbody tr th {\n",
       "        vertical-align: top;\n",
       "    }\n",
       "\n",
       "    .dataframe thead th {\n",
       "        text-align: right;\n",
       "    }\n",
       "</style>\n",
       "<table border=\"1\" class=\"dataframe\">\n",
       "  <thead>\n",
       "    <tr style=\"text-align: right;\">\n",
       "      <th></th>\n",
       "      <th>D(Cu)</th>\n",
       "      <th>Dinv</th>\n",
       "      <th>LnFeDomains</th>\n",
       "      <th>LnDinv</th>\n",
       "      <th>FeDomains</th>\n",
       "    </tr>\n",
       "  </thead>\n",
       "  <tbody>\n",
       "    <tr>\n",
       "      <th>0</th>\n",
       "      <td>0.43</td>\n",
       "      <td>2.325581</td>\n",
       "      <td>-0.063935</td>\n",
       "      <td>0.843970</td>\n",
       "      <td>0.938066</td>\n",
       "    </tr>\n",
       "    <tr>\n",
       "      <th>1</th>\n",
       "      <td>0.32</td>\n",
       "      <td>3.125000</td>\n",
       "      <td>-0.171537</td>\n",
       "      <td>1.139434</td>\n",
       "      <td>0.842369</td>\n",
       "    </tr>\n",
       "    <tr>\n",
       "      <th>2</th>\n",
       "      <td>0.33</td>\n",
       "      <td>3.030303</td>\n",
       "      <td>-0.297457</td>\n",
       "      <td>1.108663</td>\n",
       "      <td>0.742704</td>\n",
       "    </tr>\n",
       "    <tr>\n",
       "      <th>3</th>\n",
       "      <td>0.33</td>\n",
       "      <td>3.030303</td>\n",
       "      <td>-0.565593</td>\n",
       "      <td>1.108663</td>\n",
       "      <td>0.568023</td>\n",
       "    </tr>\n",
       "    <tr>\n",
       "      <th>4</th>\n",
       "      <td>0.24</td>\n",
       "      <td>4.166667</td>\n",
       "      <td>-0.818951</td>\n",
       "      <td>1.427116</td>\n",
       "      <td>0.440894</td>\n",
       "    </tr>\n",
       "  </tbody>\n",
       "</table>\n",
       "</div>"
      ],
      "text/plain": [
       "   D(Cu)      Dinv  LnFeDomains    LnDinv  FeDomains\n",
       "0   0.43  2.325581    -0.063935  0.843970   0.938066\n",
       "1   0.32  3.125000    -0.171537  1.139434   0.842369\n",
       "2   0.33  3.030303    -0.297457  1.108663   0.742704\n",
       "3   0.33  3.030303    -0.565593  1.108663   0.568023\n",
       "4   0.24  4.166667    -0.818951  1.427116   0.440894"
      ]
     },
     "execution_count": 5,
     "metadata": {},
     "output_type": "execute_result"
    }
   ],
   "source": [
    "df2['FeDomains'] = np.exp(df2['LnFeDomains'])\n",
    "df2.head()"
   ]
  },
  {
   "cell_type": "markdown",
   "metadata": {},
   "source": [
    "**Assumption**: We have initially asssumed that all the non-metals have equal impact, and the concentration of Fe-domains is the only criteron on which the fractionation of elements depends."
   ]
  },
  {
   "cell_type": "markdown",
   "metadata": {},
   "source": [
    "Plotting Fe-Domains vs 1/D"
   ]
  },
  {
   "cell_type": "code",
   "execution_count": 6,
   "metadata": {},
   "outputs": [
    {
     "data": {
      "image/png": "[encoded data removed]",
      "text/plain": [
       "<Figure size 432x288 with 1 Axes>"
      ]
     },
     "metadata": {
      "needs_background": "light"
     },
     "output_type": "display_data"
    }
   ],
   "source": [
    "plt.plot(df2['FeDomains'],df2['Dinv'], marker='.', linestyle='none')\n",
    "plt.show()"
   ]
  },
  {
   "cell_type": "code",
   "execution_count": 7,
   "metadata": {},
   "outputs": [
    {
     "data": {
      "text/plain": [
       "0.625"
      ]
     },
     "execution_count": 7,
     "metadata": {},
     "output_type": "execute_result"
    }
   ],
   "source": [
    "df2['Dinv'].min()"
   ]
  },
  {
   "cell_type": "markdown",
   "metadata": {},
   "source": [
    "Dinv reaches its minimum value at aroud 7 and after that no point is below that, this curve looks more like a **hyperbola** than a linear , quadratic or logarithmic fit.\n",
    "\n",
    "But if we **reject the Fe-S-C data** then even a linear model will give us a nice fit. Try this with qualitative variable introduction of different non-metals."
   ]
  },
  {
   "cell_type": "markdown",
   "metadata": {},
   "source": [
    "#### **(A)** Fitting a linear model"
   ]
  },
  {
   "cell_type": "code",
   "execution_count": 8,
   "metadata": {},
   "outputs": [
    {
     "name": "stderr",
     "output_type": "stream",
     "text": [
      "C:\\Users\\LENOVO\\Anaconda3\\lib\\site-packages\\scipy\\stats\\stats.py:1713: FutureWarning: Using a non-tuple sequence for multidimensional indexing is deprecated; use `arr[tuple(seq)]` instead of `arr[seq]`. In the future this will be interpreted as an array index, `arr[np.array(seq)]`, which will result either in an error or a different result.\n",
      "  return np.add.reduce(sorted[indexer] * weights, axis=axis) / sumval\n"
     ]
    },
    {
     "data": {
      "image/png": "[encoded data removed]",
      "text/plain": [
       "<Figure size 360x360 with 1 Axes>"
      ]
     },
     "metadata": {
      "needs_background": "light"
     },
     "output_type": "display_data"
    }
   ],
   "source": [
    "sns.lmplot(x='FeDomains', y='Dinv', data=df2)\n",
    "plt.show()"
   ]
  },
  {
   "cell_type": "code",
   "execution_count": 9,
   "metadata": {},
   "outputs": [
    {
     "data": {
      "image/png": "[encoded data removed]",
      "text/plain": [
       "<Figure size 432x288 with 1 Axes>"
      ]
     },
     "metadata": {
      "needs_background": "light"
     },
     "output_type": "display_data"
    }
   ],
   "source": [
    "sns.residplot(x='FeDomains', y='Dinv', lowess=True, order = 1,data=df2, color='green')\n",
    "plt.show()"
   ]
  },
  {
   "cell_type": "markdown",
   "metadata": {},
   "source": [
    "**Residual plots are tools to identify non-linearity of data. Ideally, residual plots show no discernible pattern but presence of a pattern may show problem with some aspect of linear model.**"
   ]
  },
  {
   "cell_type": "markdown",
   "metadata": {},
   "source": [
    "**An important assumption of the linear regression model is that the error\n",
    "terms, e1, e2, . . . , en, are uncorrelated. What does this mean? For instance,\n",
    "if the errors are uncorrelated, then the fact that ei is positive provides\n",
    "little or no information about the sign of ei+1.**"
   ]
  },
  {
   "cell_type": "markdown",
   "metadata": {},
   "source": [
    "1) Here we can see a little pattern in the values of residuals(1st problem)"
   ]
  },
  {
   "cell_type": "markdown",
   "metadata": {},
   "source": [
    "2) The R^2 value of the fit is too low."
   ]
  },
  {
   "cell_type": "markdown",
   "metadata": {},
   "source": [
    " //////////3) Even though there seems to be little **non-linearity in the response predictor relationship** but there is large **correlation in error terms**(2nd problem)."
   ]
  },
  {
   "cell_type": "markdown",
   "metadata": {},
   "source": [
    "4) This residual plot seems to have constant variance."
   ]
  },
  {
   "cell_type": "markdown",
   "metadata": {},
   "source": [
    "Trying log, minus x2, square-root x to remove any pattern from the residual plot."
   ]
  },
  {
   "cell_type": "code",
   "execution_count": 10,
   "metadata": {},
   "outputs": [
    {
     "data": {
      "text/html": [
       "<table class=\"simpletable\">\n",
       "<caption>OLS Regression Results</caption>\n",
       "<tr>\n",
       "  <th>Dep. Variable:</th>          <td>Dinv</td>       <th>  R-squared:         </th> <td>   0.546</td>\n",
       "</tr>\n",
       "<tr>\n",
       "  <th>Model:</th>                   <td>OLS</td>       <th>  Adj. R-squared:    </th> <td>   0.539</td>\n",
       "</tr>\n",
       "<tr>\n",
       "  <th>Method:</th>             <td>Least Squares</td>  <th>  F-statistic:       </th> <td>   84.07</td>\n",
       "</tr>\n",
       "<tr>\n",
       "  <th>Date:</th>             <td>Sun, 16 Dec 2018</td> <th>  Prob (F-statistic):</th> <td>1.30e-13</td>\n",
       "</tr>\n",
       "<tr>\n",
       "  <th>Time:</th>                 <td>16:50:30</td>     <th>  Log-Likelihood:    </th> <td> -154.85</td>\n",
       "</tr>\n",
       "<tr>\n",
       "  <th>No. Observations:</th>      <td>    72</td>      <th>  AIC:               </th> <td>   313.7</td>\n",
       "</tr>\n",
       "<tr>\n",
       "  <th>Df Residuals:</th>          <td>    70</td>      <th>  BIC:               </th> <td>   318.3</td>\n",
       "</tr>\n",
       "<tr>\n",
       "  <th>Df Model:</th>              <td>     1</td>      <th>                     </th>     <td> </td>   \n",
       "</tr>\n",
       "<tr>\n",
       "  <th>Covariance Type:</th>      <td>nonrobust</td>    <th>                     </th>     <td> </td>   \n",
       "</tr>\n",
       "</table>\n",
       "<table class=\"simpletable\">\n",
       "<tr>\n",
       "      <td></td>         <th>coef</th>     <th>std err</th>      <th>t</th>      <th>P>|t|</th>  <th>[0.025</th>    <th>0.975]</th>  \n",
       "</tr>\n",
       "<tr>\n",
       "  <th>Intercept</th> <td>    9.1166</td> <td>    0.723</td> <td>   12.616</td> <td> 0.000</td> <td>    7.675</td> <td>   10.558</td>\n",
       "</tr>\n",
       "<tr>\n",
       "  <th>FeDomains</th> <td>   -9.2683</td> <td>    1.011</td> <td>   -9.169</td> <td> 0.000</td> <td>  -11.284</td> <td>   -7.252</td>\n",
       "</tr>\n",
       "</table>\n",
       "<table class=\"simpletable\">\n",
       "<tr>\n",
       "  <th>Omnibus:</th>       <td>52.668</td> <th>  Durbin-Watson:     </th> <td>   0.836</td>\n",
       "</tr>\n",
       "<tr>\n",
       "  <th>Prob(Omnibus):</th> <td> 0.000</td> <th>  Jarque-Bera (JB):  </th> <td> 225.974</td>\n",
       "</tr>\n",
       "<tr>\n",
       "  <th>Skew:</th>          <td> 2.215</td> <th>  Prob(JB):          </th> <td>8.52e-50</td>\n",
       "</tr>\n",
       "<tr>\n",
       "  <th>Kurtosis:</th>      <td>10.463</td> <th>  Cond. No.          </th> <td>    5.98</td>\n",
       "</tr>\n",
       "</table><br/><br/>Warnings:<br/>[1] Standard Errors assume that the covariance matrix of the errors is correctly specified."
      ],
      "text/plain": [
       "<class 'statsmodels.iolib.summary.Summary'>\n",
       "\"\"\"\n",
       "                            OLS Regression Results                            \n",
       "==============================================================================\n",
       "Dep. Variable:                   Dinv   R-squared:                       0.546\n",
       "Model:                            OLS   Adj. R-squared:                  0.539\n",
       "Method:                 Least Squares   F-statistic:                     84.07\n",
       "Date:                Sun, 16 Dec 2018   Prob (F-statistic):           1.30e-13\n",
       "Time:                        16:50:30   Log-Likelihood:                -154.85\n",
       "No. Observations:                  72   AIC:                             313.7\n",
       "Df Residuals:                      70   BIC:                             318.3\n",
       "Df Model:                           1                                         \n",
       "Covariance Type:            nonrobust                                         \n",
       "==============================================================================\n",
       "                 coef    std err          t      P>|t|      [0.025      0.975]\n",
       "------------------------------------------------------------------------------\n",
       "Intercept      9.1166      0.723     12.616      0.000       7.675      10.558\n",
       "FeDomains     -9.2683      1.011     -9.169      0.000     -11.284      -7.252\n",
       "==============================================================================\n",
       "Omnibus:                       52.668   Durbin-Watson:                   0.836\n",
       "Prob(Omnibus):                  0.000   Jarque-Bera (JB):              225.974\n",
       "Skew:                           2.215   Prob(JB):                     8.52e-50\n",
       "Kurtosis:                      10.463   Cond. No.                         5.98\n",
       "==============================================================================\n",
       "\n",
       "Warnings:\n",
       "[1] Standard Errors assume that the covariance matrix of the errors is correctly specified.\n",
       "\"\"\""
      ]
     },
     "execution_count": 10,
     "metadata": {},
     "output_type": "execute_result"
    }
   ],
   "source": [
    "est = smf.ols('Dinv ~ FeDomains', df2).fit()\n",
    "est.summary()"
   ]
  },
  {
   "cell_type": "markdown",
   "metadata": {},
   "source": [
    "The linear regression model assumes that there is a straight-line relationship between the predictors and the response. If the true relationship is far from linear, then virtually all of the conclusions that we draw from the fit are suspect. In addition, the prediction accuracy of the model can be significantly reduced.\n",
    "The nonlinearity in the regression plot and the poor R-squared value(~.54) tells us that linear model is not suitable for this data."
   ]
  },
  {
   "cell_type": "markdown",
   "metadata": {},
   "source": [
    "Degree 2 might do better!"
   ]
  },
  {
   "cell_type": "markdown",
   "metadata": {},
   "source": [
    "### (B) Squared model"
   ]
  },
  {
   "cell_type": "code",
   "execution_count": 11,
   "metadata": {},
   "outputs": [
    {
     "data": {
      "image/png": "[encoded data removed]",
      "text/plain": [
       "<Figure size 432x288 with 1 Axes>"
      ]
     },
     "metadata": {
      "needs_background": "light"
     },
     "output_type": "display_data"
    },
    {
     "name": "stdout",
     "output_type": "stream",
     "text": [
      "Function equation : \n",
      "        2\n",
      "28.62 x - 43.5 x + 17.47\n"
     ]
    }
   ],
   "source": [
    "fit = np.polyfit(df2['FeDomains'],df2['Dinv'], 2)\n",
    "fit_fn = np.poly1d(fit)\n",
    "\n",
    "plt.plot(df2['FeDomains'],df2['Dinv'], '.', np.sort(df2['FeDomains']), fit_fn(np.sort(df2['FeDomains'])), '--r', linewidth=2)\n",
    "plt.xlabel(\"FeDomains\")\n",
    "plt.ylabel(\"Dinv\")\n",
    "plt.show()\n",
    "print('Function equation : \\n',fit_fn)"
   ]
  },
  {
   "cell_type": "code",
   "execution_count": 12,
   "metadata": {},
   "outputs": [
    {
     "data": {
      "image/png": "[encoded data removed]",
      "text/plain": [
       "<Figure size 432x288 with 1 Axes>"
      ]
     },
     "metadata": {
      "needs_background": "light"
     },
     "output_type": "display_data"
    }
   ],
   "source": [
    "sns.residplot(x='FeDomains', y='Dinv', order = 2,data=df2, color='green')\n",
    "plt.show()"
   ]
  },
  {
   "cell_type": "markdown",
   "metadata": {},
   "source": [
    "The residual plot makes us clear the non-linearity of the data in the squared model above."
   ]
  },
  {
   "cell_type": "markdown",
   "metadata": {},
   "source": [
    "**IF WE COULD JUST IGNORE THE THREE POINTS** at the top then the rest of the data fits the linear model just fine. While, on changing the degree to 2 other than the 3 points on the top, rest of the model resists the degree 2 model."
   ]
  },
  {
   "cell_type": "markdown",
   "metadata": {},
   "source": [
    "However, this time we get a higher Rsquared value (~.78), than the linear model. But this is due to the fact that the earlier linear model was distorted too much by the outlier values of the Fe-S-C data."
   ]
  },
  {
   "cell_type": "markdown",
   "metadata": {},
   "source": [
    "1) Clear patterns in residuals, non-linearity of the response-predictor relationship"
   ]
  },
  {
   "cell_type": "markdown",
   "metadata": {},
   "source": [
    "2)R^2 is decent"
   ]
  },
  {
   "cell_type": "markdown",
   "metadata": {},
   "source": [
    "3)Significant correlation in error terms"
   ]
  },
  {
   "cell_type": "markdown",
   "metadata": {},
   "source": [
    "4)Heteroscedasticity present"
   ]
  },
  {
   "cell_type": "code",
   "execution_count": 13,
   "metadata": {},
   "outputs": [
    {
     "data": {
      "text/html": [
       "<table class=\"simpletable\">\n",
       "<caption>OLS Regression Results</caption>\n",
       "<tr>\n",
       "  <th>Dep. Variable:</th>          <td>Dinv</td>       <th>  R-squared:         </th> <td>   0.785</td>\n",
       "</tr>\n",
       "<tr>\n",
       "  <th>Model:</th>                   <td>OLS</td>       <th>  Adj. R-squared:    </th> <td>   0.779</td>\n",
       "</tr>\n",
       "<tr>\n",
       "  <th>Method:</th>             <td>Least Squares</td>  <th>  F-statistic:       </th> <td>   125.9</td>\n",
       "</tr>\n",
       "<tr>\n",
       "  <th>Date:</th>             <td>Sun, 16 Dec 2018</td> <th>  Prob (F-statistic):</th> <td>9.48e-24</td>\n",
       "</tr>\n",
       "<tr>\n",
       "  <th>Time:</th>                 <td>16:50:30</td>     <th>  Log-Likelihood:    </th> <td> -127.94</td>\n",
       "</tr>\n",
       "<tr>\n",
       "  <th>No. Observations:</th>      <td>    72</td>      <th>  AIC:               </th> <td>   261.9</td>\n",
       "</tr>\n",
       "<tr>\n",
       "  <th>Df Residuals:</th>          <td>    69</td>      <th>  BIC:               </th> <td>   268.7</td>\n",
       "</tr>\n",
       "<tr>\n",
       "  <th>Df Model:</th>              <td>     2</td>      <th>                     </th>     <td> </td>   \n",
       "</tr>\n",
       "<tr>\n",
       "  <th>Covariance Type:</th>      <td>nonrobust</td>    <th>                     </th>     <td> </td>   \n",
       "</tr>\n",
       "</table>\n",
       "<table class=\"simpletable\">\n",
       "<tr>\n",
       "            <td></td>              <th>coef</th>     <th>std err</th>      <th>t</th>      <th>P>|t|</th>  <th>[0.025</th>    <th>0.975]</th>  \n",
       "</tr>\n",
       "<tr>\n",
       "  <th>Intercept</th>            <td>   17.4690</td> <td>    1.077</td> <td>   16.220</td> <td> 0.000</td> <td>   15.320</td> <td>   19.618</td>\n",
       "</tr>\n",
       "<tr>\n",
       "  <th>FeDomains</th>            <td>  -43.5000</td> <td>    3.970</td> <td>  -10.957</td> <td> 0.000</td> <td>  -51.420</td> <td>  -35.580</td>\n",
       "</tr>\n",
       "<tr>\n",
       "  <th>np.square(FeDomains)</th> <td>   28.6214</td> <td>    3.267</td> <td>    8.760</td> <td> 0.000</td> <td>   22.103</td> <td>   35.140</td>\n",
       "</tr>\n",
       "</table>\n",
       "<table class=\"simpletable\">\n",
       "<tr>\n",
       "  <th>Omnibus:</th>       <td>18.583</td> <th>  Durbin-Watson:     </th> <td>   1.132</td>\n",
       "</tr>\n",
       "<tr>\n",
       "  <th>Prob(Omnibus):</th> <td> 0.000</td> <th>  Jarque-Bera (JB):  </th> <td>  41.610</td>\n",
       "</tr>\n",
       "<tr>\n",
       "  <th>Skew:</th>          <td> 0.792</td> <th>  Prob(JB):          </th> <td>9.22e-10</td>\n",
       "</tr>\n",
       "<tr>\n",
       "  <th>Kurtosis:</th>      <td> 6.371</td> <th>  Cond. No.          </th> <td>    40.4</td>\n",
       "</tr>\n",
       "</table><br/><br/>Warnings:<br/>[1] Standard Errors assume that the covariance matrix of the errors is correctly specified."
      ],
      "text/plain": [
       "<class 'statsmodels.iolib.summary.Summary'>\n",
       "\"\"\"\n",
       "                            OLS Regression Results                            \n",
       "==============================================================================\n",
       "Dep. Variable:                   Dinv   R-squared:                       0.785\n",
       "Model:                            OLS   Adj. R-squared:                  0.779\n",
       "Method:                 Least Squares   F-statistic:                     125.9\n",
       "Date:                Sun, 16 Dec 2018   Prob (F-statistic):           9.48e-24\n",
       "Time:                        16:50:30   Log-Likelihood:                -127.94\n",
       "No. Observations:                  72   AIC:                             261.9\n",
       "Df Residuals:                      69   BIC:                             268.7\n",
       "Df Model:                           2                                         \n",
       "Covariance Type:            nonrobust                                         \n",
       "========================================================================================\n",
       "                           coef    std err          t      P>|t|      [0.025      0.975]\n",
       "----------------------------------------------------------------------------------------\n",
       "Intercept               17.4690      1.077     16.220      0.000      15.320      19.618\n",
       "FeDomains              -43.5000      3.970    -10.957      0.000     -51.420     -35.580\n",
       "np.square(FeDomains)    28.6214      3.267      8.760      0.000      22.103      35.140\n",
       "==============================================================================\n",
       "Omnibus:                       18.583   Durbin-Watson:                   1.132\n",
       "Prob(Omnibus):                  0.000   Jarque-Bera (JB):               41.610\n",
       "Skew:                           0.792   Prob(JB):                     9.22e-10\n",
       "Kurtosis:                       6.371   Cond. No.                         40.4\n",
       "==============================================================================\n",
       "\n",
       "Warnings:\n",
       "[1] Standard Errors assume that the covariance matrix of the errors is correctly specified.\n",
       "\"\"\""
      ]
     },
     "execution_count": 13,
     "metadata": {},
     "output_type": "execute_result"
    }
   ],
   "source": [
    "est = smf.ols('Dinv ~ FeDomains + np.square(FeDomains)', df2).fit()\n",
    "est.summary()"
   ]
  },
  {
   "cell_type": "code",
   "execution_count": 14,
   "metadata": {},
   "outputs": [
    {
     "data": {
      "image/png": "[encoded data removed]",
      "text/plain": [
       "<Figure size 432x288 with 1 Axes>"
      ]
     },
     "metadata": {
      "needs_background": "light"
     },
     "output_type": "display_data"
    }
   ],
   "source": [
    "sns.residplot(x='FeDomains', y='LnDinv', order = 2,data=df2, color='green')\n",
    "plt.show()"
   ]
  },
  {
   "cell_type": "markdown",
   "metadata": {},
   "source": [
    "Heteroscedasticity definately reduced"
   ]
  },
  {
   "cell_type": "code",
   "execution_count": 15,
   "metadata": {},
   "outputs": [
    {
     "data": {
      "text/html": [
       "<table class=\"simpletable\">\n",
       "<caption>OLS Regression Results</caption>\n",
       "<tr>\n",
       "  <th>Dep. Variable:</th>         <td>LnDinv</td>      <th>  R-squared:         </th> <td>   0.716</td>\n",
       "</tr>\n",
       "<tr>\n",
       "  <th>Model:</th>                   <td>OLS</td>       <th>  Adj. R-squared:    </th> <td>   0.708</td>\n",
       "</tr>\n",
       "<tr>\n",
       "  <th>Method:</th>             <td>Least Squares</td>  <th>  F-statistic:       </th> <td>   86.91</td>\n",
       "</tr>\n",
       "<tr>\n",
       "  <th>Date:</th>             <td>Sun, 16 Dec 2018</td> <th>  Prob (F-statistic):</th> <td>1.40e-19</td>\n",
       "</tr>\n",
       "<tr>\n",
       "  <th>Time:</th>                 <td>16:50:30</td>     <th>  Log-Likelihood:    </th> <td> -38.712</td>\n",
       "</tr>\n",
       "<tr>\n",
       "  <th>No. Observations:</th>      <td>    72</td>      <th>  AIC:               </th> <td>   83.42</td>\n",
       "</tr>\n",
       "<tr>\n",
       "  <th>Df Residuals:</th>          <td>    69</td>      <th>  BIC:               </th> <td>   90.25</td>\n",
       "</tr>\n",
       "<tr>\n",
       "  <th>Df Model:</th>              <td>     2</td>      <th>                     </th>     <td> </td>   \n",
       "</tr>\n",
       "<tr>\n",
       "  <th>Covariance Type:</th>      <td>nonrobust</td>    <th>                     </th>     <td> </td>   \n",
       "</tr>\n",
       "</table>\n",
       "<table class=\"simpletable\">\n",
       "<tr>\n",
       "            <td></td>              <th>coef</th>     <th>std err</th>      <th>t</th>      <th>P>|t|</th>  <th>[0.025</th>    <th>0.975]</th>  \n",
       "</tr>\n",
       "<tr>\n",
       "  <th>Intercept</th>            <td>    3.8849</td> <td>    0.312</td> <td>   12.455</td> <td> 0.000</td> <td>    3.263</td> <td>    4.507</td>\n",
       "</tr>\n",
       "<tr>\n",
       "  <th>FeDomains</th>            <td>   -8.7447</td> <td>    1.150</td> <td>   -7.606</td> <td> 0.000</td> <td>  -11.038</td> <td>   -6.451</td>\n",
       "</tr>\n",
       "<tr>\n",
       "  <th>np.square(FeDomains)</th> <td>    5.2856</td> <td>    0.946</td> <td>    5.586</td> <td> 0.000</td> <td>    3.398</td> <td>    7.173</td>\n",
       "</tr>\n",
       "</table>\n",
       "<table class=\"simpletable\">\n",
       "<tr>\n",
       "  <th>Omnibus:</th>       <td> 2.319</td> <th>  Durbin-Watson:     </th> <td>   0.627</td>\n",
       "</tr>\n",
       "<tr>\n",
       "  <th>Prob(Omnibus):</th> <td> 0.314</td> <th>  Jarque-Bera (JB):  </th> <td>   2.003</td>\n",
       "</tr>\n",
       "<tr>\n",
       "  <th>Skew:</th>          <td> 0.289</td> <th>  Prob(JB):          </th> <td>   0.367</td>\n",
       "</tr>\n",
       "<tr>\n",
       "  <th>Kurtosis:</th>      <td> 2.422</td> <th>  Cond. No.          </th> <td>    40.4</td>\n",
       "</tr>\n",
       "</table><br/><br/>Warnings:<br/>[1] Standard Errors assume that the covariance matrix of the errors is correctly specified."
      ],
      "text/plain": [
       "<class 'statsmodels.iolib.summary.Summary'>\n",
       "\"\"\"\n",
       "                            OLS Regression Results                            \n",
       "==============================================================================\n",
       "Dep. Variable:                 LnDinv   R-squared:                       0.716\n",
       "Model:                            OLS   Adj. R-squared:                  0.708\n",
       "Method:                 Least Squares   F-statistic:                     86.91\n",
       "Date:                Sun, 16 Dec 2018   Prob (F-statistic):           1.40e-19\n",
       "Time:                        16:50:30   Log-Likelihood:                -38.712\n",
       "No. Observations:                  72   AIC:                             83.42\n",
       "Df Residuals:                      69   BIC:                             90.25\n",
       "Df Model:                           2                                         \n",
       "Covariance Type:            nonrobust                                         \n",
       "========================================================================================\n",
       "                           coef    std err          t      P>|t|      [0.025      0.975]\n",
       "----------------------------------------------------------------------------------------\n",
       "Intercept                3.8849      0.312     12.455      0.000       3.263       4.507\n",
       "FeDomains               -8.7447      1.150     -7.606      0.000     -11.038      -6.451\n",
       "np.square(FeDomains)     5.2856      0.946      5.586      0.000       3.398       7.173\n",
       "==============================================================================\n",
       "Omnibus:                        2.319   Durbin-Watson:                   0.627\n",
       "Prob(Omnibus):                  0.314   Jarque-Bera (JB):                2.003\n",
       "Skew:                           0.289   Prob(JB):                        0.367\n",
       "Kurtosis:                       2.422   Cond. No.                         40.4\n",
       "==============================================================================\n",
       "\n",
       "Warnings:\n",
       "[1] Standard Errors assume that the covariance matrix of the errors is correctly specified.\n",
       "\"\"\""
      ]
     },
     "execution_count": 15,
     "metadata": {},
     "output_type": "execute_result"
    }
   ],
   "source": [
    "est = smf.ols('LnDinv ~ FeDomains + np.square(FeDomains)', df2).fit()\n",
    "est.summary()"
   ]
  },
  {
   "cell_type": "code",
   "execution_count": 16,
   "metadata": {},
   "outputs": [
    {
     "data": {
      "image/png": "[encoded data removed]",
      "text/plain": [
       "<Figure size 432x288 with 1 Axes>"
      ]
     },
     "metadata": {
      "needs_background": "light"
     },
     "output_type": "display_data"
    },
    {
     "name": "stdout",
     "output_type": "stream",
     "text": [
      "Function equation : \n",
      "        2\n",
      "5.286 x - 8.745 x + 3.885\n"
     ]
    }
   ],
   "source": [
    "fit = np.polyfit(df2['FeDomains'],df2['LnDinv'], 2)\n",
    "fit_fn = np.poly1d(fit)\n",
    "\n",
    "plt.plot(df2['FeDomains'],df2['LnDinv'], '.', np.sort(df2['FeDomains']), fit_fn(np.sort(df2['FeDomains'])), '--r', linewidth=2)\n",
    "plt.xlabel(\"FeDomains\")\n",
    "plt.ylabel(\"LnDinv\")\n",
    "plt.show()\n",
    "print('Function equation : \\n',fit_fn)"
   ]
  },
  {
   "cell_type": "markdown",
   "metadata": {},
   "source": [
    "1) Non-linearity in predictor-response relationship has definately reduced"
   ]
  },
  {
   "cell_type": "markdown",
   "metadata": {},
   "source": [
    "2) R2 reduced a bit, but still acceptable."
   ]
  },
  {
   "cell_type": "markdown",
   "metadata": {},
   "source": [
    "3)No clear correlation present in error terms"
   ]
  },
  {
   "cell_type": "markdown",
   "metadata": {},
   "source": [
    "4)Looks homoscedastic"
   ]
  },
  {
   "cell_type": "markdown",
   "metadata": {},
   "source": [
    "This fit seems good, but a problem with squared model is that its value decreases, reaches a minimum and then again increases. Here(in case of Cu) it reaches its minimum close to 0.85, and after that it increases, but in some other element we might have that minimum close to 0.5, which may cause some problem."
   ]
  },
  {
   "cell_type": "markdown",
   "metadata": {},
   "source": [
    "The doubt is that our equation suggest that the LnDinv will have a minimum at some point and will increase both sides from that point. But chemically on increasing the concentration of Fe,(for siderophile elements) the value Dinv should only decrease."
   ]
  },
  {
   "cell_type": "markdown",
   "metadata": {},
   "source": [
    "**Now even if our domain lies between 0 and 1 and our minimum is close to 1, does this fit actually represent the predictor-response relationship correctly?**"
   ]
  },
  {
   "cell_type": "markdown",
   "metadata": {},
   "source": [
    "No, I don't think so!"
   ]
  },
  {
   "cell_type": "markdown",
   "metadata": {},
   "source": [
    "### (C) Trying Square-root of x"
   ]
  },
  {
   "cell_type": "markdown",
   "metadata": {},
   "source": [
    "Now rather than fitting a square-root line to the data, we are fitting a straight line to the squared data."
   ]
  },
  {
   "cell_type": "markdown",
   "metadata": {},
   "source": [
    "Now, this is a bit unintuitive, the reason is that np.polyfit works only with integer values"
   ]
  },
  {
   "cell_type": "code",
   "execution_count": 17,
   "metadata": {},
   "outputs": [
    {
     "data": {
      "text/html": [
       "<div>\n",
       "<style scoped>\n",
       "    .dataframe tbody tr th:only-of-type {\n",
       "        vertical-align: middle;\n",
       "    }\n",
       "\n",
       "    .dataframe tbody tr th {\n",
       "        vertical-align: top;\n",
       "    }\n",
       "\n",
       "    .dataframe thead th {\n",
       "        text-align: right;\n",
       "    }\n",
       "</style>\n",
       "<table border=\"1\" class=\"dataframe\">\n",
       "  <thead>\n",
       "    <tr style=\"text-align: right;\">\n",
       "      <th></th>\n",
       "      <th>D(Cu)</th>\n",
       "      <th>Dinv</th>\n",
       "      <th>LnFeDomains</th>\n",
       "      <th>LnDinv</th>\n",
       "      <th>FeDomains</th>\n",
       "    </tr>\n",
       "  </thead>\n",
       "  <tbody>\n",
       "    <tr>\n",
       "      <th>0</th>\n",
       "      <td>0.43</td>\n",
       "      <td>2.325581</td>\n",
       "      <td>-0.063935</td>\n",
       "      <td>0.843970</td>\n",
       "      <td>0.938066</td>\n",
       "    </tr>\n",
       "    <tr>\n",
       "      <th>1</th>\n",
       "      <td>0.32</td>\n",
       "      <td>3.125000</td>\n",
       "      <td>-0.171537</td>\n",
       "      <td>1.139434</td>\n",
       "      <td>0.842369</td>\n",
       "    </tr>\n",
       "    <tr>\n",
       "      <th>2</th>\n",
       "      <td>0.33</td>\n",
       "      <td>3.030303</td>\n",
       "      <td>-0.297457</td>\n",
       "      <td>1.108663</td>\n",
       "      <td>0.742704</td>\n",
       "    </tr>\n",
       "    <tr>\n",
       "      <th>3</th>\n",
       "      <td>0.33</td>\n",
       "      <td>3.030303</td>\n",
       "      <td>-0.565593</td>\n",
       "      <td>1.108663</td>\n",
       "      <td>0.568023</td>\n",
       "    </tr>\n",
       "    <tr>\n",
       "      <th>4</th>\n",
       "      <td>0.24</td>\n",
       "      <td>4.166667</td>\n",
       "      <td>-0.818951</td>\n",
       "      <td>1.427116</td>\n",
       "      <td>0.440894</td>\n",
       "    </tr>\n",
       "  </tbody>\n",
       "</table>\n",
       "</div>"
      ],
      "text/plain": [
       "   D(Cu)      Dinv  LnFeDomains    LnDinv  FeDomains\n",
       "0   0.43  2.325581    -0.063935  0.843970   0.938066\n",
       "1   0.32  3.125000    -0.171537  1.139434   0.842369\n",
       "2   0.33  3.030303    -0.297457  1.108663   0.742704\n",
       "3   0.33  3.030303    -0.565593  1.108663   0.568023\n",
       "4   0.24  4.166667    -0.818951  1.427116   0.440894"
      ]
     },
     "execution_count": 17,
     "metadata": {},
     "output_type": "execute_result"
    }
   ],
   "source": [
    "df2.head()"
   ]
  },
  {
   "cell_type": "code",
   "execution_count": 18,
   "metadata": {
    "scrolled": true
   },
   "outputs": [
    {
     "data": {
      "text/html": [
       "<div>\n",
       "<style scoped>\n",
       "    .dataframe tbody tr th:only-of-type {\n",
       "        vertical-align: middle;\n",
       "    }\n",
       "\n",
       "    .dataframe tbody tr th {\n",
       "        vertical-align: top;\n",
       "    }\n",
       "\n",
       "    .dataframe thead th {\n",
       "        text-align: right;\n",
       "    }\n",
       "</style>\n",
       "<table border=\"1\" class=\"dataframe\">\n",
       "  <thead>\n",
       "    <tr style=\"text-align: right;\">\n",
       "      <th></th>\n",
       "      <th>D(Cu)</th>\n",
       "      <th>Dinv</th>\n",
       "      <th>LnFeDomains</th>\n",
       "      <th>LnDinv</th>\n",
       "      <th>FeDomains</th>\n",
       "      <th>sqrtFeDomains</th>\n",
       "      <th>OneMinusFeD</th>\n",
       "    </tr>\n",
       "  </thead>\n",
       "  <tbody>\n",
       "    <tr>\n",
       "      <th>0</th>\n",
       "      <td>0.43</td>\n",
       "      <td>2.325581</td>\n",
       "      <td>-0.063935</td>\n",
       "      <td>0.843970</td>\n",
       "      <td>0.938066</td>\n",
       "      <td>0.968538</td>\n",
       "      <td>0.061934</td>\n",
       "    </tr>\n",
       "    <tr>\n",
       "      <th>1</th>\n",
       "      <td>0.32</td>\n",
       "      <td>3.125000</td>\n",
       "      <td>-0.171537</td>\n",
       "      <td>1.139434</td>\n",
       "      <td>0.842369</td>\n",
       "      <td>0.917807</td>\n",
       "      <td>0.157631</td>\n",
       "    </tr>\n",
       "    <tr>\n",
       "      <th>2</th>\n",
       "      <td>0.33</td>\n",
       "      <td>3.030303</td>\n",
       "      <td>-0.297457</td>\n",
       "      <td>1.108663</td>\n",
       "      <td>0.742704</td>\n",
       "      <td>0.861803</td>\n",
       "      <td>0.257296</td>\n",
       "    </tr>\n",
       "    <tr>\n",
       "      <th>3</th>\n",
       "      <td>0.33</td>\n",
       "      <td>3.030303</td>\n",
       "      <td>-0.565593</td>\n",
       "      <td>1.108663</td>\n",
       "      <td>0.568023</td>\n",
       "      <td>0.753673</td>\n",
       "      <td>0.431977</td>\n",
       "    </tr>\n",
       "    <tr>\n",
       "      <th>4</th>\n",
       "      <td>0.24</td>\n",
       "      <td>4.166667</td>\n",
       "      <td>-0.818951</td>\n",
       "      <td>1.427116</td>\n",
       "      <td>0.440894</td>\n",
       "      <td>0.663998</td>\n",
       "      <td>0.559106</td>\n",
       "    </tr>\n",
       "  </tbody>\n",
       "</table>\n",
       "</div>"
      ],
      "text/plain": [
       "   D(Cu)      Dinv  LnFeDomains    LnDinv  FeDomains  sqrtFeDomains  \\\n",
       "0   0.43  2.325581    -0.063935  0.843970   0.938066       0.968538   \n",
       "1   0.32  3.125000    -0.171537  1.139434   0.842369       0.917807   \n",
       "2   0.33  3.030303    -0.297457  1.108663   0.742704       0.861803   \n",
       "3   0.33  3.030303    -0.565593  1.108663   0.568023       0.753673   \n",
       "4   0.24  4.166667    -0.818951  1.427116   0.440894       0.663998   \n",
       "\n",
       "   OneMinusFeD  \n",
       "0     0.061934  \n",
       "1     0.157631  \n",
       "2     0.257296  \n",
       "3     0.431977  \n",
       "4     0.559106  "
      ]
     },
     "execution_count": 18,
     "metadata": {},
     "output_type": "execute_result"
    }
   ],
   "source": [
    "df2['sqrtFeDomains'] = np.sqrt(df2['FeDomains'])\n",
    "df2['OneMinusFeD'] = np.subtract(1,df2['FeDomains'])\n",
    "df2.head()"
   ]
  },
  {
   "cell_type": "code",
   "execution_count": 19,
   "metadata": {},
   "outputs": [],
   "source": [
    "## ya! this doesn't work, just gives a stright line\n",
    "## So, we need to plot a regressio w/o a library or just a st-line on the square-rooted data\n",
    "## Taking the square root seems much more convinient than writing the code w/o any library !! \n",
    "\n",
    "# fit = np.polyfit(df2['FeDomains'],df2['Dinv'], 0.5)\n",
    "# fit_fn = np.poly1d(fit)\n",
    "\n",
    "# plt.plot(df2['FeDomains'],df2['Dinv'], '.', np.sort(df2['FeDomains']), fit_fn(np.sort(df2['FeDomains'])), '--r', linewidth=2)\n",
    "# plt.xlabel(\"FeDomains\")\n",
    "# plt.ylabel(\"Dinv\")\n",
    "# plt.show()"
   ]
  },
  {
   "cell_type": "code",
   "execution_count": 20,
   "metadata": {},
   "outputs": [
    {
     "data": {
      "text/html": [
       "<table class=\"simpletable\">\n",
       "<caption>OLS Regression Results</caption>\n",
       "<tr>\n",
       "  <th>Dep. Variable:</th>          <td>Dinv</td>       <th>  R-squared:         </th> <td>   0.842</td>\n",
       "</tr>\n",
       "<tr>\n",
       "  <th>Model:</th>                   <td>OLS</td>       <th>  Adj. R-squared:    </th> <td>   0.838</td>\n",
       "</tr>\n",
       "<tr>\n",
       "  <th>Method:</th>             <td>Least Squares</td>  <th>  F-statistic:       </th> <td>   184.2</td>\n",
       "</tr>\n",
       "<tr>\n",
       "  <th>Date:</th>             <td>Sun, 16 Dec 2018</td> <th>  Prob (F-statistic):</th> <td>2.14e-28</td>\n",
       "</tr>\n",
       "<tr>\n",
       "  <th>Time:</th>                 <td>16:50:31</td>     <th>  Log-Likelihood:    </th> <td> -116.77</td>\n",
       "</tr>\n",
       "<tr>\n",
       "  <th>No. Observations:</th>      <td>    72</td>      <th>  AIC:               </th> <td>   239.5</td>\n",
       "</tr>\n",
       "<tr>\n",
       "  <th>Df Residuals:</th>          <td>    69</td>      <th>  BIC:               </th> <td>   246.4</td>\n",
       "</tr>\n",
       "<tr>\n",
       "  <th>Df Model:</th>              <td>     2</td>      <th>                     </th>     <td> </td>   \n",
       "</tr>\n",
       "<tr>\n",
       "  <th>Covariance Type:</th>      <td>nonrobust</td>    <th>                     </th>     <td> </td>   \n",
       "</tr>\n",
       "</table>\n",
       "<table class=\"simpletable\">\n",
       "<tr>\n",
       "        <td></td>           <th>coef</th>     <th>std err</th>      <th>t</th>      <th>P>|t|</th>  <th>[0.025</th>    <th>0.975]</th>  \n",
       "</tr>\n",
       "<tr>\n",
       "  <th>Intercept</th>     <td>   40.4117</td> <td>    2.781</td> <td>   14.532</td> <td> 0.000</td> <td>   34.864</td> <td>   45.959</td>\n",
       "</tr>\n",
       "<tr>\n",
       "  <th>FeDomains</th>     <td>   52.3154</td> <td>    5.440</td> <td>    9.617</td> <td> 0.000</td> <td>   41.463</td> <td>   63.168</td>\n",
       "</tr>\n",
       "<tr>\n",
       "  <th>sqrtFeDomains</th> <td>  -90.5812</td> <td>    7.953</td> <td>  -11.390</td> <td> 0.000</td> <td> -106.447</td> <td>  -74.716</td>\n",
       "</tr>\n",
       "</table>\n",
       "<table class=\"simpletable\">\n",
       "<tr>\n",
       "  <th>Omnibus:</th>       <td> 7.058</td> <th>  Durbin-Watson:     </th> <td>   1.167</td>\n",
       "</tr>\n",
       "<tr>\n",
       "  <th>Prob(Omnibus):</th> <td> 0.029</td> <th>  Jarque-Bera (JB):  </th> <td>  12.746</td>\n",
       "</tr>\n",
       "<tr>\n",
       "  <th>Skew:</th>          <td> 0.083</td> <th>  Prob(JB):          </th> <td> 0.00171</td>\n",
       "</tr>\n",
       "<tr>\n",
       "  <th>Kurtosis:</th>      <td> 5.055</td> <th>  Cond. No.          </th> <td>    99.2</td>\n",
       "</tr>\n",
       "</table><br/><br/>Warnings:<br/>[1] Standard Errors assume that the covariance matrix of the errors is correctly specified."
      ],
      "text/plain": [
       "<class 'statsmodels.iolib.summary.Summary'>\n",
       "\"\"\"\n",
       "                            OLS Regression Results                            \n",
       "==============================================================================\n",
       "Dep. Variable:                   Dinv   R-squared:                       0.842\n",
       "Model:                            OLS   Adj. R-squared:                  0.838\n",
       "Method:                 Least Squares   F-statistic:                     184.2\n",
       "Date:                Sun, 16 Dec 2018   Prob (F-statistic):           2.14e-28\n",
       "Time:                        16:50:31   Log-Likelihood:                -116.77\n",
       "No. Observations:                  72   AIC:                             239.5\n",
       "Df Residuals:                      69   BIC:                             246.4\n",
       "Df Model:                           2                                         \n",
       "Covariance Type:            nonrobust                                         \n",
       "=================================================================================\n",
       "                    coef    std err          t      P>|t|      [0.025      0.975]\n",
       "---------------------------------------------------------------------------------\n",
       "Intercept        40.4117      2.781     14.532      0.000      34.864      45.959\n",
       "FeDomains        52.3154      5.440      9.617      0.000      41.463      63.168\n",
       "sqrtFeDomains   -90.5812      7.953    -11.390      0.000    -106.447     -74.716\n",
       "==============================================================================\n",
       "Omnibus:                        7.058   Durbin-Watson:                   1.167\n",
       "Prob(Omnibus):                  0.029   Jarque-Bera (JB):               12.746\n",
       "Skew:                           0.083   Prob(JB):                      0.00171\n",
       "Kurtosis:                       5.055   Cond. No.                         99.2\n",
       "==============================================================================\n",
       "\n",
       "Warnings:\n",
       "[1] Standard Errors assume that the covariance matrix of the errors is correctly specified.\n",
       "\"\"\""
      ]
     },
     "execution_count": 20,
     "metadata": {},
     "output_type": "execute_result"
    }
   ],
   "source": [
    "est = smf.ols('Dinv ~ FeDomains + sqrtFeDomains', df2).fit()\n",
    "est.summary()"
   ]
  },
  {
   "cell_type": "code",
   "execution_count": 21,
   "metadata": {},
   "outputs": [
    {
     "name": "stdout",
     "output_type": "stream",
     "text": [
      "regr_coeff : [ 52.31543059 -90.58121186]\n",
      "regr_intercept : 40.41165509917685\n",
      "regr_score : 0.8422477831659844\n"
     ]
    },
    {
     "data": {
      "text/plain": [
       "<matplotlib.axes._subplots.AxesSubplot at 0x175addff438>"
      ]
     },
     "execution_count": 21,
     "metadata": {},
     "output_type": "execute_result"
    },
    {
     "data": {
      "image/png": "[encoded data removed]",
      "text/plain": [
       "<Figure size 432x288 with 1 Axes>"
      ]
     },
     "metadata": {
      "needs_background": "light"
     },
     "output_type": "display_data"
    }
   ],
   "source": [
    "regr = skl_lm.LinearRegression()\n",
    "\n",
    "# Linear fit\n",
    "Xsqrt = df2[['FeDomains','sqrtFeDomains']].values\n",
    "ysqrt = df2['Dinv']\n",
    "regr.fit(Xsqrt, ysqrt)\n",
    "print('regr_coeff :',regr.coef_)\n",
    "print('regr_intercept :',regr.intercept_)\n",
    "print('regr_score :',regr.score(Xsqrt,ysqrt))\n",
    "\n",
    "df2['predSqrt'] = regr.predict(Xsqrt)\n",
    "df2['residSqrt'] = df2.Dinv - df2.predSqrt\n",
    "\n",
    "sns.regplot(df2['residSqrt'],df2['predSqrt'], lowess=True, color='green')"
   ]
  },
  {
   "cell_type": "markdown",
   "metadata": {},
   "source": [
    "Now, the sqrt model is definately **rejected** with this much non-linearity in the relationship."
   ]
  },
  {
   "cell_type": "markdown",
   "metadata": {},
   "source": [
    "### (D) Trying log of x"
   ]
  },
  {
   "cell_type": "code",
   "execution_count": 22,
   "metadata": {},
   "outputs": [
    {
     "name": "stderr",
     "output_type": "stream",
     "text": [
      "C:\\Users\\LENOVO\\Anaconda3\\lib\\site-packages\\scipy\\stats\\stats.py:1713: FutureWarning: Using a non-tuple sequence for multidimensional indexing is deprecated; use `arr[tuple(seq)]` instead of `arr[seq]`. In the future this will be interpreted as an array index, `arr[np.array(seq)]`, which will result either in an error or a different result.\n",
      "  return np.add.reduce(sorted[indexer] * weights, axis=axis) / sumval\n"
     ]
    },
    {
     "data": {
      "image/png": "[encoded data removed]",
      "text/plain": [
       "<Figure size 360x360 with 1 Axes>"
      ]
     },
     "metadata": {
      "needs_background": "light"
     },
     "output_type": "display_data"
    }
   ],
   "source": [
    "sns.lmplot(x='LnFeDomains', y='Dinv', data=df2)\n",
    "plt.show()"
   ]
  },
  {
   "cell_type": "code",
   "execution_count": 23,
   "metadata": {},
   "outputs": [
    {
     "data": {
      "text/html": [
       "<table class=\"simpletable\">\n",
       "<caption>OLS Regression Results</caption>\n",
       "<tr>\n",
       "  <th>Dep. Variable:</th>          <td>Dinv</td>       <th>  R-squared:         </th> <td>   0.721</td>\n",
       "</tr>\n",
       "<tr>\n",
       "  <th>Model:</th>                   <td>OLS</td>       <th>  Adj. R-squared:    </th> <td>   0.718</td>\n",
       "</tr>\n",
       "<tr>\n",
       "  <th>Method:</th>             <td>Least Squares</td>  <th>  F-statistic:       </th> <td>   181.3</td>\n",
       "</tr>\n",
       "<tr>\n",
       "  <th>Date:</th>             <td>Sun, 16 Dec 2018</td> <th>  Prob (F-statistic):</th> <td>4.13e-21</td>\n",
       "</tr>\n",
       "<tr>\n",
       "  <th>Time:</th>                 <td>16:50:32</td>     <th>  Log-Likelihood:    </th> <td> -137.24</td>\n",
       "</tr>\n",
       "<tr>\n",
       "  <th>No. Observations:</th>      <td>    72</td>      <th>  AIC:               </th> <td>   278.5</td>\n",
       "</tr>\n",
       "<tr>\n",
       "  <th>Df Residuals:</th>          <td>    70</td>      <th>  BIC:               </th> <td>   283.0</td>\n",
       "</tr>\n",
       "<tr>\n",
       "  <th>Df Model:</th>              <td>     1</td>      <th>                     </th>     <td> </td>   \n",
       "</tr>\n",
       "<tr>\n",
       "  <th>Covariance Type:</th>      <td>nonrobust</td>    <th>                     </th>     <td> </td>   \n",
       "</tr>\n",
       "</table>\n",
       "<table class=\"simpletable\">\n",
       "<tr>\n",
       "       <td></td>          <th>coef</th>     <th>std err</th>      <th>t</th>      <th>P>|t|</th>  <th>[0.025</th>    <th>0.975]</th>  \n",
       "</tr>\n",
       "<tr>\n",
       "  <th>Intercept</th>   <td>    0.2343</td> <td>    0.277</td> <td>    0.845</td> <td> 0.401</td> <td>   -0.319</td> <td>    0.787</td>\n",
       "</tr>\n",
       "<tr>\n",
       "  <th>LnFeDomains</th> <td>   -5.3741</td> <td>    0.399</td> <td>  -13.466</td> <td> 0.000</td> <td>   -6.170</td> <td>   -4.578</td>\n",
       "</tr>\n",
       "</table>\n",
       "<table class=\"simpletable\">\n",
       "<tr>\n",
       "  <th>Omnibus:</th>       <td>26.178</td> <th>  Durbin-Watson:     </th> <td>   0.913</td>\n",
       "</tr>\n",
       "<tr>\n",
       "  <th>Prob(Omnibus):</th> <td> 0.000</td> <th>  Jarque-Bera (JB):  </th> <td>  54.571</td>\n",
       "</tr>\n",
       "<tr>\n",
       "  <th>Skew:</th>          <td> 1.222</td> <th>  Prob(JB):          </th> <td>1.41e-12</td>\n",
       "</tr>\n",
       "<tr>\n",
       "  <th>Kurtosis:</th>      <td> 6.495</td> <th>  Cond. No.          </th> <td>    2.67</td>\n",
       "</tr>\n",
       "</table><br/><br/>Warnings:<br/>[1] Standard Errors assume that the covariance matrix of the errors is correctly specified."
      ],
      "text/plain": [
       "<class 'statsmodels.iolib.summary.Summary'>\n",
       "\"\"\"\n",
       "                            OLS Regression Results                            \n",
       "==============================================================================\n",
       "Dep. Variable:                   Dinv   R-squared:                       0.721\n",
       "Model:                            OLS   Adj. R-squared:                  0.718\n",
       "Method:                 Least Squares   F-statistic:                     181.3\n",
       "Date:                Sun, 16 Dec 2018   Prob (F-statistic):           4.13e-21\n",
       "Time:                        16:50:32   Log-Likelihood:                -137.24\n",
       "No. Observations:                  72   AIC:                             278.5\n",
       "Df Residuals:                      70   BIC:                             283.0\n",
       "Df Model:                           1                                         \n",
       "Covariance Type:            nonrobust                                         \n",
       "===============================================================================\n",
       "                  coef    std err          t      P>|t|      [0.025      0.975]\n",
       "-------------------------------------------------------------------------------\n",
       "Intercept       0.2343      0.277      0.845      0.401      -0.319       0.787\n",
       "LnFeDomains    -5.3741      0.399    -13.466      0.000      -6.170      -4.578\n",
       "==============================================================================\n",
       "Omnibus:                       26.178   Durbin-Watson:                   0.913\n",
       "Prob(Omnibus):                  0.000   Jarque-Bera (JB):               54.571\n",
       "Skew:                           1.222   Prob(JB):                     1.41e-12\n",
       "Kurtosis:                       6.495   Cond. No.                         2.67\n",
       "==============================================================================\n",
       "\n",
       "Warnings:\n",
       "[1] Standard Errors assume that the covariance matrix of the errors is correctly specified.\n",
       "\"\"\""
      ]
     },
     "execution_count": 23,
     "metadata": {},
     "output_type": "execute_result"
    }
   ],
   "source": [
    "est = smf.ols('Dinv ~ LnFeDomains', df2).fit()\n",
    "est.summary()"
   ]
  },
  {
   "cell_type": "markdown",
   "metadata": {},
   "source": [
    "**Significant p-value of the intercept.**"
   ]
  },
  {
   "cell_type": "markdown",
   "metadata": {},
   "source": [
    "**Need to deal with high p-value ~~~**"
   ]
  },
  {
   "cell_type": "markdown",
   "metadata": {},
   "source": [
    "This might be due to the high levarage points."
   ]
  },
  {
   "cell_type": "code",
   "execution_count": 24,
   "metadata": {},
   "outputs": [
    {
     "data": {
      "image/png": "[encoded data removed]",
      "text/plain": [
       "<Figure size 432x288 with 1 Axes>"
      ]
     },
     "metadata": {
      "needs_background": "light"
     },
     "output_type": "display_data"
    }
   ],
   "source": [
    "sns.residplot(x='LnFeDomains', y='Dinv', lowess=True, order = 1,data=df2, color='green')\n",
    "plt.show()"
   ]
  },
  {
   "cell_type": "markdown",
   "metadata": {},
   "source": [
    "Here the regression line of the residual plot looks better than the squared model(B). The residual curve for the linear model(A) might look better than model(D) at first glance but model(A) has a different axis than this(D) and actually that one(A) is very similar to this one. But this might also be due to outliers. W/o the outliers the regression plot of residuals of model(D) will be worse."
   ]
  },
  {
   "cell_type": "markdown",
   "metadata": {},
   "source": [
    "This fit suffers from heteroscedasticity"
   ]
  },
  {
   "cell_type": "markdown",
   "metadata": {},
   "source": [
    "1) PR relationship seems to be linear"
   ]
  },
  {
   "cell_type": "markdown",
   "metadata": {},
   "source": [
    "2) R2 is decent"
   ]
  },
  {
   "cell_type": "markdown",
   "metadata": {},
   "source": [
    "///////////////3)Error terms are correlated."
   ]
  },
  {
   "cell_type": "markdown",
   "metadata": {},
   "source": [
    "4)Sort-of heteroscedastic"
   ]
  },
  {
   "cell_type": "markdown",
   "metadata": {},
   "source": [
    "**Taking log of response to remove heteroscedasticity**"
   ]
  },
  {
   "cell_type": "code",
   "execution_count": 25,
   "metadata": {},
   "outputs": [
    {
     "data": {
      "image/png": "[encoded data removed]",
      "text/plain": [
       "<Figure size 432x288 with 1 Axes>"
      ]
     },
     "metadata": {
      "needs_background": "light"
     },
     "output_type": "display_data"
    }
   ],
   "source": [
    "sns.residplot(x='LnFeDomains', y='LnDinv', lowess=True, order = 1,data=df2, color='green')\n",
    "plt.show()"
   ]
  },
  {
   "cell_type": "markdown",
   "metadata": {},
   "source": [
    "Can't comment on heteroscedasticty, on this curve, this might just be because of too few data points."
   ]
  },
  {
   "cell_type": "code",
   "execution_count": 26,
   "metadata": {},
   "outputs": [
    {
     "name": "stderr",
     "output_type": "stream",
     "text": [
      "C:\\Users\\LENOVO\\Anaconda3\\lib\\site-packages\\scipy\\stats\\stats.py:1713: FutureWarning: Using a non-tuple sequence for multidimensional indexing is deprecated; use `arr[tuple(seq)]` instead of `arr[seq]`. In the future this will be interpreted as an array index, `arr[np.array(seq)]`, which will result either in an error or a different result.\n",
      "  return np.add.reduce(sorted[indexer] * weights, axis=axis) / sumval\n"
     ]
    },
    {
     "data": {
      "image/png": "[encoded data removed]",
      "text/plain": [
       "<Figure size 360x360 with 1 Axes>"
      ]
     },
     "metadata": {
      "needs_background": "light"
     },
     "output_type": "display_data"
    }
   ],
   "source": [
    "sns.lmplot(x='LnFeDomains', y='LnDinv', data=df2)\n",
    "plt.show()"
   ]
  },
  {
   "cell_type": "markdown",
   "metadata": {},
   "source": [
    "Now this definately looks a better fit than its predecessor"
   ]
  },
  {
   "cell_type": "code",
   "execution_count": 27,
   "metadata": {},
   "outputs": [
    {
     "data": {
      "text/html": [
       "<table class=\"simpletable\">\n",
       "<caption>OLS Regression Results</caption>\n",
       "<tr>\n",
       "  <th>Dep. Variable:</th>         <td>LnDinv</td>      <th>  R-squared:         </th> <td>   0.670</td>\n",
       "</tr>\n",
       "<tr>\n",
       "  <th>Model:</th>                   <td>OLS</td>       <th>  Adj. R-squared:    </th> <td>   0.666</td>\n",
       "</tr>\n",
       "<tr>\n",
       "  <th>Method:</th>             <td>Least Squares</td>  <th>  F-statistic:       </th> <td>   142.4</td>\n",
       "</tr>\n",
       "<tr>\n",
       "  <th>Date:</th>             <td>Sun, 16 Dec 2018</td> <th>  Prob (F-statistic):</th> <td>1.54e-18</td>\n",
       "</tr>\n",
       "<tr>\n",
       "  <th>Time:</th>                 <td>16:50:33</td>     <th>  Log-Likelihood:    </th> <td> -44.046</td>\n",
       "</tr>\n",
       "<tr>\n",
       "  <th>No. Observations:</th>      <td>    72</td>      <th>  AIC:               </th> <td>   92.09</td>\n",
       "</tr>\n",
       "<tr>\n",
       "  <th>Df Residuals:</th>          <td>    70</td>      <th>  BIC:               </th> <td>   96.64</td>\n",
       "</tr>\n",
       "<tr>\n",
       "  <th>Df Model:</th>              <td>     1</td>      <th>                     </th>     <td> </td>   \n",
       "</tr>\n",
       "<tr>\n",
       "  <th>Covariance Type:</th>      <td>nonrobust</td>    <th>                     </th>     <td> </td>   \n",
       "</tr>\n",
       "</table>\n",
       "<table class=\"simpletable\">\n",
       "<tr>\n",
       "       <td></td>          <th>coef</th>     <th>std err</th>      <th>t</th>      <th>P>|t|</th>  <th>[0.025</th>    <th>0.975]</th>  \n",
       "</tr>\n",
       "<tr>\n",
       "  <th>Intercept</th>   <td>    0.0696</td> <td>    0.076</td> <td>    0.916</td> <td> 0.363</td> <td>   -0.082</td> <td>    0.221</td>\n",
       "</tr>\n",
       "<tr>\n",
       "  <th>LnFeDomains</th> <td>   -1.3054</td> <td>    0.109</td> <td>  -11.934</td> <td> 0.000</td> <td>   -1.524</td> <td>   -1.087</td>\n",
       "</tr>\n",
       "</table>\n",
       "<table class=\"simpletable\">\n",
       "<tr>\n",
       "  <th>Omnibus:</th>       <td> 6.467</td> <th>  Durbin-Watson:     </th> <td>   0.526</td>\n",
       "</tr>\n",
       "<tr>\n",
       "  <th>Prob(Omnibus):</th> <td> 0.039</td> <th>  Jarque-Bera (JB):  </th> <td>   2.802</td>\n",
       "</tr>\n",
       "<tr>\n",
       "  <th>Skew:</th>          <td>-0.163</td> <th>  Prob(JB):          </th> <td>   0.246</td>\n",
       "</tr>\n",
       "<tr>\n",
       "  <th>Kurtosis:</th>      <td> 2.090</td> <th>  Cond. No.          </th> <td>    2.67</td>\n",
       "</tr>\n",
       "</table><br/><br/>Warnings:<br/>[1] Standard Errors assume that the covariance matrix of the errors is correctly specified."
      ],
      "text/plain": [
       "<class 'statsmodels.iolib.summary.Summary'>\n",
       "\"\"\"\n",
       "                            OLS Regression Results                            \n",
       "==============================================================================\n",
       "Dep. Variable:                 LnDinv   R-squared:                       0.670\n",
       "Model:                            OLS   Adj. R-squared:                  0.666\n",
       "Method:                 Least Squares   F-statistic:                     142.4\n",
       "Date:                Sun, 16 Dec 2018   Prob (F-statistic):           1.54e-18\n",
       "Time:                        16:50:33   Log-Likelihood:                -44.046\n",
       "No. Observations:                  72   AIC:                             92.09\n",
       "Df Residuals:                      70   BIC:                             96.64\n",
       "Df Model:                           1                                         \n",
       "Covariance Type:            nonrobust                                         \n",
       "===============================================================================\n",
       "                  coef    std err          t      P>|t|      [0.025      0.975]\n",
       "-------------------------------------------------------------------------------\n",
       "Intercept       0.0696      0.076      0.916      0.363      -0.082       0.221\n",
       "LnFeDomains    -1.3054      0.109    -11.934      0.000      -1.524      -1.087\n",
       "==============================================================================\n",
       "Omnibus:                        6.467   Durbin-Watson:                   0.526\n",
       "Prob(Omnibus):                  0.039   Jarque-Bera (JB):                2.802\n",
       "Skew:                          -0.163   Prob(JB):                        0.246\n",
       "Kurtosis:                       2.090   Cond. No.                         2.67\n",
       "==============================================================================\n",
       "\n",
       "Warnings:\n",
       "[1] Standard Errors assume that the covariance matrix of the errors is correctly specified.\n",
       "\"\"\""
      ]
     },
     "execution_count": 27,
     "metadata": {},
     "output_type": "execute_result"
    }
   ],
   "source": [
    "est = smf.ols('LnDinv ~ LnFeDomains', df2).fit()\n",
    "est.summary()"
   ]
  },
  {
   "cell_type": "markdown",
   "metadata": {},
   "source": [
    "Surprisingly, the value of **r2 has decreased.** Also there is a **significant p-value of the intercept.**"
   ]
  },
  {
   "cell_type": "markdown",
   "metadata": {},
   "source": [
    "**NEED TO DEAL WITH THE INTERCEPT TERM**"
   ]
  },
  {
   "cell_type": "code",
   "execution_count": null,
   "metadata": {},
   "outputs": [],
   "source": []
  },
  {
   "cell_type": "markdown",
   "metadata": {},
   "source": [
    "### (E) Checking for hyperbola"
   ]
  },
  {
   "cell_type": "code",
   "execution_count": 28,
   "metadata": {},
   "outputs": [
    {
     "data": {
      "text/html": [
       "<div>\n",
       "<style scoped>\n",
       "    .dataframe tbody tr th:only-of-type {\n",
       "        vertical-align: middle;\n",
       "    }\n",
       "\n",
       "    .dataframe tbody tr th {\n",
       "        vertical-align: top;\n",
       "    }\n",
       "\n",
       "    .dataframe thead th {\n",
       "        text-align: right;\n",
       "    }\n",
       "</style>\n",
       "<table border=\"1\" class=\"dataframe\">\n",
       "  <thead>\n",
       "    <tr style=\"text-align: right;\">\n",
       "      <th></th>\n",
       "      <th>D(Cu)</th>\n",
       "      <th>Dinv</th>\n",
       "      <th>LnFeDomains</th>\n",
       "      <th>LnDinv</th>\n",
       "      <th>FeDomains</th>\n",
       "      <th>sqrtFeDomains</th>\n",
       "      <th>OneMinusFeD</th>\n",
       "      <th>predSqrt</th>\n",
       "      <th>residSqrt</th>\n",
       "      <th>FeDomainsInv</th>\n",
       "    </tr>\n",
       "  </thead>\n",
       "  <tbody>\n",
       "    <tr>\n",
       "      <th>0</th>\n",
       "      <td>0.43</td>\n",
       "      <td>2.325581</td>\n",
       "      <td>-0.063935</td>\n",
       "      <td>0.843970</td>\n",
       "      <td>0.938066</td>\n",
       "      <td>0.968538</td>\n",
       "      <td>0.061934</td>\n",
       "      <td>1.755631</td>\n",
       "      <td>0.569950</td>\n",
       "      <td>1.066023</td>\n",
       "    </tr>\n",
       "    <tr>\n",
       "      <th>1</th>\n",
       "      <td>0.32</td>\n",
       "      <td>3.125000</td>\n",
       "      <td>-0.171537</td>\n",
       "      <td>1.139434</td>\n",
       "      <td>0.842369</td>\n",
       "      <td>0.917807</td>\n",
       "      <td>0.157631</td>\n",
       "      <td>1.344516</td>\n",
       "      <td>1.780484</td>\n",
       "      <td>1.187128</td>\n",
       "    </tr>\n",
       "    <tr>\n",
       "      <th>2</th>\n",
       "      <td>0.33</td>\n",
       "      <td>3.030303</td>\n",
       "      <td>-0.297457</td>\n",
       "      <td>1.108663</td>\n",
       "      <td>0.742704</td>\n",
       "      <td>0.861803</td>\n",
       "      <td>0.257296</td>\n",
       "      <td>1.203396</td>\n",
       "      <td>1.826907</td>\n",
       "      <td>1.346431</td>\n",
       "    </tr>\n",
       "    <tr>\n",
       "      <th>3</th>\n",
       "      <td>0.33</td>\n",
       "      <td>3.030303</td>\n",
       "      <td>-0.565593</td>\n",
       "      <td>1.108663</td>\n",
       "      <td>0.568023</td>\n",
       "      <td>0.753673</td>\n",
       "      <td>0.431977</td>\n",
       "      <td>1.859406</td>\n",
       "      <td>1.170897</td>\n",
       "      <td>1.760491</td>\n",
       "    </tr>\n",
       "    <tr>\n",
       "      <th>4</th>\n",
       "      <td>0.24</td>\n",
       "      <td>4.166667</td>\n",
       "      <td>-0.818951</td>\n",
       "      <td>1.427116</td>\n",
       "      <td>0.440894</td>\n",
       "      <td>0.663998</td>\n",
       "      <td>0.559106</td>\n",
       "      <td>3.331429</td>\n",
       "      <td>0.835238</td>\n",
       "      <td>2.268120</td>\n",
       "    </tr>\n",
       "  </tbody>\n",
       "</table>\n",
       "</div>"
      ],
      "text/plain": [
       "   D(Cu)      Dinv  LnFeDomains    LnDinv  FeDomains  sqrtFeDomains  \\\n",
       "0   0.43  2.325581    -0.063935  0.843970   0.938066       0.968538   \n",
       "1   0.32  3.125000    -0.171537  1.139434   0.842369       0.917807   \n",
       "2   0.33  3.030303    -0.297457  1.108663   0.742704       0.861803   \n",
       "3   0.33  3.030303    -0.565593  1.108663   0.568023       0.753673   \n",
       "4   0.24  4.166667    -0.818951  1.427116   0.440894       0.663998   \n",
       "\n",
       "   OneMinusFeD  predSqrt  residSqrt  FeDomainsInv  \n",
       "0     0.061934  1.755631   0.569950      1.066023  \n",
       "1     0.157631  1.344516   1.780484      1.187128  \n",
       "2     0.257296  1.203396   1.826907      1.346431  \n",
       "3     0.431977  1.859406   1.170897      1.760491  \n",
       "4     0.559106  3.331429   0.835238      2.268120  "
      ]
     },
     "execution_count": 28,
     "metadata": {},
     "output_type": "execute_result"
    }
   ],
   "source": [
    "df2['FeDomainsInv'] = np.reciprocal(df2['FeDomains'])\n",
    "df2.head()"
   ]
  },
  {
   "cell_type": "code",
   "execution_count": 29,
   "metadata": {},
   "outputs": [
    {
     "name": "stdout",
     "output_type": "stream",
     "text": [
      "popt:  [ 2.25439987 -1.37874726]\n",
      "pcov:  [[ 0.01133316 -0.02148365]\n",
      " [-0.02148365  0.05907179]]\n"
     ]
    },
    {
     "data": {
      "image/png": "[encoded data removed]",
      "text/plain": [
       "<Figure size 432x288 with 1 Axes>"
      ]
     },
     "metadata": {
      "needs_background": "light"
     },
     "output_type": "display_data"
    }
   ],
   "source": [
    "def hyperbola(t,a,b):\n",
    "    return a*t + b\n",
    "\n",
    "popt, pcov = curve_fit(hyperbola, df2['FeDomainsInv'], df2['Dinv'])\n",
    "\n",
    "print('popt: ',popt)\n",
    "print('pcov: ',pcov)\n",
    "\n",
    "\n",
    "plt.plot(df2['FeDomainsInv'], hyperbola(df2['FeDomainsInv'], *popt), '.', )\n",
    "\n",
    "plt.plot(df2['FeDomainsInv'],df2['Dinv'], marker='o', linestyle='none',  color='green')\n",
    "\n",
    "plt.xlabel('FeDomainsinv')\n",
    "plt.ylabel('Dinv')\n",
    "plt.legend()\n",
    "plt.show()"
   ]
  },
  {
   "cell_type": "code",
   "execution_count": 30,
   "metadata": {},
   "outputs": [
    {
     "data": {
      "text/html": [
       "<table class=\"simpletable\">\n",
       "<caption>OLS Regression Results</caption>\n",
       "<tr>\n",
       "  <th>Dep. Variable:</th>          <td>Dinv</td>       <th>  R-squared:         </th> <td>   0.865</td>\n",
       "</tr>\n",
       "<tr>\n",
       "  <th>Model:</th>                   <td>OLS</td>       <th>  Adj. R-squared:    </th> <td>   0.863</td>\n",
       "</tr>\n",
       "<tr>\n",
       "  <th>Method:</th>             <td>Least Squares</td>  <th>  F-statistic:       </th> <td>   448.4</td>\n",
       "</tr>\n",
       "<tr>\n",
       "  <th>Date:</th>             <td>Sun, 16 Dec 2018</td> <th>  Prob (F-statistic):</th> <td>3.73e-32</td>\n",
       "</tr>\n",
       "<tr>\n",
       "  <th>Time:</th>                 <td>16:50:34</td>     <th>  Log-Likelihood:    </th> <td> -111.17</td>\n",
       "</tr>\n",
       "<tr>\n",
       "  <th>No. Observations:</th>      <td>    72</td>      <th>  AIC:               </th> <td>   226.3</td>\n",
       "</tr>\n",
       "<tr>\n",
       "  <th>Df Residuals:</th>          <td>    70</td>      <th>  BIC:               </th> <td>   230.9</td>\n",
       "</tr>\n",
       "<tr>\n",
       "  <th>Df Model:</th>              <td>     1</td>      <th>                     </th>     <td> </td>   \n",
       "</tr>\n",
       "<tr>\n",
       "  <th>Covariance Type:</th>      <td>nonrobust</td>    <th>                     </th>     <td> </td>   \n",
       "</tr>\n",
       "</table>\n",
       "<table class=\"simpletable\">\n",
       "<tr>\n",
       "        <td></td>          <th>coef</th>     <th>std err</th>      <th>t</th>      <th>P>|t|</th>  <th>[0.025</th>    <th>0.975]</th>  \n",
       "</tr>\n",
       "<tr>\n",
       "  <th>Intercept</th>    <td>   -1.3787</td> <td>    0.243</td> <td>   -5.673</td> <td> 0.000</td> <td>   -1.863</td> <td>   -0.894</td>\n",
       "</tr>\n",
       "<tr>\n",
       "  <th>FeDomainsInv</th> <td>    2.2544</td> <td>    0.106</td> <td>   21.177</td> <td> 0.000</td> <td>    2.042</td> <td>    2.467</td>\n",
       "</tr>\n",
       "</table>\n",
       "<table class=\"simpletable\">\n",
       "<tr>\n",
       "  <th>Omnibus:</th>       <td> 1.829</td> <th>  Durbin-Watson:     </th> <td>   1.059</td>\n",
       "</tr>\n",
       "<tr>\n",
       "  <th>Prob(Omnibus):</th> <td> 0.401</td> <th>  Jarque-Bera (JB):  </th> <td>   1.172</td>\n",
       "</tr>\n",
       "<tr>\n",
       "  <th>Skew:</th>          <td>-0.126</td> <th>  Prob(JB):          </th> <td>   0.557</td>\n",
       "</tr>\n",
       "<tr>\n",
       "  <th>Kurtosis:</th>      <td> 3.572</td> <th>  Cond. No.          </th> <td>    4.67</td>\n",
       "</tr>\n",
       "</table><br/><br/>Warnings:<br/>[1] Standard Errors assume that the covariance matrix of the errors is correctly specified."
      ],
      "text/plain": [
       "<class 'statsmodels.iolib.summary.Summary'>\n",
       "\"\"\"\n",
       "                            OLS Regression Results                            \n",
       "==============================================================================\n",
       "Dep. Variable:                   Dinv   R-squared:                       0.865\n",
       "Model:                            OLS   Adj. R-squared:                  0.863\n",
       "Method:                 Least Squares   F-statistic:                     448.4\n",
       "Date:                Sun, 16 Dec 2018   Prob (F-statistic):           3.73e-32\n",
       "Time:                        16:50:34   Log-Likelihood:                -111.17\n",
       "No. Observations:                  72   AIC:                             226.3\n",
       "Df Residuals:                      70   BIC:                             230.9\n",
       "Df Model:                           1                                         \n",
       "Covariance Type:            nonrobust                                         \n",
       "================================================================================\n",
       "                   coef    std err          t      P>|t|      [0.025      0.975]\n",
       "--------------------------------------------------------------------------------\n",
       "Intercept       -1.3787      0.243     -5.673      0.000      -1.863      -0.894\n",
       "FeDomainsInv     2.2544      0.106     21.177      0.000       2.042       2.467\n",
       "==============================================================================\n",
       "Omnibus:                        1.829   Durbin-Watson:                   1.059\n",
       "Prob(Omnibus):                  0.401   Jarque-Bera (JB):                1.172\n",
       "Skew:                          -0.126   Prob(JB):                        0.557\n",
       "Kurtosis:                       3.572   Cond. No.                         4.67\n",
       "==============================================================================\n",
       "\n",
       "Warnings:\n",
       "[1] Standard Errors assume that the covariance matrix of the errors is correctly specified.\n",
       "\"\"\""
      ]
     },
     "execution_count": 30,
     "metadata": {},
     "output_type": "execute_result"
    }
   ],
   "source": [
    "est = smf.ols('Dinv ~ FeDomainsInv', df2).fit()\n",
    "est.summary()"
   ]
  },
  {
   "cell_type": "code",
   "execution_count": 31,
   "metadata": {},
   "outputs": [
    {
     "data": {
      "image/png": "[encoded data removed]",
      "text/plain": [
       "<Figure size 432x288 with 1 Axes>"
      ]
     },
     "metadata": {
      "needs_background": "light"
     },
     "output_type": "display_data"
    }
   ],
   "source": [
    "sns.residplot(x='FeDomainsInv', y='Dinv', lowess=True, order = 1,data=df2, color='green')\n",
    "plt.show()"
   ]
  },
  {
   "cell_type": "markdown",
   "metadata": {},
   "source": [
    "Value of R^2 has also increased significantly."
   ]
  },
  {
   "cell_type": "markdown",
   "metadata": {},
   "source": [
    "**heteroscedastic**"
   ]
  },
  {
   "cell_type": "markdown",
   "metadata": {},
   "source": [
    "Introducing LnDinv to deal with heteroscedasticity"
   ]
  },
  {
   "cell_type": "code",
   "execution_count": 32,
   "metadata": {},
   "outputs": [
    {
     "data": {
      "image/png": "[encoded data removed]",
      "text/plain": [
       "<Figure size 432x288 with 1 Axes>"
      ]
     },
     "metadata": {
      "needs_background": "light"
     },
     "output_type": "display_data"
    }
   ],
   "source": [
    "sns.residplot(x='FeDomainsInv', y='LnDinv', lowess=True, order = 1,data=df2, color='green')\n",
    "plt.show()"
   ]
  },
  {
   "cell_type": "markdown",
   "metadata": {},
   "source": [
    "Non-linearity in the PR relationship visible"
   ]
  },
  {
   "cell_type": "code",
   "execution_count": 33,
   "metadata": {},
   "outputs": [
    {
     "name": "stdout",
     "output_type": "stream",
     "text": [
      "popt:  [ 0.49400187 -0.22060662]\n",
      "pcov:  [[ 0.0018433  -0.00349425]\n",
      " [-0.00349425  0.00960785]]\n"
     ]
    },
    {
     "data": {
      "image/png": "[encoded data removed]",
      "text/plain": [
       "<Figure size 432x288 with 1 Axes>"
      ]
     },
     "metadata": {
      "needs_background": "light"
     },
     "output_type": "display_data"
    }
   ],
   "source": [
    "popt, pcov = curve_fit(hyperbola, df2['FeDomainsInv'], df2['LnDinv'])\n",
    "\n",
    "print('popt: ',popt)\n",
    "print('pcov: ',pcov)\n",
    "\n",
    "\n",
    "plt.plot(df2['FeDomainsInv'], hyperbola(df2['FeDomainsInv'], *popt), '.', )\n",
    "\n",
    "plt.plot(df2['FeDomainsInv'],df2['LnDinv'], marker='o', linestyle='none',  color='green')\n",
    "\n",
    "plt.xlabel('FeDomainsinv')\n",
    "plt.ylabel('LnDinv')\n",
    "plt.legend()\n",
    "plt.show()"
   ]
  },
  {
   "cell_type": "code",
   "execution_count": 34,
   "metadata": {},
   "outputs": [
    {
     "data": {
      "text/html": [
       "<table class=\"simpletable\">\n",
       "<caption>OLS Regression Results</caption>\n",
       "<tr>\n",
       "  <th>Dep. Variable:</th>         <td>LnDinv</td>      <th>  R-squared:         </th> <td>   0.654</td>\n",
       "</tr>\n",
       "<tr>\n",
       "  <th>Model:</th>                   <td>OLS</td>       <th>  Adj. R-squared:    </th> <td>   0.649</td>\n",
       "</tr>\n",
       "<tr>\n",
       "  <th>Method:</th>             <td>Least Squares</td>  <th>  F-statistic:       </th> <td>   132.4</td>\n",
       "</tr>\n",
       "<tr>\n",
       "  <th>Date:</th>             <td>Sun, 16 Dec 2018</td> <th>  Prob (F-statistic):</th> <td>8.48e-18</td>\n",
       "</tr>\n",
       "<tr>\n",
       "  <th>Time:</th>                 <td>16:50:35</td>     <th>  Log-Likelihood:    </th> <td> -45.788</td>\n",
       "</tr>\n",
       "<tr>\n",
       "  <th>No. Observations:</th>      <td>    72</td>      <th>  AIC:               </th> <td>   95.58</td>\n",
       "</tr>\n",
       "<tr>\n",
       "  <th>Df Residuals:</th>          <td>    70</td>      <th>  BIC:               </th> <td>   100.1</td>\n",
       "</tr>\n",
       "<tr>\n",
       "  <th>Df Model:</th>              <td>     1</td>      <th>                     </th>     <td> </td>   \n",
       "</tr>\n",
       "<tr>\n",
       "  <th>Covariance Type:</th>      <td>nonrobust</td>    <th>                     </th>     <td> </td>   \n",
       "</tr>\n",
       "</table>\n",
       "<table class=\"simpletable\">\n",
       "<tr>\n",
       "        <td></td>          <th>coef</th>     <th>std err</th>      <th>t</th>      <th>P>|t|</th>  <th>[0.025</th>    <th>0.975]</th>  \n",
       "</tr>\n",
       "<tr>\n",
       "  <th>Intercept</th>    <td>   -0.2206</td> <td>    0.098</td> <td>   -2.251</td> <td> 0.028</td> <td>   -0.416</td> <td>   -0.025</td>\n",
       "</tr>\n",
       "<tr>\n",
       "  <th>FeDomainsInv</th> <td>    0.4940</td> <td>    0.043</td> <td>   11.506</td> <td> 0.000</td> <td>    0.408</td> <td>    0.580</td>\n",
       "</tr>\n",
       "</table>\n",
       "<table class=\"simpletable\">\n",
       "<tr>\n",
       "  <th>Omnibus:</th>       <td> 7.380</td> <th>  Durbin-Watson:     </th> <td>   0.416</td>\n",
       "</tr>\n",
       "<tr>\n",
       "  <th>Prob(Omnibus):</th> <td> 0.025</td> <th>  Jarque-Bera (JB):  </th> <td>   2.787</td>\n",
       "</tr>\n",
       "<tr>\n",
       "  <th>Skew:</th>          <td>-0.074</td> <th>  Prob(JB):          </th> <td>   0.248</td>\n",
       "</tr>\n",
       "<tr>\n",
       "  <th>Kurtosis:</th>      <td> 2.048</td> <th>  Cond. No.          </th> <td>    4.67</td>\n",
       "</tr>\n",
       "</table><br/><br/>Warnings:<br/>[1] Standard Errors assume that the covariance matrix of the errors is correctly specified."
      ],
      "text/plain": [
       "<class 'statsmodels.iolib.summary.Summary'>\n",
       "\"\"\"\n",
       "                            OLS Regression Results                            \n",
       "==============================================================================\n",
       "Dep. Variable:                 LnDinv   R-squared:                       0.654\n",
       "Model:                            OLS   Adj. R-squared:                  0.649\n",
       "Method:                 Least Squares   F-statistic:                     132.4\n",
       "Date:                Sun, 16 Dec 2018   Prob (F-statistic):           8.48e-18\n",
       "Time:                        16:50:35   Log-Likelihood:                -45.788\n",
       "No. Observations:                  72   AIC:                             95.58\n",
       "Df Residuals:                      70   BIC:                             100.1\n",
       "Df Model:                           1                                         \n",
       "Covariance Type:            nonrobust                                         \n",
       "================================================================================\n",
       "                   coef    std err          t      P>|t|      [0.025      0.975]\n",
       "--------------------------------------------------------------------------------\n",
       "Intercept       -0.2206      0.098     -2.251      0.028      -0.416      -0.025\n",
       "FeDomainsInv     0.4940      0.043     11.506      0.000       0.408       0.580\n",
       "==============================================================================\n",
       "Omnibus:                        7.380   Durbin-Watson:                   0.416\n",
       "Prob(Omnibus):                  0.025   Jarque-Bera (JB):                2.787\n",
       "Skew:                          -0.074   Prob(JB):                        0.248\n",
       "Kurtosis:                       2.048   Cond. No.                         4.67\n",
       "==============================================================================\n",
       "\n",
       "Warnings:\n",
       "[1] Standard Errors assume that the covariance matrix of the errors is correctly specified.\n",
       "\"\"\""
      ]
     },
     "execution_count": 34,
     "metadata": {},
     "output_type": "execute_result"
    }
   ],
   "source": [
    "est = smf.ols('LnDinv ~ FeDomainsInv', df2).fit()\n",
    "est.summary()"
   ]
  },
  {
   "cell_type": "markdown",
   "metadata": {},
   "source": [
    "The value of r2 decreased a lot."
   ]
  },
  {
   "cell_type": "markdown",
   "metadata": {},
   "source": [
    "#########################################################################"
   ]
  },
  {
   "cell_type": "markdown",
   "metadata": {},
   "source": [
    "## Replicating the research paper"
   ]
  },
  {
   "cell_type": "markdown",
   "metadata": {},
   "source": [
    "Plotting Ln(Fe-domains) vs Ln(1/D)"
   ]
  },
  {
   "cell_type": "code",
   "execution_count": 35,
   "metadata": {},
   "outputs": [
    {
     "data": {
      "image/png": "[encoded data removed]",
      "text/plain": [
       "<Figure size 432x288 with 1 Axes>"
      ]
     },
     "metadata": {
      "needs_background": "light"
     },
     "output_type": "display_data"
    }
   ],
   "source": [
    "plt.plot(df2['LnFeDomains'],df2['LnDinv'], marker='.', linestyle='none')\n",
    "plt.show()"
   ]
  },
  {
   "cell_type": "code",
   "execution_count": 36,
   "metadata": {},
   "outputs": [
    {
     "name": "stderr",
     "output_type": "stream",
     "text": [
      "C:\\Users\\LENOVO\\Anaconda3\\lib\\site-packages\\scipy\\stats\\stats.py:1713: FutureWarning: Using a non-tuple sequence for multidimensional indexing is deprecated; use `arr[tuple(seq)]` instead of `arr[seq]`. In the future this will be interpreted as an array index, `arr[np.array(seq)]`, which will result either in an error or a different result.\n",
      "  return np.add.reduce(sorted[indexer] * weights, axis=axis) / sumval\n"
     ]
    },
    {
     "data": {
      "image/png": "[encoded data removed]",
      "text/plain": [
       "<Figure size 360x360 with 1 Axes>"
      ]
     },
     "metadata": {
      "needs_background": "light"
     },
     "output_type": "display_data"
    }
   ],
   "source": [
    "sns.lmplot(x='LnFeDomains', y='LnDinv', data=df2)\n",
    "plt.show()"
   ]
  },
  {
   "cell_type": "code",
   "execution_count": 37,
   "metadata": {},
   "outputs": [
    {
     "data": {
      "image/png": "[encoded data removed]",
      "text/plain": [
       "<Figure size 432x288 with 1 Axes>"
      ]
     },
     "metadata": {
      "needs_background": "light"
     },
     "output_type": "display_data"
    }
   ],
   "source": [
    "fit = np.polyfit(df2['LnFeDomains'],df2['LnDinv'], 2)\n",
    "fit_fn = np.poly1d(fit)\n",
    "\n",
    "plt.plot(df2['LnFeDomains'],df2['LnDinv'], '.', np.sort(df2['LnFeDomains']), fit_fn(np.sort(df2['LnFeDomains'])), '--r', linewidth=2)\n",
    "plt.xlabel(\"LnFeDomains\")\n",
    "plt.ylabel(\"LnDinv\")\n",
    "plt.show()"
   ]
  },
  {
   "cell_type": "code",
   "execution_count": 38,
   "metadata": {},
   "outputs": [
    {
     "data": {
      "image/png": "[encoded data removed]",
      "text/plain": [
       "<Figure size 432x288 with 1 Axes>"
      ]
     },
     "metadata": {
      "needs_background": "light"
     },
     "output_type": "display_data"
    }
   ],
   "source": [
    "sns.residplot(x='LnFeDomains', y='LnDinv', order = 2,data=df2, color='green')\n",
    "plt.show()"
   ]
  },
  {
   "cell_type": "markdown",
   "metadata": {},
   "source": [
    "Residual plots are tools to identify non-linearity of data. Ideally, residual plots show no discernible pattern but presence of a pattern may show problem with some aspect of linear model. \n",
    "Here we can clearly see that as the concentration of Fe domains increases the spread \n",
    "This data is suffering from **heteroscedasticity**"
   ]
  },
  {
   "cell_type": "code",
   "execution_count": 39,
   "metadata": {},
   "outputs": [
    {
     "data": {
      "image/png": "[encoded data removed]",
      "text/plain": [
       "<Figure size 432x288 with 1 Axes>"
      ]
     },
     "metadata": {
      "needs_background": "light"
     },
     "output_type": "display_data"
    }
   ],
   "source": [
    "sns.residplot(x='LnFeDomains', y='LnDinv', order = 1,data=df2, color='green')\n",
    "plt.show()"
   ]
  },
  {
   "cell_type": "code",
   "execution_count": 40,
   "metadata": {},
   "outputs": [
    {
     "data": {
      "text/html": [
       "<table class=\"simpletable\">\n",
       "<caption>OLS Regression Results</caption>\n",
       "<tr>\n",
       "  <th>Dep. Variable:</th>         <td>LnDinv</td>      <th>  R-squared:         </th> <td>   0.670</td>\n",
       "</tr>\n",
       "<tr>\n",
       "  <th>Model:</th>                   <td>OLS</td>       <th>  Adj. R-squared:    </th> <td>   0.666</td>\n",
       "</tr>\n",
       "<tr>\n",
       "  <th>Method:</th>             <td>Least Squares</td>  <th>  F-statistic:       </th> <td>   142.4</td>\n",
       "</tr>\n",
       "<tr>\n",
       "  <th>Date:</th>             <td>Sun, 16 Dec 2018</td> <th>  Prob (F-statistic):</th> <td>1.54e-18</td>\n",
       "</tr>\n",
       "<tr>\n",
       "  <th>Time:</th>                 <td>16:50:36</td>     <th>  Log-Likelihood:    </th> <td> -44.046</td>\n",
       "</tr>\n",
       "<tr>\n",
       "  <th>No. Observations:</th>      <td>    72</td>      <th>  AIC:               </th> <td>   92.09</td>\n",
       "</tr>\n",
       "<tr>\n",
       "  <th>Df Residuals:</th>          <td>    70</td>      <th>  BIC:               </th> <td>   96.64</td>\n",
       "</tr>\n",
       "<tr>\n",
       "  <th>Df Model:</th>              <td>     1</td>      <th>                     </th>     <td> </td>   \n",
       "</tr>\n",
       "<tr>\n",
       "  <th>Covariance Type:</th>      <td>nonrobust</td>    <th>                     </th>     <td> </td>   \n",
       "</tr>\n",
       "</table>\n",
       "<table class=\"simpletable\">\n",
       "<tr>\n",
       "       <td></td>          <th>coef</th>     <th>std err</th>      <th>t</th>      <th>P>|t|</th>  <th>[0.025</th>    <th>0.975]</th>  \n",
       "</tr>\n",
       "<tr>\n",
       "  <th>Intercept</th>   <td>    0.0696</td> <td>    0.076</td> <td>    0.916</td> <td> 0.363</td> <td>   -0.082</td> <td>    0.221</td>\n",
       "</tr>\n",
       "<tr>\n",
       "  <th>LnFeDomains</th> <td>   -1.3054</td> <td>    0.109</td> <td>  -11.934</td> <td> 0.000</td> <td>   -1.524</td> <td>   -1.087</td>\n",
       "</tr>\n",
       "</table>\n",
       "<table class=\"simpletable\">\n",
       "<tr>\n",
       "  <th>Omnibus:</th>       <td> 6.467</td> <th>  Durbin-Watson:     </th> <td>   0.526</td>\n",
       "</tr>\n",
       "<tr>\n",
       "  <th>Prob(Omnibus):</th> <td> 0.039</td> <th>  Jarque-Bera (JB):  </th> <td>   2.802</td>\n",
       "</tr>\n",
       "<tr>\n",
       "  <th>Skew:</th>          <td>-0.163</td> <th>  Prob(JB):          </th> <td>   0.246</td>\n",
       "</tr>\n",
       "<tr>\n",
       "  <th>Kurtosis:</th>      <td> 2.090</td> <th>  Cond. No.          </th> <td>    2.67</td>\n",
       "</tr>\n",
       "</table><br/><br/>Warnings:<br/>[1] Standard Errors assume that the covariance matrix of the errors is correctly specified."
      ],
      "text/plain": [
       "<class 'statsmodels.iolib.summary.Summary'>\n",
       "\"\"\"\n",
       "                            OLS Regression Results                            \n",
       "==============================================================================\n",
       "Dep. Variable:                 LnDinv   R-squared:                       0.670\n",
       "Model:                            OLS   Adj. R-squared:                  0.666\n",
       "Method:                 Least Squares   F-statistic:                     142.4\n",
       "Date:                Sun, 16 Dec 2018   Prob (F-statistic):           1.54e-18\n",
       "Time:                        16:50:36   Log-Likelihood:                -44.046\n",
       "No. Observations:                  72   AIC:                             92.09\n",
       "Df Residuals:                      70   BIC:                             96.64\n",
       "Df Model:                           1                                         \n",
       "Covariance Type:            nonrobust                                         \n",
       "===============================================================================\n",
       "                  coef    std err          t      P>|t|      [0.025      0.975]\n",
       "-------------------------------------------------------------------------------\n",
       "Intercept       0.0696      0.076      0.916      0.363      -0.082       0.221\n",
       "LnFeDomains    -1.3054      0.109    -11.934      0.000      -1.524      -1.087\n",
       "==============================================================================\n",
       "Omnibus:                        6.467   Durbin-Watson:                   0.526\n",
       "Prob(Omnibus):                  0.039   Jarque-Bera (JB):                2.802\n",
       "Skew:                          -0.163   Prob(JB):                        0.246\n",
       "Kurtosis:                       2.090   Cond. No.                         2.67\n",
       "==============================================================================\n",
       "\n",
       "Warnings:\n",
       "[1] Standard Errors assume that the covariance matrix of the errors is correctly specified.\n",
       "\"\"\""
      ]
     },
     "execution_count": 40,
     "metadata": {},
     "output_type": "execute_result"
    }
   ],
   "source": [
    "est = smf.ols('LnDinv ~ LnFeDomains', df2).fit()\n",
    "est.summary()"
   ]
  },
  {
   "cell_type": "code",
   "execution_count": 41,
   "metadata": {},
   "outputs": [
    {
     "data": {
      "text/html": [
       "<table class=\"simpletable\">\n",
       "<caption>OLS Regression Results</caption>\n",
       "<tr>\n",
       "  <th>Dep. Variable:</th>         <td>LnDinv</td>      <th>  R-squared:         </th> <td>   0.681</td>\n",
       "</tr>\n",
       "<tr>\n",
       "  <th>Model:</th>                   <td>OLS</td>       <th>  Adj. R-squared:    </th> <td>   0.672</td>\n",
       "</tr>\n",
       "<tr>\n",
       "  <th>Method:</th>             <td>Least Squares</td>  <th>  F-statistic:       </th> <td>   73.61</td>\n",
       "</tr>\n",
       "<tr>\n",
       "  <th>Date:</th>             <td>Sun, 16 Dec 2018</td> <th>  Prob (F-statistic):</th> <td>7.71e-18</td>\n",
       "</tr>\n",
       "<tr>\n",
       "  <th>Time:</th>                 <td>16:50:36</td>     <th>  Log-Likelihood:    </th> <td> -42.891</td>\n",
       "</tr>\n",
       "<tr>\n",
       "  <th>No. Observations:</th>      <td>    72</td>      <th>  AIC:               </th> <td>   91.78</td>\n",
       "</tr>\n",
       "<tr>\n",
       "  <th>Df Residuals:</th>          <td>    69</td>      <th>  BIC:               </th> <td>   98.61</td>\n",
       "</tr>\n",
       "<tr>\n",
       "  <th>Df Model:</th>              <td>     2</td>      <th>                     </th>     <td> </td>   \n",
       "</tr>\n",
       "<tr>\n",
       "  <th>Covariance Type:</th>      <td>nonrobust</td>    <th>                     </th>     <td> </td>   \n",
       "</tr>\n",
       "</table>\n",
       "<table class=\"simpletable\">\n",
       "<tr>\n",
       "             <td></td>               <th>coef</th>     <th>std err</th>      <th>t</th>      <th>P>|t|</th>  <th>[0.025</th>    <th>0.975]</th>  \n",
       "</tr>\n",
       "<tr>\n",
       "  <th>Intercept</th>              <td>    0.1660</td> <td>    0.099</td> <td>    1.676</td> <td> 0.098</td> <td>   -0.032</td> <td>    0.364</td>\n",
       "</tr>\n",
       "<tr>\n",
       "  <th>np.square(LnFeDomains)</th> <td>    0.3033</td> <td>    0.202</td> <td>    1.499</td> <td> 0.138</td> <td>   -0.100</td> <td>    0.707</td>\n",
       "</tr>\n",
       "<tr>\n",
       "  <th>LnFeDomains</th>            <td>   -0.8151</td> <td>    0.345</td> <td>   -2.366</td> <td> 0.021</td> <td>   -1.502</td> <td>   -0.128</td>\n",
       "</tr>\n",
       "</table>\n",
       "<table class=\"simpletable\">\n",
       "<tr>\n",
       "  <th>Omnibus:</th>       <td> 5.553</td> <th>  Durbin-Watson:     </th> <td>   0.483</td>\n",
       "</tr>\n",
       "<tr>\n",
       "  <th>Prob(Omnibus):</th> <td> 0.062</td> <th>  Jarque-Bera (JB):  </th> <td>   2.446</td>\n",
       "</tr>\n",
       "<tr>\n",
       "  <th>Skew:</th>          <td>-0.095</td> <th>  Prob(JB):          </th> <td>   0.294</td>\n",
       "</tr>\n",
       "<tr>\n",
       "  <th>Kurtosis:</th>      <td> 2.117</td> <th>  Cond. No.          </th> <td>    10.5</td>\n",
       "</tr>\n",
       "</table><br/><br/>Warnings:<br/>[1] Standard Errors assume that the covariance matrix of the errors is correctly specified."
      ],
      "text/plain": [
       "<class 'statsmodels.iolib.summary.Summary'>\n",
       "\"\"\"\n",
       "                            OLS Regression Results                            \n",
       "==============================================================================\n",
       "Dep. Variable:                 LnDinv   R-squared:                       0.681\n",
       "Model:                            OLS   Adj. R-squared:                  0.672\n",
       "Method:                 Least Squares   F-statistic:                     73.61\n",
       "Date:                Sun, 16 Dec 2018   Prob (F-statistic):           7.71e-18\n",
       "Time:                        16:50:36   Log-Likelihood:                -42.891\n",
       "No. Observations:                  72   AIC:                             91.78\n",
       "Df Residuals:                      69   BIC:                             98.61\n",
       "Df Model:                           2                                         \n",
       "Covariance Type:            nonrobust                                         \n",
       "==========================================================================================\n",
       "                             coef    std err          t      P>|t|      [0.025      0.975]\n",
       "------------------------------------------------------------------------------------------\n",
       "Intercept                  0.1660      0.099      1.676      0.098      -0.032       0.364\n",
       "np.square(LnFeDomains)     0.3033      0.202      1.499      0.138      -0.100       0.707\n",
       "LnFeDomains               -0.8151      0.345     -2.366      0.021      -1.502      -0.128\n",
       "==============================================================================\n",
       "Omnibus:                        5.553   Durbin-Watson:                   0.483\n",
       "Prob(Omnibus):                  0.062   Jarque-Bera (JB):                2.446\n",
       "Skew:                          -0.095   Prob(JB):                        0.294\n",
       "Kurtosis:                       2.117   Cond. No.                         10.5\n",
       "==============================================================================\n",
       "\n",
       "Warnings:\n",
       "[1] Standard Errors assume that the covariance matrix of the errors is correctly specified.\n",
       "\"\"\""
      ]
     },
     "execution_count": 41,
     "metadata": {},
     "output_type": "execute_result"
    }
   ],
   "source": [
    "est = smf.ols('LnDinv ~ np.square(LnFeDomains)+ LnFeDomains ', df2).fit()\n",
    "est.summary()"
   ]
  },
  {
   "cell_type": "markdown",
   "metadata": {},
   "source": [
    "**There is almost no change is residual plot and also almost no change in the Rsquared statistic, but surprizingly the p-value became statistically significant, in case of copper.**"
   ]
  },
  {
   "cell_type": "markdown",
   "metadata": {},
   "source": [
    "?????????????????look for the reason for the decrease of p-value"
   ]
  },
  {
   "cell_type": "code",
   "execution_count": 42,
   "metadata": {},
   "outputs": [
    {
     "name": "stdout",
     "output_type": "stream",
     "text": [
      "(72, 1)\n",
      "0    0.843970\n",
      "1    1.139434\n",
      "2    1.108663\n",
      "3    1.108663\n",
      "4    1.427116\n",
      "Name: LnDinv, dtype: float64\n",
      "Beta0: 0.7158455292999182\n",
      "Beta1: [-1.30541842]\n"
     ]
    }
   ],
   "source": [
    "# Regression coefficients (Ordinary Least Squares)\n",
    "regr = skl_lm.LinearRegression()\n",
    "\n",
    "X = scale(df2['LnFeDomains'], with_mean=True, with_std=False).reshape(-1,1)\n",
    "y = df2['LnDinv']\n",
    "\n",
    "regr.fit(X,y)\n",
    "print(X.shape)\n",
    "print(y[:5])\n",
    "print('Beta0:',regr.intercept_)\n",
    "print('Beta1:',regr.coef_)"
   ]
  },
  {
   "cell_type": "code",
   "execution_count": 43,
   "metadata": {},
   "outputs": [
    {
     "data": {
      "text/plain": [
       "0.09388388342169014"
      ]
     },
     "execution_count": 43,
     "metadata": {},
     "output_type": "execute_result"
    }
   ],
   "source": [
    "# RSS with regression coefficients\n",
    "((df2['LnDinv'] - (est.params[0] + est.params[1]*df2['LnFeDomains']))**2).sum()/1000"
   ]
  },
  {
   "cell_type": "code",
   "execution_count": 44,
   "metadata": {},
   "outputs": [
    {
     "name": "stdout",
     "output_type": "stream",
     "text": [
      "0.06958169008173909\n",
      "[-1.30541842]\n"
     ]
    }
   ],
   "source": [
    "regr = skl_lm.LinearRegression()\n",
    "\n",
    "X = df2['LnFeDomains'].values.reshape(-1,1)\n",
    "y = df2['LnDinv']\n",
    "\n",
    "regr.fit(X,y)\n",
    "print(regr.intercept_)\n",
    "print(regr.coef_)"
   ]
  },
  {
   "cell_type": "code",
   "execution_count": 45,
   "metadata": {},
   "outputs": [
    {
     "data": {
      "text/plain": [
       "0.6704727506690911"
      ]
     },
     "execution_count": 45,
     "metadata": {},
     "output_type": "execute_result"
    }
   ],
   "source": [
    "LnDinv_pred = regr.predict(X)\n",
    "r2_score(y, LnDinv_pred)"
   ]
  },
  {
   "cell_type": "code",
   "execution_count": null,
   "metadata": {},
   "outputs": [],
   "source": []
  },
  {
   "cell_type": "code",
   "execution_count": null,
   "metadata": {},
   "outputs": [],
   "source": []
  }
 ],
 "metadata": {
  "kernelspec": {
   "display_name": "Python 3",
   "language": "python",
   "name": "python3"
  },
  "language_info": {
   "codemirror_mode": {
    "name": "ipython",
    "version": 3
   },
   "file_extension": ".py",
   "mimetype": "text/x-python",
   "name": "python",
   "nbconvert_exporter": "python",
   "pygments_lexer": "ipython3",
   "version": "3.7.0"
  }
 },
 "nbformat": 4,
 "nbformat_minor": 2
}
