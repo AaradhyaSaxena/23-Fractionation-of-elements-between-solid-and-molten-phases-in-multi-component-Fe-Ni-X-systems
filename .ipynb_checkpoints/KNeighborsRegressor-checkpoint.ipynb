{
 "cells": [
  {
   "cell_type": "code",
   "execution_count": 1,
   "metadata": {},
   "outputs": [],
   "source": [
    "# %load ../standard_import.txt\n",
    "import pandas as pd\n",
    "import numpy as np\n",
    "import matplotlib.pyplot as plt\n",
    "from mpl_toolkits.mplot3d import axes3d\n",
    "import seaborn as sns\n",
    "\n",
    "from sklearn import preprocessing, neighbors\n",
    "from sklearn.model_selection import train_test_split\n",
    "\n",
    "%matplotlib inline\n",
    "plt.style.use('seaborn-white')"
   ]
  },
  {
   "cell_type": "code",
   "execution_count": 2,
   "metadata": {},
   "outputs": [
    {
     "name": "stdout",
     "output_type": "stream",
     "text": [
      "['Sheet1', 'Sheet3', 'xS vs FeS domain']\n",
      "<class 'pandas.core.frame.DataFrame'>\n",
      "RangeIndex: 72 entries, 0 to 71\n",
      "Data columns (total 3 columns):\n",
      "D(Cu)          72 non-null float64\n",
      "Dinv           72 non-null float64\n",
      "LnFeDomains    72 non-null float64\n",
      "dtypes: float64(3)\n",
      "memory usage: 1.8 KB\n"
     ]
    },
    {
     "data": {
      "text/html": [
       "<div>\n",
       "<style scoped>\n",
       "    .dataframe tbody tr th:only-of-type {\n",
       "        vertical-align: middle;\n",
       "    }\n",
       "\n",
       "    .dataframe tbody tr th {\n",
       "        vertical-align: top;\n",
       "    }\n",
       "\n",
       "    .dataframe thead th {\n",
       "        text-align: right;\n",
       "    }\n",
       "</style>\n",
       "<table border=\"1\" class=\"dataframe\">\n",
       "  <thead>\n",
       "    <tr style=\"text-align: right;\">\n",
       "      <th></th>\n",
       "      <th>D(Cu)</th>\n",
       "      <th>Dinv</th>\n",
       "      <th>LnFeDomains</th>\n",
       "    </tr>\n",
       "  </thead>\n",
       "  <tbody>\n",
       "    <tr>\n",
       "      <th>0</th>\n",
       "      <td>0.43</td>\n",
       "      <td>2.325581</td>\n",
       "      <td>-0.063935</td>\n",
       "    </tr>\n",
       "    <tr>\n",
       "      <th>1</th>\n",
       "      <td>0.32</td>\n",
       "      <td>3.125000</td>\n",
       "      <td>-0.171537</td>\n",
       "    </tr>\n",
       "    <tr>\n",
       "      <th>2</th>\n",
       "      <td>0.33</td>\n",
       "      <td>3.030303</td>\n",
       "      <td>-0.297457</td>\n",
       "    </tr>\n",
       "    <tr>\n",
       "      <th>3</th>\n",
       "      <td>0.33</td>\n",
       "      <td>3.030303</td>\n",
       "      <td>-0.565593</td>\n",
       "    </tr>\n",
       "    <tr>\n",
       "      <th>4</th>\n",
       "      <td>0.24</td>\n",
       "      <td>4.166667</td>\n",
       "      <td>-0.818951</td>\n",
       "    </tr>\n",
       "  </tbody>\n",
       "</table>\n",
       "</div>"
      ],
      "text/plain": [
       "   D(Cu)      Dinv  LnFeDomains\n",
       "0   0.43  2.325581    -0.063935\n",
       "1   0.32  3.125000    -0.171537\n",
       "2   0.33  3.030303    -0.297457\n",
       "3   0.33  3.030303    -0.565593\n",
       "4   0.24  4.166667    -0.818951"
      ]
     },
     "execution_count": 2,
     "metadata": {},
     "output_type": "execute_result"
    }
   ],
   "source": [
    "data = pd.ExcelFile('Data1/Cu.xlsx')\n",
    "print(data.sheet_names)\n",
    "\n",
    "df1 = data.parse('Sheet1')\n",
    "df1.head(5)\n",
    "\n",
    "df2 = df1.drop(['Reference', 'Run #','LnDinv'], axis=1)\n",
    "df2.dropna()\n",
    "pd.options.display.max_rows = 999\n",
    "df2.info()\n",
    "df2.head()"
   ]
  },
  {
   "cell_type": "code",
   "execution_count": 3,
   "metadata": {},
   "outputs": [],
   "source": [
    "x = np.array(df2['LnFeDomains']).reshape(-1,1)\n",
    "y = np.array(df2['Dinv'])"
   ]
  },
  {
   "cell_type": "code",
   "execution_count": 28,
   "metadata": {},
   "outputs": [
    {
     "name": "stdout",
     "output_type": "stream",
     "text": [
      "score: 0.9061922362001482\n"
     ]
    }
   ],
   "source": [
    "from sklearn.neighbors import KNeighborsRegressor\n",
    "from sklearn import preprocessing, cross_validation, neighbors\n",
    "\n",
    "neigh = KNeighborsRegressor(n_neighbors=2)\n",
    "\n",
    "x_train, x_test, y_train, y_test = cross_validation.train_test_split(x,y,test_size=0.2)\n",
    "    \n",
    "\n",
    "neigh.fit(x_train,y_train)\n",
    " \n",
    "print('score:',neigh.score(x_test,y_test))\n",
    "y_pred = neigh.predict(x_test)"
   ]
  },
  {
   "cell_type": "code",
   "execution_count": 27,
   "metadata": {},
   "outputs": [
    {
     "data": {
      "image/png": "[encoded data removed]",
      "text/plain": [
       "<Figure size 432x288 with 1 Axes>"
      ]
     },
     "metadata": {},
     "output_type": "display_data"
    }
   ],
   "source": [
    "plt.scatter(x_test,y_pred)\n",
    "plt.scatter(x_train,y_train)\n",
    "plt.show()"
   ]
  },
  {
   "cell_type": "code",
   "execution_count": null,
   "metadata": {},
   "outputs": [],
   "source": []
  },
  {
   "cell_type": "code",
   "execution_count": null,
   "metadata": {},
   "outputs": [],
   "source": []
  },
  {
   "cell_type": "code",
   "execution_count": null,
   "metadata": {},
   "outputs": [],
   "source": []
  },
  {
   "cell_type": "code",
   "execution_count": null,
   "metadata": {},
   "outputs": [],
   "source": [
    "# def euclidean_distance(x1,y1,x2,y2):\n",
    "#     return np.sqrt(np.square(x1-x2)+ np.square(x3-x4))\n",
    "\n",
    "# def gaussian(dist, sigma=1):\n",
    "#     return 1./(np.sqrt(2.*np.pi)*sigma)*np.exp(-dist**2/(2*sigma**2))\n",
    "        \n",
    "# def predict(self, test_set):\n",
    "#         predictions = []\n",
    "#         for i, j in test_set.values:\n",
    "#             distances = []\n",
    "#             for idx, (l, m) in enumerate(self.__x.values):\n",
    "#                 dist = self.__euclidean_distance(i, j, l, m)\n",
    "#                 distances.append((self.__y[idx], dist))\n",
    "#             distances.sort(key=operator.itemgetter(1))\n",
    "#             v = 0\n",
    "#             total_weight = 0\n",
    "#             for i in range(self.__k):\n",
    "#                 weight = self.gaussian(distances[i][1])\n",
    "#                 if self.__weighted:\n",
    "#                     v += distances[i][0]*weight\n",
    "#                 else:\n",
    "#                     v += distances[i][0]\n",
    "#                 total_weight += weight\n",
    "#             if self.__weighted:\n",
    "#                 predictions.append(v/total_weight)\n",
    "#             else:\n",
    "#                 predictions.append(v/self.__k)\n",
    "#       return predictions   \n",
    "\n",
    "# class kNN(object):\n",
    "\n",
    "#     def __init__(self, x, y, k, weighted=False):\n",
    "#         assert (k <= len(x)\n",
    "#                 ), \"k cannot be greater than training_set length\"\n",
    "#         self.__x = x\n",
    "#         self.__y = y\n",
    "#         self.__k = k\n",
    "#         self.__weighted = weighted"
   ]
  }
 ],
 "metadata": {
  "kernelspec": {
   "display_name": "Python 3",
   "language": "python",
   "name": "python3"
  },
  "language_info": {
   "codemirror_mode": {
    "name": "ipython",
    "version": 3
   },
   "file_extension": ".py",
   "mimetype": "text/x-python",
   "name": "python",
   "nbconvert_exporter": "python",
   "pygments_lexer": "ipython3",
   "version": "3.6.5"
  }
 },
 "nbformat": 4,
 "nbformat_minor": 2
}
