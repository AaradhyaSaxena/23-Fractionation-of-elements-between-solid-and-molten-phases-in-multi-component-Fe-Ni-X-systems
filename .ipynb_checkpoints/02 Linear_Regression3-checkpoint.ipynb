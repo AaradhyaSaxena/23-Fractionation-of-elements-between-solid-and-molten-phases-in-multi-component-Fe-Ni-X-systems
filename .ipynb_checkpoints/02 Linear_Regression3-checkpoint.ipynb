{
 "cells": [
  {
   "cell_type": "markdown",
   "metadata": {},
   "source": [
    "Here we will consider each of the systems as separate from each other."
   ]
  },
  {
   "cell_type": "markdown",
   "metadata": {},
   "source": [
    "- Introduction of qualitative predictors\n",
    "- Interaction / No-Interaction\n",
    "- Best Subset-selection"
   ]
  },
  {
   "cell_type": "code",
   "execution_count": 1,
   "metadata": {},
   "outputs": [],
   "source": [
    "# %load ../standard_import.txt\n",
    "import pandas as pd\n",
    "import numpy as np\n",
    "import matplotlib\n",
    "import matplotlib.pyplot as plt\n",
    "from mpl_toolkits.mplot3d import axes3d\n",
    "import seaborn as sns\n",
    "\n",
    "from sklearn.preprocessing import scale\n",
    "import sklearn.linear_model as skl_lm\n",
    "from sklearn.metrics import mean_squared_error, r2_score\n",
    "from sklearn import preprocessing, neighbors, svm\n",
    "from sklearn.model_selection import train_test_split\n",
    "from scipy.optimize import curve_fit\n",
    "import statsmodels.api as sm\n",
    "import statsmodels.formula.api as smf\n",
    "import re\n",
    "%matplotlib inline\n",
    "plt.style.use('seaborn-white')"
   ]
  },
  {
   "cell_type": "code",
   "execution_count": 2,
   "metadata": {},
   "outputs": [
    {
     "name": "stdout",
     "output_type": "stream",
     "text": [
      "['Sheet1', 'Sheet3', 'xS vs FeS domain']\n",
      "<class 'pandas.core.frame.DataFrame'>\n",
      "RangeIndex: 72 entries, 0 to 71\n",
      "Data columns (total 4 columns):\n",
      "Dinv           72 non-null float64\n",
      "LnFeDomains    72 non-null float64\n",
      "LnDinv         72 non-null float64\n",
      "X              72 non-null int64\n",
      "dtypes: float64(3), int64(1)\n",
      "memory usage: 2.3 KB\n"
     ]
    },
    {
     "data": {
      "text/html": [
       "<div>\n",
       "<style scoped>\n",
       "    .dataframe tbody tr th:only-of-type {\n",
       "        vertical-align: middle;\n",
       "    }\n",
       "\n",
       "    .dataframe tbody tr th {\n",
       "        vertical-align: top;\n",
       "    }\n",
       "\n",
       "    .dataframe thead th {\n",
       "        text-align: right;\n",
       "    }\n",
       "</style>\n",
       "<table border=\"1\" class=\"dataframe\">\n",
       "  <thead>\n",
       "    <tr style=\"text-align: right;\">\n",
       "      <th></th>\n",
       "      <th>Dinv</th>\n",
       "      <th>LnFeDomains</th>\n",
       "      <th>LnDinv</th>\n",
       "      <th>X</th>\n",
       "    </tr>\n",
       "  </thead>\n",
       "  <tbody>\n",
       "    <tr>\n",
       "      <th>0</th>\n",
       "      <td>2.325581</td>\n",
       "      <td>-0.063935</td>\n",
       "      <td>0.843970</td>\n",
       "      <td>1</td>\n",
       "    </tr>\n",
       "    <tr>\n",
       "      <th>1</th>\n",
       "      <td>3.125000</td>\n",
       "      <td>-0.171537</td>\n",
       "      <td>1.139434</td>\n",
       "      <td>1</td>\n",
       "    </tr>\n",
       "    <tr>\n",
       "      <th>2</th>\n",
       "      <td>3.030303</td>\n",
       "      <td>-0.297457</td>\n",
       "      <td>1.108663</td>\n",
       "      <td>1</td>\n",
       "    </tr>\n",
       "    <tr>\n",
       "      <th>3</th>\n",
       "      <td>3.030303</td>\n",
       "      <td>-0.565593</td>\n",
       "      <td>1.108663</td>\n",
       "      <td>1</td>\n",
       "    </tr>\n",
       "    <tr>\n",
       "      <th>4</th>\n",
       "      <td>4.166667</td>\n",
       "      <td>-0.818951</td>\n",
       "      <td>1.427116</td>\n",
       "      <td>1</td>\n",
       "    </tr>\n",
       "  </tbody>\n",
       "</table>\n",
       "</div>"
      ],
      "text/plain": [
       "       Dinv  LnFeDomains    LnDinv  X\n",
       "0  2.325581    -0.063935  0.843970  1\n",
       "1  3.125000    -0.171537  1.139434  1\n",
       "2  3.030303    -0.297457  1.108663  1\n",
       "3  3.030303    -0.565593  1.108663  1\n",
       "4  4.166667    -0.818951  1.427116  1"
      ]
     },
     "execution_count": 2,
     "metadata": {},
     "output_type": "execute_result"
    }
   ],
   "source": [
    "data2 = pd.ExcelFile('ModifiedData/Cu_sys_intro.xlsx')\n",
    "print(data2.sheet_names)\n",
    "df3 = data2.parse('Sheet1')\n",
    "df3.head(5)\n",
    "\n",
    "df4 = df3.drop(['Reference', 'Run #', 'D(Cu)'], axis=1)\n",
    "df4.dropna()\n",
    "pd.options.display.max_rows = 999\n",
    "df4.info()\n",
    "df4.head(5)"
   ]
  },
  {
   "cell_type": "code",
   "execution_count": 3,
   "metadata": {},
   "outputs": [],
   "source": [
    "FNS = df4[(df4['X']==1)]\n",
    "FNP = df4[(df4['X']==2)]\n",
    "FNC = df4[(df4['X']==3)]\n",
    "FNSi = df4[(df4['X']==4)]\n",
    "FNSP = df4[(df4['X']==5)]\n",
    "FSC = df4[(df4['X']==6)]"
   ]
  },
  {
   "cell_type": "markdown",
   "metadata": {},
   "source": [
    "Separating all the systems >> Now we can see that FeNiC, and FeNiP show different trend from the FiNiS systems"
   ]
  },
  {
   "cell_type": "code",
   "execution_count": 4,
   "metadata": {},
   "outputs": [
    {
     "data": {
      "image/png": "[encoded data removed]",
      "text/plain": [
       "<Figure size 432x288 with 1 Axes>"
      ]
     },
     "metadata": {
      "needs_background": "light"
     },
     "output_type": "display_data"
    }
   ],
   "source": [
    "# SULPHUR\n",
    "fit = np.polyfit(FNS['LnFeDomains'],FNS['LnDinv'], 1)\n",
    "fit_fn = np.poly1d(fit)\n",
    "plt.plot(FNS['LnFeDomains'],FNS['LnDinv'], '.', np.sort(FNS['LnFeDomains']), fit_fn(np.sort(FNS['LnFeDomains'])), '--b', linewidth=2)\n",
    "\n",
    "# PHOSPHORUS\n",
    "fit = np.polyfit(FNP['LnFeDomains'],FNP['LnDinv'], 1)\n",
    "fit_fn = np.poly1d(fit)\n",
    "plt.plot(FNP['LnFeDomains'],FNP['LnDinv'], '.', np.sort(FNP['LnFeDomains']), fit_fn(np.sort(FNP['LnFeDomains'])), '--p', linewidth=2)\n",
    "\n",
    "# CARBON\n",
    "fit = np.polyfit(FNC['LnFeDomains'],FNC['LnDinv'], 1)\n",
    "fit_fn = np.poly1d(fit)\n",
    "plt.plot(FNC['LnFeDomains'],FNC['LnDinv'], '.', np.sort(FNC['LnFeDomains']), fit_fn(np.sort(FNC['LnFeDomains'])), '--y', linewidth=2)\n",
    "\n",
    "# S&P\n",
    "fit = np.polyfit(FNSP['LnFeDomains'],FNSP['LnDinv'], 1)\n",
    "fit_fn = np.poly1d(fit)\n",
    "plt.plot(FNSP['LnFeDomains'],FNSP['LnDinv'], '.', np.sort(FNSP['LnFeDomains']), fit_fn(np.sort(FNSP['LnFeDomains'])), '--g', linewidth=2)\n",
    "\n",
    "# Fe-S-C\n",
    "fit = np.polyfit(FSC['LnFeDomains'],FSC['LnDinv'], 1)\n",
    "fit_fn = np.poly1d(fit)\n",
    "plt.plot(FSC['LnFeDomains'],FSC['LnDinv'], '.', np.sort(FSC['LnFeDomains']), fit_fn(np.sort(FSC['LnFeDomains'])), '--r', linewidth=2)\n",
    "\n",
    "\n",
    "plt.xlabel(\"LnFeDomains\")\n",
    "plt.ylabel(\"LnDinv\")\n",
    "plt.show()"
   ]
  },
  {
   "cell_type": "markdown",
   "metadata": {},
   "source": [
    "Clearly we can see that, different systems have different values of fractionation constant for same value of FeDomains."
   ]
  },
  {
   "cell_type": "code",
   "execution_count": null,
   "metadata": {},
   "outputs": [],
   "source": []
  },
  {
   "cell_type": "markdown",
   "metadata": {},
   "source": [
    "#### MULTIPLE LINEAR REGRESSION"
   ]
  },
  {
   "cell_type": "code",
   "execution_count": 5,
   "metadata": {},
   "outputs": [
    {
     "data": {
      "text/html": [
       "<div>\n",
       "<style scoped>\n",
       "    .dataframe tbody tr th:only-of-type {\n",
       "        vertical-align: middle;\n",
       "    }\n",
       "\n",
       "    .dataframe tbody tr th {\n",
       "        vertical-align: top;\n",
       "    }\n",
       "\n",
       "    .dataframe thead th {\n",
       "        text-align: right;\n",
       "    }\n",
       "</style>\n",
       "<table border=\"1\" class=\"dataframe\">\n",
       "  <thead>\n",
       "    <tr style=\"text-align: right;\">\n",
       "      <th></th>\n",
       "      <th>Dinv</th>\n",
       "      <th>LnFeDomains</th>\n",
       "      <th>LnDinv</th>\n",
       "      <th>X</th>\n",
       "    </tr>\n",
       "  </thead>\n",
       "  <tbody>\n",
       "    <tr>\n",
       "      <th>67</th>\n",
       "      <td>4.545455</td>\n",
       "      <td>-0.480008</td>\n",
       "      <td>1.514128</td>\n",
       "      <td>6</td>\n",
       "    </tr>\n",
       "    <tr>\n",
       "      <th>68</th>\n",
       "      <td>2.439024</td>\n",
       "      <td>-0.092811</td>\n",
       "      <td>0.891598</td>\n",
       "      <td>6</td>\n",
       "    </tr>\n",
       "    <tr>\n",
       "      <th>69</th>\n",
       "      <td>1.923077</td>\n",
       "      <td>-0.047822</td>\n",
       "      <td>0.653926</td>\n",
       "      <td>6</td>\n",
       "    </tr>\n",
       "    <tr>\n",
       "      <th>70</th>\n",
       "      <td>5.000000</td>\n",
       "      <td>-1.332359</td>\n",
       "      <td>1.609438</td>\n",
       "      <td>6</td>\n",
       "    </tr>\n",
       "    <tr>\n",
       "      <th>71</th>\n",
       "      <td>5.882353</td>\n",
       "      <td>-1.083738</td>\n",
       "      <td>1.771957</td>\n",
       "      <td>6</td>\n",
       "    </tr>\n",
       "  </tbody>\n",
       "</table>\n",
       "</div>"
      ],
      "text/plain": [
       "        Dinv  LnFeDomains    LnDinv  X\n",
       "67  4.545455    -0.480008  1.514128  6\n",
       "68  2.439024    -0.092811  0.891598  6\n",
       "69  1.923077    -0.047822  0.653926  6\n",
       "70  5.000000    -1.332359  1.609438  6\n",
       "71  5.882353    -1.083738  1.771957  6"
      ]
     },
     "execution_count": 5,
     "metadata": {},
     "output_type": "execute_result"
    }
   ],
   "source": [
    "df4.tail(5)"
   ]
  },
  {
   "cell_type": "code",
   "execution_count": 6,
   "metadata": {},
   "outputs": [
    {
     "name": "stderr",
     "output_type": "stream",
     "text": [
      "C:\\Users\\LENOVO\\Anaconda3\\lib\\site-packages\\scipy\\stats\\stats.py:1713: FutureWarning: Using a non-tuple sequence for multidimensional indexing is deprecated; use `arr[tuple(seq)]` instead of `arr[seq]`. In the future this will be interpreted as an array index, `arr[np.array(seq)]`, which will result either in an error or a different result.\n",
      "  return np.add.reduce(sorted[indexer] * weights, axis=axis) / sumval\n"
     ]
    },
    {
     "data": {
      "image/png": "[encoded data removed]",
      "text/plain": [
       "<Figure size 360x360 with 1 Axes>"
      ]
     },
     "metadata": {
      "needs_background": "light"
     },
     "output_type": "display_data"
    }
   ],
   "source": [
    "sns.lmplot(x='LnFeDomains', y='LnDinv', data=df4)\n",
    "plt.show()"
   ]
  },
  {
   "cell_type": "code",
   "execution_count": 7,
   "metadata": {},
   "outputs": [
    {
     "name": "stderr",
     "output_type": "stream",
     "text": [
      "C:\\Users\\LENOVO\\Anaconda3\\lib\\site-packages\\scipy\\stats\\stats.py:1713: FutureWarning: Using a non-tuple sequence for multidimensional indexing is deprecated; use `arr[tuple(seq)]` instead of `arr[seq]`. In the future this will be interpreted as an array index, `arr[np.array(seq)]`, which will result either in an error or a different result.\n",
      "  return np.add.reduce(sorted[indexer] * weights, axis=axis) / sumval\n"
     ]
    },
    {
     "data": {
      "image/png": "[encoded data removed]",
      "text/plain": [
       "<Figure size 360x360 with 1 Axes>"
      ]
     },
     "metadata": {
      "needs_background": "light"
     },
     "output_type": "display_data"
    }
   ],
   "source": [
    "sns.lmplot(x='X', y='LnDinv', data=df4)\n",
    "plt.show()"
   ]
  },
  {
   "cell_type": "code",
   "execution_count": 8,
   "metadata": {},
   "outputs": [],
   "source": [
    "# # This plot shows the major problem with these models,\n",
    "# # we can see that the various systems do not have data point distributed equally\n",
    "# # but we see concentrations of systems in some small potion of FeDomain values."
   ]
  },
  {
   "cell_type": "code",
   "execution_count": 9,
   "metadata": {},
   "outputs": [
    {
     "data": {
      "text/html": [
       "<table class=\"simpletable\">\n",
       "<caption>OLS Regression Results</caption>\n",
       "<tr>\n",
       "  <th>Dep. Variable:</th>         <td>LnDinv</td>      <th>  R-squared:         </th> <td>   0.689</td>\n",
       "</tr>\n",
       "<tr>\n",
       "  <th>Model:</th>                   <td>OLS</td>       <th>  Adj. R-squared:    </th> <td>   0.675</td>\n",
       "</tr>\n",
       "<tr>\n",
       "  <th>Method:</th>             <td>Least Squares</td>  <th>  F-statistic:       </th> <td>   50.18</td>\n",
       "</tr>\n",
       "<tr>\n",
       "  <th>Date:</th>             <td>Sat, 22 Dec 2018</td> <th>  Prob (F-statistic):</th> <td>3.21e-17</td>\n",
       "</tr>\n",
       "<tr>\n",
       "  <th>Time:</th>                 <td>21:38:49</td>     <th>  Log-Likelihood:    </th> <td> -41.983</td>\n",
       "</tr>\n",
       "<tr>\n",
       "  <th>No. Observations:</th>      <td>    72</td>      <th>  AIC:               </th> <td>   91.97</td>\n",
       "</tr>\n",
       "<tr>\n",
       "  <th>Df Residuals:</th>          <td>    68</td>      <th>  BIC:               </th> <td>   101.1</td>\n",
       "</tr>\n",
       "<tr>\n",
       "  <th>Df Model:</th>              <td>     3</td>      <th>                     </th>     <td> </td>   \n",
       "</tr>\n",
       "<tr>\n",
       "  <th>Covariance Type:</th>      <td>nonrobust</td>    <th>                     </th>     <td> </td>   \n",
       "</tr>\n",
       "</table>\n",
       "<table class=\"simpletable\">\n",
       "<tr>\n",
       "        <td></td>           <th>coef</th>     <th>std err</th>      <th>t</th>      <th>P>|t|</th>  <th>[0.025</th>    <th>0.975]</th>  \n",
       "</tr>\n",
       "<tr>\n",
       "  <th>Intercept</th>     <td>    0.1670</td> <td>    0.135</td> <td>    1.234</td> <td> 0.221</td> <td>   -0.103</td> <td>    0.437</td>\n",
       "</tr>\n",
       "<tr>\n",
       "  <th>LnFeDomains</th>   <td>   -0.9963</td> <td>    0.201</td> <td>   -4.949</td> <td> 0.000</td> <td>   -1.398</td> <td>   -0.595</td>\n",
       "</tr>\n",
       "<tr>\n",
       "  <th>X</th>             <td>   -0.0311</td> <td>    0.050</td> <td>   -0.622</td> <td> 0.536</td> <td>   -0.131</td> <td>    0.069</td>\n",
       "</tr>\n",
       "<tr>\n",
       "  <th>X:LnFeDomains</th> <td>   -0.0954</td> <td>    0.057</td> <td>   -1.671</td> <td> 0.099</td> <td>   -0.209</td> <td>    0.019</td>\n",
       "</tr>\n",
       "</table>\n",
       "<table class=\"simpletable\">\n",
       "<tr>\n",
       "  <th>Omnibus:</th>       <td> 4.589</td> <th>  Durbin-Watson:     </th> <td>   0.527</td>\n",
       "</tr>\n",
       "<tr>\n",
       "  <th>Prob(Omnibus):</th> <td> 0.101</td> <th>  Jarque-Bera (JB):  </th> <td>   2.520</td>\n",
       "</tr>\n",
       "<tr>\n",
       "  <th>Skew:</th>          <td>-0.212</td> <th>  Prob(JB):          </th> <td>   0.284</td>\n",
       "</tr>\n",
       "<tr>\n",
       "  <th>Kurtosis:</th>      <td> 2.188</td> <th>  Cond. No.          </th> <td>    16.9</td>\n",
       "</tr>\n",
       "</table><br/><br/>Warnings:<br/>[1] Standard Errors assume that the covariance matrix of the errors is correctly specified."
      ],
      "text/plain": [
       "<class 'statsmodels.iolib.summary.Summary'>\n",
       "\"\"\"\n",
       "                            OLS Regression Results                            \n",
       "==============================================================================\n",
       "Dep. Variable:                 LnDinv   R-squared:                       0.689\n",
       "Model:                            OLS   Adj. R-squared:                  0.675\n",
       "Method:                 Least Squares   F-statistic:                     50.18\n",
       "Date:                Sat, 22 Dec 2018   Prob (F-statistic):           3.21e-17\n",
       "Time:                        21:38:49   Log-Likelihood:                -41.983\n",
       "No. Observations:                  72   AIC:                             91.97\n",
       "Df Residuals:                      68   BIC:                             101.1\n",
       "Df Model:                           3                                         \n",
       "Covariance Type:            nonrobust                                         \n",
       "=================================================================================\n",
       "                    coef    std err          t      P>|t|      [0.025      0.975]\n",
       "---------------------------------------------------------------------------------\n",
       "Intercept         0.1670      0.135      1.234      0.221      -0.103       0.437\n",
       "LnFeDomains      -0.9963      0.201     -4.949      0.000      -1.398      -0.595\n",
       "X                -0.0311      0.050     -0.622      0.536      -0.131       0.069\n",
       "X:LnFeDomains    -0.0954      0.057     -1.671      0.099      -0.209       0.019\n",
       "==============================================================================\n",
       "Omnibus:                        4.589   Durbin-Watson:                   0.527\n",
       "Prob(Omnibus):                  0.101   Jarque-Bera (JB):                2.520\n",
       "Skew:                          -0.212   Prob(JB):                        0.284\n",
       "Kurtosis:                       2.188   Cond. No.                         16.9\n",
       "==============================================================================\n",
       "\n",
       "Warnings:\n",
       "[1] Standard Errors assume that the covariance matrix of the errors is correctly specified.\n",
       "\"\"\""
      ]
     },
     "execution_count": 9,
     "metadata": {},
     "output_type": "execute_result"
    }
   ],
   "source": [
    "est = smf.ols('LnDinv ~ LnFeDomains + X*LnFeDomains', df4).fit()\n",
    "est.summary()"
   ]
  },
  {
   "cell_type": "markdown",
   "metadata": {},
   "source": [
    "Here we treated X as a quantitative variable, which it is not.<br>\n",
    "What does this high p-value means ?<BR>\n",
    "Next we will treat X as qualitative variable<br>"
   ]
  },
  {
   "cell_type": "markdown",
   "metadata": {},
   "source": [
    "### Multiple regression"
   ]
  },
  {
   "cell_type": "code",
   "execution_count": 10,
   "metadata": {},
   "outputs": [
    {
     "name": "stdout",
     "output_type": "stream",
     "text": [
      "['Sheet1', 'Sheet3', 'xS vs FeS domain']\n",
      "<class 'pandas.core.frame.DataFrame'>\n",
      "RangeIndex: 72 entries, 0 to 71\n",
      "Data columns (total 9 columns):\n",
      "Dinv           72 non-null float64\n",
      "LnFeDomains    72 non-null float64\n",
      "LnDinv         72 non-null float64\n",
      "x1             72 non-null int64\n",
      "x2             72 non-null int64\n",
      "x3             72 non-null int64\n",
      "x4             72 non-null int64\n",
      "x5             72 non-null int64\n",
      "x6             72 non-null int64\n",
      "dtypes: float64(3), int64(6)\n",
      "memory usage: 5.1 KB\n"
     ]
    },
    {
     "data": {
      "text/html": [
       "<div>\n",
       "<style scoped>\n",
       "    .dataframe tbody tr th:only-of-type {\n",
       "        vertical-align: middle;\n",
       "    }\n",
       "\n",
       "    .dataframe tbody tr th {\n",
       "        vertical-align: top;\n",
       "    }\n",
       "\n",
       "    .dataframe thead th {\n",
       "        text-align: right;\n",
       "    }\n",
       "</style>\n",
       "<table border=\"1\" class=\"dataframe\">\n",
       "  <thead>\n",
       "    <tr style=\"text-align: right;\">\n",
       "      <th></th>\n",
       "      <th>Dinv</th>\n",
       "      <th>LnFeDomains</th>\n",
       "      <th>LnDinv</th>\n",
       "      <th>x1</th>\n",
       "      <th>x2</th>\n",
       "      <th>x3</th>\n",
       "      <th>x4</th>\n",
       "      <th>x5</th>\n",
       "      <th>x6</th>\n",
       "    </tr>\n",
       "  </thead>\n",
       "  <tbody>\n",
       "    <tr>\n",
       "      <th>0</th>\n",
       "      <td>2.325581</td>\n",
       "      <td>-0.063935</td>\n",
       "      <td>0.843970</td>\n",
       "      <td>1</td>\n",
       "      <td>0</td>\n",
       "      <td>0</td>\n",
       "      <td>0</td>\n",
       "      <td>0</td>\n",
       "      <td>0</td>\n",
       "    </tr>\n",
       "    <tr>\n",
       "      <th>1</th>\n",
       "      <td>3.125000</td>\n",
       "      <td>-0.171537</td>\n",
       "      <td>1.139434</td>\n",
       "      <td>1</td>\n",
       "      <td>0</td>\n",
       "      <td>0</td>\n",
       "      <td>0</td>\n",
       "      <td>0</td>\n",
       "      <td>0</td>\n",
       "    </tr>\n",
       "    <tr>\n",
       "      <th>2</th>\n",
       "      <td>3.030303</td>\n",
       "      <td>-0.297457</td>\n",
       "      <td>1.108663</td>\n",
       "      <td>1</td>\n",
       "      <td>0</td>\n",
       "      <td>0</td>\n",
       "      <td>0</td>\n",
       "      <td>0</td>\n",
       "      <td>0</td>\n",
       "    </tr>\n",
       "    <tr>\n",
       "      <th>3</th>\n",
       "      <td>3.030303</td>\n",
       "      <td>-0.565593</td>\n",
       "      <td>1.108663</td>\n",
       "      <td>1</td>\n",
       "      <td>0</td>\n",
       "      <td>0</td>\n",
       "      <td>0</td>\n",
       "      <td>0</td>\n",
       "      <td>0</td>\n",
       "    </tr>\n",
       "    <tr>\n",
       "      <th>4</th>\n",
       "      <td>4.166667</td>\n",
       "      <td>-0.818951</td>\n",
       "      <td>1.427116</td>\n",
       "      <td>1</td>\n",
       "      <td>0</td>\n",
       "      <td>0</td>\n",
       "      <td>0</td>\n",
       "      <td>0</td>\n",
       "      <td>0</td>\n",
       "    </tr>\n",
       "  </tbody>\n",
       "</table>\n",
       "</div>"
      ],
      "text/plain": [
       "       Dinv  LnFeDomains    LnDinv  x1  x2  x3  x4  x5  x6\n",
       "0  2.325581    -0.063935  0.843970   1   0   0   0   0   0\n",
       "1  3.125000    -0.171537  1.139434   1   0   0   0   0   0\n",
       "2  3.030303    -0.297457  1.108663   1   0   0   0   0   0\n",
       "3  3.030303    -0.565593  1.108663   1   0   0   0   0   0\n",
       "4  4.166667    -0.818951  1.427116   1   0   0   0   0   0"
      ]
     },
     "execution_count": 10,
     "metadata": {},
     "output_type": "execute_result"
    }
   ],
   "source": [
    "data3 = pd.ExcelFile('ModifiedData/Cu_sys_oh.xlsx')\n",
    "print(data3.sheet_names)\n",
    "df5 = data3.parse('Sheet1')\n",
    "df5.head(5)\n",
    "\n",
    "df6 = df5.drop(['Reference', 'Run #', 'D(Cu)'], axis=1)\n",
    "df6.dropna()\n",
    "pd.options.display.max_rows = 999\n",
    "df6.info()\n",
    "df6.head(5)"
   ]
  },
  {
   "cell_type": "markdown",
   "metadata": {},
   "source": [
    "Here we are considering interaction terms"
   ]
  },
  {
   "cell_type": "code",
   "execution_count": 11,
   "metadata": {},
   "outputs": [
    {
     "name": "stdout",
     "output_type": "stream",
     "text": [
      "                            OLS Regression Results                            \n",
      "==============================================================================\n",
      "Dep. Variable:                 LnDinv   R-squared:                       0.912\n",
      "Model:                            OLS   Adj. R-squared:                  0.899\n",
      "Method:                 Least Squares   F-statistic:                     71.00\n",
      "Date:                Sat, 22 Dec 2018   Prob (F-statistic):           2.95e-29\n",
      "Time:                        21:38:49   Log-Likelihood:                 3.3054\n",
      "No. Observations:                  72   AIC:                             13.39\n",
      "Df Residuals:                      62   BIC:                             36.16\n",
      "Df Model:                           9                                         \n",
      "Covariance Type:            nonrobust                                         \n",
      "==================================================================================\n",
      "                     coef    std err          t      P>|t|      [0.025      0.975]\n",
      "----------------------------------------------------------------------------------\n",
      "Intercept          0.4111      0.394      1.043      0.301      -0.377       1.199\n",
      "LnFeDomains       -0.1345      0.298     -0.451      0.654      -0.731       0.462\n",
      "x1                 0.0025      0.397      0.006      0.995      -0.791       0.797\n",
      "x1:LnFeDomains    -0.7384      0.308     -2.401      0.019      -1.353      -0.124\n",
      "x2                -0.5033      0.441     -1.140      0.259      -1.386       0.379\n",
      "x2:LnFeDomains    -0.0510      0.884     -0.058      0.954      -1.818       1.716\n",
      "x3                -0.1898      0.416     -0.457      0.650      -1.020       0.641\n",
      "x3:LnFeDomains     2.0938      0.675      3.104      0.003       0.745       3.442\n",
      "x5                 0.6398      1.951      0.328      0.744      -3.261       4.541\n",
      "x5:LnFeDomains    -0.7647      1.068     -0.716      0.476      -2.899       1.369\n",
      "x6                 0.4619      0.413      1.118      0.268      -0.364       1.288\n",
      "x6:LnFeDomains    -0.6742      0.336     -2.006      0.049      -1.346      -0.002\n",
      "==============================================================================\n",
      "Omnibus:                       15.289   Durbin-Watson:                   0.724\n",
      "Prob(Omnibus):                  0.000   Jarque-Bera (JB):               21.169\n",
      "Skew:                          -0.864   Prob(JB):                     2.53e-05\n",
      "Kurtosis:                       5.018   Cond. No.                     2.58e+16\n",
      "==============================================================================\n",
      "\n",
      "Warnings:\n",
      "[1] Standard Errors assume that the covariance matrix of the errors is correctly specified.\n",
      "[2] The smallest eigenvalue is 1.96e-31. This might indicate that there are\n",
      "strong multicollinearity problems or that the design matrix is singular.\n",
      "Regression 1\n",
      "Intercept         0.411108\n",
      "LnFeDomains      -0.134467\n",
      "x1                0.002546\n",
      "x1:LnFeDomains   -0.738401\n",
      "x2               -0.503344\n",
      "x2:LnFeDomains   -0.050960\n",
      "x3               -0.189756\n",
      "x3:LnFeDomains    2.093801\n",
      "x5                0.639767\n",
      "x5:LnFeDomains   -0.764744\n",
      "x6                0.461894\n",
      "x6:LnFeDomains   -0.674163\n",
      "dtype: float64\n"
     ]
    }
   ],
   "source": [
    "est1 = smf.ols('LnDinv ~ LnFeDomains + x1*LnFeDomains + x2*LnFeDomains + x3*LnFeDomains + x5*LnFeDomains + x6*LnFeDomains ', df6).fit()\n",
    "regr1 = est1.params\n",
    "print(est1.summary())\n",
    "\n",
    "print('Regression 1')\n",
    "print(regr1)"
   ]
  },
  {
   "cell_type": "markdown",
   "metadata": {},
   "source": [
    "**p-values** are quite high!, check what does it mean."
   ]
  },
  {
   "cell_type": "markdown",
   "metadata": {},
   "source": [
    "Tried to plot the above regression"
   ]
  },
  {
   "cell_type": "code",
   "execution_count": 12,
   "metadata": {},
   "outputs": [],
   "source": [
    "# feDomains = np.linspace(0,100)\n",
    "\n",
    "# sulphur = np.linspace(regr1['Intercept']+regr1['x1'],regr1['Intercept']+regr1['x1']+100*regr1['LnFeDomains'])\n",
    "# phosphorus = np.linspace(regr1['Intercept']+regr1['x2'],regr1['Intercept']+regr1['x2']+100*regr1['LnFeDomains'])\n",
    "# carbon = np.linspace(regr1['Intercept']+regr1['x3'],regr1['Intercept']+regr1['x3']+100*regr1['LnFeDomains'])\n",
    "# SC = np.linspace(regr1['Intercept']+regr1['x5'],regr1['Intercept']+regr1['x5']+100*regr1['LnFeDomains'])\n",
    "# SP = np.linspace(regr1['Intercept']+regr1['x6'],regr1['Intercept']+regr1['x6']+100*regr1['LnFeDomains'])\n",
    "\n",
    "# plt.plot(feDomains, sulphur)\n",
    "# plt.plot(feDomains, SP)\n",
    "# plt.plot(feDomains, SC)\n",
    "# plt.show()\n",
    "\n",
    "# # # Create plot\n",
    "# # fig, (ax1,ax2,ax3,ax5,ax6) = plt.subplots(5,1, figsize=(12,12))\n",
    "# # ax1.plot(feDomains, sulphur, 'b')\n",
    "# # ax2.plot(feDomains, phosphorus, 'p')\n",
    "# # ax3.plot(feDomains, carbon, 'y')\n",
    "# # ax5.plot(feDomains, SC, 'g')\n",
    "# # ax6.plot(feDomains, SP, 'r')\n",
    "\n",
    "# # for ax in fig.axes:\n",
    "# #     ax.legend(['System'], loc=2)\n",
    "# #     ax.set_xlabel('LnFeDomains')\n",
    "# #     ax.set_ylabel('LnDinv')\n",
    "# #     ax.set_ylim(ymax=10)"
   ]
  },
  {
   "cell_type": "markdown",
   "metadata": {},
   "source": [
    "Some error in the above code"
   ]
  },
  {
   "cell_type": "markdown",
   "metadata": {},
   "source": [
    "--------------------------"
   ]
  },
  {
   "cell_type": "markdown",
   "metadata": {},
   "source": [
    "Here we are not considering no interaction between Fe Domains and the system in which they belong."
   ]
  },
  {
   "cell_type": "code",
   "execution_count": 48,
   "metadata": {},
   "outputs": [
    {
     "name": "stdout",
     "output_type": "stream",
     "text": [
      "                            OLS Regression Results                            \n",
      "==============================================================================\n",
      "Dep. Variable:                 LnDinv   R-squared:                       0.890\n",
      "Model:                            OLS   Adj. R-squared:                  0.882\n",
      "Method:                 Least Squares   F-statistic:                     107.3\n",
      "Date:                Sat, 22 Dec 2018   Prob (F-statistic):           2.59e-30\n",
      "Time:                        22:44:16   Log-Likelihood:                -4.4034\n",
      "No. Observations:                  72   AIC:                             20.81\n",
      "Df Residuals:                      66   BIC:                             34.47\n",
      "Df Model:                           5                                         \n",
      "Covariance Type:            nonrobust                                         \n",
      "===============================================================================\n",
      "                  coef    std err          t      P>|t|      [0.025      0.975]\n",
      "-------------------------------------------------------------------------------\n",
      "Intercept       0.3219      0.062      5.151      0.000       0.197       0.447\n",
      "LnFeDomains    -0.8230      0.087     -9.424      0.000      -0.997      -0.649\n",
      "x1              0.1169      0.051      2.273      0.026       0.014       0.220\n",
      "x2             -0.5548      0.096     -5.781      0.000      -0.746      -0.363\n",
      "x3             -0.6524      0.077     -8.494      0.000      -0.806      -0.499\n",
      "x5              0.8707      0.173      5.027      0.000       0.525       1.217\n",
      "x6              0.5414      0.082      6.571      0.000       0.377       0.706\n",
      "==============================================================================\n",
      "Omnibus:                        5.914   Durbin-Watson:                   0.679\n",
      "Prob(Omnibus):                  0.052   Jarque-Bera (JB):                5.318\n",
      "Skew:                          -0.499   Prob(JB):                       0.0700\n",
      "Kurtosis:                       3.881   Cond. No.                     1.15e+16\n",
      "==============================================================================\n",
      "\n",
      "Warnings:\n",
      "[1] Standard Errors assume that the covariance matrix of the errors is correctly specified.\n",
      "[2] The smallest eigenvalue is 9.09e-31. This might indicate that there are\n",
      "strong multicollinearity problems or that the design matrix is singular.\n",
      "AIC =  20.806862155966655\n",
      "BIC =  34.466858870062985\n"
     ]
    }
   ],
   "source": [
    "est1 = smf.ols('LnDinv ~ LnFeDomains + x1+ x2 + x3 + x5 + x6 ', df6).fit()\n",
    "regr1 = est1.params\n",
    "print(est1.summary())\n",
    "print(\"AIC = \",est1.aic)\n",
    "print(\"BIC = \",est1.bic)"
   ]
  },
  {
   "cell_type": "markdown",
   "metadata": {},
   "source": [
    "Note: The p-value declined."
   ]
  },
  {
   "cell_type": "markdown",
   "metadata": {},
   "source": [
    "We are getting warning of multicollinearity"
   ]
  },
  {
   "cell_type": "markdown",
   "metadata": {},
   "source": [
    "StackExchange:<BR>\n",
    "\n",
    "The problem you are having (i.e., \"singularities\") can be thought of as an instance of multicollinearity. Multicollinearity is often defined as:\n",
    "One or more predictor variables are a linear combination of other predictor variables.\n",
    "This is, in fact, a rather strict definition; it is perfect multicollinearity, and you can easily have a problem with multicollinearity without any of your variables being perfect linear combinations of others. Moreover, perfect multicollinearity rarely occurs. However, you have stumbled across an case where it can occur. Let us see how we can perfectly predict medium quality from our knowledge of the other two categories (we'll do this with a regression model where medium quality is Y, and bad quality & high quality are X1 & X2, respectively):\n",
    "\n",
    "<BR>When representing a categorical variable, we typically use reference cell coding (often called 'dummy coding'). To do this, we pick one level of our categorical variable as the reference level; that level does not get its own dummy code, but is simply indicated by having all 0's in the dummy codes for all other levels. The other levels of your categorical variable are represented by dummy codes just as you have already done. (For some more information on this, you can see my answer here: Regression based for example on days of week.) "
   ]
  },
  {
   "cell_type": "markdown",
   "metadata": {},
   "source": [
    "First, days of the week are included via a coding scheme. The most popular is 'reference category' coding (typically called dummy coding). Lets imagine that your data are represented in a matrix, with your cases in rows and your variables in columns. In this scheme, if you had 7 categorical variables (e.g., for days of the week) you would add 6 new columns. You would pick one day as the reference category, generally the one that is thought of as the default. Often this is informed by theory, context, or the research question. I have no idea which would be best for days of the week, but it also doesn't really matter much, you could just pick any old one. Once you have the reference category, you could assign the others to your new 6 variables, then you simply indicate whether that variable obtains for each case. For example, say you pick Sunday as the reference category, your new columns / variables would be Monday-Saturday. Every observation that took place on a Monday would be indicated with a 1 in the Monday column, and a 0 elsewhere. The same would happen with observations on Tuesdays and so on. Note that no case can get a 1 in 2 or more columns, and that observations that took place on Sunday (the reference category) would have 0's in all of your new variables. There are many other coding schemes possible, and the link does a good job of introducing them. You can test to see if the day of the week matters by testing the nested model with all of the new 6 variables dropped vs. the full model with all 6 included. Note that you should not use the tests that are reported with standard output, as these are not independent and have intrinsic multiple comparison problems."
   ]
  },
  {
   "cell_type": "markdown",
   "metadata": {},
   "source": [
    "We are taking Fe-Ni-S-P as the reference system so we have removed Fe-Ni-S-P, and also the Si column which is empty."
   ]
  },
  {
   "cell_type": "code",
   "execution_count": 14,
   "metadata": {},
   "outputs": [
    {
     "name": "stdout",
     "output_type": "stream",
     "text": [
      "['Sheet1', 'Sheet3', 'xS vs FeS domain']\n",
      "<class 'pandas.core.frame.DataFrame'>\n",
      "RangeIndex: 72 entries, 0 to 71\n",
      "Data columns (total 7 columns):\n",
      "Dinv           72 non-null float64\n",
      "LnFeDomains    72 non-null float64\n",
      "LnDinv         72 non-null float64\n",
      "x1             72 non-null int64\n",
      "x2             72 non-null int64\n",
      "x3             72 non-null int64\n",
      "x5             72 non-null int64\n",
      "dtypes: float64(3), int64(4)\n",
      "memory usage: 4.0 KB\n"
     ]
    },
    {
     "data": {
      "text/html": [
       "<div>\n",
       "<style scoped>\n",
       "    .dataframe tbody tr th:only-of-type {\n",
       "        vertical-align: middle;\n",
       "    }\n",
       "\n",
       "    .dataframe tbody tr th {\n",
       "        vertical-align: top;\n",
       "    }\n",
       "\n",
       "    .dataframe thead th {\n",
       "        text-align: right;\n",
       "    }\n",
       "</style>\n",
       "<table border=\"1\" class=\"dataframe\">\n",
       "  <thead>\n",
       "    <tr style=\"text-align: right;\">\n",
       "      <th></th>\n",
       "      <th>Dinv</th>\n",
       "      <th>LnFeDomains</th>\n",
       "      <th>LnDinv</th>\n",
       "      <th>x1</th>\n",
       "      <th>x2</th>\n",
       "      <th>x3</th>\n",
       "      <th>x5</th>\n",
       "    </tr>\n",
       "  </thead>\n",
       "  <tbody>\n",
       "    <tr>\n",
       "      <th>0</th>\n",
       "      <td>2.325581</td>\n",
       "      <td>-0.063935</td>\n",
       "      <td>0.843970</td>\n",
       "      <td>1</td>\n",
       "      <td>0</td>\n",
       "      <td>0</td>\n",
       "      <td>0</td>\n",
       "    </tr>\n",
       "    <tr>\n",
       "      <th>1</th>\n",
       "      <td>3.125000</td>\n",
       "      <td>-0.171537</td>\n",
       "      <td>1.139434</td>\n",
       "      <td>1</td>\n",
       "      <td>0</td>\n",
       "      <td>0</td>\n",
       "      <td>0</td>\n",
       "    </tr>\n",
       "    <tr>\n",
       "      <th>2</th>\n",
       "      <td>3.030303</td>\n",
       "      <td>-0.297457</td>\n",
       "      <td>1.108663</td>\n",
       "      <td>1</td>\n",
       "      <td>0</td>\n",
       "      <td>0</td>\n",
       "      <td>0</td>\n",
       "    </tr>\n",
       "    <tr>\n",
       "      <th>3</th>\n",
       "      <td>3.030303</td>\n",
       "      <td>-0.565593</td>\n",
       "      <td>1.108663</td>\n",
       "      <td>1</td>\n",
       "      <td>0</td>\n",
       "      <td>0</td>\n",
       "      <td>0</td>\n",
       "    </tr>\n",
       "    <tr>\n",
       "      <th>4</th>\n",
       "      <td>4.166667</td>\n",
       "      <td>-0.818951</td>\n",
       "      <td>1.427116</td>\n",
       "      <td>1</td>\n",
       "      <td>0</td>\n",
       "      <td>0</td>\n",
       "      <td>0</td>\n",
       "    </tr>\n",
       "  </tbody>\n",
       "</table>\n",
       "</div>"
      ],
      "text/plain": [
       "       Dinv  LnFeDomains    LnDinv  x1  x2  x3  x5\n",
       "0  2.325581    -0.063935  0.843970   1   0   0   0\n",
       "1  3.125000    -0.171537  1.139434   1   0   0   0\n",
       "2  3.030303    -0.297457  1.108663   1   0   0   0\n",
       "3  3.030303    -0.565593  1.108663   1   0   0   0\n",
       "4  4.166667    -0.818951  1.427116   1   0   0   0"
      ]
     },
     "execution_count": 14,
     "metadata": {},
     "output_type": "execute_result"
    }
   ],
   "source": [
    "data4 = pd.ExcelFile('ModifiedData/Cu_sys_coll.xlsx')\n",
    "print(data4.sheet_names)\n",
    "df7 = data4.parse('Sheet1')\n",
    "df7.head(5)\n",
    "\n",
    "df8 = df7.drop(['Reference', 'Run #', 'D(Cu)'], axis=1)\n",
    "df8.dropna()\n",
    "pd.options.display.max_rows = 999\n",
    "df8.info()\n",
    "df8.head(5)"
   ]
  },
  {
   "cell_type": "markdown",
   "metadata": {},
   "source": [
    "------------------------"
   ]
  },
  {
   "cell_type": "markdown",
   "metadata": {},
   "source": [
    "## Best Subset Selection\n"
   ]
  },
  {
   "cell_type": "markdown",
   "metadata": {},
   "source": [
    "### 5 Features"
   ]
  },
  {
   "cell_type": "code",
   "execution_count": 47,
   "metadata": {},
   "outputs": [
    {
     "name": "stdout",
     "output_type": "stream",
     "text": [
      "                            OLS Regression Results                            \n",
      "==============================================================================\n",
      "Dep. Variable:                 LnDinv   R-squared:                       0.890\n",
      "Model:                            OLS   Adj. R-squared:                  0.882\n",
      "Method:                 Least Squares   F-statistic:                     107.3\n",
      "Date:                Sat, 22 Dec 2018   Prob (F-statistic):           2.59e-30\n",
      "Time:                        22:42:20   Log-Likelihood:                -4.4034\n",
      "No. Observations:                  72   AIC:                             20.81\n",
      "Df Residuals:                      66   BIC:                             34.47\n",
      "Df Model:                           5                                         \n",
      "Covariance Type:            nonrobust                                         \n",
      "===============================================================================\n",
      "                  coef    std err          t      P>|t|      [0.025      0.975]\n",
      "-------------------------------------------------------------------------------\n",
      "Intercept       0.8633      0.107      8.061      0.000       0.649       1.077\n",
      "LnFeDomains    -0.8230      0.087     -9.424      0.000      -0.997      -0.649\n",
      "x1             -0.4245      0.100     -4.227      0.000      -0.625      -0.224\n",
      "x2             -1.0963      0.141     -7.773      0.000      -1.378      -0.815\n",
      "x3             -1.1938      0.122     -9.783      0.000      -1.437      -0.950\n",
      "x5              0.3293      0.207      1.591      0.116      -0.084       0.743\n",
      "==============================================================================\n",
      "Omnibus:                        5.914   Durbin-Watson:                   0.679\n",
      "Prob(Omnibus):                  0.052   Jarque-Bera (JB):                5.318\n",
      "Skew:                          -0.499   Prob(JB):                       0.0700\n",
      "Kurtosis:                       3.881   Cond. No.                         9.18\n",
      "==============================================================================\n",
      "\n",
      "Warnings:\n",
      "[1] Standard Errors assume that the covariance matrix of the errors is correctly specified.\n",
      "AIC =  20.806862155966655\n",
      "BIC =  34.466858870062985\n"
     ]
    }
   ],
   "source": [
    "est1 = smf.ols('LnDinv ~ LnFeDomains + x1 + x2 + x3 + x5 ', df6).fit()\n",
    "regr1 = est1.params\n",
    "print(est1.summary())\n",
    "print(\"AIC = \",est1.aic)\n",
    "print(\"BIC = \",est1.bic)"
   ]
  },
  {
   "cell_type": "markdown",
   "metadata": {},
   "source": [
    "P-values are very low, also we have got ourselves a non-singular design matrix, so the problem of multicollinearity is also resolved.<BR>\n",
    "Now we need to check if the features are independant or not"
   ]
  },
  {
   "cell_type": "markdown",
   "metadata": {},
   "source": [
    "-----------------------------------------------------------"
   ]
  },
  {
   "cell_type": "markdown",
   "metadata": {},
   "source": [
    "### 4 Features"
   ]
  },
  {
   "cell_type": "code",
   "execution_count": 46,
   "metadata": {},
   "outputs": [
    {
     "name": "stdout",
     "output_type": "stream",
     "text": [
      "                            OLS Regression Results                            \n",
      "==============================================================================\n",
      "Dep. Variable:                 LnDinv   R-squared:                       0.886\n",
      "Model:                            OLS   Adj. R-squared:                  0.879\n",
      "Method:                 Least Squares   F-statistic:                     130.5\n",
      "Date:                Sat, 22 Dec 2018   Prob (F-statistic):           7.29e-31\n",
      "Time:                        22:41:58   Log-Likelihood:                -5.7580\n",
      "No. Observations:                  72   AIC:                             21.52\n",
      "Df Residuals:                      67   BIC:                             32.90\n",
      "Df Model:                           4                                         \n",
      "Covariance Type:            nonrobust                                         \n",
      "===============================================================================\n",
      "                  coef    std err          t      P>|t|      [0.025      0.975]\n",
      "-------------------------------------------------------------------------------\n",
      "Intercept       0.8781      0.108      8.138      0.000       0.663       1.093\n",
      "LnFeDomains    -0.8927      0.076    -11.682      0.000      -1.045      -0.740\n",
      "x1             -0.4745      0.096     -4.918      0.000      -0.667      -0.282\n",
      "x2             -1.1264      0.141     -7.970      0.000      -1.409      -0.844\n",
      "x3             -1.2224      0.122    -10.014      0.000      -1.466      -0.979\n",
      "==============================================================================\n",
      "Omnibus:                        5.597   Durbin-Watson:                   0.721\n",
      "Prob(Omnibus):                  0.061   Jarque-Bera (JB):                4.854\n",
      "Skew:                          -0.504   Prob(JB):                       0.0883\n",
      "Kurtosis:                       3.775   Cond. No.                         8.47\n",
      "==============================================================================\n",
      "\n",
      "Warnings:\n",
      "[1] Standard Errors assume that the covariance matrix of the errors is correctly specified.\n",
      "AIC =  21.515951331875925\n",
      "BIC =  32.899281926956206\n"
     ]
    }
   ],
   "source": [
    "est1 = smf.ols('LnDinv ~ LnFeDomains + x1 + x2 + x3 ', df6).fit()\n",
    "regr1 = est1.params\n",
    "print(est1.summary())\n",
    "print(\"AIC = \",est1.aic)\n",
    "print(\"BIC = \",est1.bic)"
   ]
  },
  {
   "cell_type": "code",
   "execution_count": 21,
   "metadata": {},
   "outputs": [
    {
     "name": "stdout",
     "output_type": "stream",
     "text": [
      "                            OLS Regression Results                            \n",
      "==============================================================================\n",
      "Dep. Variable:                 LnDinv   R-squared:                       0.732\n",
      "Model:                            OLS   Adj. R-squared:                  0.716\n",
      "Method:                 Least Squares   F-statistic:                     45.65\n",
      "Date:                Sat, 22 Dec 2018   Prob (F-statistic):           1.87e-18\n",
      "Time:                        21:44:28   Log-Likelihood:                -36.664\n",
      "No. Observations:                  72   AIC:                             83.33\n",
      "Df Residuals:                      67   BIC:                             94.71\n",
      "Df Model:                           4                                         \n",
      "Covariance Type:            nonrobust                                         \n",
      "===============================================================================\n",
      "                  coef    std err          t      P>|t|      [0.025      0.975]\n",
      "-------------------------------------------------------------------------------\n",
      "Intercept       0.0254      0.100      0.254      0.800      -0.174       0.225\n",
      "LnFeDomains    -1.1129      0.128     -8.721      0.000      -1.368      -0.858\n",
      "x1              0.2671      0.111      2.410      0.019       0.046       0.488\n",
      "x2             -0.3223      0.181     -1.777      0.080      -0.684       0.040\n",
      "x5              0.6278      0.318      1.974      0.053      -0.007       1.263\n",
      "==============================================================================\n",
      "Omnibus:                        0.043   Durbin-Watson:                   0.410\n",
      "Prob(Omnibus):                  0.979   Jarque-Bera (JB):                0.162\n",
      "Skew:                           0.052   Prob(JB):                        0.922\n",
      "Kurtosis:                       2.793   Cond. No.                         8.60\n",
      "==============================================================================\n",
      "\n",
      "Warnings:\n",
      "[1] Standard Errors assume that the covariance matrix of the errors is correctly specified.\n",
      "Regression 1\n",
      "Intercept      0.025385\n",
      "LnFeDomains   -1.112934\n",
      "x1             0.267079\n",
      "x2            -0.322309\n",
      "x5             0.627766\n",
      "dtype: float64\n"
     ]
    }
   ],
   "source": [
    "est1 = smf.ols('LnDinv ~ LnFeDomains + x1 + x2 + x5 ', df6).fit()\n",
    "regr1 = est1.params\n",
    "print(est1.summary())\n",
    "\n",
    "print('Regression 1')\n",
    "print(regr1)"
   ]
  },
  {
   "cell_type": "code",
   "execution_count": 22,
   "metadata": {},
   "outputs": [
    {
     "name": "stdout",
     "output_type": "stream",
     "text": [
      "                            OLS Regression Results                            \n",
      "==============================================================================\n",
      "Dep. Variable:                 LnDinv   R-squared:                       0.790\n",
      "Model:                            OLS   Adj. R-squared:                  0.778\n",
      "Method:                 Least Squares   F-statistic:                     63.06\n",
      "Date:                Sat, 22 Dec 2018   Prob (F-statistic):           5.30e-22\n",
      "Time:                        21:44:42   Log-Likelihood:                -27.803\n",
      "No. Observations:                  72   AIC:                             65.61\n",
      "Df Residuals:                      67   BIC:                             76.99\n",
      "Df Model:                           4                                         \n",
      "Covariance Type:            nonrobust                                         \n",
      "===============================================================================\n",
      "                  coef    std err          t      P>|t|      [0.025      0.975]\n",
      "-------------------------------------------------------------------------------\n",
      "Intercept       0.2935      0.107      2.737      0.008       0.079       0.508\n",
      "LnFeDomains    -1.0130      0.115     -8.795      0.000      -1.243      -0.783\n",
      "x1              0.0494      0.110      0.451      0.654      -0.169       0.268\n",
      "x3             -0.6617      0.139     -4.768      0.000      -0.939      -0.385\n",
      "x5              0.5457      0.282      1.937      0.057      -0.017       1.108\n",
      "==============================================================================\n",
      "Omnibus:                        1.203   Durbin-Watson:                   0.466\n",
      "Prob(Omnibus):                  0.548   Jarque-Bera (JB):                1.243\n",
      "Skew:                          -0.232   Prob(JB):                        0.537\n",
      "Kurtosis:                       2.555   Cond. No.                         8.65\n",
      "==============================================================================\n",
      "\n",
      "Warnings:\n",
      "[1] Standard Errors assume that the covariance matrix of the errors is correctly specified.\n",
      "Regression 1\n",
      "Intercept      0.293524\n",
      "LnFeDomains   -1.012954\n",
      "x1             0.049411\n",
      "x3            -0.661658\n",
      "x5             0.545683\n",
      "dtype: float64\n"
     ]
    }
   ],
   "source": [
    "est1 = smf.ols('LnDinv ~ LnFeDomains + x1 + x3 + x5 ', df6).fit()\n",
    "regr1 = est1.params\n",
    "print(est1.summary())\n",
    "\n",
    "print('Regression 1')\n",
    "print(regr1)"
   ]
  },
  {
   "cell_type": "code",
   "execution_count": 23,
   "metadata": {},
   "outputs": [
    {
     "name": "stdout",
     "output_type": "stream",
     "text": [
      "                            OLS Regression Results                            \n",
      "==============================================================================\n",
      "Dep. Variable:                 LnDinv   R-squared:                       0.861\n",
      "Model:                            OLS   Adj. R-squared:                  0.852\n",
      "Method:                 Least Squares   F-statistic:                     103.6\n",
      "Date:                Sat, 22 Dec 2018   Prob (F-statistic):           6.15e-28\n",
      "Time:                        21:44:49   Log-Likelihood:                -13.028\n",
      "No. Observations:                  72   AIC:                             36.06\n",
      "Df Residuals:                      67   BIC:                             47.44\n",
      "Df Model:                           4                                         \n",
      "Covariance Type:            nonrobust                                         \n",
      "===============================================================================\n",
      "                  coef    std err          t      P>|t|      [0.025      0.975]\n",
      "-------------------------------------------------------------------------------\n",
      "Intercept       0.4895      0.068      7.242      0.000       0.355       0.624\n",
      "LnFeDomains    -0.8769      0.097     -9.071      0.000      -1.070      -0.684\n",
      "x5              0.6029      0.220      2.741      0.008       0.164       1.042\n",
      "x2             -0.7344      0.125     -5.857      0.000      -0.985      -0.484\n",
      "x3             -0.8307      0.097     -8.566      0.000      -1.024      -0.637\n",
      "==============================================================================\n",
      "Omnibus:                        4.411   Durbin-Watson:                   0.509\n",
      "Prob(Omnibus):                  0.110   Jarque-Bera (JB):                3.626\n",
      "Skew:                          -0.418   Prob(JB):                        0.163\n",
      "Kurtosis:                       3.713   Cond. No.                         7.55\n",
      "==============================================================================\n",
      "\n",
      "Warnings:\n",
      "[1] Standard Errors assume that the covariance matrix of the errors is correctly specified.\n",
      "Regression 1\n",
      "Intercept      0.489546\n",
      "LnFeDomains   -0.876853\n",
      "x5             0.602937\n",
      "x2            -0.734370\n",
      "x3            -0.830687\n",
      "dtype: float64\n"
     ]
    }
   ],
   "source": [
    "est1 = smf.ols('LnDinv ~ LnFeDomains + x5 + x2 + x3 ', df6).fit()\n",
    "regr1 = est1.params\n",
    "print(est1.summary())\n",
    "\n",
    "print('Regression 1')\n",
    "print(regr1)"
   ]
  },
  {
   "cell_type": "markdown",
   "metadata": {},
   "source": [
    "On removing x5, we saw almost no drop in r2-statistic.<br>\n",
    "On removing x1 also, the drop was quite low, while huge drops on removing x2 and x3."
   ]
  },
  {
   "cell_type": "markdown",
   "metadata": {},
   "source": [
    " --------------------------------------------------------------------"
   ]
  },
  {
   "cell_type": "markdown",
   "metadata": {},
   "source": [
    "### 3 Features"
   ]
  },
  {
   "cell_type": "code",
   "execution_count": 26,
   "metadata": {},
   "outputs": [
    {
     "name": "stdout",
     "output_type": "stream",
     "text": [
      "                            OLS Regression Results                            \n",
      "==============================================================================\n",
      "Dep. Variable:                 LnDinv   R-squared:                       0.716\n",
      "Model:                            OLS   Adj. R-squared:                  0.703\n",
      "Method:                 Least Squares   F-statistic:                     57.14\n",
      "Date:                Sat, 22 Dec 2018   Prob (F-statistic):           1.47e-18\n",
      "Time:                        21:50:51   Log-Likelihood:                -38.698\n",
      "No. Observations:                  72   AIC:                             85.40\n",
      "Df Residuals:                      68   BIC:                             94.50\n",
      "Df Model:                           3                                         \n",
      "Covariance Type:            nonrobust                                         \n",
      "===============================================================================\n",
      "                  coef    std err          t      P>|t|      [0.025      0.975]\n",
      "-------------------------------------------------------------------------------\n",
      "Intercept       0.0151      0.102      0.148      0.883      -0.188       0.218\n",
      "LnFeDomains    -1.2622      0.105    -12.025      0.000      -1.472      -1.053\n",
      "x1              0.2020      0.108      1.870      0.066      -0.014       0.418\n",
      "x2             -0.3449      0.185     -1.866      0.066      -0.714       0.024\n",
      "==============================================================================\n",
      "Omnibus:                        1.182   Durbin-Watson:                   0.526\n",
      "Prob(Omnibus):                  0.554   Jarque-Bera (JB):                1.078\n",
      "Skew:                          -0.120   Prob(JB):                        0.583\n",
      "Kurtosis:                       2.451   Cond. No.                         5.18\n",
      "==============================================================================\n",
      "\n",
      "Warnings:\n",
      "[1] Standard Errors assume that the covariance matrix of the errors is correctly specified.\n",
      "Regression 1\n",
      "Intercept      0.015084\n",
      "LnFeDomains   -1.262198\n",
      "x1             0.202028\n",
      "x2            -0.344949\n",
      "dtype: float64\n"
     ]
    }
   ],
   "source": [
    "est1 = smf.ols('LnDinv ~ LnFeDomains + x1 + x2 ', df6).fit()\n",
    "regr1 = est1.params\n",
    "print(est1.summary())\n",
    "\n",
    "print('Regression 1')\n",
    "print(regr1)"
   ]
  },
  {
   "cell_type": "code",
   "execution_count": 25,
   "metadata": {},
   "outputs": [
    {
     "name": "stdout",
     "output_type": "stream",
     "text": [
      "                            OLS Regression Results                            \n",
      "==============================================================================\n",
      "Dep. Variable:                 LnDinv   R-squared:                       0.778\n",
      "Model:                            OLS   Adj. R-squared:                  0.769\n",
      "Method:                 Least Squares   F-statistic:                     79.61\n",
      "Date:                Sat, 22 Dec 2018   Prob (F-statistic):           3.32e-22\n",
      "Time:                        21:50:37   Log-Likelihood:                -29.764\n",
      "No. Observations:                  72   AIC:                             67.53\n",
      "Df Residuals:                      68   BIC:                             76.63\n",
      "Df Model:                           3                                         \n",
      "Covariance Type:            nonrobust                                         \n",
      "===============================================================================\n",
      "                  coef    std err          t      P>|t|      [0.025      0.975]\n",
      "-------------------------------------------------------------------------------\n",
      "Intercept       0.2920      0.109      2.669      0.009       0.074       0.510\n",
      "LnFeDomains    -1.1393      0.097    -11.769      0.000      -1.332      -0.946\n",
      "x1             -0.0129      0.107     -0.121      0.904      -0.226       0.200\n",
      "x3             -0.6852      0.141     -4.860      0.000      -0.967      -0.404\n",
      "==============================================================================\n",
      "Omnibus:                        2.999   Durbin-Watson:                   0.592\n",
      "Prob(Omnibus):                  0.223   Jarque-Bera (JB):                2.486\n",
      "Skew:                          -0.335   Prob(JB):                        0.289\n",
      "Kurtosis:                       2.383   Cond. No.                         5.49\n",
      "==============================================================================\n",
      "\n",
      "Warnings:\n",
      "[1] Standard Errors assume that the covariance matrix of the errors is correctly specified.\n",
      "Regression 1\n",
      "Intercept      0.292031\n",
      "LnFeDomains   -1.139315\n",
      "x1            -0.012886\n",
      "x3            -0.685226\n",
      "dtype: float64\n"
     ]
    }
   ],
   "source": [
    "est1 = smf.ols('LnDinv ~ LnFeDomains + x1 + x3 ', df6).fit()\n",
    "regr1 = est1.params\n",
    "print(est1.summary())\n",
    "\n",
    "print('Regression 1')\n",
    "print(regr1)"
   ]
  },
  {
   "cell_type": "code",
   "execution_count": 27,
   "metadata": {},
   "outputs": [
    {
     "name": "stdout",
     "output_type": "stream",
     "text": [
      "                            OLS Regression Results                            \n",
      "==============================================================================\n",
      "Dep. Variable:                 LnDinv   R-squared:                       0.719\n",
      "Model:                            OLS   Adj. R-squared:                  0.707\n",
      "Method:                 Least Squares   F-statistic:                     57.97\n",
      "Date:                Sat, 22 Dec 2018   Prob (F-statistic):           1.03e-18\n",
      "Time:                        21:51:02   Log-Likelihood:                -38.322\n",
      "No. Observations:                  72   AIC:                             84.64\n",
      "Df Residuals:                      68   BIC:                             93.75\n",
      "Df Model:                           3                                         \n",
      "Covariance Type:            nonrobust                                         \n",
      "===============================================================================\n",
      "                  coef    std err          t      P>|t|      [0.025      0.975]\n",
      "-------------------------------------------------------------------------------\n",
      "Intercept      -0.0588      0.089     -0.659      0.512      -0.237       0.119\n",
      "LnFeDomains    -1.1390      0.129     -8.845      0.000      -1.396      -0.882\n",
      "x1              0.3381      0.105      3.221      0.002       0.129       0.548\n",
      "x5              0.6635      0.322      2.058      0.043       0.020       1.307\n",
      "==============================================================================\n",
      "Omnibus:                        1.697   Durbin-Watson:                   0.408\n",
      "Prob(Omnibus):                  0.428   Jarque-Bera (JB):                1.621\n",
      "Skew:                           0.354   Prob(JB):                        0.445\n",
      "Kurtosis:                       2.804   Cond. No.                         8.57\n",
      "==============================================================================\n",
      "\n",
      "Warnings:\n",
      "[1] Standard Errors assume that the covariance matrix of the errors is correctly specified.\n",
      "Regression 1\n",
      "Intercept     -0.058825\n",
      "LnFeDomains   -1.138973\n",
      "x1             0.338143\n",
      "x5             0.663518\n",
      "dtype: float64\n"
     ]
    }
   ],
   "source": [
    "est1 = smf.ols('LnDinv ~ LnFeDomains + x1 + x5 ', df6).fit()\n",
    "regr1 = est1.params\n",
    "print(est1.summary())\n",
    "\n",
    "print('Regression 1')\n",
    "print(regr1)"
   ]
  },
  {
   "cell_type": "code",
   "execution_count": 44,
   "metadata": {},
   "outputs": [
    {
     "name": "stdout",
     "output_type": "stream",
     "text": [
      "                            OLS Regression Results                            \n",
      "==============================================================================\n",
      "Dep. Variable:                 LnDinv   R-squared:                       0.845\n",
      "Model:                            OLS   Adj. R-squared:                  0.838\n",
      "Method:                 Least Squares   F-statistic:                     123.7\n",
      "Date:                Sat, 22 Dec 2018   Prob (F-statistic):           1.75e-27\n",
      "Time:                        22:38:32   Log-Likelihood:                -16.854\n",
      "No. Observations:                  72   AIC:                             41.71\n",
      "Df Residuals:                      68   BIC:                             50.81\n",
      "Df Model:                           3                                         \n",
      "Covariance Type:            nonrobust                                         \n",
      "===============================================================================\n",
      "                  coef    std err          t      P>|t|      [0.025      0.975]\n",
      "-------------------------------------------------------------------------------\n",
      "Intercept       0.4303      0.067      6.418      0.000       0.297       0.564\n",
      "LnFeDomains    -1.0311      0.082    -12.531      0.000      -1.195      -0.867\n",
      "x2             -0.7092      0.131     -5.418      0.000      -0.970      -0.448\n",
      "x3             -0.8020      0.101     -7.948      0.000      -1.003      -0.601\n",
      "==============================================================================\n",
      "Omnibus:                        3.418   Durbin-Watson:                   0.595\n",
      "Prob(Omnibus):                  0.181   Jarque-Bera (JB):                2.634\n",
      "Skew:                          -0.434   Prob(JB):                        0.268\n",
      "Kurtosis:                       3.353   Cond. No.                         4.55\n",
      "==============================================================================\n",
      "\n",
      "Warnings:\n",
      "[1] Standard Errors assume that the covariance matrix of the errors is correctly specified.\n",
      "41.7075848597633\n",
      "50.814249335827526\n"
     ]
    }
   ],
   "source": [
    "est1 = smf.ols('LnDinv ~ LnFeDomains + x2 + x3 ', df6).fit()\n",
    "regr1 = est1.params\n",
    "print(est1.summary())\n",
    "print(est1.aic)\n",
    "print(est1.bic)"
   ]
  },
  {
   "cell_type": "code",
   "execution_count": 30,
   "metadata": {},
   "outputs": [
    {
     "name": "stdout",
     "output_type": "stream",
     "text": [
      "                            OLS Regression Results                            \n",
      "==============================================================================\n",
      "Dep. Variable:                 LnDinv   R-squared:                       0.708\n",
      "Model:                            OLS   Adj. R-squared:                  0.695\n",
      "Method:                 Least Squares   F-statistic:                     55.04\n",
      "Date:                Sat, 22 Dec 2018   Prob (F-statistic):           3.62e-18\n",
      "Time:                        21:52:22   Log-Likelihood:                -39.657\n",
      "No. Observations:                  72   AIC:                             87.31\n",
      "Df Residuals:                      68   BIC:                             96.42\n",
      "Df Model:                           3                                         \n",
      "Covariance Type:            nonrobust                                         \n",
      "===============================================================================\n",
      "                  coef    std err          t      P>|t|      [0.025      0.975]\n",
      "-------------------------------------------------------------------------------\n",
      "Intercept       0.1737      0.081      2.134      0.036       0.011       0.336\n",
      "LnFeDomains    -1.1558      0.131     -8.838      0.000      -1.417      -0.895\n",
      "x2             -0.4801      0.175     -2.743      0.008      -0.829      -0.131\n",
      "x5              0.3997      0.314      1.272      0.208      -0.227       1.027\n",
      "==============================================================================\n",
      "Omnibus:                        2.991   Durbin-Watson:                   0.425\n",
      "Prob(Omnibus):                  0.224   Jarque-Bera (JB):                2.947\n",
      "Skew:                          -0.463   Prob(JB):                        0.229\n",
      "Kurtosis:                       2.646   Cond. No.                         7.34\n",
      "==============================================================================\n",
      "\n",
      "Warnings:\n",
      "[1] Standard Errors assume that the covariance matrix of the errors is correctly specified.\n"
     ]
    }
   ],
   "source": [
    "est1 = smf.ols('LnDinv ~ LnFeDomains + x2 + x5 ', df6).fit()\n",
    "regr1 = est1.params\n",
    "print(est1.summary())"
   ]
  },
  {
   "cell_type": "code",
   "execution_count": 31,
   "metadata": {},
   "outputs": [
    {
     "name": "stdout",
     "output_type": "stream",
     "text": [
      "                            OLS Regression Results                            \n",
      "==============================================================================\n",
      "Dep. Variable:                 LnDinv   R-squared:                       0.789\n",
      "Model:                            OLS   Adj. R-squared:                  0.780\n",
      "Method:                 Least Squares   F-statistic:                     85.01\n",
      "Date:                Sat, 22 Dec 2018   Prob (F-statistic):           5.81e-23\n",
      "Time:                        21:52:28   Log-Likelihood:                -27.912\n",
      "No. Observations:                  72   AIC:                             63.82\n",
      "Df Residuals:                      68   BIC:                             72.93\n",
      "Df Model:                           3                                         \n",
      "Covariance Type:            nonrobust                                         \n",
      "===============================================================================\n",
      "                  coef    std err          t      P>|t|      [0.025      0.975]\n",
      "-------------------------------------------------------------------------------\n",
      "Intercept       0.3277      0.075      4.352      0.000       0.177       0.478\n",
      "LnFeDomains    -1.0146      0.114     -8.866      0.000      -1.243      -0.786\n",
      "x3             -0.6962      0.115     -6.054      0.000      -0.926      -0.467\n",
      "x5              0.5084      0.268      1.899      0.062      -0.026       1.043\n",
      "==============================================================================\n",
      "Omnibus:                        1.898   Durbin-Watson:                   0.478\n",
      "Prob(Omnibus):                  0.387   Jarque-Bera (JB):                1.876\n",
      "Skew:                          -0.330   Prob(JB):                        0.392\n",
      "Kurtosis:                       2.564   Cond. No.                         7.46\n",
      "==============================================================================\n",
      "\n",
      "Warnings:\n",
      "[1] Standard Errors assume that the covariance matrix of the errors is correctly specified.\n"
     ]
    }
   ],
   "source": [
    "est1 = smf.ols('LnDinv ~ LnFeDomains + x3 + x5 ', df6).fit()\n",
    "regr1 = est1.params\n",
    "print(est1.summary())"
   ]
  },
  {
   "cell_type": "markdown",
   "metadata": {},
   "source": [
    "**In 3 predictor systems, x2 and x3 are the most important features.**"
   ]
  },
  {
   "cell_type": "markdown",
   "metadata": {},
   "source": [
    "-------------------------------------------------------"
   ]
  },
  {
   "cell_type": "code",
   "execution_count": 32,
   "metadata": {},
   "outputs": [
    {
     "name": "stdout",
     "output_type": "stream",
     "text": [
      "                            OLS Regression Results                            \n",
      "==============================================================================\n",
      "Dep. Variable:                 LnDinv   R-squared:                       0.701\n",
      "Model:                            OLS   Adj. R-squared:                  0.693\n",
      "Method:                 Least Squares   F-statistic:                     81.04\n",
      "Date:                Sat, 22 Dec 2018   Prob (F-statistic):           7.76e-19\n",
      "Time:                        21:55:48   Log-Likelihood:                -40.496\n",
      "No. Observations:                  72   AIC:                             86.99\n",
      "Df Residuals:                      69   BIC:                             93.82\n",
      "Df Model:                           2                                         \n",
      "Covariance Type:            nonrobust                                         \n",
      "===============================================================================\n",
      "                  coef    std err          t      P>|t|      [0.025      0.975]\n",
      "-------------------------------------------------------------------------------\n",
      "Intercept      -0.0760      0.091     -0.836      0.406      -0.258       0.105\n",
      "LnFeDomains    -1.2993      0.105    -12.386      0.000      -1.509      -1.090\n",
      "x1              0.2744      0.103      2.674      0.009       0.070       0.479\n",
      "==============================================================================\n",
      "Omnibus:                        2.120   Durbin-Watson:                   0.544\n",
      "Prob(Omnibus):                  0.346   Jarque-Bera (JB):                1.568\n",
      "Skew:                           0.160   Prob(JB):                        0.457\n",
      "Kurtosis:                       2.352   Cond. No.                         3.28\n",
      "==============================================================================\n",
      "\n",
      "Warnings:\n",
      "[1] Standard Errors assume that the covariance matrix of the errors is correctly specified.\n"
     ]
    }
   ],
   "source": [
    "est1 = smf.ols('LnDinv ~ LnFeDomains + x1  ', df6).fit()\n",
    "regr1 = est1.params\n",
    "print(est1.summary())"
   ]
  },
  {
   "cell_type": "code",
   "execution_count": 33,
   "metadata": {},
   "outputs": [
    {
     "name": "stdout",
     "output_type": "stream",
     "text": [
      "                            OLS Regression Results                            \n",
      "==============================================================================\n",
      "Dep. Variable:                 LnDinv   R-squared:                       0.701\n",
      "Model:                            OLS   Adj. R-squared:                  0.693\n",
      "Method:                 Least Squares   F-statistic:                     81.02\n",
      "Date:                Sat, 22 Dec 2018   Prob (F-statistic):           7.82e-19\n",
      "Time:                        21:56:21   Log-Likelihood:                -40.503\n",
      "No. Observations:                  72   AIC:                             87.01\n",
      "Df Residuals:                      69   BIC:                             93.84\n",
      "Df Model:                           2                                         \n",
      "Covariance Type:            nonrobust                                         \n",
      "===============================================================================\n",
      "                  coef    std err          t      P>|t|      [0.025      0.975]\n",
      "-------------------------------------------------------------------------------\n",
      "Intercept       0.1412      0.078      1.819      0.073      -0.014       0.296\n",
      "LnFeDomains    -1.2528      0.107    -11.739      0.000      -1.466      -1.040\n",
      "x2             -0.4690      0.176     -2.671      0.009      -0.819      -0.119\n",
      "==============================================================================\n",
      "Omnibus:                        3.144   Durbin-Watson:                   0.502\n",
      "Prob(Omnibus):                  0.208   Jarque-Bera (JB):                3.015\n",
      "Skew:                          -0.443   Prob(JB):                        0.221\n",
      "Kurtosis:                       2.530   Cond. No.                         4.04\n",
      "==============================================================================\n",
      "\n",
      "Warnings:\n",
      "[1] Standard Errors assume that the covariance matrix of the errors is correctly specified.\n"
     ]
    }
   ],
   "source": [
    "est1 = smf.ols('LnDinv ~ LnFeDomains + x2  ', df6).fit()\n",
    "regr1 = est1.params\n",
    "print(est1.summary())"
   ]
  },
  {
   "cell_type": "code",
   "execution_count": 43,
   "metadata": {},
   "outputs": [
    {
     "name": "stdout",
     "output_type": "stream",
     "text": [
      "                            OLS Regression Results                            \n",
      "==============================================================================\n",
      "Dep. Variable:                 LnDinv   R-squared:                       0.778\n",
      "Model:                            OLS   Adj. R-squared:                  0.772\n",
      "Method:                 Least Squares   F-statistic:                     121.1\n",
      "Date:                Sat, 22 Dec 2018   Prob (F-statistic):           2.67e-23\n",
      "Time:                        22:37:16   Log-Likelihood:                -29.772\n",
      "No. Observations:                  72   AIC:                             65.54\n",
      "Df Residuals:                      69   BIC:                             72.37\n",
      "Df Model:                           2                                         \n",
      "Covariance Type:            nonrobust                                         \n",
      "===============================================================================\n",
      "                  coef    std err          t      P>|t|      [0.025      0.975]\n",
      "-------------------------------------------------------------------------------\n",
      "Intercept       0.2822      0.073      3.881      0.000       0.137       0.427\n",
      "LnFeDomains    -1.1413      0.095    -12.052      0.000      -1.330      -0.952\n",
      "x3             -0.6758      0.117     -5.795      0.000      -0.909      -0.443\n",
      "==============================================================================\n",
      "Omnibus:                        2.924   Durbin-Watson:                   0.591\n",
      "Prob(Omnibus):                  0.232   Jarque-Bera (JB):                2.365\n",
      "Skew:                          -0.313   Prob(JB):                        0.306\n",
      "Kurtosis:                       2.371   Cond. No.                         3.55\n",
      "==============================================================================\n",
      "\n",
      "Warnings:\n",
      "[1] Standard Errors assume that the covariance matrix of the errors is correctly specified.\n",
      "65.54333578972742\n",
      "72.37333414677559\n"
     ]
    }
   ],
   "source": [
    "est1 = smf.ols('LnDinv ~ LnFeDomains + x3  ', df6).fit()\n",
    "regr1 = est1.params\n",
    "print(est1.summary())\n",
    "print(est1.aic)\n",
    "print(est1.bic)"
   ]
  },
  {
   "cell_type": "code",
   "execution_count": 35,
   "metadata": {},
   "outputs": [
    {
     "name": "stdout",
     "output_type": "stream",
     "text": [
      "                            OLS Regression Results                            \n",
      "==============================================================================\n",
      "Dep. Variable:                 LnDinv   R-squared:                       0.676\n",
      "Model:                            OLS   Adj. R-squared:                  0.667\n",
      "Method:                 Least Squares   F-statistic:                     71.99\n",
      "Date:                Sat, 22 Dec 2018   Prob (F-statistic):           1.30e-17\n",
      "Time:                        21:56:24   Log-Likelihood:                -43.434\n",
      "No. Observations:                  72   AIC:                             92.87\n",
      "Df Residuals:                      69   BIC:                             99.70\n",
      "Df Model:                           2                                         \n",
      "Covariance Type:            nonrobust                                         \n",
      "===============================================================================\n",
      "                  coef    std err          t      P>|t|      [0.025      0.975]\n",
      "-------------------------------------------------------------------------------\n",
      "Intercept       0.0970      0.080      1.213      0.229      -0.063       0.257\n",
      "LnFeDomains    -1.2199      0.135     -9.063      0.000      -1.488      -0.951\n",
      "x5              0.3571      0.328      1.087      0.281      -0.298       1.012\n",
      "==============================================================================\n",
      "Omnibus:                        5.223   Durbin-Watson:                   0.449\n",
      "Prob(Omnibus):                  0.073   Jarque-Bera (JB):                2.543\n",
      "Skew:                          -0.170   Prob(JB):                        0.280\n",
      "Kurtosis:                       2.144   Cond. No.                         7.29\n",
      "==============================================================================\n",
      "\n",
      "Warnings:\n",
      "[1] Standard Errors assume that the covariance matrix of the errors is correctly specified.\n"
     ]
    }
   ],
   "source": [
    "est1 = smf.ols('LnDinv ~ LnFeDomains + x5 ', df6).fit()\n",
    "regr1 = est1.params\n",
    "print(est1.summary())"
   ]
  },
  {
   "cell_type": "markdown",
   "metadata": {},
   "source": [
    "We observe a significant drop on removing one more feature, so 3 feature systems looks like to be the better one, but we will compare these by Cp, AIC, BIC, adj R2 statistic."
   ]
  },
  {
   "cell_type": "markdown",
   "metadata": {},
   "source": [
    "------------------------------------"
   ]
  },
  {
   "cell_type": "markdown",
   "metadata": {},
   "source": [
    "### 1 Feature"
   ]
  },
  {
   "cell_type": "code",
   "execution_count": 36,
   "metadata": {},
   "outputs": [
    {
     "name": "stdout",
     "output_type": "stream",
     "text": [
      "                            OLS Regression Results                            \n",
      "==============================================================================\n",
      "Dep. Variable:                 LnDinv   R-squared:                       0.670\n",
      "Model:                            OLS   Adj. R-squared:                  0.666\n",
      "Method:                 Least Squares   F-statistic:                     142.4\n",
      "Date:                Sat, 22 Dec 2018   Prob (F-statistic):           1.54e-18\n",
      "Time:                        21:58:44   Log-Likelihood:                -44.046\n",
      "No. Observations:                  72   AIC:                             92.09\n",
      "Df Residuals:                      70   BIC:                             96.64\n",
      "Df Model:                           1                                         \n",
      "Covariance Type:            nonrobust                                         \n",
      "===============================================================================\n",
      "                  coef    std err          t      P>|t|      [0.025      0.975]\n",
      "-------------------------------------------------------------------------------\n",
      "Intercept       0.0696      0.076      0.916      0.363      -0.082       0.221\n",
      "LnFeDomains    -1.3054      0.109    -11.934      0.000      -1.524      -1.087\n",
      "==============================================================================\n",
      "Omnibus:                        6.467   Durbin-Watson:                   0.526\n",
      "Prob(Omnibus):                  0.039   Jarque-Bera (JB):                2.802\n",
      "Skew:                          -0.163   Prob(JB):                        0.246\n",
      "Kurtosis:                       2.090   Cond. No.                         2.67\n",
      "==============================================================================\n",
      "\n",
      "Warnings:\n",
      "[1] Standard Errors assume that the covariance matrix of the errors is correctly specified.\n"
     ]
    }
   ],
   "source": [
    "est1 = smf.ols('LnDinv ~ LnFeDomains ', df6).fit()\n",
    "regr1 = est1.params\n",
    "print(est1.summary())"
   ]
  },
  {
   "cell_type": "code",
   "execution_count": 42,
   "metadata": {},
   "outputs": [
    {
     "name": "stdout",
     "output_type": "stream",
     "text": [
      "92.09133023747579\n",
      "96.6446624755079\n"
     ]
    }
   ],
   "source": [
    "print(est1.aic)\n",
    "print(est1.bic)"
   ]
  },
  {
   "cell_type": "markdown",
   "metadata": {},
   "source": [
    "-----------------------------------------------------------------"
   ]
  },
  {
   "cell_type": "markdown",
   "metadata": {},
   "source": [
    "## Step2:"
   ]
  },
  {
   "cell_type": "markdown",
   "metadata": {},
   "source": [
    "**Summary:** On applying best subset selection:<br>\n",
    " Mo = Ln(FeDomains)                            :adjR2 = 0.666 <br>\n",
    " M1 = Ln(FeDomains) + x3                       : adjR2 = 0.772 <br>\n",
    " M2 = Ln(FeDomains) + x2 + x3                  : adjR2 = 0.838 <br>\n",
    " M3 = Ln(FeDomains) + x1 + x2 + x3             : adjR2 = 0.879 <br>\n",
    " M4 = Ln(FeDomains) + x1 + x2 + x3 + x5        : adjR2 = 0.882 <br>\n",
    " M5 = Ln(FeDomains) + x1 + x2 + x3 + x5 + x6   : adjR2 = 0.882 <br>"
   ]
  },
  {
   "cell_type": "markdown",
   "metadata": {},
   "source": [
    "**By just looking at the adjR2-statistic M3 seems most suitable.**"
   ]
  },
  {
   "cell_type": "markdown",
   "metadata": {},
   "source": [
    "----------------------------------------"
   ]
  },
  {
   "cell_type": "markdown",
   "metadata": {},
   "source": [
    "## Step3:"
   ]
  },
  {
   "cell_type": "markdown",
   "metadata": {},
   "source": [
    "Mo:<br>\n",
    "- AIC = 92\n",
    "- BIC = 96.64\n",
    "- adjR2 = 0.666"
   ]
  },
  {
   "cell_type": "markdown",
   "metadata": {},
   "source": [
    "M1:<br>\n",
    "- AIC = 65\n",
    "- BIC = 72\n",
    "- adjR2 = .772"
   ]
  },
  {
   "cell_type": "markdown",
   "metadata": {},
   "source": [
    "M3:<br>\n",
    "- AIC = 41.70\n",
    "- BIC = 50.81\n",
    "- adjR2 = .838"
   ]
  },
  {
   "cell_type": "markdown",
   "metadata": {},
   "source": [
    "M4:<br>\n",
    "- AIC = 21.51\n",
    "- BIC = 32.89\n",
    "- adjR2 = .879"
   ]
  },
  {
   "cell_type": "markdown",
   "metadata": {},
   "source": [
    "M5:<br>\n",
    "- AIC =  20.8\n",
    "- BIC =  34.46\n",
    "- adjR2 = .882"
   ]
  },
  {
   "cell_type": "markdown",
   "metadata": {},
   "source": [
    "M6:<br>\n",
    "- AIC =  20.80\n",
    "- BIC =  34.46\n",
    "- adjR2 = 0.882"
   ]
  },
  {
   "cell_type": "markdown",
   "metadata": {},
   "source": [
    "**By just looking at the adjR2-statistic M3 seems most suitable.**<br>\n",
    "**By comparing the AIC and BIC values, M4 seems most suitable.**<br>"
   ]
  },
  {
   "cell_type": "markdown",
   "metadata": {},
   "source": [
    "So if we assume no interaction between the system and Ln(FeDomains), then the best two model are the following:"
   ]
  },
  {
   "cell_type": "markdown",
   "metadata": {},
   "source": [
    "## M4"
   ]
  },
  {
   "cell_type": "code",
   "execution_count": 49,
   "metadata": {},
   "outputs": [
    {
     "name": "stdout",
     "output_type": "stream",
     "text": [
      "                            OLS Regression Results                            \n",
      "==============================================================================\n",
      "Dep. Variable:                 LnDinv   R-squared:                       0.886\n",
      "Model:                            OLS   Adj. R-squared:                  0.879\n",
      "Method:                 Least Squares   F-statistic:                     130.5\n",
      "Date:                Sat, 22 Dec 2018   Prob (F-statistic):           7.29e-31\n",
      "Time:                        22:53:11   Log-Likelihood:                -5.7580\n",
      "No. Observations:                  72   AIC:                             21.52\n",
      "Df Residuals:                      67   BIC:                             32.90\n",
      "Df Model:                           4                                         \n",
      "Covariance Type:            nonrobust                                         \n",
      "===============================================================================\n",
      "                  coef    std err          t      P>|t|      [0.025      0.975]\n",
      "-------------------------------------------------------------------------------\n",
      "Intercept       0.8781      0.108      8.138      0.000       0.663       1.093\n",
      "LnFeDomains    -0.8927      0.076    -11.682      0.000      -1.045      -0.740\n",
      "x1             -0.4745      0.096     -4.918      0.000      -0.667      -0.282\n",
      "x2             -1.1264      0.141     -7.970      0.000      -1.409      -0.844\n",
      "x3             -1.2224      0.122    -10.014      0.000      -1.466      -0.979\n",
      "==============================================================================\n",
      "Omnibus:                        5.597   Durbin-Watson:                   0.721\n",
      "Prob(Omnibus):                  0.061   Jarque-Bera (JB):                4.854\n",
      "Skew:                          -0.504   Prob(JB):                       0.0883\n",
      "Kurtosis:                       3.775   Cond. No.                         8.47\n",
      "==============================================================================\n",
      "\n",
      "Warnings:\n",
      "[1] Standard Errors assume that the covariance matrix of the errors is correctly specified.\n",
      "21.515951331875925\n",
      "32.899281926956206\n"
     ]
    }
   ],
   "source": [
    "est1 = smf.ols('LnDinv ~ LnFeDomains + x1 + x2 + x3 ', df6).fit()\n",
    "regr1 = est1.params\n",
    "print(est1.summary())\n",
    "print(est1.aic)\n",
    "print(est1.bic)"
   ]
  },
  {
   "cell_type": "markdown",
   "metadata": {},
   "source": [
    "## M3"
   ]
  },
  {
   "cell_type": "code",
   "execution_count": 50,
   "metadata": {},
   "outputs": [
    {
     "name": "stdout",
     "output_type": "stream",
     "text": [
      "                            OLS Regression Results                            \n",
      "==============================================================================\n",
      "Dep. Variable:                 LnDinv   R-squared:                       0.845\n",
      "Model:                            OLS   Adj. R-squared:                  0.838\n",
      "Method:                 Least Squares   F-statistic:                     123.7\n",
      "Date:                Sat, 22 Dec 2018   Prob (F-statistic):           1.75e-27\n",
      "Time:                        22:53:18   Log-Likelihood:                -16.854\n",
      "No. Observations:                  72   AIC:                             41.71\n",
      "Df Residuals:                      68   BIC:                             50.81\n",
      "Df Model:                           3                                         \n",
      "Covariance Type:            nonrobust                                         \n",
      "===============================================================================\n",
      "                  coef    std err          t      P>|t|      [0.025      0.975]\n",
      "-------------------------------------------------------------------------------\n",
      "Intercept       0.4303      0.067      6.418      0.000       0.297       0.564\n",
      "LnFeDomains    -1.0311      0.082    -12.531      0.000      -1.195      -0.867\n",
      "x2             -0.7092      0.131     -5.418      0.000      -0.970      -0.448\n",
      "x3             -0.8020      0.101     -7.948      0.000      -1.003      -0.601\n",
      "==============================================================================\n",
      "Omnibus:                        3.418   Durbin-Watson:                   0.595\n",
      "Prob(Omnibus):                  0.181   Jarque-Bera (JB):                2.634\n",
      "Skew:                          -0.434   Prob(JB):                        0.268\n",
      "Kurtosis:                       3.353   Cond. No.                         4.55\n",
      "==============================================================================\n",
      "\n",
      "Warnings:\n",
      "[1] Standard Errors assume that the covariance matrix of the errors is correctly specified.\n",
      "41.7075848597633\n",
      "50.814249335827526\n"
     ]
    }
   ],
   "source": [
    "est1 = smf.ols('LnDinv ~ LnFeDomains + x2 + x3 ', df6).fit()\n",
    "regr1 = est1.params\n",
    "print(est1.summary())\n",
    "print(est1.aic)\n",
    "print(est1.bic)"
   ]
  },
  {
   "cell_type": "markdown",
   "metadata": {},
   "source": [
    "-------------------------------------------"
   ]
  },
  {
   "cell_type": "markdown",
   "metadata": {},
   "source": [
    "### Assuming interaction between the terms:"
   ]
  },
  {
   "cell_type": "markdown",
   "metadata": {},
   "source": [
    "#### M4 with interaction terms"
   ]
  },
  {
   "cell_type": "code",
   "execution_count": 51,
   "metadata": {},
   "outputs": [
    {
     "name": "stdout",
     "output_type": "stream",
     "text": [
      "                            OLS Regression Results                            \n",
      "==============================================================================\n",
      "Dep. Variable:                 LnDinv   R-squared:                       0.909\n",
      "Model:                            OLS   Adj. R-squared:                  0.899\n",
      "Method:                 Least Squares   F-statistic:                     91.72\n",
      "Date:                Sat, 22 Dec 2018   Prob (F-statistic):           6.82e-31\n",
      "Time:                        22:55:23   Log-Likelihood:                 2.4198\n",
      "No. Observations:                  72   AIC:                             11.16\n",
      "Df Residuals:                      64   BIC:                             29.37\n",
      "Df Model:                           7                                         \n",
      "Covariance Type:            nonrobust                                         \n",
      "==================================================================================\n",
      "                     coef    std err          t      P>|t|      [0.025      0.975]\n",
      "----------------------------------------------------------------------------------\n",
      "Intercept          0.7776      0.130      5.996      0.000       0.519       1.037\n",
      "LnFeDomains       -0.9964      0.112     -8.936      0.000      -1.219      -0.774\n",
      "x1                -0.3639      0.143     -2.543      0.013      -0.650      -0.078\n",
      "x1:LnFeDomains     0.1235      0.144      0.860      0.393      -0.163       0.410\n",
      "x2                -0.8698      0.275     -3.159      0.002      -1.420      -0.320\n",
      "x2:LnFeDomains     0.8109      1.021      0.794      0.430      -1.229       2.851\n",
      "x3                -0.5562      0.207     -2.693      0.009      -0.969      -0.144\n",
      "x3:LnFeDomains     2.9557      0.747      3.959      0.000       1.464       4.447\n",
      "==============================================================================\n",
      "Omnibus:                       15.943   Durbin-Watson:                   0.736\n",
      "Prob(Omnibus):                  0.000   Jarque-Bera (JB):               21.681\n",
      "Skew:                          -0.914   Prob(JB):                     1.96e-05\n",
      "Kurtosis:                       4.971   Cond. No.                         47.9\n",
      "==============================================================================\n",
      "\n",
      "Warnings:\n",
      "[1] Standard Errors assume that the covariance matrix of the errors is correctly specified.\n",
      "11.160397480975433\n",
      "29.373726433103876\n"
     ]
    }
   ],
   "source": [
    "est1 = smf.ols('LnDinv ~ LnFeDomains + x1*LnFeDomains + x2*LnFeDomains + x3*LnFeDomains ', df6).fit()\n",
    "regr1 = est1.params\n",
    "print(est1.summary())\n",
    "print(est1.aic)\n",
    "print(est1.bic)"
   ]
  },
  {
   "cell_type": "markdown",
   "metadata": {},
   "source": [
    "If we look at the p-values we can think of a hybrid!"
   ]
  },
  {
   "cell_type": "code",
   "execution_count": 55,
   "metadata": {},
   "outputs": [
    {
     "name": "stdout",
     "output_type": "stream",
     "text": [
      "                            OLS Regression Results                            \n",
      "==============================================================================\n",
      "Dep. Variable:                 LnDinv   R-squared:                       0.908\n",
      "Model:                            OLS   Adj. R-squared:                  0.901\n",
      "Method:                 Least Squares   F-statistic:                     129.6\n",
      "Date:                Sat, 22 Dec 2018   Prob (F-statistic):           9.76e-33\n",
      "Time:                        23:00:01   Log-Likelihood:                 1.7162\n",
      "No. Observations:                  72   AIC:                             8.568\n",
      "Df Residuals:                      66   BIC:                             22.23\n",
      "Df Model:                           5                                         \n",
      "Covariance Type:            nonrobust                                         \n",
      "==================================================================================\n",
      "                     coef    std err          t      P>|t|      [0.025      0.975]\n",
      "----------------------------------------------------------------------------------\n",
      "Intercept          0.8532      0.098      8.688      0.000       0.657       1.049\n",
      "LnFeDomains       -0.9184      0.070    -13.174      0.000      -1.058      -0.779\n",
      "x1                -0.4625      0.088     -5.275      0.000      -0.638      -0.287\n",
      "x2                -1.1072      0.128     -8.619      0.000      -1.364      -0.851\n",
      "x3                -0.6318      0.188     -3.368      0.001      -1.006      -0.257\n",
      "x3:LnFeDomains     2.8777      0.737      3.902      0.000       1.405       4.350\n",
      "==============================================================================\n",
      "Omnibus:                       14.500   Durbin-Watson:                   0.737\n",
      "Prob(Omnibus):                  0.001   Jarque-Bera (JB):               18.734\n",
      "Skew:                          -0.860   Prob(JB):                     8.55e-05\n",
      "Kurtosis:                       4.813   Cond. No.                         33.4\n",
      "==============================================================================\n",
      "\n",
      "Warnings:\n",
      "[1] Standard Errors assume that the covariance matrix of the errors is correctly specified.\n",
      "8.567649189630743\n",
      "22.227645903727073\n"
     ]
    }
   ],
   "source": [
    "est1 = smf.ols('LnDinv ~ LnFeDomains + x1 + x2 + x3*LnFeDomains ', df6).fit()\n",
    "regr1 = est1.params\n",
    "print(est1.summary())\n",
    "print(est1.aic)\n",
    "print(est1.bic)"
   ]
  },
  {
   "cell_type": "markdown",
   "metadata": {},
   "source": [
    "### This model has got the least AIC, least BIC, adjR2 ~ 0.9, and very low p-values."
   ]
  },
  {
   "cell_type": "markdown",
   "metadata": {},
   "source": [
    "Best model after subset selection, considering both interaction and non-interaction terms."
   ]
  },
  {
   "cell_type": "markdown",
   "metadata": {},
   "source": [
    "NOTE: This result is obtained for Copper only, we might get some other form for some other metal based upon its properties."
   ]
  },
  {
   "cell_type": "markdown",
   "metadata": {},
   "source": [
    "--------------------------------------"
   ]
  },
  {
   "cell_type": "code",
   "execution_count": null,
   "metadata": {},
   "outputs": [],
   "source": []
  }
 ],
 "metadata": {
  "kernelspec": {
   "display_name": "Python 3",
   "language": "python",
   "name": "python3"
  },
  "language_info": {
   "codemirror_mode": {
    "name": "ipython",
    "version": 3
   },
   "file_extension": ".py",
   "mimetype": "text/x-python",
   "name": "python",
   "nbconvert_exporter": "python",
   "pygments_lexer": "ipython3",
   "version": "3.7.0"
  }
 },
 "nbformat": 4,
 "nbformat_minor": 2
}
