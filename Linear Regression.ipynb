{
 "cells": [
  {
   "cell_type": "code",
   "execution_count": 1,
   "metadata": {},
   "outputs": [],
   "source": [
    "# %load ../standard_import.txt\n",
    "import pandas as pd\n",
    "import numpy as np\n",
    "import matplotlib.pyplot as plt\n",
    "from mpl_toolkits.mplot3d import axes3d\n",
    "import seaborn as sns\n",
    "\n",
    "from sklearn.preprocessing import scale\n",
    "import sklearn.linear_model as skl_lm\n",
    "from sklearn.metrics import mean_squared_error, r2_score\n",
    "from sklearn import preprocessing, neighbors, svm\n",
    "from sklearn.model_selection import train_test_split\n",
    "from scipy.optimize import curve_fit\n",
    "import statsmodels.api as sm\n",
    "import statsmodels.formula.api as smf\n",
    "import re\n",
    "%matplotlib inline\n",
    "plt.style.use('seaborn-white')"
   ]
  },
  {
   "cell_type": "markdown",
   "metadata": {},
   "source": [
    "Here we are just dealing with Cu data"
   ]
  },
  {
   "cell_type": "code",
   "execution_count": 2,
   "metadata": {},
   "outputs": [
    {
     "name": "stdout",
     "output_type": "stream",
     "text": [
      "['Sheet1', 'Sheet3', 'xS vs FeS domain']\n"
     ]
    }
   ],
   "source": [
    "data = pd.ExcelFile('Data1/Cu.xlsx')\n",
    "print(data.sheet_names)"
   ]
  },
  {
   "cell_type": "code",
   "execution_count": 3,
   "metadata": {},
   "outputs": [
    {
     "data": {
      "text/html": [
       "<div>\n",
       "<style scoped>\n",
       "    .dataframe tbody tr th:only-of-type {\n",
       "        vertical-align: middle;\n",
       "    }\n",
       "\n",
       "    .dataframe tbody tr th {\n",
       "        vertical-align: top;\n",
       "    }\n",
       "\n",
       "    .dataframe thead th {\n",
       "        text-align: right;\n",
       "    }\n",
       "</style>\n",
       "<table border=\"1\" class=\"dataframe\">\n",
       "  <thead>\n",
       "    <tr style=\"text-align: right;\">\n",
       "      <th></th>\n",
       "      <th>Reference</th>\n",
       "      <th>Run #</th>\n",
       "      <th>D(Cu)</th>\n",
       "      <th>Dinv</th>\n",
       "      <th>LnFeDomains</th>\n",
       "      <th>LnDinv</th>\n",
       "    </tr>\n",
       "  </thead>\n",
       "  <tbody>\n",
       "    <tr>\n",
       "      <th>0</th>\n",
       "      <td>NaN</td>\n",
       "      <td>IT10</td>\n",
       "      <td>0.43</td>\n",
       "      <td>2.325581</td>\n",
       "      <td>-0.063935</td>\n",
       "      <td>0.843970</td>\n",
       "    </tr>\n",
       "    <tr>\n",
       "      <th>1</th>\n",
       "      <td>3</td>\n",
       "      <td>IT11</td>\n",
       "      <td>0.32</td>\n",
       "      <td>3.125000</td>\n",
       "      <td>-0.171537</td>\n",
       "      <td>1.139434</td>\n",
       "    </tr>\n",
       "    <tr>\n",
       "      <th>2</th>\n",
       "      <td>Chabot 2008</td>\n",
       "      <td>IT14</td>\n",
       "      <td>0.33</td>\n",
       "      <td>3.030303</td>\n",
       "      <td>-0.297457</td>\n",
       "      <td>1.108663</td>\n",
       "    </tr>\n",
       "    <tr>\n",
       "      <th>3</th>\n",
       "      <td>Fe-Ni-S, 1 atm</td>\n",
       "      <td>IT3</td>\n",
       "      <td>0.33</td>\n",
       "      <td>3.030303</td>\n",
       "      <td>-0.565593</td>\n",
       "      <td>1.108663</td>\n",
       "    </tr>\n",
       "    <tr>\n",
       "      <th>4</th>\n",
       "      <td>NaN</td>\n",
       "      <td>IT4</td>\n",
       "      <td>0.24</td>\n",
       "      <td>4.166667</td>\n",
       "      <td>-0.818951</td>\n",
       "      <td>1.427116</td>\n",
       "    </tr>\n",
       "  </tbody>\n",
       "</table>\n",
       "</div>"
      ],
      "text/plain": [
       "        Reference Run #  D(Cu)      Dinv  LnFeDomains    LnDinv\n",
       "0             NaN  IT10   0.43  2.325581    -0.063935  0.843970\n",
       "1               3  IT11   0.32  3.125000    -0.171537  1.139434\n",
       "2     Chabot 2008  IT14   0.33  3.030303    -0.297457  1.108663\n",
       "3  Fe-Ni-S, 1 atm   IT3   0.33  3.030303    -0.565593  1.108663\n",
       "4             NaN   IT4   0.24  4.166667    -0.818951  1.427116"
      ]
     },
     "execution_count": 3,
     "metadata": {},
     "output_type": "execute_result"
    }
   ],
   "source": [
    "df1 = data.parse('Sheet1')\n",
    "df1.head(5)"
   ]
  },
  {
   "cell_type": "code",
   "execution_count": 4,
   "metadata": {
    "scrolled": false
   },
   "outputs": [
    {
     "name": "stdout",
     "output_type": "stream",
     "text": [
      "<class 'pandas.core.frame.DataFrame'>\n",
      "RangeIndex: 72 entries, 0 to 71\n",
      "Data columns (total 4 columns):\n",
      "D(Cu)          72 non-null float64\n",
      "Dinv           72 non-null float64\n",
      "LnFeDomains    72 non-null float64\n",
      "LnDinv         72 non-null float64\n",
      "dtypes: float64(4)\n",
      "memory usage: 2.3 KB\n"
     ]
    },
    {
     "data": {
      "text/html": [
       "<div>\n",
       "<style scoped>\n",
       "    .dataframe tbody tr th:only-of-type {\n",
       "        vertical-align: middle;\n",
       "    }\n",
       "\n",
       "    .dataframe tbody tr th {\n",
       "        vertical-align: top;\n",
       "    }\n",
       "\n",
       "    .dataframe thead th {\n",
       "        text-align: right;\n",
       "    }\n",
       "</style>\n",
       "<table border=\"1\" class=\"dataframe\">\n",
       "  <thead>\n",
       "    <tr style=\"text-align: right;\">\n",
       "      <th></th>\n",
       "      <th>D(Cu)</th>\n",
       "      <th>Dinv</th>\n",
       "      <th>LnFeDomains</th>\n",
       "      <th>LnDinv</th>\n",
       "    </tr>\n",
       "  </thead>\n",
       "  <tbody>\n",
       "    <tr>\n",
       "      <th>0</th>\n",
       "      <td>0.43</td>\n",
       "      <td>2.325581</td>\n",
       "      <td>-0.063935</td>\n",
       "      <td>0.843970</td>\n",
       "    </tr>\n",
       "    <tr>\n",
       "      <th>1</th>\n",
       "      <td>0.32</td>\n",
       "      <td>3.125000</td>\n",
       "      <td>-0.171537</td>\n",
       "      <td>1.139434</td>\n",
       "    </tr>\n",
       "    <tr>\n",
       "      <th>2</th>\n",
       "      <td>0.33</td>\n",
       "      <td>3.030303</td>\n",
       "      <td>-0.297457</td>\n",
       "      <td>1.108663</td>\n",
       "    </tr>\n",
       "    <tr>\n",
       "      <th>3</th>\n",
       "      <td>0.33</td>\n",
       "      <td>3.030303</td>\n",
       "      <td>-0.565593</td>\n",
       "      <td>1.108663</td>\n",
       "    </tr>\n",
       "    <tr>\n",
       "      <th>4</th>\n",
       "      <td>0.24</td>\n",
       "      <td>4.166667</td>\n",
       "      <td>-0.818951</td>\n",
       "      <td>1.427116</td>\n",
       "    </tr>\n",
       "  </tbody>\n",
       "</table>\n",
       "</div>"
      ],
      "text/plain": [
       "   D(Cu)      Dinv  LnFeDomains    LnDinv\n",
       "0   0.43  2.325581    -0.063935  0.843970\n",
       "1   0.32  3.125000    -0.171537  1.139434\n",
       "2   0.33  3.030303    -0.297457  1.108663\n",
       "3   0.33  3.030303    -0.565593  1.108663\n",
       "4   0.24  4.166667    -0.818951  1.427116"
      ]
     },
     "execution_count": 4,
     "metadata": {},
     "output_type": "execute_result"
    }
   ],
   "source": [
    "df2 = df1.drop(['Reference', 'Run #'], axis=1)\n",
    "df2.dropna()\n",
    "pd.options.display.max_rows = 999\n",
    "df2.info()\n",
    "df2.head()"
   ]
  },
  {
   "cell_type": "code",
   "execution_count": 5,
   "metadata": {},
   "outputs": [
    {
     "data": {
      "text/html": [
       "<div>\n",
       "<style scoped>\n",
       "    .dataframe tbody tr th:only-of-type {\n",
       "        vertical-align: middle;\n",
       "    }\n",
       "\n",
       "    .dataframe tbody tr th {\n",
       "        vertical-align: top;\n",
       "    }\n",
       "\n",
       "    .dataframe thead th {\n",
       "        text-align: right;\n",
       "    }\n",
       "</style>\n",
       "<table border=\"1\" class=\"dataframe\">\n",
       "  <thead>\n",
       "    <tr style=\"text-align: right;\">\n",
       "      <th></th>\n",
       "      <th>D(Cu)</th>\n",
       "      <th>Dinv</th>\n",
       "      <th>LnFeDomains</th>\n",
       "      <th>LnDinv</th>\n",
       "      <th>FeDomains</th>\n",
       "    </tr>\n",
       "  </thead>\n",
       "  <tbody>\n",
       "    <tr>\n",
       "      <th>0</th>\n",
       "      <td>0.43</td>\n",
       "      <td>2.325581</td>\n",
       "      <td>-0.063935</td>\n",
       "      <td>0.843970</td>\n",
       "      <td>0.938066</td>\n",
       "    </tr>\n",
       "    <tr>\n",
       "      <th>1</th>\n",
       "      <td>0.32</td>\n",
       "      <td>3.125000</td>\n",
       "      <td>-0.171537</td>\n",
       "      <td>1.139434</td>\n",
       "      <td>0.842369</td>\n",
       "    </tr>\n",
       "    <tr>\n",
       "      <th>2</th>\n",
       "      <td>0.33</td>\n",
       "      <td>3.030303</td>\n",
       "      <td>-0.297457</td>\n",
       "      <td>1.108663</td>\n",
       "      <td>0.742704</td>\n",
       "    </tr>\n",
       "    <tr>\n",
       "      <th>3</th>\n",
       "      <td>0.33</td>\n",
       "      <td>3.030303</td>\n",
       "      <td>-0.565593</td>\n",
       "      <td>1.108663</td>\n",
       "      <td>0.568023</td>\n",
       "    </tr>\n",
       "    <tr>\n",
       "      <th>4</th>\n",
       "      <td>0.24</td>\n",
       "      <td>4.166667</td>\n",
       "      <td>-0.818951</td>\n",
       "      <td>1.427116</td>\n",
       "      <td>0.440894</td>\n",
       "    </tr>\n",
       "  </tbody>\n",
       "</table>\n",
       "</div>"
      ],
      "text/plain": [
       "   D(Cu)      Dinv  LnFeDomains    LnDinv  FeDomains\n",
       "0   0.43  2.325581    -0.063935  0.843970   0.938066\n",
       "1   0.32  3.125000    -0.171537  1.139434   0.842369\n",
       "2   0.33  3.030303    -0.297457  1.108663   0.742704\n",
       "3   0.33  3.030303    -0.565593  1.108663   0.568023\n",
       "4   0.24  4.166667    -0.818951  1.427116   0.440894"
      ]
     },
     "execution_count": 5,
     "metadata": {},
     "output_type": "execute_result"
    }
   ],
   "source": [
    "df2['FeDomains'] = np.exp(df2['LnFeDomains'])\n",
    "df2.head()"
   ]
  },
  {
   "cell_type": "markdown",
   "metadata": {},
   "source": [
    "**Assumption**: We have initially asssumed that all the non-metals have equal impact, and the concentration of Fe-domains is the only criteron on which the fractionation of elements depends."
   ]
  },
  {
   "cell_type": "markdown",
   "metadata": {},
   "source": [
    "Plotting Fe-Domains vs 1/D"
   ]
  },
  {
   "cell_type": "code",
   "execution_count": 6,
   "metadata": {},
   "outputs": [
    {
     "data": {
      "image/png": "[encoded data removed]",
      "text/plain": [
       "<Figure size 432x288 with 1 Axes>"
      ]
     },
     "metadata": {},
     "output_type": "display_data"
    }
   ],
   "source": [
    "plt.plot(df2['FeDomains'],df2['Dinv'], marker='.', linestyle='none')\n",
    "plt.show()"
   ]
  },
  {
   "cell_type": "code",
   "execution_count": 7,
   "metadata": {},
   "outputs": [
    {
     "data": {
      "text/plain": [
       "0.625"
      ]
     },
     "execution_count": 7,
     "metadata": {},
     "output_type": "execute_result"
    }
   ],
   "source": [
    "df2['Dinv'].min()"
   ]
  },
  {
   "cell_type": "markdown",
   "metadata": {},
   "source": [
    "Dinv reaches its minimum value at aroud 7 and after that no point is below that, this curve looks more like a **hyperbola** than a linear , quadratic or logarithmic fit.\n",
    "\n",
    "But if we **reject the Fe-S-C data** then even a linear model will give us a nice fit. Try this with qualitative variable introduction of different non-metals."
   ]
  },
  {
   "cell_type": "markdown",
   "metadata": {},
   "source": [
    "#### **(A)** Fitting a linear model"
   ]
  },
  {
   "cell_type": "code",
   "execution_count": 8,
   "metadata": {},
   "outputs": [
    {
     "data": {
      "image/png": "[encoded data removed]",
      "text/plain": [
       "<Figure size 360x360 with 1 Axes>"
      ]
     },
     "metadata": {},
     "output_type": "display_data"
    }
   ],
   "source": [
    "sns.lmplot(x='FeDomains', y='Dinv', data=df2)\n",
    "plt.show()"
   ]
  },
  {
   "cell_type": "code",
   "execution_count": 9,
   "metadata": {},
   "outputs": [
    {
     "data": {
      "image/png": "[encoded data removed]",
      "text/plain": [
       "<Figure size 432x288 with 1 Axes>"
      ]
     },
     "metadata": {},
     "output_type": "display_data"
    }
   ],
   "source": [
    "sns.residplot(x='FeDomains', y='Dinv', lowess=True, order = 1,data=df2, color='green')\n",
    "plt.show()"
   ]
  },
  {
   "cell_type": "markdown",
   "metadata": {},
   "source": [
    "**Residual plots are tools to identify non-linearity of data. Ideally, residual plots show no discernible pattern but presence of a pattern may show problem with some aspect of linear model.**"
   ]
  },
  {
   "cell_type": "markdown",
   "metadata": {},
   "source": [
    "**An important assumption of the linear regression model is that the error\n",
    "terms, e1, e2, . . . , en, are uncorrelated. What does this mean? For instance,\n",
    "if the errors are uncorrelated, then the fact that ei is positive provides\n",
    "little or no information about the sign of ei+1.**"
   ]
  },
  {
   "cell_type": "markdown",
   "metadata": {},
   "source": [
    "1) Here we can clearly see a little pattern in the values of residuals(1st problem)"
   ]
  },
  {
   "cell_type": "markdown",
   "metadata": {},
   "source": [
    "2) The R^2 value of the fit is too low."
   ]
  },
  {
   "cell_type": "markdown",
   "metadata": {},
   "source": [
    "3) Even though there seems to be little **non-linearity in the response predictor relationship** but there is large **correlation in error terms**(2nd problem)."
   ]
  },
  {
   "cell_type": "markdown",
   "metadata": {},
   "source": [
    "4) This residual plot seems to have constant variance."
   ]
  },
  {
   "cell_type": "markdown",
   "metadata": {},
   "source": [
    "Trying log, minus x2, square-root x to remove any pattern from the residual plot."
   ]
  },
  {
   "cell_type": "code",
   "execution_count": 10,
   "metadata": {},
   "outputs": [
    {
     "data": {
      "text/html": [
       "<table class=\"simpletable\">\n",
       "<caption>OLS Regression Results</caption>\n",
       "<tr>\n",
       "  <th>Dep. Variable:</th>          <td>Dinv</td>       <th>  R-squared:         </th> <td>   0.546</td>\n",
       "</tr>\n",
       "<tr>\n",
       "  <th>Model:</th>                   <td>OLS</td>       <th>  Adj. R-squared:    </th> <td>   0.539</td>\n",
       "</tr>\n",
       "<tr>\n",
       "  <th>Method:</th>             <td>Least Squares</td>  <th>  F-statistic:       </th> <td>   84.07</td>\n",
       "</tr>\n",
       "<tr>\n",
       "  <th>Date:</th>             <td>Wed, 11 Jul 2018</td> <th>  Prob (F-statistic):</th> <td>1.30e-13</td>\n",
       "</tr>\n",
       "<tr>\n",
       "  <th>Time:</th>                 <td>11:39:57</td>     <th>  Log-Likelihood:    </th> <td> -154.85</td>\n",
       "</tr>\n",
       "<tr>\n",
       "  <th>No. Observations:</th>      <td>    72</td>      <th>  AIC:               </th> <td>   313.7</td>\n",
       "</tr>\n",
       "<tr>\n",
       "  <th>Df Residuals:</th>          <td>    70</td>      <th>  BIC:               </th> <td>   318.3</td>\n",
       "</tr>\n",
       "<tr>\n",
       "  <th>Df Model:</th>              <td>     1</td>      <th>                     </th>     <td> </td>   \n",
       "</tr>\n",
       "<tr>\n",
       "  <th>Covariance Type:</th>      <td>nonrobust</td>    <th>                     </th>     <td> </td>   \n",
       "</tr>\n",
       "</table>\n",
       "<table class=\"simpletable\">\n",
       "<tr>\n",
       "      <td></td>         <th>coef</th>     <th>std err</th>      <th>t</th>      <th>P>|t|</th>  <th>[0.025</th>    <th>0.975]</th>  \n",
       "</tr>\n",
       "<tr>\n",
       "  <th>Intercept</th> <td>    9.1166</td> <td>    0.723</td> <td>   12.616</td> <td> 0.000</td> <td>    7.675</td> <td>   10.558</td>\n",
       "</tr>\n",
       "<tr>\n",
       "  <th>FeDomains</th> <td>   -9.2683</td> <td>    1.011</td> <td>   -9.169</td> <td> 0.000</td> <td>  -11.284</td> <td>   -7.252</td>\n",
       "</tr>\n",
       "</table>\n",
       "<table class=\"simpletable\">\n",
       "<tr>\n",
       "  <th>Omnibus:</th>       <td>52.668</td> <th>  Durbin-Watson:     </th> <td>   0.836</td>\n",
       "</tr>\n",
       "<tr>\n",
       "  <th>Prob(Omnibus):</th> <td> 0.000</td> <th>  Jarque-Bera (JB):  </th> <td> 225.974</td>\n",
       "</tr>\n",
       "<tr>\n",
       "  <th>Skew:</th>          <td> 2.215</td> <th>  Prob(JB):          </th> <td>8.52e-50</td>\n",
       "</tr>\n",
       "<tr>\n",
       "  <th>Kurtosis:</th>      <td>10.463</td> <th>  Cond. No.          </th> <td>    5.98</td>\n",
       "</tr>\n",
       "</table><br/><br/>Warnings:<br/>[1] Standard Errors assume that the covariance matrix of the errors is correctly specified."
      ],
      "text/plain": [
       "<class 'statsmodels.iolib.summary.Summary'>\n",
       "\"\"\"\n",
       "                            OLS Regression Results                            \n",
       "==============================================================================\n",
       "Dep. Variable:                   Dinv   R-squared:                       0.546\n",
       "Model:                            OLS   Adj. R-squared:                  0.539\n",
       "Method:                 Least Squares   F-statistic:                     84.07\n",
       "Date:                Wed, 11 Jul 2018   Prob (F-statistic):           1.30e-13\n",
       "Time:                        11:39:57   Log-Likelihood:                -154.85\n",
       "No. Observations:                  72   AIC:                             313.7\n",
       "Df Residuals:                      70   BIC:                             318.3\n",
       "Df Model:                           1                                         \n",
       "Covariance Type:            nonrobust                                         \n",
       "==============================================================================\n",
       "                 coef    std err          t      P>|t|      [0.025      0.975]\n",
       "------------------------------------------------------------------------------\n",
       "Intercept      9.1166      0.723     12.616      0.000       7.675      10.558\n",
       "FeDomains     -9.2683      1.011     -9.169      0.000     -11.284      -7.252\n",
       "==============================================================================\n",
       "Omnibus:                       52.668   Durbin-Watson:                   0.836\n",
       "Prob(Omnibus):                  0.000   Jarque-Bera (JB):              225.974\n",
       "Skew:                           2.215   Prob(JB):                     8.52e-50\n",
       "Kurtosis:                      10.463   Cond. No.                         5.98\n",
       "==============================================================================\n",
       "\n",
       "Warnings:\n",
       "[1] Standard Errors assume that the covariance matrix of the errors is correctly specified.\n",
       "\"\"\""
      ]
     },
     "execution_count": 10,
     "metadata": {},
     "output_type": "execute_result"
    }
   ],
   "source": [
    "est = smf.ols('Dinv ~ FeDomains', df2).fit()\n",
    "est.summary()"
   ]
  },
  {
   "cell_type": "markdown",
   "metadata": {},
   "source": [
    "The linear regression model assumes that there is a straight-line relationship between the predictors and the response. If the true relationship is far from linear, then virtually all of the conclusions that we draw from the fit are suspect. In addition, the prediction accuracy of the model can be significantly reduced.\n",
    "The nonlinearity in the regression plot and the poor R-squared value(~.54) tells us that linear model is not suitable for this data."
   ]
  },
  {
   "cell_type": "markdown",
   "metadata": {},
   "source": [
    "Degree 2 might do better!"
   ]
  },
  {
   "cell_type": "markdown",
   "metadata": {},
   "source": [
    "### (B) Squared model"
   ]
  },
  {
   "cell_type": "code",
   "execution_count": 11,
   "metadata": {},
   "outputs": [
    {
     "data": {
      "image/png": "[encoded data removed]",
      "text/plain": [
       "<Figure size 432x288 with 1 Axes>"
      ]
     },
     "metadata": {},
     "output_type": "display_data"
    },
    {
     "name": "stdout",
     "output_type": "stream",
     "text": [
      "Function equation : \n",
      "        2\n",
      "28.62 x - 43.5 x + 17.47\n"
     ]
    }
   ],
   "source": [
    "fit = np.polyfit(df2['FeDomains'],df2['Dinv'], 2)\n",
    "fit_fn = np.poly1d(fit)\n",
    "\n",
    "plt.plot(df2['FeDomains'],df2['Dinv'], '.', np.sort(df2['FeDomains']), fit_fn(np.sort(df2['FeDomains'])), '--r', linewidth=2)\n",
    "plt.xlabel(\"FeDomains\")\n",
    "plt.ylabel(\"Dinv\")\n",
    "plt.show()\n",
    "print('Function equation : \\n',fit_fn)"
   ]
  },
  {
   "cell_type": "code",
   "execution_count": 12,
   "metadata": {},
   "outputs": [
    {
     "data": {
      "image/png": "[encoded data removed]",
      "text/plain": [
       "<Figure size 432x288 with 1 Axes>"
      ]
     },
     "metadata": {},
     "output_type": "display_data"
    }
   ],
   "source": [
    "sns.residplot(x='FeDomains', y='Dinv', order = 2,data=df2, color='green')\n",
    "plt.show()"
   ]
  },
  {
   "cell_type": "markdown",
   "metadata": {},
   "source": [
    "The residual plot makes us clear the non-linearity of the data in the squared model above."
   ]
  },
  {
   "cell_type": "markdown",
   "metadata": {},
   "source": [
    "**IF WE COULD JUST IGNORE THE THREE POINTS** at the top then the rest of the data fits the linear model just fine. While, on changing the degree to 2 other than the 3 points on the top, rest of the model resists the degree 2 model."
   ]
  },
  {
   "cell_type": "markdown",
   "metadata": {},
   "source": [
    "However, this time we get a higher Rsquared value (~.78), than the linear model. But this is due to the fact that the earlier linear model was distorted too much by the outlier values of the Fe-Ni-C data."
   ]
  },
  {
   "cell_type": "markdown",
   "metadata": {},
   "source": [
    "1) Clear patterns in residuals, non-linearity of the response-predictor relationship"
   ]
  },
  {
   "cell_type": "markdown",
   "metadata": {},
   "source": [
    "2)R^2 is decent"
   ]
  },
  {
   "cell_type": "markdown",
   "metadata": {},
   "source": [
    "3)Significant correlation in error terms"
   ]
  },
  {
   "cell_type": "markdown",
   "metadata": {},
   "source": [
    "4)Heteroscedasticity present"
   ]
  },
  {
   "cell_type": "code",
   "execution_count": 13,
   "metadata": {},
   "outputs": [
    {
     "data": {
      "text/html": [
       "<table class=\"simpletable\">\n",
       "<caption>OLS Regression Results</caption>\n",
       "<tr>\n",
       "  <th>Dep. Variable:</th>          <td>Dinv</td>       <th>  R-squared:         </th> <td>   0.785</td>\n",
       "</tr>\n",
       "<tr>\n",
       "  <th>Model:</th>                   <td>OLS</td>       <th>  Adj. R-squared:    </th> <td>   0.779</td>\n",
       "</tr>\n",
       "<tr>\n",
       "  <th>Method:</th>             <td>Least Squares</td>  <th>  F-statistic:       </th> <td>   125.9</td>\n",
       "</tr>\n",
       "<tr>\n",
       "  <th>Date:</th>             <td>Wed, 11 Jul 2018</td> <th>  Prob (F-statistic):</th> <td>9.48e-24</td>\n",
       "</tr>\n",
       "<tr>\n",
       "  <th>Time:</th>                 <td>11:39:57</td>     <th>  Log-Likelihood:    </th> <td> -127.94</td>\n",
       "</tr>\n",
       "<tr>\n",
       "  <th>No. Observations:</th>      <td>    72</td>      <th>  AIC:               </th> <td>   261.9</td>\n",
       "</tr>\n",
       "<tr>\n",
       "  <th>Df Residuals:</th>          <td>    69</td>      <th>  BIC:               </th> <td>   268.7</td>\n",
       "</tr>\n",
       "<tr>\n",
       "  <th>Df Model:</th>              <td>     2</td>      <th>                     </th>     <td> </td>   \n",
       "</tr>\n",
       "<tr>\n",
       "  <th>Covariance Type:</th>      <td>nonrobust</td>    <th>                     </th>     <td> </td>   \n",
       "</tr>\n",
       "</table>\n",
       "<table class=\"simpletable\">\n",
       "<tr>\n",
       "            <td></td>              <th>coef</th>     <th>std err</th>      <th>t</th>      <th>P>|t|</th>  <th>[0.025</th>    <th>0.975]</th>  \n",
       "</tr>\n",
       "<tr>\n",
       "  <th>Intercept</th>            <td>   17.4690</td> <td>    1.077</td> <td>   16.220</td> <td> 0.000</td> <td>   15.320</td> <td>   19.618</td>\n",
       "</tr>\n",
       "<tr>\n",
       "  <th>FeDomains</th>            <td>  -43.5000</td> <td>    3.970</td> <td>  -10.957</td> <td> 0.000</td> <td>  -51.420</td> <td>  -35.580</td>\n",
       "</tr>\n",
       "<tr>\n",
       "  <th>np.square(FeDomains)</th> <td>   28.6214</td> <td>    3.267</td> <td>    8.760</td> <td> 0.000</td> <td>   22.103</td> <td>   35.140</td>\n",
       "</tr>\n",
       "</table>\n",
       "<table class=\"simpletable\">\n",
       "<tr>\n",
       "  <th>Omnibus:</th>       <td>18.583</td> <th>  Durbin-Watson:     </th> <td>   1.132</td>\n",
       "</tr>\n",
       "<tr>\n",
       "  <th>Prob(Omnibus):</th> <td> 0.000</td> <th>  Jarque-Bera (JB):  </th> <td>  41.610</td>\n",
       "</tr>\n",
       "<tr>\n",
       "  <th>Skew:</th>          <td> 0.792</td> <th>  Prob(JB):          </th> <td>9.22e-10</td>\n",
       "</tr>\n",
       "<tr>\n",
       "  <th>Kurtosis:</th>      <td> 6.371</td> <th>  Cond. No.          </th> <td>    40.4</td>\n",
       "</tr>\n",
       "</table><br/><br/>Warnings:<br/>[1] Standard Errors assume that the covariance matrix of the errors is correctly specified."
      ],
      "text/plain": [
       "<class 'statsmodels.iolib.summary.Summary'>\n",
       "\"\"\"\n",
       "                            OLS Regression Results                            \n",
       "==============================================================================\n",
       "Dep. Variable:                   Dinv   R-squared:                       0.785\n",
       "Model:                            OLS   Adj. R-squared:                  0.779\n",
       "Method:                 Least Squares   F-statistic:                     125.9\n",
       "Date:                Wed, 11 Jul 2018   Prob (F-statistic):           9.48e-24\n",
       "Time:                        11:39:57   Log-Likelihood:                -127.94\n",
       "No. Observations:                  72   AIC:                             261.9\n",
       "Df Residuals:                      69   BIC:                             268.7\n",
       "Df Model:                           2                                         \n",
       "Covariance Type:            nonrobust                                         \n",
       "========================================================================================\n",
       "                           coef    std err          t      P>|t|      [0.025      0.975]\n",
       "----------------------------------------------------------------------------------------\n",
       "Intercept               17.4690      1.077     16.220      0.000      15.320      19.618\n",
       "FeDomains              -43.5000      3.970    -10.957      0.000     -51.420     -35.580\n",
       "np.square(FeDomains)    28.6214      3.267      8.760      0.000      22.103      35.140\n",
       "==============================================================================\n",
       "Omnibus:                       18.583   Durbin-Watson:                   1.132\n",
       "Prob(Omnibus):                  0.000   Jarque-Bera (JB):               41.610\n",
       "Skew:                           0.792   Prob(JB):                     9.22e-10\n",
       "Kurtosis:                       6.371   Cond. No.                         40.4\n",
       "==============================================================================\n",
       "\n",
       "Warnings:\n",
       "[1] Standard Errors assume that the covariance matrix of the errors is correctly specified.\n",
       "\"\"\""
      ]
     },
     "execution_count": 13,
     "metadata": {},
     "output_type": "execute_result"
    }
   ],
   "source": [
    "est = smf.ols('Dinv ~ FeDomains + np.square(FeDomains)', df2).fit()\n",
    "est.summary()"
   ]
  },
  {
   "cell_type": "code",
   "execution_count": 14,
   "metadata": {},
   "outputs": [
    {
     "data": {
      "image/png": "[encoded data removed]",
      "text/plain": [
       "<Figure size 432x288 with 1 Axes>"
      ]
     },
     "metadata": {},
     "output_type": "display_data"
    }
   ],
   "source": [
    "sns.residplot(x='FeDomains', y='LnDinv', order = 2,data=df2, color='green')\n",
    "plt.show()"
   ]
  },
  {
   "cell_type": "markdown",
   "metadata": {},
   "source": [
    "Heteroscedasticity definately reduced"
   ]
  },
  {
   "cell_type": "code",
   "execution_count": 15,
   "metadata": {},
   "outputs": [
    {
     "data": {
      "text/html": [
       "<table class=\"simpletable\">\n",
       "<caption>OLS Regression Results</caption>\n",
       "<tr>\n",
       "  <th>Dep. Variable:</th>         <td>LnDinv</td>      <th>  R-squared:         </th> <td>   0.716</td>\n",
       "</tr>\n",
       "<tr>\n",
       "  <th>Model:</th>                   <td>OLS</td>       <th>  Adj. R-squared:    </th> <td>   0.708</td>\n",
       "</tr>\n",
       "<tr>\n",
       "  <th>Method:</th>             <td>Least Squares</td>  <th>  F-statistic:       </th> <td>   86.91</td>\n",
       "</tr>\n",
       "<tr>\n",
       "  <th>Date:</th>             <td>Wed, 11 Jul 2018</td> <th>  Prob (F-statistic):</th> <td>1.40e-19</td>\n",
       "</tr>\n",
       "<tr>\n",
       "  <th>Time:</th>                 <td>11:39:58</td>     <th>  Log-Likelihood:    </th> <td> -38.712</td>\n",
       "</tr>\n",
       "<tr>\n",
       "  <th>No. Observations:</th>      <td>    72</td>      <th>  AIC:               </th> <td>   83.42</td>\n",
       "</tr>\n",
       "<tr>\n",
       "  <th>Df Residuals:</th>          <td>    69</td>      <th>  BIC:               </th> <td>   90.25</td>\n",
       "</tr>\n",
       "<tr>\n",
       "  <th>Df Model:</th>              <td>     2</td>      <th>                     </th>     <td> </td>   \n",
       "</tr>\n",
       "<tr>\n",
       "  <th>Covariance Type:</th>      <td>nonrobust</td>    <th>                     </th>     <td> </td>   \n",
       "</tr>\n",
       "</table>\n",
       "<table class=\"simpletable\">\n",
       "<tr>\n",
       "            <td></td>              <th>coef</th>     <th>std err</th>      <th>t</th>      <th>P>|t|</th>  <th>[0.025</th>    <th>0.975]</th>  \n",
       "</tr>\n",
       "<tr>\n",
       "  <th>Intercept</th>            <td>    3.8849</td> <td>    0.312</td> <td>   12.455</td> <td> 0.000</td> <td>    3.263</td> <td>    4.507</td>\n",
       "</tr>\n",
       "<tr>\n",
       "  <th>FeDomains</th>            <td>   -8.7447</td> <td>    1.150</td> <td>   -7.606</td> <td> 0.000</td> <td>  -11.038</td> <td>   -6.451</td>\n",
       "</tr>\n",
       "<tr>\n",
       "  <th>np.square(FeDomains)</th> <td>    5.2856</td> <td>    0.946</td> <td>    5.586</td> <td> 0.000</td> <td>    3.398</td> <td>    7.173</td>\n",
       "</tr>\n",
       "</table>\n",
       "<table class=\"simpletable\">\n",
       "<tr>\n",
       "  <th>Omnibus:</th>       <td> 2.319</td> <th>  Durbin-Watson:     </th> <td>   0.627</td>\n",
       "</tr>\n",
       "<tr>\n",
       "  <th>Prob(Omnibus):</th> <td> 0.314</td> <th>  Jarque-Bera (JB):  </th> <td>   2.003</td>\n",
       "</tr>\n",
       "<tr>\n",
       "  <th>Skew:</th>          <td> 0.289</td> <th>  Prob(JB):          </th> <td>   0.367</td>\n",
       "</tr>\n",
       "<tr>\n",
       "  <th>Kurtosis:</th>      <td> 2.422</td> <th>  Cond. No.          </th> <td>    40.4</td>\n",
       "</tr>\n",
       "</table><br/><br/>Warnings:<br/>[1] Standard Errors assume that the covariance matrix of the errors is correctly specified."
      ],
      "text/plain": [
       "<class 'statsmodels.iolib.summary.Summary'>\n",
       "\"\"\"\n",
       "                            OLS Regression Results                            \n",
       "==============================================================================\n",
       "Dep. Variable:                 LnDinv   R-squared:                       0.716\n",
       "Model:                            OLS   Adj. R-squared:                  0.708\n",
       "Method:                 Least Squares   F-statistic:                     86.91\n",
       "Date:                Wed, 11 Jul 2018   Prob (F-statistic):           1.40e-19\n",
       "Time:                        11:39:58   Log-Likelihood:                -38.712\n",
       "No. Observations:                  72   AIC:                             83.42\n",
       "Df Residuals:                      69   BIC:                             90.25\n",
       "Df Model:                           2                                         \n",
       "Covariance Type:            nonrobust                                         \n",
       "========================================================================================\n",
       "                           coef    std err          t      P>|t|      [0.025      0.975]\n",
       "----------------------------------------------------------------------------------------\n",
       "Intercept                3.8849      0.312     12.455      0.000       3.263       4.507\n",
       "FeDomains               -8.7447      1.150     -7.606      0.000     -11.038      -6.451\n",
       "np.square(FeDomains)     5.2856      0.946      5.586      0.000       3.398       7.173\n",
       "==============================================================================\n",
       "Omnibus:                        2.319   Durbin-Watson:                   0.627\n",
       "Prob(Omnibus):                  0.314   Jarque-Bera (JB):                2.003\n",
       "Skew:                           0.289   Prob(JB):                        0.367\n",
       "Kurtosis:                       2.422   Cond. No.                         40.4\n",
       "==============================================================================\n",
       "\n",
       "Warnings:\n",
       "[1] Standard Errors assume that the covariance matrix of the errors is correctly specified.\n",
       "\"\"\""
      ]
     },
     "execution_count": 15,
     "metadata": {},
     "output_type": "execute_result"
    }
   ],
   "source": [
    "est = smf.ols('LnDinv ~ FeDomains + np.square(FeDomains)', df2).fit()\n",
    "est.summary()"
   ]
  },
  {
   "cell_type": "code",
   "execution_count": 16,
   "metadata": {},
   "outputs": [
    {
     "data": {
      "image/png": "[encoded data removed]",
      "text/plain": [
       "<Figure size 432x288 with 1 Axes>"
      ]
     },
     "metadata": {},
     "output_type": "display_data"
    },
    {
     "name": "stdout",
     "output_type": "stream",
     "text": [
      "Function equation : \n",
      "        2\n",
      "5.286 x - 8.745 x + 3.885\n"
     ]
    }
   ],
   "source": [
    "fit = np.polyfit(df2['FeDomains'],df2['LnDinv'], 2)\n",
    "fit_fn = np.poly1d(fit)\n",
    "\n",
    "plt.plot(df2['FeDomains'],df2['LnDinv'], '.', np.sort(df2['FeDomains']), fit_fn(np.sort(df2['FeDomains'])), '--r', linewidth=2)\n",
    "plt.xlabel(\"FeDomains\")\n",
    "plt.ylabel(\"LnDinv\")\n",
    "plt.show()\n",
    "print('Function equation : \\n',fit_fn)"
   ]
  },
  {
   "cell_type": "markdown",
   "metadata": {},
   "source": [
    "1) Non-linearity in predictor-response relationship has definately reduced"
   ]
  },
  {
   "cell_type": "markdown",
   "metadata": {},
   "source": [
    "2) R2 reduced a bit, but still acceptable."
   ]
  },
  {
   "cell_type": "markdown",
   "metadata": {},
   "source": [
    "3)No clear correlation present in error terms"
   ]
  },
  {
   "cell_type": "markdown",
   "metadata": {},
   "source": [
    "4)Looks homoscedastic"
   ]
  },
  {
   "cell_type": "markdown",
   "metadata": {},
   "source": [
    "This fit seems good, but a problem with squared model is that its value decreases, reaches a minimum and then again increases. Here(in case of Cu) it reaches its minimum close to 0.85, and after that it increases, but in some other element we might have that minimum close to 0.5, which may cause some problem."
   ]
  },
  {
   "cell_type": "markdown",
   "metadata": {},
   "source": [
    "The doubt is that our equation suggest that the LnDinv will have a minimum at some point and will increase both sides from that point. But chemically on increasing the concentration of Fe,(for siderophile elements) the value Dinv should only decrease."
   ]
  },
  {
   "cell_type": "markdown",
   "metadata": {},
   "source": [
    "**Now even if our domain lies between 0 and 1 and our minimum is close to 1, does this fit actually represent the predictor-response relationship correctly?**"
   ]
  },
  {
   "cell_type": "markdown",
   "metadata": {},
   "source": [
    "### (C) Trying Square-root of x"
   ]
  },
  {
   "cell_type": "markdown",
   "metadata": {},
   "source": [
    "Now rather than fitting a square-root line to the data, we are fitting a straight line to the squared data."
   ]
  },
  {
   "cell_type": "markdown",
   "metadata": {},
   "source": [
    "Now, this is a bit unintuitive, the reason is that np.polyfit works only with integer values"
   ]
  },
  {
   "cell_type": "code",
   "execution_count": 17,
   "metadata": {},
   "outputs": [
    {
     "data": {
      "text/html": [
       "<div>\n",
       "<style scoped>\n",
       "    .dataframe tbody tr th:only-of-type {\n",
       "        vertical-align: middle;\n",
       "    }\n",
       "\n",
       "    .dataframe tbody tr th {\n",
       "        vertical-align: top;\n",
       "    }\n",
       "\n",
       "    .dataframe thead th {\n",
       "        text-align: right;\n",
       "    }\n",
       "</style>\n",
       "<table border=\"1\" class=\"dataframe\">\n",
       "  <thead>\n",
       "    <tr style=\"text-align: right;\">\n",
       "      <th></th>\n",
       "      <th>D(Cu)</th>\n",
       "      <th>Dinv</th>\n",
       "      <th>LnFeDomains</th>\n",
       "      <th>LnDinv</th>\n",
       "      <th>FeDomains</th>\n",
       "    </tr>\n",
       "  </thead>\n",
       "  <tbody>\n",
       "    <tr>\n",
       "      <th>0</th>\n",
       "      <td>0.43</td>\n",
       "      <td>2.325581</td>\n",
       "      <td>-0.063935</td>\n",
       "      <td>0.843970</td>\n",
       "      <td>0.938066</td>\n",
       "    </tr>\n",
       "    <tr>\n",
       "      <th>1</th>\n",
       "      <td>0.32</td>\n",
       "      <td>3.125000</td>\n",
       "      <td>-0.171537</td>\n",
       "      <td>1.139434</td>\n",
       "      <td>0.842369</td>\n",
       "    </tr>\n",
       "    <tr>\n",
       "      <th>2</th>\n",
       "      <td>0.33</td>\n",
       "      <td>3.030303</td>\n",
       "      <td>-0.297457</td>\n",
       "      <td>1.108663</td>\n",
       "      <td>0.742704</td>\n",
       "    </tr>\n",
       "    <tr>\n",
       "      <th>3</th>\n",
       "      <td>0.33</td>\n",
       "      <td>3.030303</td>\n",
       "      <td>-0.565593</td>\n",
       "      <td>1.108663</td>\n",
       "      <td>0.568023</td>\n",
       "    </tr>\n",
       "    <tr>\n",
       "      <th>4</th>\n",
       "      <td>0.24</td>\n",
       "      <td>4.166667</td>\n",
       "      <td>-0.818951</td>\n",
       "      <td>1.427116</td>\n",
       "      <td>0.440894</td>\n",
       "    </tr>\n",
       "  </tbody>\n",
       "</table>\n",
       "</div>"
      ],
      "text/plain": [
       "   D(Cu)      Dinv  LnFeDomains    LnDinv  FeDomains\n",
       "0   0.43  2.325581    -0.063935  0.843970   0.938066\n",
       "1   0.32  3.125000    -0.171537  1.139434   0.842369\n",
       "2   0.33  3.030303    -0.297457  1.108663   0.742704\n",
       "3   0.33  3.030303    -0.565593  1.108663   0.568023\n",
       "4   0.24  4.166667    -0.818951  1.427116   0.440894"
      ]
     },
     "execution_count": 17,
     "metadata": {},
     "output_type": "execute_result"
    }
   ],
   "source": [
    "df2.head()"
   ]
  },
  {
   "cell_type": "code",
   "execution_count": 18,
   "metadata": {
    "scrolled": true
   },
   "outputs": [
    {
     "data": {
      "text/html": [
       "<div>\n",
       "<style scoped>\n",
       "    .dataframe tbody tr th:only-of-type {\n",
       "        vertical-align: middle;\n",
       "    }\n",
       "\n",
       "    .dataframe tbody tr th {\n",
       "        vertical-align: top;\n",
       "    }\n",
       "\n",
       "    .dataframe thead th {\n",
       "        text-align: right;\n",
       "    }\n",
       "</style>\n",
       "<table border=\"1\" class=\"dataframe\">\n",
       "  <thead>\n",
       "    <tr style=\"text-align: right;\">\n",
       "      <th></th>\n",
       "      <th>D(Cu)</th>\n",
       "      <th>Dinv</th>\n",
       "      <th>LnFeDomains</th>\n",
       "      <th>LnDinv</th>\n",
       "      <th>FeDomains</th>\n",
       "      <th>sqrtFeDomains</th>\n",
       "      <th>OneMinusFeD</th>\n",
       "    </tr>\n",
       "  </thead>\n",
       "  <tbody>\n",
       "    <tr>\n",
       "      <th>0</th>\n",
       "      <td>0.43</td>\n",
       "      <td>2.325581</td>\n",
       "      <td>-0.063935</td>\n",
       "      <td>0.843970</td>\n",
       "      <td>0.938066</td>\n",
       "      <td>0.968538</td>\n",
       "      <td>0.061934</td>\n",
       "    </tr>\n",
       "    <tr>\n",
       "      <th>1</th>\n",
       "      <td>0.32</td>\n",
       "      <td>3.125000</td>\n",
       "      <td>-0.171537</td>\n",
       "      <td>1.139434</td>\n",
       "      <td>0.842369</td>\n",
       "      <td>0.917807</td>\n",
       "      <td>0.157631</td>\n",
       "    </tr>\n",
       "    <tr>\n",
       "      <th>2</th>\n",
       "      <td>0.33</td>\n",
       "      <td>3.030303</td>\n",
       "      <td>-0.297457</td>\n",
       "      <td>1.108663</td>\n",
       "      <td>0.742704</td>\n",
       "      <td>0.861803</td>\n",
       "      <td>0.257296</td>\n",
       "    </tr>\n",
       "    <tr>\n",
       "      <th>3</th>\n",
       "      <td>0.33</td>\n",
       "      <td>3.030303</td>\n",
       "      <td>-0.565593</td>\n",
       "      <td>1.108663</td>\n",
       "      <td>0.568023</td>\n",
       "      <td>0.753673</td>\n",
       "      <td>0.431977</td>\n",
       "    </tr>\n",
       "    <tr>\n",
       "      <th>4</th>\n",
       "      <td>0.24</td>\n",
       "      <td>4.166667</td>\n",
       "      <td>-0.818951</td>\n",
       "      <td>1.427116</td>\n",
       "      <td>0.440894</td>\n",
       "      <td>0.663998</td>\n",
       "      <td>0.559106</td>\n",
       "    </tr>\n",
       "  </tbody>\n",
       "</table>\n",
       "</div>"
      ],
      "text/plain": [
       "   D(Cu)      Dinv  LnFeDomains    LnDinv  FeDomains  sqrtFeDomains  \\\n",
       "0   0.43  2.325581    -0.063935  0.843970   0.938066       0.968538   \n",
       "1   0.32  3.125000    -0.171537  1.139434   0.842369       0.917807   \n",
       "2   0.33  3.030303    -0.297457  1.108663   0.742704       0.861803   \n",
       "3   0.33  3.030303    -0.565593  1.108663   0.568023       0.753673   \n",
       "4   0.24  4.166667    -0.818951  1.427116   0.440894       0.663998   \n",
       "\n",
       "   OneMinusFeD  \n",
       "0     0.061934  \n",
       "1     0.157631  \n",
       "2     0.257296  \n",
       "3     0.431977  \n",
       "4     0.559106  "
      ]
     },
     "execution_count": 18,
     "metadata": {},
     "output_type": "execute_result"
    }
   ],
   "source": [
    "df2['sqrtFeDomains'] = np.sqrt(df2['FeDomains'])\n",
    "df2['OneMinusFeD'] = np.subtract(1,df2['FeDomains'])\n",
    "df2.head()"
   ]
  },
  {
   "cell_type": "code",
   "execution_count": 19,
   "metadata": {},
   "outputs": [],
   "source": [
    "## ya! this doesn't work, just gives a stright line\n",
    "## So, we need to plot a regressio w/o a library or just a st-line on the square-rooted data\n",
    "## Taking the square root seems much more convinient than writing the code w/o any library !! \n",
    "\n",
    "# fit = np.polyfit(df2['FeDomains'],df2['Dinv'], 0.5)\n",
    "# fit_fn = np.poly1d(fit)\n",
    "\n",
    "# plt.plot(df2['FeDomains'],df2['Dinv'], '.', np.sort(df2['FeDomains']), fit_fn(np.sort(df2['FeDomains'])), '--r', linewidth=2)\n",
    "# plt.xlabel(\"FeDomains\")\n",
    "# plt.ylabel(\"Dinv\")\n",
    "# plt.show()"
   ]
  },
  {
   "cell_type": "code",
   "execution_count": 20,
   "metadata": {},
   "outputs": [
    {
     "data": {
      "text/html": [
       "<table class=\"simpletable\">\n",
       "<caption>OLS Regression Results</caption>\n",
       "<tr>\n",
       "  <th>Dep. Variable:</th>          <td>Dinv</td>       <th>  R-squared:         </th> <td>   0.842</td>\n",
       "</tr>\n",
       "<tr>\n",
       "  <th>Model:</th>                   <td>OLS</td>       <th>  Adj. R-squared:    </th> <td>   0.838</td>\n",
       "</tr>\n",
       "<tr>\n",
       "  <th>Method:</th>             <td>Least Squares</td>  <th>  F-statistic:       </th> <td>   184.2</td>\n",
       "</tr>\n",
       "<tr>\n",
       "  <th>Date:</th>             <td>Wed, 11 Jul 2018</td> <th>  Prob (F-statistic):</th> <td>2.14e-28</td>\n",
       "</tr>\n",
       "<tr>\n",
       "  <th>Time:</th>                 <td>11:39:58</td>     <th>  Log-Likelihood:    </th> <td> -116.77</td>\n",
       "</tr>\n",
       "<tr>\n",
       "  <th>No. Observations:</th>      <td>    72</td>      <th>  AIC:               </th> <td>   239.5</td>\n",
       "</tr>\n",
       "<tr>\n",
       "  <th>Df Residuals:</th>          <td>    69</td>      <th>  BIC:               </th> <td>   246.4</td>\n",
       "</tr>\n",
       "<tr>\n",
       "  <th>Df Model:</th>              <td>     2</td>      <th>                     </th>     <td> </td>   \n",
       "</tr>\n",
       "<tr>\n",
       "  <th>Covariance Type:</th>      <td>nonrobust</td>    <th>                     </th>     <td> </td>   \n",
       "</tr>\n",
       "</table>\n",
       "<table class=\"simpletable\">\n",
       "<tr>\n",
       "        <td></td>           <th>coef</th>     <th>std err</th>      <th>t</th>      <th>P>|t|</th>  <th>[0.025</th>    <th>0.975]</th>  \n",
       "</tr>\n",
       "<tr>\n",
       "  <th>Intercept</th>     <td>   40.4117</td> <td>    2.781</td> <td>   14.532</td> <td> 0.000</td> <td>   34.864</td> <td>   45.959</td>\n",
       "</tr>\n",
       "<tr>\n",
       "  <th>FeDomains</th>     <td>   52.3154</td> <td>    5.440</td> <td>    9.617</td> <td> 0.000</td> <td>   41.463</td> <td>   63.168</td>\n",
       "</tr>\n",
       "<tr>\n",
       "  <th>sqrtFeDomains</th> <td>  -90.5812</td> <td>    7.953</td> <td>  -11.390</td> <td> 0.000</td> <td> -106.447</td> <td>  -74.716</td>\n",
       "</tr>\n",
       "</table>\n",
       "<table class=\"simpletable\">\n",
       "<tr>\n",
       "  <th>Omnibus:</th>       <td> 7.058</td> <th>  Durbin-Watson:     </th> <td>   1.167</td>\n",
       "</tr>\n",
       "<tr>\n",
       "  <th>Prob(Omnibus):</th> <td> 0.029</td> <th>  Jarque-Bera (JB):  </th> <td>  12.746</td>\n",
       "</tr>\n",
       "<tr>\n",
       "  <th>Skew:</th>          <td> 0.083</td> <th>  Prob(JB):          </th> <td> 0.00171</td>\n",
       "</tr>\n",
       "<tr>\n",
       "  <th>Kurtosis:</th>      <td> 5.055</td> <th>  Cond. No.          </th> <td>    99.2</td>\n",
       "</tr>\n",
       "</table><br/><br/>Warnings:<br/>[1] Standard Errors assume that the covariance matrix of the errors is correctly specified."
      ],
      "text/plain": [
       "<class 'statsmodels.iolib.summary.Summary'>\n",
       "\"\"\"\n",
       "                            OLS Regression Results                            \n",
       "==============================================================================\n",
       "Dep. Variable:                   Dinv   R-squared:                       0.842\n",
       "Model:                            OLS   Adj. R-squared:                  0.838\n",
       "Method:                 Least Squares   F-statistic:                     184.2\n",
       "Date:                Wed, 11 Jul 2018   Prob (F-statistic):           2.14e-28\n",
       "Time:                        11:39:58   Log-Likelihood:                -116.77\n",
       "No. Observations:                  72   AIC:                             239.5\n",
       "Df Residuals:                      69   BIC:                             246.4\n",
       "Df Model:                           2                                         \n",
       "Covariance Type:            nonrobust                                         \n",
       "=================================================================================\n",
       "                    coef    std err          t      P>|t|      [0.025      0.975]\n",
       "---------------------------------------------------------------------------------\n",
       "Intercept        40.4117      2.781     14.532      0.000      34.864      45.959\n",
       "FeDomains        52.3154      5.440      9.617      0.000      41.463      63.168\n",
       "sqrtFeDomains   -90.5812      7.953    -11.390      0.000    -106.447     -74.716\n",
       "==============================================================================\n",
       "Omnibus:                        7.058   Durbin-Watson:                   1.167\n",
       "Prob(Omnibus):                  0.029   Jarque-Bera (JB):               12.746\n",
       "Skew:                           0.083   Prob(JB):                      0.00171\n",
       "Kurtosis:                       5.055   Cond. No.                         99.2\n",
       "==============================================================================\n",
       "\n",
       "Warnings:\n",
       "[1] Standard Errors assume that the covariance matrix of the errors is correctly specified.\n",
       "\"\"\""
      ]
     },
     "execution_count": 20,
     "metadata": {},
     "output_type": "execute_result"
    }
   ],
   "source": [
    "est = smf.ols('Dinv ~ FeDomains + sqrtFeDomains', df2).fit()\n",
    "est.summary()"
   ]
  },
  {
   "cell_type": "code",
   "execution_count": 21,
   "metadata": {},
   "outputs": [
    {
     "name": "stdout",
     "output_type": "stream",
     "text": [
      "regr_coeff : [ 52.31543059 -90.58121186]\n",
      "regr_intercept : 40.41165509917685\n",
      "regr_score : 0.8422477831659844\n"
     ]
    },
    {
     "data": {
      "text/plain": [
       "<matplotlib.axes._subplots.AxesSubplot at 0x18c24039588>"
      ]
     },
     "execution_count": 21,
     "metadata": {},
     "output_type": "execute_result"
    },
    {
     "data": {
      "image/png": "[encoded data removed]",
      "text/plain": [
       "<Figure size 432x288 with 1 Axes>"
      ]
     },
     "metadata": {},
     "output_type": "display_data"
    }
   ],
   "source": [
    "regr = skl_lm.LinearRegression()\n",
    "\n",
    "# Linear fit\n",
    "Xsqrt = df2[['FeDomains','sqrtFeDomains']].values\n",
    "ysqrt = df2['Dinv']\n",
    "regr.fit(Xsqrt, ysqrt)\n",
    "print('regr_coeff :',regr.coef_)\n",
    "print('regr_intercept :',regr.intercept_)\n",
    "print('regr_score :',regr.score(Xsqrt,ysqrt))\n",
    "\n",
    "df2['predSqrt'] = regr.predict(Xsqrt)\n",
    "df2['residSqrt'] = df2.Dinv - df2.predSqrt\n",
    "\n",
    "sns.regplot(df2['residSqrt'],df2['predSqrt'], lowess=True, color='green')"
   ]
  },
  {
   "cell_type": "markdown",
   "metadata": {},
   "source": [
    "Now, the sqrt model is definately **rejected** with this much non-linearity in the relationship."
   ]
  },
  {
   "cell_type": "markdown",
   "metadata": {},
   "source": [
    "### (D) Trying log of x"
   ]
  },
  {
   "cell_type": "code",
   "execution_count": 22,
   "metadata": {},
   "outputs": [
    {
     "data": {
      "image/png": "[encoded data removed]",
      "text/plain": [
       "<Figure size 360x360 with 1 Axes>"
      ]
     },
     "metadata": {},
     "output_type": "display_data"
    }
   ],
   "source": [
    "sns.lmplot(x='LnFeDomains', y='Dinv', data=df2)\n",
    "plt.show()"
   ]
  },
  {
   "cell_type": "code",
   "execution_count": 23,
   "metadata": {},
   "outputs": [
    {
     "data": {
      "text/html": [
       "<table class=\"simpletable\">\n",
       "<caption>OLS Regression Results</caption>\n",
       "<tr>\n",
       "  <th>Dep. Variable:</th>          <td>Dinv</td>       <th>  R-squared:         </th> <td>   0.721</td>\n",
       "</tr>\n",
       "<tr>\n",
       "  <th>Model:</th>                   <td>OLS</td>       <th>  Adj. R-squared:    </th> <td>   0.718</td>\n",
       "</tr>\n",
       "<tr>\n",
       "  <th>Method:</th>             <td>Least Squares</td>  <th>  F-statistic:       </th> <td>   181.3</td>\n",
       "</tr>\n",
       "<tr>\n",
       "  <th>Date:</th>             <td>Wed, 11 Jul 2018</td> <th>  Prob (F-statistic):</th> <td>4.13e-21</td>\n",
       "</tr>\n",
       "<tr>\n",
       "  <th>Time:</th>                 <td>11:39:59</td>     <th>  Log-Likelihood:    </th> <td> -137.24</td>\n",
       "</tr>\n",
       "<tr>\n",
       "  <th>No. Observations:</th>      <td>    72</td>      <th>  AIC:               </th> <td>   278.5</td>\n",
       "</tr>\n",
       "<tr>\n",
       "  <th>Df Residuals:</th>          <td>    70</td>      <th>  BIC:               </th> <td>   283.0</td>\n",
       "</tr>\n",
       "<tr>\n",
       "  <th>Df Model:</th>              <td>     1</td>      <th>                     </th>     <td> </td>   \n",
       "</tr>\n",
       "<tr>\n",
       "  <th>Covariance Type:</th>      <td>nonrobust</td>    <th>                     </th>     <td> </td>   \n",
       "</tr>\n",
       "</table>\n",
       "<table class=\"simpletable\">\n",
       "<tr>\n",
       "       <td></td>          <th>coef</th>     <th>std err</th>      <th>t</th>      <th>P>|t|</th>  <th>[0.025</th>    <th>0.975]</th>  \n",
       "</tr>\n",
       "<tr>\n",
       "  <th>Intercept</th>   <td>    0.2343</td> <td>    0.277</td> <td>    0.845</td> <td> 0.401</td> <td>   -0.319</td> <td>    0.787</td>\n",
       "</tr>\n",
       "<tr>\n",
       "  <th>LnFeDomains</th> <td>   -5.3741</td> <td>    0.399</td> <td>  -13.466</td> <td> 0.000</td> <td>   -6.170</td> <td>   -4.578</td>\n",
       "</tr>\n",
       "</table>\n",
       "<table class=\"simpletable\">\n",
       "<tr>\n",
       "  <th>Omnibus:</th>       <td>26.178</td> <th>  Durbin-Watson:     </th> <td>   0.913</td>\n",
       "</tr>\n",
       "<tr>\n",
       "  <th>Prob(Omnibus):</th> <td> 0.000</td> <th>  Jarque-Bera (JB):  </th> <td>  54.571</td>\n",
       "</tr>\n",
       "<tr>\n",
       "  <th>Skew:</th>          <td> 1.222</td> <th>  Prob(JB):          </th> <td>1.41e-12</td>\n",
       "</tr>\n",
       "<tr>\n",
       "  <th>Kurtosis:</th>      <td> 6.495</td> <th>  Cond. No.          </th> <td>    2.67</td>\n",
       "</tr>\n",
       "</table><br/><br/>Warnings:<br/>[1] Standard Errors assume that the covariance matrix of the errors is correctly specified."
      ],
      "text/plain": [
       "<class 'statsmodels.iolib.summary.Summary'>\n",
       "\"\"\"\n",
       "                            OLS Regression Results                            \n",
       "==============================================================================\n",
       "Dep. Variable:                   Dinv   R-squared:                       0.721\n",
       "Model:                            OLS   Adj. R-squared:                  0.718\n",
       "Method:                 Least Squares   F-statistic:                     181.3\n",
       "Date:                Wed, 11 Jul 2018   Prob (F-statistic):           4.13e-21\n",
       "Time:                        11:39:59   Log-Likelihood:                -137.24\n",
       "No. Observations:                  72   AIC:                             278.5\n",
       "Df Residuals:                      70   BIC:                             283.0\n",
       "Df Model:                           1                                         \n",
       "Covariance Type:            nonrobust                                         \n",
       "===============================================================================\n",
       "                  coef    std err          t      P>|t|      [0.025      0.975]\n",
       "-------------------------------------------------------------------------------\n",
       "Intercept       0.2343      0.277      0.845      0.401      -0.319       0.787\n",
       "LnFeDomains    -5.3741      0.399    -13.466      0.000      -6.170      -4.578\n",
       "==============================================================================\n",
       "Omnibus:                       26.178   Durbin-Watson:                   0.913\n",
       "Prob(Omnibus):                  0.000   Jarque-Bera (JB):               54.571\n",
       "Skew:                           1.222   Prob(JB):                     1.41e-12\n",
       "Kurtosis:                       6.495   Cond. No.                         2.67\n",
       "==============================================================================\n",
       "\n",
       "Warnings:\n",
       "[1] Standard Errors assume that the covariance matrix of the errors is correctly specified.\n",
       "\"\"\""
      ]
     },
     "execution_count": 23,
     "metadata": {},
     "output_type": "execute_result"
    }
   ],
   "source": [
    "est = smf.ols('Dinv ~ LnFeDomains', df2).fit()\n",
    "est.summary()"
   ]
  },
  {
   "cell_type": "markdown",
   "metadata": {},
   "source": [
    "**Significant p-value of the intercept.**"
   ]
  },
  {
   "cell_type": "markdown",
   "metadata": {},
   "source": [
    "### Learn how to deal with high p-value ~~~"
   ]
  },
  {
   "cell_type": "markdown",
   "metadata": {},
   "source": [
    "This might be due to the high levarage points."
   ]
  },
  {
   "cell_type": "code",
   "execution_count": 24,
   "metadata": {},
   "outputs": [
    {
     "data": {
      "image/png": "[encoded data removed]",
      "text/plain": [
       "<Figure size 432x288 with 1 Axes>"
      ]
     },
     "metadata": {},
     "output_type": "display_data"
    }
   ],
   "source": [
    "sns.residplot(x='LnFeDomains', y='Dinv', lowess=True, order = 1,data=df2, color='green')\n",
    "plt.show()"
   ]
  },
  {
   "cell_type": "markdown",
   "metadata": {},
   "source": [
    "Here the regression line of the residual plot looks better than the squared model(B). The residual curve for the linear model(A) might look better than model(D) at first glance but model(A) has a different axis than this(D) and actually that one(A) is very similar to this one. But this might also be due to outliers. W/o the outliers the regression plot of residuals of model(D) will be worse."
   ]
  },
  {
   "cell_type": "markdown",
   "metadata": {},
   "source": [
    "This fit suffers from heteroscedasticity"
   ]
  },
  {
   "cell_type": "markdown",
   "metadata": {},
   "source": [
    "1) PR relationship seems to be linear"
   ]
  },
  {
   "cell_type": "markdown",
   "metadata": {},
   "source": [
    "2) R2 is decent"
   ]
  },
  {
   "cell_type": "markdown",
   "metadata": {},
   "source": [
    "3)Error terms are correlated."
   ]
  },
  {
   "cell_type": "markdown",
   "metadata": {},
   "source": [
    "4)Sort-of heteroscedastic"
   ]
  },
  {
   "cell_type": "markdown",
   "metadata": {},
   "source": [
    "**Taking log of response to remove heteroscedasticity**"
   ]
  },
  {
   "cell_type": "code",
   "execution_count": 25,
   "metadata": {},
   "outputs": [
    {
     "data": {
      "image/png": "[encoded data removed]",
      "text/plain": [
       "<Figure size 432x288 with 1 Axes>"
      ]
     },
     "metadata": {},
     "output_type": "display_data"
    }
   ],
   "source": [
    "sns.residplot(x='LnFeDomains', y='LnDinv', lowess=True, order = 1,data=df2, color='green')\n",
    "plt.show()"
   ]
  },
  {
   "cell_type": "markdown",
   "metadata": {},
   "source": [
    "Can't comment on heteroscedasticty, on this curve, this might just be because of too few data points."
   ]
  },
  {
   "cell_type": "code",
   "execution_count": 26,
   "metadata": {},
   "outputs": [
    {
     "data": {
      "image/png": "[encoded data removed]",
      "text/plain": [
       "<Figure size 360x360 with 1 Axes>"
      ]
     },
     "metadata": {},
     "output_type": "display_data"
    }
   ],
   "source": [
    "sns.lmplot(x='LnFeDomains', y='LnDinv', data=df2)\n",
    "plt.show()"
   ]
  },
  {
   "cell_type": "markdown",
   "metadata": {},
   "source": [
    "Now this definately looks a better fit than its predecessor"
   ]
  },
  {
   "cell_type": "code",
   "execution_count": 27,
   "metadata": {},
   "outputs": [
    {
     "data": {
      "text/html": [
       "<table class=\"simpletable\">\n",
       "<caption>OLS Regression Results</caption>\n",
       "<tr>\n",
       "  <th>Dep. Variable:</th>         <td>LnDinv</td>      <th>  R-squared:         </th> <td>   0.670</td>\n",
       "</tr>\n",
       "<tr>\n",
       "  <th>Model:</th>                   <td>OLS</td>       <th>  Adj. R-squared:    </th> <td>   0.666</td>\n",
       "</tr>\n",
       "<tr>\n",
       "  <th>Method:</th>             <td>Least Squares</td>  <th>  F-statistic:       </th> <td>   142.4</td>\n",
       "</tr>\n",
       "<tr>\n",
       "  <th>Date:</th>             <td>Wed, 11 Jul 2018</td> <th>  Prob (F-statistic):</th> <td>1.54e-18</td>\n",
       "</tr>\n",
       "<tr>\n",
       "  <th>Time:</th>                 <td>11:40:01</td>     <th>  Log-Likelihood:    </th> <td> -44.046</td>\n",
       "</tr>\n",
       "<tr>\n",
       "  <th>No. Observations:</th>      <td>    72</td>      <th>  AIC:               </th> <td>   92.09</td>\n",
       "</tr>\n",
       "<tr>\n",
       "  <th>Df Residuals:</th>          <td>    70</td>      <th>  BIC:               </th> <td>   96.64</td>\n",
       "</tr>\n",
       "<tr>\n",
       "  <th>Df Model:</th>              <td>     1</td>      <th>                     </th>     <td> </td>   \n",
       "</tr>\n",
       "<tr>\n",
       "  <th>Covariance Type:</th>      <td>nonrobust</td>    <th>                     </th>     <td> </td>   \n",
       "</tr>\n",
       "</table>\n",
       "<table class=\"simpletable\">\n",
       "<tr>\n",
       "       <td></td>          <th>coef</th>     <th>std err</th>      <th>t</th>      <th>P>|t|</th>  <th>[0.025</th>    <th>0.975]</th>  \n",
       "</tr>\n",
       "<tr>\n",
       "  <th>Intercept</th>   <td>    0.0696</td> <td>    0.076</td> <td>    0.916</td> <td> 0.363</td> <td>   -0.082</td> <td>    0.221</td>\n",
       "</tr>\n",
       "<tr>\n",
       "  <th>LnFeDomains</th> <td>   -1.3054</td> <td>    0.109</td> <td>  -11.934</td> <td> 0.000</td> <td>   -1.524</td> <td>   -1.087</td>\n",
       "</tr>\n",
       "</table>\n",
       "<table class=\"simpletable\">\n",
       "<tr>\n",
       "  <th>Omnibus:</th>       <td> 6.467</td> <th>  Durbin-Watson:     </th> <td>   0.526</td>\n",
       "</tr>\n",
       "<tr>\n",
       "  <th>Prob(Omnibus):</th> <td> 0.039</td> <th>  Jarque-Bera (JB):  </th> <td>   2.802</td>\n",
       "</tr>\n",
       "<tr>\n",
       "  <th>Skew:</th>          <td>-0.163</td> <th>  Prob(JB):          </th> <td>   0.246</td>\n",
       "</tr>\n",
       "<tr>\n",
       "  <th>Kurtosis:</th>      <td> 2.090</td> <th>  Cond. No.          </th> <td>    2.67</td>\n",
       "</tr>\n",
       "</table><br/><br/>Warnings:<br/>[1] Standard Errors assume that the covariance matrix of the errors is correctly specified."
      ],
      "text/plain": [
       "<class 'statsmodels.iolib.summary.Summary'>\n",
       "\"\"\"\n",
       "                            OLS Regression Results                            \n",
       "==============================================================================\n",
       "Dep. Variable:                 LnDinv   R-squared:                       0.670\n",
       "Model:                            OLS   Adj. R-squared:                  0.666\n",
       "Method:                 Least Squares   F-statistic:                     142.4\n",
       "Date:                Wed, 11 Jul 2018   Prob (F-statistic):           1.54e-18\n",
       "Time:                        11:40:01   Log-Likelihood:                -44.046\n",
       "No. Observations:                  72   AIC:                             92.09\n",
       "Df Residuals:                      70   BIC:                             96.64\n",
       "Df Model:                           1                                         \n",
       "Covariance Type:            nonrobust                                         \n",
       "===============================================================================\n",
       "                  coef    std err          t      P>|t|      [0.025      0.975]\n",
       "-------------------------------------------------------------------------------\n",
       "Intercept       0.0696      0.076      0.916      0.363      -0.082       0.221\n",
       "LnFeDomains    -1.3054      0.109    -11.934      0.000      -1.524      -1.087\n",
       "==============================================================================\n",
       "Omnibus:                        6.467   Durbin-Watson:                   0.526\n",
       "Prob(Omnibus):                  0.039   Jarque-Bera (JB):                2.802\n",
       "Skew:                          -0.163   Prob(JB):                        0.246\n",
       "Kurtosis:                       2.090   Cond. No.                         2.67\n",
       "==============================================================================\n",
       "\n",
       "Warnings:\n",
       "[1] Standard Errors assume that the covariance matrix of the errors is correctly specified.\n",
       "\"\"\""
      ]
     },
     "execution_count": 27,
     "metadata": {},
     "output_type": "execute_result"
    }
   ],
   "source": [
    "est = smf.ols('LnDinv ~ LnFeDomains', df2).fit()\n",
    "est.summary()"
   ]
  },
  {
   "cell_type": "markdown",
   "metadata": {},
   "source": [
    "Surprisingly, the value of **r2 has decreased.** Also there is a **significant p-value of the intercept.**"
   ]
  },
  {
   "cell_type": "markdown",
   "metadata": {},
   "source": [
    "**NEED TO DEAL WITH THE INTERCEPT TERM**"
   ]
  },
  {
   "cell_type": "code",
   "execution_count": null,
   "metadata": {},
   "outputs": [],
   "source": []
  },
  {
   "cell_type": "markdown",
   "metadata": {},
   "source": [
    "### (E) Checking for hyperbola"
   ]
  },
  {
   "cell_type": "code",
   "execution_count": 28,
   "metadata": {},
   "outputs": [
    {
     "data": {
      "text/html": [
       "<div>\n",
       "<style scoped>\n",
       "    .dataframe tbody tr th:only-of-type {\n",
       "        vertical-align: middle;\n",
       "    }\n",
       "\n",
       "    .dataframe tbody tr th {\n",
       "        vertical-align: top;\n",
       "    }\n",
       "\n",
       "    .dataframe thead th {\n",
       "        text-align: right;\n",
       "    }\n",
       "</style>\n",
       "<table border=\"1\" class=\"dataframe\">\n",
       "  <thead>\n",
       "    <tr style=\"text-align: right;\">\n",
       "      <th></th>\n",
       "      <th>D(Cu)</th>\n",
       "      <th>Dinv</th>\n",
       "      <th>LnFeDomains</th>\n",
       "      <th>LnDinv</th>\n",
       "      <th>FeDomains</th>\n",
       "      <th>sqrtFeDomains</th>\n",
       "      <th>OneMinusFeD</th>\n",
       "      <th>predSqrt</th>\n",
       "      <th>residSqrt</th>\n",
       "      <th>FeDomainsInv</th>\n",
       "    </tr>\n",
       "  </thead>\n",
       "  <tbody>\n",
       "    <tr>\n",
       "      <th>0</th>\n",
       "      <td>0.43</td>\n",
       "      <td>2.325581</td>\n",
       "      <td>-0.063935</td>\n",
       "      <td>0.843970</td>\n",
       "      <td>0.938066</td>\n",
       "      <td>0.968538</td>\n",
       "      <td>0.061934</td>\n",
       "      <td>1.755631</td>\n",
       "      <td>0.569950</td>\n",
       "      <td>1.066023</td>\n",
       "    </tr>\n",
       "    <tr>\n",
       "      <th>1</th>\n",
       "      <td>0.32</td>\n",
       "      <td>3.125000</td>\n",
       "      <td>-0.171537</td>\n",
       "      <td>1.139434</td>\n",
       "      <td>0.842369</td>\n",
       "      <td>0.917807</td>\n",
       "      <td>0.157631</td>\n",
       "      <td>1.344516</td>\n",
       "      <td>1.780484</td>\n",
       "      <td>1.187128</td>\n",
       "    </tr>\n",
       "    <tr>\n",
       "      <th>2</th>\n",
       "      <td>0.33</td>\n",
       "      <td>3.030303</td>\n",
       "      <td>-0.297457</td>\n",
       "      <td>1.108663</td>\n",
       "      <td>0.742704</td>\n",
       "      <td>0.861803</td>\n",
       "      <td>0.257296</td>\n",
       "      <td>1.203396</td>\n",
       "      <td>1.826907</td>\n",
       "      <td>1.346431</td>\n",
       "    </tr>\n",
       "    <tr>\n",
       "      <th>3</th>\n",
       "      <td>0.33</td>\n",
       "      <td>3.030303</td>\n",
       "      <td>-0.565593</td>\n",
       "      <td>1.108663</td>\n",
       "      <td>0.568023</td>\n",
       "      <td>0.753673</td>\n",
       "      <td>0.431977</td>\n",
       "      <td>1.859406</td>\n",
       "      <td>1.170897</td>\n",
       "      <td>1.760491</td>\n",
       "    </tr>\n",
       "    <tr>\n",
       "      <th>4</th>\n",
       "      <td>0.24</td>\n",
       "      <td>4.166667</td>\n",
       "      <td>-0.818951</td>\n",
       "      <td>1.427116</td>\n",
       "      <td>0.440894</td>\n",
       "      <td>0.663998</td>\n",
       "      <td>0.559106</td>\n",
       "      <td>3.331429</td>\n",
       "      <td>0.835238</td>\n",
       "      <td>2.268120</td>\n",
       "    </tr>\n",
       "  </tbody>\n",
       "</table>\n",
       "</div>"
      ],
      "text/plain": [
       "   D(Cu)      Dinv  LnFeDomains    LnDinv  FeDomains  sqrtFeDomains  \\\n",
       "0   0.43  2.325581    -0.063935  0.843970   0.938066       0.968538   \n",
       "1   0.32  3.125000    -0.171537  1.139434   0.842369       0.917807   \n",
       "2   0.33  3.030303    -0.297457  1.108663   0.742704       0.861803   \n",
       "3   0.33  3.030303    -0.565593  1.108663   0.568023       0.753673   \n",
       "4   0.24  4.166667    -0.818951  1.427116   0.440894       0.663998   \n",
       "\n",
       "   OneMinusFeD  predSqrt  residSqrt  FeDomainsInv  \n",
       "0     0.061934  1.755631   0.569950      1.066023  \n",
       "1     0.157631  1.344516   1.780484      1.187128  \n",
       "2     0.257296  1.203396   1.826907      1.346431  \n",
       "3     0.431977  1.859406   1.170897      1.760491  \n",
       "4     0.559106  3.331429   0.835238      2.268120  "
      ]
     },
     "execution_count": 28,
     "metadata": {},
     "output_type": "execute_result"
    }
   ],
   "source": [
    "df2['FeDomainsInv'] = np.reciprocal(df2['FeDomains'])\n",
    "df2.head()"
   ]
  },
  {
   "cell_type": "code",
   "execution_count": 29,
   "metadata": {},
   "outputs": [
    {
     "name": "stdout",
     "output_type": "stream",
     "text": [
      "popt:  [ 2.25439987 -1.37874726]\n",
      "pcov:  [[ 0.01133316 -0.02148365]\n",
      " [-0.02148365  0.05907179]]\n"
     ]
    },
    {
     "data": {
      "image/png": "[encoded data removed]",
      "text/plain": [
       "<Figure size 432x288 with 1 Axes>"
      ]
     },
     "metadata": {},
     "output_type": "display_data"
    }
   ],
   "source": [
    "def hyperbola(t,a,b):\n",
    "    return a*t + b\n",
    "\n",
    "popt, pcov = curve_fit(hyperbola, df2['FeDomainsInv'], df2['Dinv'])\n",
    "\n",
    "print('popt: ',popt)\n",
    "print('pcov: ',pcov)\n",
    "\n",
    "\n",
    "plt.plot(df2['FeDomainsInv'], hyperbola(df2['FeDomainsInv'], *popt), '.', )\n",
    "\n",
    "plt.plot(df2['FeDomainsInv'],df2['Dinv'], marker='o', linestyle='none',  color='green')\n",
    "\n",
    "plt.xlabel('FeDomainsinv')\n",
    "plt.ylabel('Dinv')\n",
    "plt.legend()\n",
    "plt.show()"
   ]
  },
  {
   "cell_type": "code",
   "execution_count": 30,
   "metadata": {},
   "outputs": [
    {
     "data": {
      "text/html": [
       "<table class=\"simpletable\">\n",
       "<caption>OLS Regression Results</caption>\n",
       "<tr>\n",
       "  <th>Dep. Variable:</th>          <td>Dinv</td>       <th>  R-squared:         </th> <td>   0.865</td>\n",
       "</tr>\n",
       "<tr>\n",
       "  <th>Model:</th>                   <td>OLS</td>       <th>  Adj. R-squared:    </th> <td>   0.863</td>\n",
       "</tr>\n",
       "<tr>\n",
       "  <th>Method:</th>             <td>Least Squares</td>  <th>  F-statistic:       </th> <td>   448.4</td>\n",
       "</tr>\n",
       "<tr>\n",
       "  <th>Date:</th>             <td>Wed, 11 Jul 2018</td> <th>  Prob (F-statistic):</th> <td>3.73e-32</td>\n",
       "</tr>\n",
       "<tr>\n",
       "  <th>Time:</th>                 <td>11:40:03</td>     <th>  Log-Likelihood:    </th> <td> -111.17</td>\n",
       "</tr>\n",
       "<tr>\n",
       "  <th>No. Observations:</th>      <td>    72</td>      <th>  AIC:               </th> <td>   226.3</td>\n",
       "</tr>\n",
       "<tr>\n",
       "  <th>Df Residuals:</th>          <td>    70</td>      <th>  BIC:               </th> <td>   230.9</td>\n",
       "</tr>\n",
       "<tr>\n",
       "  <th>Df Model:</th>              <td>     1</td>      <th>                     </th>     <td> </td>   \n",
       "</tr>\n",
       "<tr>\n",
       "  <th>Covariance Type:</th>      <td>nonrobust</td>    <th>                     </th>     <td> </td>   \n",
       "</tr>\n",
       "</table>\n",
       "<table class=\"simpletable\">\n",
       "<tr>\n",
       "        <td></td>          <th>coef</th>     <th>std err</th>      <th>t</th>      <th>P>|t|</th>  <th>[0.025</th>    <th>0.975]</th>  \n",
       "</tr>\n",
       "<tr>\n",
       "  <th>Intercept</th>    <td>   -1.3787</td> <td>    0.243</td> <td>   -5.673</td> <td> 0.000</td> <td>   -1.863</td> <td>   -0.894</td>\n",
       "</tr>\n",
       "<tr>\n",
       "  <th>FeDomainsInv</th> <td>    2.2544</td> <td>    0.106</td> <td>   21.177</td> <td> 0.000</td> <td>    2.042</td> <td>    2.467</td>\n",
       "</tr>\n",
       "</table>\n",
       "<table class=\"simpletable\">\n",
       "<tr>\n",
       "  <th>Omnibus:</th>       <td> 1.829</td> <th>  Durbin-Watson:     </th> <td>   1.059</td>\n",
       "</tr>\n",
       "<tr>\n",
       "  <th>Prob(Omnibus):</th> <td> 0.401</td> <th>  Jarque-Bera (JB):  </th> <td>   1.172</td>\n",
       "</tr>\n",
       "<tr>\n",
       "  <th>Skew:</th>          <td>-0.126</td> <th>  Prob(JB):          </th> <td>   0.557</td>\n",
       "</tr>\n",
       "<tr>\n",
       "  <th>Kurtosis:</th>      <td> 3.572</td> <th>  Cond. No.          </th> <td>    4.67</td>\n",
       "</tr>\n",
       "</table><br/><br/>Warnings:<br/>[1] Standard Errors assume that the covariance matrix of the errors is correctly specified."
      ],
      "text/plain": [
       "<class 'statsmodels.iolib.summary.Summary'>\n",
       "\"\"\"\n",
       "                            OLS Regression Results                            \n",
       "==============================================================================\n",
       "Dep. Variable:                   Dinv   R-squared:                       0.865\n",
       "Model:                            OLS   Adj. R-squared:                  0.863\n",
       "Method:                 Least Squares   F-statistic:                     448.4\n",
       "Date:                Wed, 11 Jul 2018   Prob (F-statistic):           3.73e-32\n",
       "Time:                        11:40:03   Log-Likelihood:                -111.17\n",
       "No. Observations:                  72   AIC:                             226.3\n",
       "Df Residuals:                      70   BIC:                             230.9\n",
       "Df Model:                           1                                         \n",
       "Covariance Type:            nonrobust                                         \n",
       "================================================================================\n",
       "                   coef    std err          t      P>|t|      [0.025      0.975]\n",
       "--------------------------------------------------------------------------------\n",
       "Intercept       -1.3787      0.243     -5.673      0.000      -1.863      -0.894\n",
       "FeDomainsInv     2.2544      0.106     21.177      0.000       2.042       2.467\n",
       "==============================================================================\n",
       "Omnibus:                        1.829   Durbin-Watson:                   1.059\n",
       "Prob(Omnibus):                  0.401   Jarque-Bera (JB):                1.172\n",
       "Skew:                          -0.126   Prob(JB):                        0.557\n",
       "Kurtosis:                       3.572   Cond. No.                         4.67\n",
       "==============================================================================\n",
       "\n",
       "Warnings:\n",
       "[1] Standard Errors assume that the covariance matrix of the errors is correctly specified.\n",
       "\"\"\""
      ]
     },
     "execution_count": 30,
     "metadata": {},
     "output_type": "execute_result"
    }
   ],
   "source": [
    "est = smf.ols('Dinv ~ FeDomainsInv', df2).fit()\n",
    "est.summary()"
   ]
  },
  {
   "cell_type": "code",
   "execution_count": 31,
   "metadata": {},
   "outputs": [
    {
     "data": {
      "image/png": "[encoded data removed]",
      "text/plain": [
       "<Figure size 432x288 with 1 Axes>"
      ]
     },
     "metadata": {},
     "output_type": "display_data"
    }
   ],
   "source": [
    "sns.residplot(x='FeDomainsInv', y='Dinv', lowess=True, order = 1,data=df2, color='green')\n",
    "plt.show()"
   ]
  },
  {
   "cell_type": "markdown",
   "metadata": {},
   "source": [
    "Value of R^2 has also increased significantly."
   ]
  },
  {
   "cell_type": "markdown",
   "metadata": {},
   "source": [
    "**heteroscedastic**"
   ]
  },
  {
   "cell_type": "markdown",
   "metadata": {},
   "source": [
    "Introducing LnDinv to deal with heteroscedasticity"
   ]
  },
  {
   "cell_type": "code",
   "execution_count": 32,
   "metadata": {},
   "outputs": [
    {
     "data": {
      "image/png": "[encoded data removed]",
      "text/plain": [
       "<Figure size 432x288 with 1 Axes>"
      ]
     },
     "metadata": {},
     "output_type": "display_data"
    }
   ],
   "source": [
    "sns.residplot(x='FeDomainsInv', y='LnDinv', lowess=True, order = 1,data=df2, color='green')\n",
    "plt.show()"
   ]
  },
  {
   "cell_type": "markdown",
   "metadata": {},
   "source": [
    "Non-linearity in the PR relationship visible"
   ]
  },
  {
   "cell_type": "code",
   "execution_count": 33,
   "metadata": {},
   "outputs": [
    {
     "name": "stdout",
     "output_type": "stream",
     "text": [
      "popt:  [ 0.49400187 -0.22060662]\n",
      "pcov:  [[ 0.0018433  -0.00349425]\n",
      " [-0.00349425  0.00960785]]\n"
     ]
    },
    {
     "data": {
      "image/png": "[encoded data removed]",
      "text/plain": [
       "<Figure size 432x288 with 1 Axes>"
      ]
     },
     "metadata": {},
     "output_type": "display_data"
    }
   ],
   "source": [
    "popt, pcov = curve_fit(hyperbola, df2['FeDomainsInv'], df2['LnDinv'])\n",
    "\n",
    "print('popt: ',popt)\n",
    "print('pcov: ',pcov)\n",
    "\n",
    "\n",
    "plt.plot(df2['FeDomainsInv'], hyperbola(df2['FeDomainsInv'], *popt), '.', )\n",
    "\n",
    "plt.plot(df2['FeDomainsInv'],df2['LnDinv'], marker='o', linestyle='none',  color='green')\n",
    "\n",
    "plt.xlabel('FeDomainsinv')\n",
    "plt.ylabel('LnDinv')\n",
    "plt.legend()\n",
    "plt.show()"
   ]
  },
  {
   "cell_type": "code",
   "execution_count": 34,
   "metadata": {},
   "outputs": [
    {
     "data": {
      "text/html": [
       "<table class=\"simpletable\">\n",
       "<caption>OLS Regression Results</caption>\n",
       "<tr>\n",
       "  <th>Dep. Variable:</th>         <td>LnDinv</td>      <th>  R-squared:         </th> <td>   0.654</td>\n",
       "</tr>\n",
       "<tr>\n",
       "  <th>Model:</th>                   <td>OLS</td>       <th>  Adj. R-squared:    </th> <td>   0.649</td>\n",
       "</tr>\n",
       "<tr>\n",
       "  <th>Method:</th>             <td>Least Squares</td>  <th>  F-statistic:       </th> <td>   132.4</td>\n",
       "</tr>\n",
       "<tr>\n",
       "  <th>Date:</th>             <td>Wed, 11 Jul 2018</td> <th>  Prob (F-statistic):</th> <td>8.48e-18</td>\n",
       "</tr>\n",
       "<tr>\n",
       "  <th>Time:</th>                 <td>11:40:03</td>     <th>  Log-Likelihood:    </th> <td> -45.788</td>\n",
       "</tr>\n",
       "<tr>\n",
       "  <th>No. Observations:</th>      <td>    72</td>      <th>  AIC:               </th> <td>   95.58</td>\n",
       "</tr>\n",
       "<tr>\n",
       "  <th>Df Residuals:</th>          <td>    70</td>      <th>  BIC:               </th> <td>   100.1</td>\n",
       "</tr>\n",
       "<tr>\n",
       "  <th>Df Model:</th>              <td>     1</td>      <th>                     </th>     <td> </td>   \n",
       "</tr>\n",
       "<tr>\n",
       "  <th>Covariance Type:</th>      <td>nonrobust</td>    <th>                     </th>     <td> </td>   \n",
       "</tr>\n",
       "</table>\n",
       "<table class=\"simpletable\">\n",
       "<tr>\n",
       "        <td></td>          <th>coef</th>     <th>std err</th>      <th>t</th>      <th>P>|t|</th>  <th>[0.025</th>    <th>0.975]</th>  \n",
       "</tr>\n",
       "<tr>\n",
       "  <th>Intercept</th>    <td>   -0.2206</td> <td>    0.098</td> <td>   -2.251</td> <td> 0.028</td> <td>   -0.416</td> <td>   -0.025</td>\n",
       "</tr>\n",
       "<tr>\n",
       "  <th>FeDomainsInv</th> <td>    0.4940</td> <td>    0.043</td> <td>   11.506</td> <td> 0.000</td> <td>    0.408</td> <td>    0.580</td>\n",
       "</tr>\n",
       "</table>\n",
       "<table class=\"simpletable\">\n",
       "<tr>\n",
       "  <th>Omnibus:</th>       <td> 7.380</td> <th>  Durbin-Watson:     </th> <td>   0.416</td>\n",
       "</tr>\n",
       "<tr>\n",
       "  <th>Prob(Omnibus):</th> <td> 0.025</td> <th>  Jarque-Bera (JB):  </th> <td>   2.787</td>\n",
       "</tr>\n",
       "<tr>\n",
       "  <th>Skew:</th>          <td>-0.074</td> <th>  Prob(JB):          </th> <td>   0.248</td>\n",
       "</tr>\n",
       "<tr>\n",
       "  <th>Kurtosis:</th>      <td> 2.048</td> <th>  Cond. No.          </th> <td>    4.67</td>\n",
       "</tr>\n",
       "</table><br/><br/>Warnings:<br/>[1] Standard Errors assume that the covariance matrix of the errors is correctly specified."
      ],
      "text/plain": [
       "<class 'statsmodels.iolib.summary.Summary'>\n",
       "\"\"\"\n",
       "                            OLS Regression Results                            \n",
       "==============================================================================\n",
       "Dep. Variable:                 LnDinv   R-squared:                       0.654\n",
       "Model:                            OLS   Adj. R-squared:                  0.649\n",
       "Method:                 Least Squares   F-statistic:                     132.4\n",
       "Date:                Wed, 11 Jul 2018   Prob (F-statistic):           8.48e-18\n",
       "Time:                        11:40:03   Log-Likelihood:                -45.788\n",
       "No. Observations:                  72   AIC:                             95.58\n",
       "Df Residuals:                      70   BIC:                             100.1\n",
       "Df Model:                           1                                         \n",
       "Covariance Type:            nonrobust                                         \n",
       "================================================================================\n",
       "                   coef    std err          t      P>|t|      [0.025      0.975]\n",
       "--------------------------------------------------------------------------------\n",
       "Intercept       -0.2206      0.098     -2.251      0.028      -0.416      -0.025\n",
       "FeDomainsInv     0.4940      0.043     11.506      0.000       0.408       0.580\n",
       "==============================================================================\n",
       "Omnibus:                        7.380   Durbin-Watson:                   0.416\n",
       "Prob(Omnibus):                  0.025   Jarque-Bera (JB):                2.787\n",
       "Skew:                          -0.074   Prob(JB):                        0.248\n",
       "Kurtosis:                       2.048   Cond. No.                         4.67\n",
       "==============================================================================\n",
       "\n",
       "Warnings:\n",
       "[1] Standard Errors assume that the covariance matrix of the errors is correctly specified.\n",
       "\"\"\""
      ]
     },
     "execution_count": 34,
     "metadata": {},
     "output_type": "execute_result"
    }
   ],
   "source": [
    "est = smf.ols('LnDinv ~ FeDomainsInv', df2).fit()\n",
    "est.summary()"
   ]
  },
  {
   "cell_type": "markdown",
   "metadata": {},
   "source": [
    "The value of r2 decreased a lot."
   ]
  },
  {
   "cell_type": "markdown",
   "metadata": {},
   "source": [
    "#########################################################################"
   ]
  },
  {
   "cell_type": "markdown",
   "metadata": {},
   "source": [
    "### Dealing with high leverage points"
   ]
  },
  {
   "cell_type": "markdown",
   "metadata": {},
   "source": [
    "### Removed the 3 data points from the Fe-S-C system"
   ]
  },
  {
   "cell_type": "markdown",
   "metadata": {},
   "source": [
    "If we believe that an outlier has occurred due to an error in data collection\n",
    "or recording, then one solution is to simply remove the observation.\n",
    "However, care should be taken, since an outlier may instead indicate a\n",
    "deficiency with the model, such as a **missing predictor**."
   ]
  },
  {
   "cell_type": "code",
   "execution_count": 35,
   "metadata": {
    "scrolled": true
   },
   "outputs": [
    {
     "name": "stdout",
     "output_type": "stream",
     "text": [
      "['Sheet1', 'Sheet3', 'xS vs FeS domain']\n",
      "<class 'pandas.core.frame.DataFrame'>\n",
      "RangeIndex: 69 entries, 0 to 68\n",
      "Data columns (total 4 columns):\n",
      "Dinv           69 non-null float64\n",
      "LnFeDomains    69 non-null float64\n",
      "LnDinv         69 non-null float64\n",
      "FeNiX          69 non-null int64\n",
      "dtypes: float64(3), int64(1)\n",
      "memory usage: 2.2 KB\n"
     ]
    },
    {
     "data": {
      "text/html": [
       "<div>\n",
       "<style scoped>\n",
       "    .dataframe tbody tr th:only-of-type {\n",
       "        vertical-align: middle;\n",
       "    }\n",
       "\n",
       "    .dataframe tbody tr th {\n",
       "        vertical-align: top;\n",
       "    }\n",
       "\n",
       "    .dataframe thead th {\n",
       "        text-align: right;\n",
       "    }\n",
       "</style>\n",
       "<table border=\"1\" class=\"dataframe\">\n",
       "  <thead>\n",
       "    <tr style=\"text-align: right;\">\n",
       "      <th></th>\n",
       "      <th>Dinv</th>\n",
       "      <th>LnFeDomains</th>\n",
       "      <th>LnDinv</th>\n",
       "      <th>FeNiX</th>\n",
       "      <th>FeDomains</th>\n",
       "      <th>squaredFeDomains</th>\n",
       "    </tr>\n",
       "  </thead>\n",
       "  <tbody>\n",
       "    <tr>\n",
       "      <th>0</th>\n",
       "      <td>2.325581</td>\n",
       "      <td>-0.063935</td>\n",
       "      <td>0.843970</td>\n",
       "      <td>1</td>\n",
       "      <td>0.938066</td>\n",
       "      <td>0.879968</td>\n",
       "    </tr>\n",
       "    <tr>\n",
       "      <th>1</th>\n",
       "      <td>3.125000</td>\n",
       "      <td>-0.171537</td>\n",
       "      <td>1.139434</td>\n",
       "      <td>1</td>\n",
       "      <td>0.842369</td>\n",
       "      <td>0.709586</td>\n",
       "    </tr>\n",
       "    <tr>\n",
       "      <th>2</th>\n",
       "      <td>3.030303</td>\n",
       "      <td>-0.297457</td>\n",
       "      <td>1.108663</td>\n",
       "      <td>1</td>\n",
       "      <td>0.742704</td>\n",
       "      <td>0.551610</td>\n",
       "    </tr>\n",
       "    <tr>\n",
       "      <th>3</th>\n",
       "      <td>3.030303</td>\n",
       "      <td>-0.565593</td>\n",
       "      <td>1.108663</td>\n",
       "      <td>1</td>\n",
       "      <td>0.568023</td>\n",
       "      <td>0.322650</td>\n",
       "    </tr>\n",
       "    <tr>\n",
       "      <th>4</th>\n",
       "      <td>4.166667</td>\n",
       "      <td>-0.818951</td>\n",
       "      <td>1.427116</td>\n",
       "      <td>1</td>\n",
       "      <td>0.440894</td>\n",
       "      <td>0.194387</td>\n",
       "    </tr>\n",
       "    <tr>\n",
       "      <th>5</th>\n",
       "      <td>4.166667</td>\n",
       "      <td>-0.977994</td>\n",
       "      <td>1.427116</td>\n",
       "      <td>1</td>\n",
       "      <td>0.376065</td>\n",
       "      <td>0.141425</td>\n",
       "    </tr>\n",
       "    <tr>\n",
       "      <th>6</th>\n",
       "      <td>5.555556</td>\n",
       "      <td>-1.540667</td>\n",
       "      <td>1.714798</td>\n",
       "      <td>1</td>\n",
       "      <td>0.214238</td>\n",
       "      <td>0.045898</td>\n",
       "    </tr>\n",
       "    <tr>\n",
       "      <th>7</th>\n",
       "      <td>7.142857</td>\n",
       "      <td>-1.522616</td>\n",
       "      <td>1.966113</td>\n",
       "      <td>1</td>\n",
       "      <td>0.218141</td>\n",
       "      <td>0.047585</td>\n",
       "    </tr>\n",
       "    <tr>\n",
       "      <th>8</th>\n",
       "      <td>6.060606</td>\n",
       "      <td>-1.208104</td>\n",
       "      <td>1.801810</td>\n",
       "      <td>1</td>\n",
       "      <td>0.298763</td>\n",
       "      <td>0.089259</td>\n",
       "    </tr>\n",
       "    <tr>\n",
       "      <th>9</th>\n",
       "      <td>4.347826</td>\n",
       "      <td>-0.943130</td>\n",
       "      <td>1.469676</td>\n",
       "      <td>1</td>\n",
       "      <td>0.389407</td>\n",
       "      <td>0.151638</td>\n",
       "    </tr>\n",
       "    <tr>\n",
       "      <th>10</th>\n",
       "      <td>3.225806</td>\n",
       "      <td>-1.046791</td>\n",
       "      <td>1.171183</td>\n",
       "      <td>1</td>\n",
       "      <td>0.351063</td>\n",
       "      <td>0.123245</td>\n",
       "    </tr>\n",
       "    <tr>\n",
       "      <th>11</th>\n",
       "      <td>2.564103</td>\n",
       "      <td>-0.615965</td>\n",
       "      <td>0.941609</td>\n",
       "      <td>1</td>\n",
       "      <td>0.540119</td>\n",
       "      <td>0.291729</td>\n",
       "    </tr>\n",
       "    <tr>\n",
       "      <th>12</th>\n",
       "      <td>2.631579</td>\n",
       "      <td>-0.684856</td>\n",
       "      <td>0.967584</td>\n",
       "      <td>1</td>\n",
       "      <td>0.504163</td>\n",
       "      <td>0.254180</td>\n",
       "    </tr>\n",
       "    <tr>\n",
       "      <th>13</th>\n",
       "      <td>1.282051</td>\n",
       "      <td>-0.589063</td>\n",
       "      <td>0.248461</td>\n",
       "      <td>1</td>\n",
       "      <td>0.554847</td>\n",
       "      <td>0.307855</td>\n",
       "    </tr>\n",
       "    <tr>\n",
       "      <th>14</th>\n",
       "      <td>1.111111</td>\n",
       "      <td>-0.520782</td>\n",
       "      <td>0.105361</td>\n",
       "      <td>1</td>\n",
       "      <td>0.594056</td>\n",
       "      <td>0.352902</td>\n",
       "    </tr>\n",
       "    <tr>\n",
       "      <th>15</th>\n",
       "      <td>1.190476</td>\n",
       "      <td>-0.455926</td>\n",
       "      <td>0.174353</td>\n",
       "      <td>1</td>\n",
       "      <td>0.633861</td>\n",
       "      <td>0.401780</td>\n",
       "    </tr>\n",
       "    <tr>\n",
       "      <th>16</th>\n",
       "      <td>1.298701</td>\n",
       "      <td>-0.393313</td>\n",
       "      <td>0.261365</td>\n",
       "      <td>1</td>\n",
       "      <td>0.674818</td>\n",
       "      <td>0.455379</td>\n",
       "    </tr>\n",
       "    <tr>\n",
       "      <th>17</th>\n",
       "      <td>1.333333</td>\n",
       "      <td>-0.158020</td>\n",
       "      <td>0.287682</td>\n",
       "      <td>1</td>\n",
       "      <td>0.853832</td>\n",
       "      <td>0.729030</td>\n",
       "    </tr>\n",
       "    <tr>\n",
       "      <th>18</th>\n",
       "      <td>1.428571</td>\n",
       "      <td>-0.058086</td>\n",
       "      <td>0.356675</td>\n",
       "      <td>1</td>\n",
       "      <td>0.943569</td>\n",
       "      <td>0.890323</td>\n",
       "    </tr>\n",
       "    <tr>\n",
       "      <th>19</th>\n",
       "      <td>2.564103</td>\n",
       "      <td>-0.961070</td>\n",
       "      <td>0.941609</td>\n",
       "      <td>1</td>\n",
       "      <td>0.382484</td>\n",
       "      <td>0.146294</td>\n",
       "    </tr>\n",
       "    <tr>\n",
       "      <th>20</th>\n",
       "      <td>2.127660</td>\n",
       "      <td>-0.406588</td>\n",
       "      <td>0.755023</td>\n",
       "      <td>1</td>\n",
       "      <td>0.665918</td>\n",
       "      <td>0.443447</td>\n",
       "    </tr>\n",
       "    <tr>\n",
       "      <th>21</th>\n",
       "      <td>1.785714</td>\n",
       "      <td>-0.145010</td>\n",
       "      <td>0.579818</td>\n",
       "      <td>1</td>\n",
       "      <td>0.865014</td>\n",
       "      <td>0.748249</td>\n",
       "    </tr>\n",
       "    <tr>\n",
       "      <th>22</th>\n",
       "      <td>1.785714</td>\n",
       "      <td>-0.092567</td>\n",
       "      <td>0.579818</td>\n",
       "      <td>1</td>\n",
       "      <td>0.911588</td>\n",
       "      <td>0.830993</td>\n",
       "    </tr>\n",
       "    <tr>\n",
       "      <th>23</th>\n",
       "      <td>1.298701</td>\n",
       "      <td>-0.101780</td>\n",
       "      <td>0.261365</td>\n",
       "      <td>1</td>\n",
       "      <td>0.903228</td>\n",
       "      <td>0.815821</td>\n",
       "    </tr>\n",
       "    <tr>\n",
       "      <th>24</th>\n",
       "      <td>1.666667</td>\n",
       "      <td>-0.152303</td>\n",
       "      <td>0.510826</td>\n",
       "      <td>1</td>\n",
       "      <td>0.858728</td>\n",
       "      <td>0.737413</td>\n",
       "    </tr>\n",
       "    <tr>\n",
       "      <th>25</th>\n",
       "      <td>2.000000</td>\n",
       "      <td>-0.259003</td>\n",
       "      <td>0.693147</td>\n",
       "      <td>1</td>\n",
       "      <td>0.771820</td>\n",
       "      <td>0.595707</td>\n",
       "    </tr>\n",
       "    <tr>\n",
       "      <th>26</th>\n",
       "      <td>2.222222</td>\n",
       "      <td>-0.402859</td>\n",
       "      <td>0.798508</td>\n",
       "      <td>1</td>\n",
       "      <td>0.668407</td>\n",
       "      <td>0.446767</td>\n",
       "    </tr>\n",
       "    <tr>\n",
       "      <th>27</th>\n",
       "      <td>1.960784</td>\n",
       "      <td>-0.530864</td>\n",
       "      <td>0.673345</td>\n",
       "      <td>1</td>\n",
       "      <td>0.588096</td>\n",
       "      <td>0.345857</td>\n",
       "    </tr>\n",
       "    <tr>\n",
       "      <th>28</th>\n",
       "      <td>3.333333</td>\n",
       "      <td>-0.622777</td>\n",
       "      <td>1.203973</td>\n",
       "      <td>1</td>\n",
       "      <td>0.536453</td>\n",
       "      <td>0.287782</td>\n",
       "    </tr>\n",
       "    <tr>\n",
       "      <th>29</th>\n",
       "      <td>2.500000</td>\n",
       "      <td>-0.748119</td>\n",
       "      <td>0.916291</td>\n",
       "      <td>1</td>\n",
       "      <td>0.473256</td>\n",
       "      <td>0.223971</td>\n",
       "    </tr>\n",
       "    <tr>\n",
       "      <th>30</th>\n",
       "      <td>5.263158</td>\n",
       "      <td>-1.189585</td>\n",
       "      <td>1.660731</td>\n",
       "      <td>1</td>\n",
       "      <td>0.304347</td>\n",
       "      <td>0.092627</td>\n",
       "    </tr>\n",
       "    <tr>\n",
       "      <th>31</th>\n",
       "      <td>4.000000</td>\n",
       "      <td>-1.163809</td>\n",
       "      <td>1.386294</td>\n",
       "      <td>1</td>\n",
       "      <td>0.312294</td>\n",
       "      <td>0.097528</td>\n",
       "    </tr>\n",
       "    <tr>\n",
       "      <th>32</th>\n",
       "      <td>1.408451</td>\n",
       "      <td>-0.034364</td>\n",
       "      <td>0.342490</td>\n",
       "      <td>1</td>\n",
       "      <td>0.966220</td>\n",
       "      <td>0.933581</td>\n",
       "    </tr>\n",
       "    <tr>\n",
       "      <th>33</th>\n",
       "      <td>1.754386</td>\n",
       "      <td>-0.034740</td>\n",
       "      <td>0.562119</td>\n",
       "      <td>1</td>\n",
       "      <td>0.965857</td>\n",
       "      <td>0.932879</td>\n",
       "    </tr>\n",
       "    <tr>\n",
       "      <th>34</th>\n",
       "      <td>1.818182</td>\n",
       "      <td>-0.050113</td>\n",
       "      <td>0.597837</td>\n",
       "      <td>1</td>\n",
       "      <td>0.951122</td>\n",
       "      <td>0.904634</td>\n",
       "    </tr>\n",
       "    <tr>\n",
       "      <th>35</th>\n",
       "      <td>2.000000</td>\n",
       "      <td>-0.040445</td>\n",
       "      <td>0.693147</td>\n",
       "      <td>1</td>\n",
       "      <td>0.960362</td>\n",
       "      <td>0.922295</td>\n",
       "    </tr>\n",
       "    <tr>\n",
       "      <th>36</th>\n",
       "      <td>1.818182</td>\n",
       "      <td>-0.052132</td>\n",
       "      <td>0.597837</td>\n",
       "      <td>1</td>\n",
       "      <td>0.949203</td>\n",
       "      <td>0.900987</td>\n",
       "    </tr>\n",
       "    <tr>\n",
       "      <th>37</th>\n",
       "      <td>1.587302</td>\n",
       "      <td>-0.030821</td>\n",
       "      <td>0.462035</td>\n",
       "      <td>1</td>\n",
       "      <td>0.969649</td>\n",
       "      <td>0.940219</td>\n",
       "    </tr>\n",
       "    <tr>\n",
       "      <th>38</th>\n",
       "      <td>1.785714</td>\n",
       "      <td>-0.036396</td>\n",
       "      <td>0.579818</td>\n",
       "      <td>1</td>\n",
       "      <td>0.964258</td>\n",
       "      <td>0.929794</td>\n",
       "    </tr>\n",
       "    <tr>\n",
       "      <th>39</th>\n",
       "      <td>0.970874</td>\n",
       "      <td>-0.313092</td>\n",
       "      <td>-0.029559</td>\n",
       "      <td>2</td>\n",
       "      <td>0.731183</td>\n",
       "      <td>0.534628</td>\n",
       "    </tr>\n",
       "    <tr>\n",
       "      <th>40</th>\n",
       "      <td>0.990099</td>\n",
       "      <td>-0.352000</td>\n",
       "      <td>-0.009950</td>\n",
       "      <td>2</td>\n",
       "      <td>0.703280</td>\n",
       "      <td>0.494603</td>\n",
       "    </tr>\n",
       "    <tr>\n",
       "      <th>41</th>\n",
       "      <td>1.111111</td>\n",
       "      <td>-0.256048</td>\n",
       "      <td>0.105361</td>\n",
       "      <td>2</td>\n",
       "      <td>0.774105</td>\n",
       "      <td>0.599238</td>\n",
       "    </tr>\n",
       "    <tr>\n",
       "      <th>42</th>\n",
       "      <td>0.833333</td>\n",
       "      <td>-0.254146</td>\n",
       "      <td>-0.182322</td>\n",
       "      <td>2</td>\n",
       "      <td>0.775579</td>\n",
       "      <td>0.601522</td>\n",
       "    </tr>\n",
       "    <tr>\n",
       "      <th>43</th>\n",
       "      <td>0.862069</td>\n",
       "      <td>-0.162992</td>\n",
       "      <td>-0.148420</td>\n",
       "      <td>2</td>\n",
       "      <td>0.849598</td>\n",
       "      <td>0.721816</td>\n",
       "    </tr>\n",
       "    <tr>\n",
       "      <th>44</th>\n",
       "      <td>0.900901</td>\n",
       "      <td>-0.122005</td>\n",
       "      <td>-0.104360</td>\n",
       "      <td>2</td>\n",
       "      <td>0.885144</td>\n",
       "      <td>0.783480</td>\n",
       "    </tr>\n",
       "    <tr>\n",
       "      <th>45</th>\n",
       "      <td>1.010101</td>\n",
       "      <td>-0.084530</td>\n",
       "      <td>0.010050</td>\n",
       "      <td>2</td>\n",
       "      <td>0.918945</td>\n",
       "      <td>0.844459</td>\n",
       "    </tr>\n",
       "    <tr>\n",
       "      <th>46</th>\n",
       "      <td>0.709220</td>\n",
       "      <td>-0.345282</td>\n",
       "      <td>-0.343590</td>\n",
       "      <td>3</td>\n",
       "      <td>0.708021</td>\n",
       "      <td>0.501294</td>\n",
       "    </tr>\n",
       "    <tr>\n",
       "      <th>47</th>\n",
       "      <td>0.757576</td>\n",
       "      <td>-0.321051</td>\n",
       "      <td>-0.277632</td>\n",
       "      <td>3</td>\n",
       "      <td>0.725387</td>\n",
       "      <td>0.526186</td>\n",
       "    </tr>\n",
       "    <tr>\n",
       "      <th>48</th>\n",
       "      <td>0.625000</td>\n",
       "      <td>-0.301654</td>\n",
       "      <td>-0.470004</td>\n",
       "      <td>3</td>\n",
       "      <td>0.739594</td>\n",
       "      <td>0.546999</td>\n",
       "    </tr>\n",
       "    <tr>\n",
       "      <th>49</th>\n",
       "      <td>0.769231</td>\n",
       "      <td>-0.253828</td>\n",
       "      <td>-0.262364</td>\n",
       "      <td>3</td>\n",
       "      <td>0.775825</td>\n",
       "      <td>0.601904</td>\n",
       "    </tr>\n",
       "    <tr>\n",
       "      <th>50</th>\n",
       "      <td>0.636943</td>\n",
       "      <td>-0.260830</td>\n",
       "      <td>-0.451076</td>\n",
       "      <td>3</td>\n",
       "      <td>0.770412</td>\n",
       "      <td>0.593534</td>\n",
       "    </tr>\n",
       "    <tr>\n",
       "      <th>51</th>\n",
       "      <td>0.833333</td>\n",
       "      <td>-0.246840</td>\n",
       "      <td>-0.182322</td>\n",
       "      <td>3</td>\n",
       "      <td>0.781265</td>\n",
       "      <td>0.610376</td>\n",
       "    </tr>\n",
       "    <tr>\n",
       "      <th>52</th>\n",
       "      <td>0.806452</td>\n",
       "      <td>-0.211973</td>\n",
       "      <td>-0.215111</td>\n",
       "      <td>3</td>\n",
       "      <td>0.808987</td>\n",
       "      <td>0.654459</td>\n",
       "    </tr>\n",
       "    <tr>\n",
       "      <th>53</th>\n",
       "      <td>0.840336</td>\n",
       "      <td>-0.186509</td>\n",
       "      <td>-0.173953</td>\n",
       "      <td>3</td>\n",
       "      <td>0.829851</td>\n",
       "      <td>0.688653</td>\n",
       "    </tr>\n",
       "    <tr>\n",
       "      <th>54</th>\n",
       "      <td>0.869565</td>\n",
       "      <td>-0.150908</td>\n",
       "      <td>-0.139762</td>\n",
       "      <td>3</td>\n",
       "      <td>0.859927</td>\n",
       "      <td>0.739475</td>\n",
       "    </tr>\n",
       "    <tr>\n",
       "      <th>55</th>\n",
       "      <td>0.840336</td>\n",
       "      <td>-0.138321</td>\n",
       "      <td>-0.173953</td>\n",
       "      <td>3</td>\n",
       "      <td>0.870819</td>\n",
       "      <td>0.758325</td>\n",
       "    </tr>\n",
       "    <tr>\n",
       "      <th>56</th>\n",
       "      <td>0.884956</td>\n",
       "      <td>-0.120942</td>\n",
       "      <td>-0.122218</td>\n",
       "      <td>3</td>\n",
       "      <td>0.886085</td>\n",
       "      <td>0.785147</td>\n",
       "    </tr>\n",
       "    <tr>\n",
       "      <th>57</th>\n",
       "      <td>1.086957</td>\n",
       "      <td>-0.111135</td>\n",
       "      <td>0.083382</td>\n",
       "      <td>3</td>\n",
       "      <td>0.894818</td>\n",
       "      <td>0.800700</td>\n",
       "    </tr>\n",
       "    <tr>\n",
       "      <th>58</th>\n",
       "      <td>1.075269</td>\n",
       "      <td>-0.075594</td>\n",
       "      <td>0.072571</td>\n",
       "      <td>3</td>\n",
       "      <td>0.927193</td>\n",
       "      <td>0.859687</td>\n",
       "    </tr>\n",
       "    <tr>\n",
       "      <th>59</th>\n",
       "      <td>1.369863</td>\n",
       "      <td>-0.051717</td>\n",
       "      <td>0.314711</td>\n",
       "      <td>3</td>\n",
       "      <td>0.949598</td>\n",
       "      <td>0.901736</td>\n",
       "    </tr>\n",
       "    <tr>\n",
       "      <th>60</th>\n",
       "      <td>4.347826</td>\n",
       "      <td>-0.599531</td>\n",
       "      <td>1.469676</td>\n",
       "      <td>6</td>\n",
       "      <td>0.549069</td>\n",
       "      <td>0.301477</td>\n",
       "    </tr>\n",
       "    <tr>\n",
       "      <th>61</th>\n",
       "      <td>6.666667</td>\n",
       "      <td>-0.986388</td>\n",
       "      <td>1.897120</td>\n",
       "      <td>6</td>\n",
       "      <td>0.372921</td>\n",
       "      <td>0.139070</td>\n",
       "    </tr>\n",
       "    <tr>\n",
       "      <th>62</th>\n",
       "      <td>3.225806</td>\n",
       "      <td>-0.353501</td>\n",
       "      <td>1.171183</td>\n",
       "      <td>6</td>\n",
       "      <td>0.702225</td>\n",
       "      <td>0.493121</td>\n",
       "    </tr>\n",
       "    <tr>\n",
       "      <th>63</th>\n",
       "      <td>5.882353</td>\n",
       "      <td>-1.076011</td>\n",
       "      <td>1.771957</td>\n",
       "      <td>6</td>\n",
       "      <td>0.340953</td>\n",
       "      <td>0.116249</td>\n",
       "    </tr>\n",
       "    <tr>\n",
       "      <th>64</th>\n",
       "      <td>4.545455</td>\n",
       "      <td>-0.480008</td>\n",
       "      <td>1.514128</td>\n",
       "      <td>6</td>\n",
       "      <td>0.618779</td>\n",
       "      <td>0.382887</td>\n",
       "    </tr>\n",
       "    <tr>\n",
       "      <th>65</th>\n",
       "      <td>2.439024</td>\n",
       "      <td>-0.092811</td>\n",
       "      <td>0.891598</td>\n",
       "      <td>6</td>\n",
       "      <td>0.911366</td>\n",
       "      <td>0.830587</td>\n",
       "    </tr>\n",
       "    <tr>\n",
       "      <th>66</th>\n",
       "      <td>1.923077</td>\n",
       "      <td>-0.047822</td>\n",
       "      <td>0.653926</td>\n",
       "      <td>6</td>\n",
       "      <td>0.953303</td>\n",
       "      <td>0.908787</td>\n",
       "    </tr>\n",
       "    <tr>\n",
       "      <th>67</th>\n",
       "      <td>5.000000</td>\n",
       "      <td>-1.332359</td>\n",
       "      <td>1.609438</td>\n",
       "      <td>6</td>\n",
       "      <td>0.263854</td>\n",
       "      <td>0.069619</td>\n",
       "    </tr>\n",
       "    <tr>\n",
       "      <th>68</th>\n",
       "      <td>5.882353</td>\n",
       "      <td>-1.083738</td>\n",
       "      <td>1.771957</td>\n",
       "      <td>6</td>\n",
       "      <td>0.338329</td>\n",
       "      <td>0.114466</td>\n",
       "    </tr>\n",
       "  </tbody>\n",
       "</table>\n",
       "</div>"
      ],
      "text/plain": [
       "        Dinv  LnFeDomains    LnDinv  FeNiX   FeDomains  squaredFeDomains\n",
       "0   2.325581    -0.063935  0.843970       1   0.938066          0.879968\n",
       "1   3.125000    -0.171537  1.139434       1   0.842369          0.709586\n",
       "2   3.030303    -0.297457  1.108663       1   0.742704          0.551610\n",
       "3   3.030303    -0.565593  1.108663       1   0.568023          0.322650\n",
       "4   4.166667    -0.818951  1.427116       1   0.440894          0.194387\n",
       "5   4.166667    -0.977994  1.427116       1   0.376065          0.141425\n",
       "6   5.555556    -1.540667  1.714798       1   0.214238          0.045898\n",
       "7   7.142857    -1.522616  1.966113       1   0.218141          0.047585\n",
       "8   6.060606    -1.208104  1.801810       1   0.298763          0.089259\n",
       "9   4.347826    -0.943130  1.469676       1   0.389407          0.151638\n",
       "10  3.225806    -1.046791  1.171183       1   0.351063          0.123245\n",
       "11  2.564103    -0.615965  0.941609       1   0.540119          0.291729\n",
       "12  2.631579    -0.684856  0.967584       1   0.504163          0.254180\n",
       "13  1.282051    -0.589063  0.248461       1   0.554847          0.307855\n",
       "14  1.111111    -0.520782  0.105361       1   0.594056          0.352902\n",
       "15  1.190476    -0.455926  0.174353       1   0.633861          0.401780\n",
       "16  1.298701    -0.393313  0.261365       1   0.674818          0.455379\n",
       "17  1.333333    -0.158020  0.287682       1   0.853832          0.729030\n",
       "18  1.428571    -0.058086  0.356675       1   0.943569          0.890323\n",
       "19  2.564103    -0.961070  0.941609       1   0.382484          0.146294\n",
       "20  2.127660    -0.406588  0.755023       1   0.665918          0.443447\n",
       "21  1.785714    -0.145010  0.579818       1   0.865014          0.748249\n",
       "22  1.785714    -0.092567  0.579818       1   0.911588          0.830993\n",
       "23  1.298701    -0.101780  0.261365       1   0.903228          0.815821\n",
       "24  1.666667    -0.152303  0.510826       1   0.858728          0.737413\n",
       "25  2.000000    -0.259003  0.693147       1   0.771820          0.595707\n",
       "26  2.222222    -0.402859  0.798508       1   0.668407          0.446767\n",
       "27  1.960784    -0.530864  0.673345       1   0.588096          0.345857\n",
       "28  3.333333    -0.622777  1.203973       1   0.536453          0.287782\n",
       "29  2.500000    -0.748119  0.916291       1   0.473256          0.223971\n",
       "30  5.263158    -1.189585  1.660731       1   0.304347          0.092627\n",
       "31  4.000000    -1.163809  1.386294       1   0.312294          0.097528\n",
       "32  1.408451    -0.034364  0.342490       1   0.966220          0.933581\n",
       "33  1.754386    -0.034740  0.562119       1   0.965857          0.932879\n",
       "34  1.818182    -0.050113  0.597837       1   0.951122          0.904634\n",
       "35  2.000000    -0.040445  0.693147       1   0.960362          0.922295\n",
       "36  1.818182    -0.052132  0.597837       1   0.949203          0.900987\n",
       "37  1.587302    -0.030821  0.462035       1   0.969649          0.940219\n",
       "38  1.785714    -0.036396  0.579818       1   0.964258          0.929794\n",
       "39  0.970874    -0.313092 -0.029559       2   0.731183          0.534628\n",
       "40  0.990099    -0.352000 -0.009950       2   0.703280          0.494603\n",
       "41  1.111111    -0.256048  0.105361       2   0.774105          0.599238\n",
       "42  0.833333    -0.254146 -0.182322       2   0.775579          0.601522\n",
       "43  0.862069    -0.162992 -0.148420       2   0.849598          0.721816\n",
       "44  0.900901    -0.122005 -0.104360       2   0.885144          0.783480\n",
       "45  1.010101    -0.084530  0.010050       2   0.918945          0.844459\n",
       "46  0.709220    -0.345282 -0.343590       3   0.708021          0.501294\n",
       "47  0.757576    -0.321051 -0.277632       3   0.725387          0.526186\n",
       "48  0.625000    -0.301654 -0.470004       3   0.739594          0.546999\n",
       "49  0.769231    -0.253828 -0.262364       3   0.775825          0.601904\n",
       "50  0.636943    -0.260830 -0.451076       3   0.770412          0.593534\n",
       "51  0.833333    -0.246840 -0.182322       3   0.781265          0.610376\n",
       "52  0.806452    -0.211973 -0.215111       3   0.808987          0.654459\n",
       "53  0.840336    -0.186509 -0.173953       3   0.829851          0.688653\n",
       "54  0.869565    -0.150908 -0.139762       3   0.859927          0.739475\n",
       "55  0.840336    -0.138321 -0.173953       3   0.870819          0.758325\n",
       "56  0.884956    -0.120942 -0.122218       3   0.886085          0.785147\n",
       "57  1.086957    -0.111135  0.083382       3   0.894818          0.800700\n",
       "58  1.075269    -0.075594  0.072571       3   0.927193          0.859687\n",
       "59  1.369863    -0.051717  0.314711       3   0.949598          0.901736\n",
       "60  4.347826    -0.599531  1.469676       6   0.549069          0.301477\n",
       "61  6.666667    -0.986388  1.897120       6   0.372921          0.139070\n",
       "62  3.225806    -0.353501  1.171183       6   0.702225          0.493121\n",
       "63  5.882353    -1.076011  1.771957       6   0.340953          0.116249\n",
       "64  4.545455    -0.480008  1.514128       6   0.618779          0.382887\n",
       "65  2.439024    -0.092811  0.891598       6   0.911366          0.830587\n",
       "66  1.923077    -0.047822  0.653926       6   0.953303          0.908787\n",
       "67  5.000000    -1.332359  1.609438       6   0.263854          0.069619\n",
       "68  5.882353    -1.083738  1.771957       6   0.338329          0.114466"
      ]
     },
     "execution_count": 35,
     "metadata": {},
     "output_type": "execute_result"
    }
   ],
   "source": [
    "data2 = pd.ExcelFile('ModifiedData/Cu_S-C_del.xlsx')\n",
    "print(data.sheet_names)\n",
    "df3 = data2.parse('Sheet1')\n",
    "df3.head(5)\n",
    "\n",
    "df4 = df3.drop(['Reference', 'Run #', 'D(Cu)'], axis=1)\n",
    "df4.dropna()\n",
    "pd.options.display.max_rows = 999\n",
    "df4.info()\n",
    "\n",
    "df4['FeDomains'] = np.exp(df4['LnFeDomains'])\n",
    "df4['squaredFeDomains'] = np.square(df4['FeDomains'])\n",
    "\n",
    "# df4= pd.DataFrame(dict(color=color))\n",
    "# colors = {'1':'red', '2':'blue', '3':'green', '6':'black'}\n",
    "# plt.plot(df4['FeDomains'],df4['Dinv'], marker='.', linestyle='none', c=df4['Fe-Ni-X'].apply(lambda x: colors[x]))\n",
    "\n",
    "plt.show()\n",
    "df4.head(69)"
   ]
  },
  {
   "cell_type": "markdown",
   "metadata": {},
   "source": [
    "**(A1) Linear**"
   ]
  },
  {
   "cell_type": "code",
   "execution_count": 36,
   "metadata": {},
   "outputs": [
    {
     "data": {
      "image/png": "[encoded data removed]",
      "text/plain": [
       "<Figure size 360x360 with 1 Axes>"
      ]
     },
     "metadata": {},
     "output_type": "display_data"
    },
    {
     "data": {
      "image/png": "[encoded data removed]",
      "text/plain": [
       "<Figure size 432x288 with 1 Axes>"
      ]
     },
     "metadata": {},
     "output_type": "display_data"
    },
    {
     "data": {
      "text/html": [
       "<table class=\"simpletable\">\n",
       "<caption>OLS Regression Results</caption>\n",
       "<tr>\n",
       "  <th>Dep. Variable:</th>          <td>Dinv</td>       <th>  R-squared:         </th> <td>   0.608</td>\n",
       "</tr>\n",
       "<tr>\n",
       "  <th>Model:</th>                   <td>OLS</td>       <th>  Adj. R-squared:    </th> <td>   0.602</td>\n",
       "</tr>\n",
       "<tr>\n",
       "  <th>Method:</th>             <td>Least Squares</td>  <th>  F-statistic:       </th> <td>   104.0</td>\n",
       "</tr>\n",
       "<tr>\n",
       "  <th>Date:</th>             <td>Wed, 11 Jul 2018</td> <th>  Prob (F-statistic):</th> <td>2.90e-15</td>\n",
       "</tr>\n",
       "<tr>\n",
       "  <th>Time:</th>                 <td>11:40:04</td>     <th>  Log-Likelihood:    </th> <td> -100.56</td>\n",
       "</tr>\n",
       "<tr>\n",
       "  <th>No. Observations:</th>      <td>    69</td>      <th>  AIC:               </th> <td>   205.1</td>\n",
       "</tr>\n",
       "<tr>\n",
       "  <th>Df Residuals:</th>          <td>    67</td>      <th>  BIC:               </th> <td>   209.6</td>\n",
       "</tr>\n",
       "<tr>\n",
       "  <th>Df Model:</th>              <td>     1</td>      <th>                     </th>     <td> </td>   \n",
       "</tr>\n",
       "<tr>\n",
       "  <th>Covariance Type:</th>      <td>nonrobust</td>    <th>                     </th>     <td> </td>   \n",
       "</tr>\n",
       "</table>\n",
       "<table class=\"simpletable\">\n",
       "<tr>\n",
       "      <td></td>         <th>coef</th>     <th>std err</th>      <th>t</th>      <th>P>|t|</th>  <th>[0.025</th>    <th>0.975]</th>  \n",
       "</tr>\n",
       "<tr>\n",
       "  <th>Intercept</th> <td>    6.3292</td> <td>    0.410</td> <td>   15.435</td> <td> 0.000</td> <td>    5.511</td> <td>    7.148</td>\n",
       "</tr>\n",
       "<tr>\n",
       "  <th>FeDomains</th> <td>   -5.7314</td> <td>    0.562</td> <td>  -10.197</td> <td> 0.000</td> <td>   -6.853</td> <td>   -4.609</td>\n",
       "</tr>\n",
       "</table>\n",
       "<table class=\"simpletable\">\n",
       "<tr>\n",
       "  <th>Omnibus:</th>       <td> 4.830</td> <th>  Durbin-Watson:     </th> <td>   0.585</td>\n",
       "</tr>\n",
       "<tr>\n",
       "  <th>Prob(Omnibus):</th> <td> 0.089</td> <th>  Jarque-Bera (JB):  </th> <td>   2.382</td>\n",
       "</tr>\n",
       "<tr>\n",
       "  <th>Skew:</th>          <td> 0.159</td> <th>  Prob(JB):          </th> <td>   0.304</td>\n",
       "</tr>\n",
       "<tr>\n",
       "  <th>Kurtosis:</th>      <td> 2.147</td> <th>  Cond. No.          </th> <td>    6.63</td>\n",
       "</tr>\n",
       "</table><br/><br/>Warnings:<br/>[1] Standard Errors assume that the covariance matrix of the errors is correctly specified."
      ],
      "text/plain": [
       "<class 'statsmodels.iolib.summary.Summary'>\n",
       "\"\"\"\n",
       "                            OLS Regression Results                            \n",
       "==============================================================================\n",
       "Dep. Variable:                   Dinv   R-squared:                       0.608\n",
       "Model:                            OLS   Adj. R-squared:                  0.602\n",
       "Method:                 Least Squares   F-statistic:                     104.0\n",
       "Date:                Wed, 11 Jul 2018   Prob (F-statistic):           2.90e-15\n",
       "Time:                        11:40:04   Log-Likelihood:                -100.56\n",
       "No. Observations:                  69   AIC:                             205.1\n",
       "Df Residuals:                      67   BIC:                             209.6\n",
       "Df Model:                           1                                         \n",
       "Covariance Type:            nonrobust                                         \n",
       "==============================================================================\n",
       "                 coef    std err          t      P>|t|      [0.025      0.975]\n",
       "------------------------------------------------------------------------------\n",
       "Intercept      6.3292      0.410     15.435      0.000       5.511       7.148\n",
       "FeDomains     -5.7314      0.562    -10.197      0.000      -6.853      -4.609\n",
       "==============================================================================\n",
       "Omnibus:                        4.830   Durbin-Watson:                   0.585\n",
       "Prob(Omnibus):                  0.089   Jarque-Bera (JB):                2.382\n",
       "Skew:                           0.159   Prob(JB):                        0.304\n",
       "Kurtosis:                       2.147   Cond. No.                         6.63\n",
       "==============================================================================\n",
       "\n",
       "Warnings:\n",
       "[1] Standard Errors assume that the covariance matrix of the errors is correctly specified.\n",
       "\"\"\""
      ]
     },
     "execution_count": 36,
     "metadata": {},
     "output_type": "execute_result"
    }
   ],
   "source": [
    "sns.lmplot(x='FeDomains', y='Dinv', data=df4)\n",
    "plt.show()\n",
    "sns.residplot(x='FeDomains', y='Dinv', lowess=True, order = 1,data=df4, color='green')\n",
    "plt.show()\n",
    "est = smf.ols('Dinv ~ FeDomains', df4).fit()\n",
    "est.summary()"
   ]
  },
  {
   "cell_type": "markdown",
   "metadata": {},
   "source": [
    "Non-linearity in the data is clearly visible here. And can not comment on heteroscedasticity\n",
    "**Checking with LnDinv**"
   ]
  },
  {
   "cell_type": "code",
   "execution_count": 37,
   "metadata": {},
   "outputs": [
    {
     "data": {
      "image/png": "[encoded data removed]",
      "text/plain": [
       "<Figure size 360x360 with 1 Axes>"
      ]
     },
     "metadata": {},
     "output_type": "display_data"
    },
    {
     "data": {
      "image/png": "[encoded data removed]",
      "text/plain": [
       "<Figure size 432x288 with 1 Axes>"
      ]
     },
     "metadata": {},
     "output_type": "display_data"
    },
    {
     "data": {
      "text/html": [
       "<table class=\"simpletable\">\n",
       "<caption>OLS Regression Results</caption>\n",
       "<tr>\n",
       "  <th>Dep. Variable:</th>         <td>LnDinv</td>      <th>  R-squared:         </th> <td>   0.491</td>\n",
       "</tr>\n",
       "<tr>\n",
       "  <th>Model:</th>                   <td>OLS</td>       <th>  Adj. R-squared:    </th> <td>   0.484</td>\n",
       "</tr>\n",
       "<tr>\n",
       "  <th>Method:</th>             <td>Least Squares</td>  <th>  F-statistic:       </th> <td>   64.66</td>\n",
       "</tr>\n",
       "<tr>\n",
       "  <th>Date:</th>             <td>Wed, 11 Jul 2018</td> <th>  Prob (F-statistic):</th> <td>2.03e-11</td>\n",
       "</tr>\n",
       "<tr>\n",
       "  <th>Time:</th>                 <td>11:40:05</td>     <th>  Log-Likelihood:    </th> <td> -46.793</td>\n",
       "</tr>\n",
       "<tr>\n",
       "  <th>No. Observations:</th>      <td>    69</td>      <th>  AIC:               </th> <td>   97.59</td>\n",
       "</tr>\n",
       "<tr>\n",
       "  <th>Df Residuals:</th>          <td>    67</td>      <th>  BIC:               </th> <td>   102.1</td>\n",
       "</tr>\n",
       "<tr>\n",
       "  <th>Df Model:</th>              <td>     1</td>      <th>                     </th>     <td> </td>   \n",
       "</tr>\n",
       "<tr>\n",
       "  <th>Covariance Type:</th>      <td>nonrobust</td>    <th>                     </th>     <td> </td>   \n",
       "</tr>\n",
       "</table>\n",
       "<table class=\"simpletable\">\n",
       "<tr>\n",
       "      <td></td>         <th>coef</th>     <th>std err</th>      <th>t</th>      <th>P>|t|</th>  <th>[0.025</th>    <th>0.975]</th>  \n",
       "</tr>\n",
       "<tr>\n",
       "  <th>Intercept</th> <td>    2.0670</td> <td>    0.188</td> <td>   10.987</td> <td> 0.000</td> <td>    1.691</td> <td>    2.442</td>\n",
       "</tr>\n",
       "<tr>\n",
       "  <th>FeDomains</th> <td>   -2.0737</td> <td>    0.258</td> <td>   -8.041</td> <td> 0.000</td> <td>   -2.588</td> <td>   -1.559</td>\n",
       "</tr>\n",
       "</table>\n",
       "<table class=\"simpletable\">\n",
       "<tr>\n",
       "  <th>Omnibus:</th>       <td> 8.568</td> <th>  Durbin-Watson:     </th> <td>   0.366</td>\n",
       "</tr>\n",
       "<tr>\n",
       "  <th>Prob(Omnibus):</th> <td> 0.014</td> <th>  Jarque-Bera (JB):  </th> <td>   3.852</td>\n",
       "</tr>\n",
       "<tr>\n",
       "  <th>Skew:</th>          <td>-0.321</td> <th>  Prob(JB):          </th> <td>   0.146</td>\n",
       "</tr>\n",
       "<tr>\n",
       "  <th>Kurtosis:</th>      <td> 2.036</td> <th>  Cond. No.          </th> <td>    6.63</td>\n",
       "</tr>\n",
       "</table><br/><br/>Warnings:<br/>[1] Standard Errors assume that the covariance matrix of the errors is correctly specified."
      ],
      "text/plain": [
       "<class 'statsmodels.iolib.summary.Summary'>\n",
       "\"\"\"\n",
       "                            OLS Regression Results                            \n",
       "==============================================================================\n",
       "Dep. Variable:                 LnDinv   R-squared:                       0.491\n",
       "Model:                            OLS   Adj. R-squared:                  0.484\n",
       "Method:                 Least Squares   F-statistic:                     64.66\n",
       "Date:                Wed, 11 Jul 2018   Prob (F-statistic):           2.03e-11\n",
       "Time:                        11:40:05   Log-Likelihood:                -46.793\n",
       "No. Observations:                  69   AIC:                             97.59\n",
       "Df Residuals:                      67   BIC:                             102.1\n",
       "Df Model:                           1                                         \n",
       "Covariance Type:            nonrobust                                         \n",
       "==============================================================================\n",
       "                 coef    std err          t      P>|t|      [0.025      0.975]\n",
       "------------------------------------------------------------------------------\n",
       "Intercept      2.0670      0.188     10.987      0.000       1.691       2.442\n",
       "FeDomains     -2.0737      0.258     -8.041      0.000      -2.588      -1.559\n",
       "==============================================================================\n",
       "Omnibus:                        8.568   Durbin-Watson:                   0.366\n",
       "Prob(Omnibus):                  0.014   Jarque-Bera (JB):                3.852\n",
       "Skew:                          -0.321   Prob(JB):                        0.146\n",
       "Kurtosis:                       2.036   Cond. No.                         6.63\n",
       "==============================================================================\n",
       "\n",
       "Warnings:\n",
       "[1] Standard Errors assume that the covariance matrix of the errors is correctly specified.\n",
       "\"\"\""
      ]
     },
     "execution_count": 37,
     "metadata": {},
     "output_type": "execute_result"
    }
   ],
   "source": [
    "sns.lmplot(x='FeDomains', y='LnDinv', data=df4)\n",
    "plt.show()\n",
    "sns.residplot(x='FeDomains', y='LnDinv', lowess=True, order = 1,data=df4, color='green')\n",
    "plt.show()\n",
    "est = smf.ols('LnDinv ~ FeDomains', df4).fit()\n",
    "est.summary()"
   ]
  },
  {
   "cell_type": "markdown",
   "metadata": {},
   "source": [
    "r2 is unacceptable >>> **rejected**"
   ]
  },
  {
   "cell_type": "markdown",
   "metadata": {},
   "source": [
    "**(A2) Squared**"
   ]
  },
  {
   "cell_type": "code",
   "execution_count": 38,
   "metadata": {},
   "outputs": [],
   "source": [
    "# fit = np.polyfit(df4['FeDomains'],df4['Dinv'], 2)\n",
    "# fit_fn = np.poly1d(fit)\n",
    "\n",
    "# plt.plot(df4['FeDomains'],df4['Dinv'], '.', np.sort(df4['FeDomains']), fit_fn(np.sort(df4['FeDomains'])), '--r', linewidth=2)\n",
    "# plt.xlabel(\"FeDomains\")\n",
    "# plt.ylabel(\"Dinv\")\n",
    "# plt.show()\n",
    "# print('Function equation : \\n',fit_fn)\n",
    "\n",
    "# sns.residplot(x='squaredFeDomains', y='Dinv',lowess=True, order = 1,data=df4, color='green')\n",
    "# plt.show()\n",
    "\n",
    "## This thing fucks up, I don't know why, gives a st line in the residual plot."
   ]
  },
  {
   "cell_type": "code",
   "execution_count": 39,
   "metadata": {},
   "outputs": [
    {
     "data": {
      "image/png": "[encoded data removed]",
      "text/plain": [
       "<Figure size 360x360 with 1 Axes>"
      ]
     },
     "metadata": {},
     "output_type": "display_data"
    },
    {
     "data": {
      "image/png": "[encoded data removed]",
      "text/plain": [
       "<Figure size 432x288 with 1 Axes>"
      ]
     },
     "metadata": {},
     "output_type": "display_data"
    },
    {
     "data": {
      "text/html": [
       "<table class=\"simpletable\">\n",
       "<caption>OLS Regression Results</caption>\n",
       "<tr>\n",
       "  <th>Dep. Variable:</th>          <td>Dinv</td>       <th>  R-squared:         </th> <td>   0.736</td>\n",
       "</tr>\n",
       "<tr>\n",
       "  <th>Model:</th>                   <td>OLS</td>       <th>  Adj. R-squared:    </th> <td>   0.728</td>\n",
       "</tr>\n",
       "<tr>\n",
       "  <th>Method:</th>             <td>Least Squares</td>  <th>  F-statistic:       </th> <td>   91.81</td>\n",
       "</tr>\n",
       "<tr>\n",
       "  <th>Date:</th>             <td>Wed, 11 Jul 2018</td> <th>  Prob (F-statistic):</th> <td>8.60e-20</td>\n",
       "</tr>\n",
       "<tr>\n",
       "  <th>Time:</th>                 <td>11:40:05</td>     <th>  Log-Likelihood:    </th> <td> -86.980</td>\n",
       "</tr>\n",
       "<tr>\n",
       "  <th>No. Observations:</th>      <td>    69</td>      <th>  AIC:               </th> <td>   180.0</td>\n",
       "</tr>\n",
       "<tr>\n",
       "  <th>Df Residuals:</th>          <td>    66</td>      <th>  BIC:               </th> <td>   186.7</td>\n",
       "</tr>\n",
       "<tr>\n",
       "  <th>Df Model:</th>              <td>     2</td>      <th>                     </th>     <td> </td>   \n",
       "</tr>\n",
       "<tr>\n",
       "  <th>Covariance Type:</th>      <td>nonrobust</td>    <th>                     </th>     <td> </td>   \n",
       "</tr>\n",
       "</table>\n",
       "<table class=\"simpletable\">\n",
       "<tr>\n",
       "          <td></td>            <th>coef</th>     <th>std err</th>      <th>t</th>      <th>P>|t|</th>  <th>[0.025</th>    <th>0.975]</th>  \n",
       "</tr>\n",
       "<tr>\n",
       "  <th>Intercept</th>        <td>   10.8787</td> <td>    0.875</td> <td>   12.433</td> <td> 0.000</td> <td>    9.132</td> <td>   12.626</td>\n",
       "</tr>\n",
       "<tr>\n",
       "  <th>FeDomains</th>        <td>  -22.5945</td> <td>    3.025</td> <td>   -7.469</td> <td> 0.000</td> <td>  -28.635</td> <td>  -16.554</td>\n",
       "</tr>\n",
       "<tr>\n",
       "  <th>squaredFeDomains</th> <td>   13.4313</td> <td>    2.381</td> <td>    5.641</td> <td> 0.000</td> <td>    8.678</td> <td>   18.185</td>\n",
       "</tr>\n",
       "</table>\n",
       "<table class=\"simpletable\">\n",
       "<tr>\n",
       "  <th>Omnibus:</th>       <td> 8.899</td> <th>  Durbin-Watson:     </th> <td>   0.822</td>\n",
       "</tr>\n",
       "<tr>\n",
       "  <th>Prob(Omnibus):</th> <td> 0.012</td> <th>  Jarque-Bera (JB):  </th> <td>   8.470</td>\n",
       "</tr>\n",
       "<tr>\n",
       "  <th>Skew:</th>          <td> 0.814</td> <th>  Prob(JB):          </th> <td>  0.0145</td>\n",
       "</tr>\n",
       "<tr>\n",
       "  <th>Kurtosis:</th>      <td> 3.545</td> <th>  Cond. No.          </th> <td>    50.5</td>\n",
       "</tr>\n",
       "</table><br/><br/>Warnings:<br/>[1] Standard Errors assume that the covariance matrix of the errors is correctly specified."
      ],
      "text/plain": [
       "<class 'statsmodels.iolib.summary.Summary'>\n",
       "\"\"\"\n",
       "                            OLS Regression Results                            \n",
       "==============================================================================\n",
       "Dep. Variable:                   Dinv   R-squared:                       0.736\n",
       "Model:                            OLS   Adj. R-squared:                  0.728\n",
       "Method:                 Least Squares   F-statistic:                     91.81\n",
       "Date:                Wed, 11 Jul 2018   Prob (F-statistic):           8.60e-20\n",
       "Time:                        11:40:05   Log-Likelihood:                -86.980\n",
       "No. Observations:                  69   AIC:                             180.0\n",
       "Df Residuals:                      66   BIC:                             186.7\n",
       "Df Model:                           2                                         \n",
       "Covariance Type:            nonrobust                                         \n",
       "====================================================================================\n",
       "                       coef    std err          t      P>|t|      [0.025      0.975]\n",
       "------------------------------------------------------------------------------------\n",
       "Intercept           10.8787      0.875     12.433      0.000       9.132      12.626\n",
       "FeDomains          -22.5945      3.025     -7.469      0.000     -28.635     -16.554\n",
       "squaredFeDomains    13.4313      2.381      5.641      0.000       8.678      18.185\n",
       "==============================================================================\n",
       "Omnibus:                        8.899   Durbin-Watson:                   0.822\n",
       "Prob(Omnibus):                  0.012   Jarque-Bera (JB):                8.470\n",
       "Skew:                           0.814   Prob(JB):                       0.0145\n",
       "Kurtosis:                       3.545   Cond. No.                         50.5\n",
       "==============================================================================\n",
       "\n",
       "Warnings:\n",
       "[1] Standard Errors assume that the covariance matrix of the errors is correctly specified.\n",
       "\"\"\""
      ]
     },
     "execution_count": 39,
     "metadata": {},
     "output_type": "execute_result"
    }
   ],
   "source": [
    "sns.lmplot(x='squaredFeDomains', y='Dinv', data=df4)\n",
    "plt.show()\n",
    "sns.residplot(x='squaredFeDomains', y='Dinv', lowess=True, order = 1,data=df4, color='green')\n",
    "plt.show()\n",
    "est = smf.ols('Dinv ~ FeDomains + squaredFeDomains', df4).fit()\n",
    "est.summary()"
   ]
  },
  {
   "cell_type": "markdown",
   "metadata": {},
   "source": [
    "This one is again indicating non-linearity."
   ]
  },
  {
   "cell_type": "code",
   "execution_count": 40,
   "metadata": {},
   "outputs": [
    {
     "data": {
      "image/png": "[encoded data removed]",
      "text/plain": [
       "<Figure size 360x360 with 1 Axes>"
      ]
     },
     "metadata": {},
     "output_type": "display_data"
    },
    {
     "data": {
      "image/png": "[encoded data removed]",
      "text/plain": [
       "<Figure size 432x288 with 1 Axes>"
      ]
     },
     "metadata": {},
     "output_type": "display_data"
    },
    {
     "data": {
      "text/html": [
       "<table class=\"simpletable\">\n",
       "<caption>OLS Regression Results</caption>\n",
       "<tr>\n",
       "  <th>Dep. Variable:</th>         <td>LnDinv</td>      <th>  R-squared:         </th> <td>   0.600</td>\n",
       "</tr>\n",
       "<tr>\n",
       "  <th>Model:</th>                   <td>OLS</td>       <th>  Adj. R-squared:    </th> <td>   0.588</td>\n",
       "</tr>\n",
       "<tr>\n",
       "  <th>Method:</th>             <td>Least Squares</td>  <th>  F-statistic:       </th> <td>   49.59</td>\n",
       "</tr>\n",
       "<tr>\n",
       "  <th>Date:</th>             <td>Wed, 11 Jul 2018</td> <th>  Prob (F-statistic):</th> <td>7.12e-14</td>\n",
       "</tr>\n",
       "<tr>\n",
       "  <th>Time:</th>                 <td>11:40:07</td>     <th>  Log-Likelihood:    </th> <td> -38.450</td>\n",
       "</tr>\n",
       "<tr>\n",
       "  <th>No. Observations:</th>      <td>    69</td>      <th>  AIC:               </th> <td>   82.90</td>\n",
       "</tr>\n",
       "<tr>\n",
       "  <th>Df Residuals:</th>          <td>    66</td>      <th>  BIC:               </th> <td>   89.60</td>\n",
       "</tr>\n",
       "<tr>\n",
       "  <th>Df Model:</th>              <td>     2</td>      <th>                     </th>     <td> </td>   \n",
       "</tr>\n",
       "<tr>\n",
       "  <th>Covariance Type:</th>      <td>nonrobust</td>    <th>                     </th>     <td> </td>   \n",
       "</tr>\n",
       "</table>\n",
       "<table class=\"simpletable\">\n",
       "<tr>\n",
       "          <td></td>            <th>coef</th>     <th>std err</th>      <th>t</th>      <th>P>|t|</th>  <th>[0.025</th>    <th>0.975]</th>  \n",
       "</tr>\n",
       "<tr>\n",
       "  <th>Intercept</th>        <td>    3.7631</td> <td>    0.433</td> <td>    8.690</td> <td> 0.000</td> <td>    2.898</td> <td>    4.628</td>\n",
       "</tr>\n",
       "<tr>\n",
       "  <th>FeDomains</th>        <td>   -8.3605</td> <td>    1.497</td> <td>   -5.584</td> <td> 0.000</td> <td>  -11.350</td> <td>   -5.371</td>\n",
       "</tr>\n",
       "<tr>\n",
       "  <th>squaredFeDomains</th> <td>    5.0074</td> <td>    1.178</td> <td>    4.249</td> <td> 0.000</td> <td>    2.655</td> <td>    7.360</td>\n",
       "</tr>\n",
       "</table>\n",
       "<table class=\"simpletable\">\n",
       "<tr>\n",
       "  <th>Omnibus:</th>       <td> 2.944</td> <th>  Durbin-Watson:     </th> <td>   0.545</td>\n",
       "</tr>\n",
       "<tr>\n",
       "  <th>Prob(Omnibus):</th> <td> 0.229</td> <th>  Jarque-Bera (JB):  </th> <td>   2.156</td>\n",
       "</tr>\n",
       "<tr>\n",
       "  <th>Skew:</th>          <td> 0.265</td> <th>  Prob(JB):          </th> <td>   0.340</td>\n",
       "</tr>\n",
       "<tr>\n",
       "  <th>Kurtosis:</th>      <td> 2.315</td> <th>  Cond. No.          </th> <td>    50.5</td>\n",
       "</tr>\n",
       "</table><br/><br/>Warnings:<br/>[1] Standard Errors assume that the covariance matrix of the errors is correctly specified."
      ],
      "text/plain": [
       "<class 'statsmodels.iolib.summary.Summary'>\n",
       "\"\"\"\n",
       "                            OLS Regression Results                            \n",
       "==============================================================================\n",
       "Dep. Variable:                 LnDinv   R-squared:                       0.600\n",
       "Model:                            OLS   Adj. R-squared:                  0.588\n",
       "Method:                 Least Squares   F-statistic:                     49.59\n",
       "Date:                Wed, 11 Jul 2018   Prob (F-statistic):           7.12e-14\n",
       "Time:                        11:40:07   Log-Likelihood:                -38.450\n",
       "No. Observations:                  69   AIC:                             82.90\n",
       "Df Residuals:                      66   BIC:                             89.60\n",
       "Df Model:                           2                                         \n",
       "Covariance Type:            nonrobust                                         \n",
       "====================================================================================\n",
       "                       coef    std err          t      P>|t|      [0.025      0.975]\n",
       "------------------------------------------------------------------------------------\n",
       "Intercept            3.7631      0.433      8.690      0.000       2.898       4.628\n",
       "FeDomains           -8.3605      1.497     -5.584      0.000     -11.350      -5.371\n",
       "squaredFeDomains     5.0074      1.178      4.249      0.000       2.655       7.360\n",
       "==============================================================================\n",
       "Omnibus:                        2.944   Durbin-Watson:                   0.545\n",
       "Prob(Omnibus):                  0.229   Jarque-Bera (JB):                2.156\n",
       "Skew:                           0.265   Prob(JB):                        0.340\n",
       "Kurtosis:                       2.315   Cond. No.                         50.5\n",
       "==============================================================================\n",
       "\n",
       "Warnings:\n",
       "[1] Standard Errors assume that the covariance matrix of the errors is correctly specified.\n",
       "\"\"\""
      ]
     },
     "execution_count": 40,
     "metadata": {},
     "output_type": "execute_result"
    }
   ],
   "source": [
    "sns.lmplot(x='squaredFeDomains', y='LnDinv', data=df4)\n",
    "plt.show()\n",
    "sns.residplot(x='squaredFeDomains', y='LnDinv', lowess=True, order = 1,data=df4, color='green')\n",
    "plt.show()\n",
    "est = smf.ols('LnDinv ~ FeDomains + squaredFeDomains', df4).fit()\n",
    "est.summary()"
   ]
  },
  {
   "cell_type": "markdown",
   "metadata": {},
   "source": [
    "Taking log(y) made no impact on the non-linear rel^n of Predictor and response."
   ]
  },
  {
   "cell_type": "markdown",
   "metadata": {},
   "source": [
    "**(A3) LOG**"
   ]
  },
  {
   "cell_type": "code",
   "execution_count": 41,
   "metadata": {},
   "outputs": [
    {
     "data": {
      "image/png": "[encoded data removed]",
      "text/plain": [
       "<Figure size 360x360 with 1 Axes>"
      ]
     },
     "metadata": {},
     "output_type": "display_data"
    },
    {
     "data": {
      "image/png": "[encoded data removed]",
      "text/plain": [
       "<Figure size 432x288 with 1 Axes>"
      ]
     },
     "metadata": {},
     "output_type": "display_data"
    },
    {
     "data": {
      "text/html": [
       "<table class=\"simpletable\">\n",
       "<caption>OLS Regression Results</caption>\n",
       "<tr>\n",
       "  <th>Dep. Variable:</th>          <td>Dinv</td>       <th>  R-squared:         </th> <td>   0.682</td>\n",
       "</tr>\n",
       "<tr>\n",
       "  <th>Model:</th>                   <td>OLS</td>       <th>  Adj. R-squared:    </th> <td>   0.677</td>\n",
       "</tr>\n",
       "<tr>\n",
       "  <th>Method:</th>             <td>Least Squares</td>  <th>  F-statistic:       </th> <td>   143.6</td>\n",
       "</tr>\n",
       "<tr>\n",
       "  <th>Date:</th>             <td>Wed, 11 Jul 2018</td> <th>  Prob (F-statistic):</th> <td>2.56e-18</td>\n",
       "</tr>\n",
       "<tr>\n",
       "  <th>Time:</th>                 <td>11:40:07</td>     <th>  Log-Likelihood:    </th> <td> -93.369</td>\n",
       "</tr>\n",
       "<tr>\n",
       "  <th>No. Observations:</th>      <td>    69</td>      <th>  AIC:               </th> <td>   190.7</td>\n",
       "</tr>\n",
       "<tr>\n",
       "  <th>Df Residuals:</th>          <td>    67</td>      <th>  BIC:               </th> <td>   195.2</td>\n",
       "</tr>\n",
       "<tr>\n",
       "  <th>Df Model:</th>              <td>     1</td>      <th>                     </th>     <td> </td>   \n",
       "</tr>\n",
       "<tr>\n",
       "  <th>Covariance Type:</th>      <td>nonrobust</td>    <th>                     </th>     <td> </td>   \n",
       "</tr>\n",
       "</table>\n",
       "<table class=\"simpletable\">\n",
       "<tr>\n",
       "       <td></td>          <th>coef</th>     <th>std err</th>      <th>t</th>      <th>P>|t|</th>  <th>[0.025</th>    <th>0.975]</th>  \n",
       "</tr>\n",
       "<tr>\n",
       "  <th>Intercept</th>   <td>    0.8732</td> <td>    0.168</td> <td>    5.186</td> <td> 0.000</td> <td>    0.537</td> <td>    1.209</td>\n",
       "</tr>\n",
       "<tr>\n",
       "  <th>LnFeDomains</th> <td>   -3.3978</td> <td>    0.284</td> <td>  -11.982</td> <td> 0.000</td> <td>   -3.964</td> <td>   -2.832</td>\n",
       "</tr>\n",
       "</table>\n",
       "<table class=\"simpletable\">\n",
       "<tr>\n",
       "  <th>Omnibus:</th>       <td> 2.763</td> <th>  Durbin-Watson:     </th> <td>   0.663</td>\n",
       "</tr>\n",
       "<tr>\n",
       "  <th>Prob(Omnibus):</th> <td> 0.251</td> <th>  Jarque-Bera (JB):  </th> <td>   2.252</td>\n",
       "</tr>\n",
       "<tr>\n",
       "  <th>Skew:</th>          <td> 0.311</td> <th>  Prob(JB):          </th> <td>   0.324</td>\n",
       "</tr>\n",
       "<tr>\n",
       "  <th>Kurtosis:</th>      <td> 2.371</td> <th>  Cond. No.          </th> <td>    3.02</td>\n",
       "</tr>\n",
       "</table><br/><br/>Warnings:<br/>[1] Standard Errors assume that the covariance matrix of the errors is correctly specified."
      ],
      "text/plain": [
       "<class 'statsmodels.iolib.summary.Summary'>\n",
       "\"\"\"\n",
       "                            OLS Regression Results                            \n",
       "==============================================================================\n",
       "Dep. Variable:                   Dinv   R-squared:                       0.682\n",
       "Model:                            OLS   Adj. R-squared:                  0.677\n",
       "Method:                 Least Squares   F-statistic:                     143.6\n",
       "Date:                Wed, 11 Jul 2018   Prob (F-statistic):           2.56e-18\n",
       "Time:                        11:40:07   Log-Likelihood:                -93.369\n",
       "No. Observations:                  69   AIC:                             190.7\n",
       "Df Residuals:                      67   BIC:                             195.2\n",
       "Df Model:                           1                                         \n",
       "Covariance Type:            nonrobust                                         \n",
       "===============================================================================\n",
       "                  coef    std err          t      P>|t|      [0.025      0.975]\n",
       "-------------------------------------------------------------------------------\n",
       "Intercept       0.8732      0.168      5.186      0.000       0.537       1.209\n",
       "LnFeDomains    -3.3978      0.284    -11.982      0.000      -3.964      -2.832\n",
       "==============================================================================\n",
       "Omnibus:                        2.763   Durbin-Watson:                   0.663\n",
       "Prob(Omnibus):                  0.251   Jarque-Bera (JB):                2.252\n",
       "Skew:                           0.311   Prob(JB):                        0.324\n",
       "Kurtosis:                       2.371   Cond. No.                         3.02\n",
       "==============================================================================\n",
       "\n",
       "Warnings:\n",
       "[1] Standard Errors assume that the covariance matrix of the errors is correctly specified.\n",
       "\"\"\""
      ]
     },
     "execution_count": 41,
     "metadata": {},
     "output_type": "execute_result"
    }
   ],
   "source": [
    "sns.lmplot(x='LnFeDomains', y='Dinv', data=df4)\n",
    "plt.show()\n",
    "sns.residplot(x='LnFeDomains', y='Dinv', lowess=True, order = 1,data=df4, color='green')\n",
    "plt.show()\n",
    "est = smf.ols('Dinv ~ LnFeDomains', df4).fit()\n",
    "est.summary()"
   ]
  },
  {
   "cell_type": "markdown",
   "metadata": {},
   "source": [
    "Non-linearity in the PR relationship, heteroscedasticity present"
   ]
  },
  {
   "cell_type": "markdown",
   "metadata": {},
   "source": [
    "**p-value is significant after removing the high leverage points.**"
   ]
  },
  {
   "cell_type": "code",
   "execution_count": 42,
   "metadata": {},
   "outputs": [
    {
     "data": {
      "image/png": "[encoded data removed]",
      "text/plain": [
       "<Figure size 360x360 with 1 Axes>"
      ]
     },
     "metadata": {},
     "output_type": "display_data"
    },
    {
     "data": {
      "image/png": "[encoded data removed]",
      "text/plain": [
       "<Figure size 432x288 with 1 Axes>"
      ]
     },
     "metadata": {},
     "output_type": "display_data"
    },
    {
     "data": {
      "text/html": [
       "<table class=\"simpletable\">\n",
       "<caption>OLS Regression Results</caption>\n",
       "<tr>\n",
       "  <th>Dep. Variable:</th>         <td>LnDinv</td>      <th>  R-squared:         </th> <td>   0.543</td>\n",
       "</tr>\n",
       "<tr>\n",
       "  <th>Model:</th>                   <td>OLS</td>       <th>  Adj. R-squared:    </th> <td>   0.536</td>\n",
       "</tr>\n",
       "<tr>\n",
       "  <th>Method:</th>             <td>Least Squares</td>  <th>  F-statistic:       </th> <td>   79.68</td>\n",
       "</tr>\n",
       "<tr>\n",
       "  <th>Date:</th>             <td>Wed, 11 Jul 2018</td> <th>  Prob (F-statistic):</th> <td>5.19e-13</td>\n",
       "</tr>\n",
       "<tr>\n",
       "  <th>Time:</th>                 <td>11:40:08</td>     <th>  Log-Likelihood:    </th> <td> -43.068</td>\n",
       "</tr>\n",
       "<tr>\n",
       "  <th>No. Observations:</th>      <td>    69</td>      <th>  AIC:               </th> <td>   90.14</td>\n",
       "</tr>\n",
       "<tr>\n",
       "  <th>Df Residuals:</th>          <td>    67</td>      <th>  BIC:               </th> <td>   94.60</td>\n",
       "</tr>\n",
       "<tr>\n",
       "  <th>Df Model:</th>              <td>     1</td>      <th>                     </th>     <td> </td>   \n",
       "</tr>\n",
       "<tr>\n",
       "  <th>Covariance Type:</th>      <td>nonrobust</td>    <th>                     </th>     <td> </td>   \n",
       "</tr>\n",
       "</table>\n",
       "<table class=\"simpletable\">\n",
       "<tr>\n",
       "       <td></td>          <th>coef</th>     <th>std err</th>      <th>t</th>      <th>P>|t|</th>  <th>[0.025</th>    <th>0.975]</th>  \n",
       "</tr>\n",
       "<tr>\n",
       "  <th>Intercept</th>   <td>    0.0966</td> <td>    0.081</td> <td>    1.189</td> <td> 0.239</td> <td>   -0.066</td> <td>    0.259</td>\n",
       "</tr>\n",
       "<tr>\n",
       "  <th>LnFeDomains</th> <td>   -1.2210</td> <td>    0.137</td> <td>   -8.926</td> <td> 0.000</td> <td>   -1.494</td> <td>   -0.948</td>\n",
       "</tr>\n",
       "</table>\n",
       "<table class=\"simpletable\">\n",
       "<tr>\n",
       "  <th>Omnibus:</th>       <td> 6.971</td> <th>  Durbin-Watson:     </th> <td>   0.416</td>\n",
       "</tr>\n",
       "<tr>\n",
       "  <th>Prob(Omnibus):</th> <td> 0.031</td> <th>  Jarque-Bera (JB):  </th> <td>   2.869</td>\n",
       "</tr>\n",
       "<tr>\n",
       "  <th>Skew:</th>          <td>-0.166</td> <th>  Prob(JB):          </th> <td>   0.238</td>\n",
       "</tr>\n",
       "<tr>\n",
       "  <th>Kurtosis:</th>      <td> 2.058</td> <th>  Cond. No.          </th> <td>    3.02</td>\n",
       "</tr>\n",
       "</table><br/><br/>Warnings:<br/>[1] Standard Errors assume that the covariance matrix of the errors is correctly specified."
      ],
      "text/plain": [
       "<class 'statsmodels.iolib.summary.Summary'>\n",
       "\"\"\"\n",
       "                            OLS Regression Results                            \n",
       "==============================================================================\n",
       "Dep. Variable:                 LnDinv   R-squared:                       0.543\n",
       "Model:                            OLS   Adj. R-squared:                  0.536\n",
       "Method:                 Least Squares   F-statistic:                     79.68\n",
       "Date:                Wed, 11 Jul 2018   Prob (F-statistic):           5.19e-13\n",
       "Time:                        11:40:08   Log-Likelihood:                -43.068\n",
       "No. Observations:                  69   AIC:                             90.14\n",
       "Df Residuals:                      67   BIC:                             94.60\n",
       "Df Model:                           1                                         \n",
       "Covariance Type:            nonrobust                                         \n",
       "===============================================================================\n",
       "                  coef    std err          t      P>|t|      [0.025      0.975]\n",
       "-------------------------------------------------------------------------------\n",
       "Intercept       0.0966      0.081      1.189      0.239      -0.066       0.259\n",
       "LnFeDomains    -1.2210      0.137     -8.926      0.000      -1.494      -0.948\n",
       "==============================================================================\n",
       "Omnibus:                        6.971   Durbin-Watson:                   0.416\n",
       "Prob(Omnibus):                  0.031   Jarque-Bera (JB):                2.869\n",
       "Skew:                          -0.166   Prob(JB):                        0.238\n",
       "Kurtosis:                       2.058   Cond. No.                         3.02\n",
       "==============================================================================\n",
       "\n",
       "Warnings:\n",
       "[1] Standard Errors assume that the covariance matrix of the errors is correctly specified.\n",
       "\"\"\""
      ]
     },
     "execution_count": 42,
     "metadata": {},
     "output_type": "execute_result"
    }
   ],
   "source": [
    "sns.lmplot(x='LnFeDomains', y='LnDinv', data=df4)\n",
    "plt.show()\n",
    "sns.residplot(x='LnFeDomains', y='LnDinv', order = 1,data=df4, color='green')\n",
    "plt.show()\n",
    "est = smf.ols('LnDinv ~ LnFeDomains', df4).fit()\n",
    "est.summary()"
   ]
  },
  {
   "cell_type": "markdown",
   "metadata": {},
   "source": [
    "PR Relationship seems to be linear. Can't comment on heteroscedasticity. And r2 decreased too much."
   ]
  },
  {
   "cell_type": "markdown",
   "metadata": {},
   "source": [
    "**p-value of the intercept is again insignificant**. R2 value of the fit has decreased too much. Need to deal with the intercept / or the p-value"
   ]
  },
  {
   "cell_type": "code",
   "execution_count": null,
   "metadata": {},
   "outputs": [],
   "source": []
  },
  {
   "cell_type": "markdown",
   "metadata": {},
   "source": [
    "**(A4) Hyperbola**"
   ]
  },
  {
   "cell_type": "code",
   "execution_count": 43,
   "metadata": {},
   "outputs": [
    {
     "name": "stdout",
     "output_type": "stream",
     "text": [
      "popt:  [ 1.63608881 -0.42237708]\n",
      "pcov:  [[ 0.01755015 -0.02977684]\n",
      " [-0.02977684  0.0630737 ]]\n"
     ]
    },
    {
     "data": {
      "image/png": "[encoded data removed]",
      "text/plain": [
       "<Figure size 432x288 with 1 Axes>"
      ]
     },
     "metadata": {},
     "output_type": "display_data"
    },
    {
     "data": {
      "image/png": "[encoded data removed]",
      "text/plain": [
       "<Figure size 432x288 with 1 Axes>"
      ]
     },
     "metadata": {},
     "output_type": "display_data"
    },
    {
     "data": {
      "text/html": [
       "<table class=\"simpletable\">\n",
       "<caption>OLS Regression Results</caption>\n",
       "<tr>\n",
       "  <th>Dep. Variable:</th>          <td>Dinv</td>       <th>  R-squared:         </th> <td>   0.695</td>\n",
       "</tr>\n",
       "<tr>\n",
       "  <th>Model:</th>                   <td>OLS</td>       <th>  Adj. R-squared:    </th> <td>   0.690</td>\n",
       "</tr>\n",
       "<tr>\n",
       "  <th>Method:</th>             <td>Least Squares</td>  <th>  F-statistic:       </th> <td>   152.5</td>\n",
       "</tr>\n",
       "<tr>\n",
       "  <th>Date:</th>             <td>Wed, 11 Jul 2018</td> <th>  Prob (F-statistic):</th> <td>6.27e-19</td>\n",
       "</tr>\n",
       "<tr>\n",
       "  <th>Time:</th>                 <td>11:40:08</td>     <th>  Log-Likelihood:    </th> <td> -91.932</td>\n",
       "</tr>\n",
       "<tr>\n",
       "  <th>No. Observations:</th>      <td>    69</td>      <th>  AIC:               </th> <td>   187.9</td>\n",
       "</tr>\n",
       "<tr>\n",
       "  <th>Df Residuals:</th>          <td>    67</td>      <th>  BIC:               </th> <td>   192.3</td>\n",
       "</tr>\n",
       "<tr>\n",
       "  <th>Df Model:</th>              <td>     1</td>      <th>                     </th>     <td> </td>   \n",
       "</tr>\n",
       "<tr>\n",
       "  <th>Covariance Type:</th>      <td>nonrobust</td>    <th>                     </th>     <td> </td>   \n",
       "</tr>\n",
       "</table>\n",
       "<table class=\"simpletable\">\n",
       "<tr>\n",
       "        <td></td>          <th>coef</th>     <th>std err</th>      <th>t</th>      <th>P>|t|</th>  <th>[0.025</th>    <th>0.975]</th>  \n",
       "</tr>\n",
       "<tr>\n",
       "  <th>Intercept</th>    <td>   -0.4224</td> <td>    0.251</td> <td>   -1.682</td> <td> 0.097</td> <td>   -0.924</td> <td>    0.079</td>\n",
       "</tr>\n",
       "<tr>\n",
       "  <th>FeDomainsInv</th> <td>    1.6361</td> <td>    0.132</td> <td>   12.350</td> <td> 0.000</td> <td>    1.372</td> <td>    1.901</td>\n",
       "</tr>\n",
       "</table>\n",
       "<table class=\"simpletable\">\n",
       "<tr>\n",
       "  <th>Omnibus:</th>       <td> 5.033</td> <th>  Durbin-Watson:     </th> <td>   0.743</td>\n",
       "</tr>\n",
       "<tr>\n",
       "  <th>Prob(Omnibus):</th> <td> 0.081</td> <th>  Jarque-Bera (JB):  </th> <td>   4.646</td>\n",
       "</tr>\n",
       "<tr>\n",
       "  <th>Skew:</th>          <td> 0.635</td> <th>  Prob(JB):          </th> <td>  0.0980</td>\n",
       "</tr>\n",
       "<tr>\n",
       "  <th>Kurtosis:</th>      <td> 3.045</td> <th>  Cond. No.          </th> <td>    5.24</td>\n",
       "</tr>\n",
       "</table><br/><br/>Warnings:<br/>[1] Standard Errors assume that the covariance matrix of the errors is correctly specified."
      ],
      "text/plain": [
       "<class 'statsmodels.iolib.summary.Summary'>\n",
       "\"\"\"\n",
       "                            OLS Regression Results                            \n",
       "==============================================================================\n",
       "Dep. Variable:                   Dinv   R-squared:                       0.695\n",
       "Model:                            OLS   Adj. R-squared:                  0.690\n",
       "Method:                 Least Squares   F-statistic:                     152.5\n",
       "Date:                Wed, 11 Jul 2018   Prob (F-statistic):           6.27e-19\n",
       "Time:                        11:40:08   Log-Likelihood:                -91.932\n",
       "No. Observations:                  69   AIC:                             187.9\n",
       "Df Residuals:                      67   BIC:                             192.3\n",
       "Df Model:                           1                                         \n",
       "Covariance Type:            nonrobust                                         \n",
       "================================================================================\n",
       "                   coef    std err          t      P>|t|      [0.025      0.975]\n",
       "--------------------------------------------------------------------------------\n",
       "Intercept       -0.4224      0.251     -1.682      0.097      -0.924       0.079\n",
       "FeDomainsInv     1.6361      0.132     12.350      0.000       1.372       1.901\n",
       "==============================================================================\n",
       "Omnibus:                        5.033   Durbin-Watson:                   0.743\n",
       "Prob(Omnibus):                  0.081   Jarque-Bera (JB):                4.646\n",
       "Skew:                           0.635   Prob(JB):                       0.0980\n",
       "Kurtosis:                       3.045   Cond. No.                         5.24\n",
       "==============================================================================\n",
       "\n",
       "Warnings:\n",
       "[1] Standard Errors assume that the covariance matrix of the errors is correctly specified.\n",
       "\"\"\""
      ]
     },
     "execution_count": 43,
     "metadata": {},
     "output_type": "execute_result"
    }
   ],
   "source": [
    "df4['FeDomainsInv'] = np.reciprocal(df4['FeDomains'])\n",
    "df4.head()\n",
    "\n",
    "def hyperbola(t,a,b):\n",
    "    return a*t + b\n",
    "\n",
    "popt, pcov = curve_fit(hyperbola, df4['FeDomainsInv'], df4['Dinv'])\n",
    "\n",
    "print('popt: ',popt)\n",
    "print('pcov: ',pcov)\n",
    "\n",
    "\n",
    "plt.plot(df4['FeDomainsInv'], hyperbola(df4['FeDomainsInv'], *popt), '.', )\n",
    "\n",
    "plt.plot(df4['FeDomainsInv'],df4['Dinv'], marker='o', linestyle='none',  color='green')\n",
    "\n",
    "plt.xlabel('FeDomainsinv')\n",
    "plt.ylabel('Dinv')\n",
    "plt.legend()\n",
    "plt.show()\n",
    "\n",
    "sns.residplot(x='FeDomainsInv', y='Dinv', lowess=True, order = 1,data=df4, color='green')\n",
    "plt.show()\n",
    "\n",
    "est = smf.ols('Dinv ~ FeDomainsInv', df4).fit()\n",
    "est.summary()"
   ]
  },
  {
   "cell_type": "code",
   "execution_count": 44,
   "metadata": {},
   "outputs": [
    {
     "name": "stdout",
     "output_type": "stream",
     "text": [
      "popt:  [ 0.57899653 -0.35384341]\n",
      "pcov:  [[ 0.00431707 -0.00732465]\n",
      " [-0.00732465  0.01551517]]\n"
     ]
    },
    {
     "data": {
      "image/png": "[encoded data removed]",
      "text/plain": [
       "<Figure size 432x288 with 1 Axes>"
      ]
     },
     "metadata": {},
     "output_type": "display_data"
    },
    {
     "data": {
      "image/png": "[encoded data removed]",
      "text/plain": [
       "<Figure size 432x288 with 1 Axes>"
      ]
     },
     "metadata": {},
     "output_type": "display_data"
    },
    {
     "data": {
      "text/html": [
       "<table class=\"simpletable\">\n",
       "<caption>OLS Regression Results</caption>\n",
       "<tr>\n",
       "  <th>Dep. Variable:</th>         <td>LnDinv</td>      <th>  R-squared:         </th> <td>   0.537</td>\n",
       "</tr>\n",
       "<tr>\n",
       "  <th>Model:</th>                   <td>OLS</td>       <th>  Adj. R-squared:    </th> <td>   0.530</td>\n",
       "</tr>\n",
       "<tr>\n",
       "  <th>Method:</th>             <td>Least Squares</td>  <th>  F-statistic:       </th> <td>   77.65</td>\n",
       "</tr>\n",
       "<tr>\n",
       "  <th>Date:</th>             <td>Wed, 11 Jul 2018</td> <th>  Prob (F-statistic):</th> <td>8.31e-13</td>\n",
       "</tr>\n",
       "<tr>\n",
       "  <th>Time:</th>                 <td>11:40:09</td>     <th>  Log-Likelihood:    </th> <td> -43.547</td>\n",
       "</tr>\n",
       "<tr>\n",
       "  <th>No. Observations:</th>      <td>    69</td>      <th>  AIC:               </th> <td>   91.09</td>\n",
       "</tr>\n",
       "<tr>\n",
       "  <th>Df Residuals:</th>          <td>    67</td>      <th>  BIC:               </th> <td>   95.56</td>\n",
       "</tr>\n",
       "<tr>\n",
       "  <th>Df Model:</th>              <td>     1</td>      <th>                     </th>     <td> </td>   \n",
       "</tr>\n",
       "<tr>\n",
       "  <th>Covariance Type:</th>      <td>nonrobust</td>    <th>                     </th>     <td> </td>   \n",
       "</tr>\n",
       "</table>\n",
       "<table class=\"simpletable\">\n",
       "<tr>\n",
       "        <td></td>          <th>coef</th>     <th>std err</th>      <th>t</th>      <th>P>|t|</th>  <th>[0.025</th>    <th>0.975]</th>  \n",
       "</tr>\n",
       "<tr>\n",
       "  <th>Intercept</th>    <td>   -0.3538</td> <td>    0.125</td> <td>   -2.841</td> <td> 0.006</td> <td>   -0.602</td> <td>   -0.105</td>\n",
       "</tr>\n",
       "<tr>\n",
       "  <th>FeDomainsInv</th> <td>    0.5790</td> <td>    0.066</td> <td>    8.812</td> <td> 0.000</td> <td>    0.448</td> <td>    0.710</td>\n",
       "</tr>\n",
       "</table>\n",
       "<table class=\"simpletable\">\n",
       "<tr>\n",
       "  <th>Omnibus:</th>       <td> 8.082</td> <th>  Durbin-Watson:     </th> <td>   0.455</td>\n",
       "</tr>\n",
       "<tr>\n",
       "  <th>Prob(Omnibus):</th> <td> 0.018</td> <th>  Jarque-Bera (JB):  </th> <td>   2.858</td>\n",
       "</tr>\n",
       "<tr>\n",
       "  <th>Skew:</th>          <td>-0.062</td> <th>  Prob(JB):          </th> <td>   0.240</td>\n",
       "</tr>\n",
       "<tr>\n",
       "  <th>Kurtosis:</th>      <td> 2.011</td> <th>  Cond. No.          </th> <td>    5.24</td>\n",
       "</tr>\n",
       "</table><br/><br/>Warnings:<br/>[1] Standard Errors assume that the covariance matrix of the errors is correctly specified."
      ],
      "text/plain": [
       "<class 'statsmodels.iolib.summary.Summary'>\n",
       "\"\"\"\n",
       "                            OLS Regression Results                            \n",
       "==============================================================================\n",
       "Dep. Variable:                 LnDinv   R-squared:                       0.537\n",
       "Model:                            OLS   Adj. R-squared:                  0.530\n",
       "Method:                 Least Squares   F-statistic:                     77.65\n",
       "Date:                Wed, 11 Jul 2018   Prob (F-statistic):           8.31e-13\n",
       "Time:                        11:40:09   Log-Likelihood:                -43.547\n",
       "No. Observations:                  69   AIC:                             91.09\n",
       "Df Residuals:                      67   BIC:                             95.56\n",
       "Df Model:                           1                                         \n",
       "Covariance Type:            nonrobust                                         \n",
       "================================================================================\n",
       "                   coef    std err          t      P>|t|      [0.025      0.975]\n",
       "--------------------------------------------------------------------------------\n",
       "Intercept       -0.3538      0.125     -2.841      0.006      -0.602      -0.105\n",
       "FeDomainsInv     0.5790      0.066      8.812      0.000       0.448       0.710\n",
       "==============================================================================\n",
       "Omnibus:                        8.082   Durbin-Watson:                   0.455\n",
       "Prob(Omnibus):                  0.018   Jarque-Bera (JB):                2.858\n",
       "Skew:                          -0.062   Prob(JB):                        0.240\n",
       "Kurtosis:                       2.011   Cond. No.                         5.24\n",
       "==============================================================================\n",
       "\n",
       "Warnings:\n",
       "[1] Standard Errors assume that the covariance matrix of the errors is correctly specified.\n",
       "\"\"\""
      ]
     },
     "execution_count": 44,
     "metadata": {},
     "output_type": "execute_result"
    }
   ],
   "source": [
    "popt4, pcov4 = curve_fit(hyperbola, df4['FeDomainsInv'], df4['LnDinv'])\n",
    "\n",
    "print('popt: ',popt4)\n",
    "print('pcov: ',pcov4)\n",
    "\n",
    "\n",
    "plt.plot(df4['FeDomainsInv'], hyperbola(df4['FeDomainsInv'], *popt4), '.', )\n",
    "\n",
    "plt.plot(df4['FeDomainsInv'],df4['LnDinv'], marker='o', linestyle='none',  color='green')\n",
    "\n",
    "plt.xlabel('FeDomainsinv')\n",
    "plt.ylabel('LnDinv')\n",
    "plt.legend()\n",
    "plt.show()\n",
    "\n",
    "sns.residplot(x='FeDomainsInv', y='LnDinv', lowess=True, order = 1,data=df4, color='green')\n",
    "plt.show()\n",
    "\n",
    "est = smf.ols('LnDinv ~ FeDomainsInv', df4).fit()\n",
    "est.summary()\n"
   ]
  },
  {
   "cell_type": "markdown",
   "metadata": {},
   "source": [
    "Ahhhhh!!!!!!! shit! "
   ]
  },
  {
   "cell_type": "markdown",
   "metadata": {},
   "source": [
    "hyperbola model seems to be working only with those outliers, r2 decreased to almost half,plus non-linearity in the PR relationship is also sighted with uncommentable heteroscedasticity."
   ]
  },
  {
   "cell_type": "markdown",
   "metadata": {},
   "source": [
    "**Summary:**"
   ]
  },
  {
   "cell_type": "markdown",
   "metadata": {},
   "source": []
  },
  {
   "cell_type": "markdown",
   "metadata": {},
   "source": []
  },
  {
   "cell_type": "markdown",
   "metadata": {},
   "source": []
  },
  {
   "cell_type": "markdown",
   "metadata": {},
   "source": []
  },
  {
   "cell_type": "markdown",
   "metadata": {},
   "source": []
  },
  {
   "cell_type": "markdown",
   "metadata": {},
   "source": []
  },
  {
   "cell_type": "markdown",
   "metadata": {},
   "source": [
    "## Replicating the research paper"
   ]
  },
  {
   "cell_type": "markdown",
   "metadata": {},
   "source": [
    "Plotting Ln(Fe-domains) vs Ln(1/D)"
   ]
  },
  {
   "cell_type": "code",
   "execution_count": 45,
   "metadata": {},
   "outputs": [
    {
     "data": {
      "image/png": "[encoded data removed]",
      "text/plain": [
       "<Figure size 432x288 with 1 Axes>"
      ]
     },
     "metadata": {},
     "output_type": "display_data"
    }
   ],
   "source": [
    "plt.plot(df2['LnFeDomains'],df2['LnDinv'], marker='.', linestyle='none')\n",
    "plt.show()"
   ]
  },
  {
   "cell_type": "code",
   "execution_count": 46,
   "metadata": {},
   "outputs": [
    {
     "data": {
      "image/png": "[encoded data removed]",
      "text/plain": [
       "<Figure size 360x360 with 1 Axes>"
      ]
     },
     "metadata": {},
     "output_type": "display_data"
    }
   ],
   "source": [
    "sns.lmplot(x='LnFeDomains', y='LnDinv', data=df2)\n",
    "plt.show()"
   ]
  },
  {
   "cell_type": "code",
   "execution_count": 47,
   "metadata": {},
   "outputs": [
    {
     "data": {
      "image/png": "[encoded data removed]",
      "text/plain": [
       "<Figure size 432x288 with 1 Axes>"
      ]
     },
     "metadata": {},
     "output_type": "display_data"
    }
   ],
   "source": [
    "fit = np.polyfit(df2['LnFeDomains'],df2['LnDinv'], 2)\n",
    "fit_fn = np.poly1d(fit)\n",
    "\n",
    "plt.plot(df2['LnFeDomains'],df2['LnDinv'], '.', np.sort(df2['LnFeDomains']), fit_fn(np.sort(df2['LnFeDomains'])), '--r', linewidth=2)\n",
    "plt.xlabel(\"LnFeDomains\")\n",
    "plt.ylabel(\"LnDinv\")\n",
    "plt.show()"
   ]
  },
  {
   "cell_type": "code",
   "execution_count": 48,
   "metadata": {},
   "outputs": [
    {
     "data": {
      "image/png": "[encoded data removed]",
      "text/plain": [
       "<Figure size 432x288 with 1 Axes>"
      ]
     },
     "metadata": {},
     "output_type": "display_data"
    }
   ],
   "source": [
    "sns.residplot(x='LnFeDomains', y='LnDinv', order = 2,data=df2, color='green')\n",
    "plt.show()"
   ]
  },
  {
   "cell_type": "markdown",
   "metadata": {},
   "source": [
    "Residual plots are tools to identify non-linearity of data. Ideally, residual plots show no discernible pattern but presence of a pattern may show problem with some aspect of linear model. \n",
    "Here we can clearly see that as the concentration of Fe domains increases the spread \n",
    "This data is suffering from **heteroscedasticity**"
   ]
  },
  {
   "cell_type": "code",
   "execution_count": 56,
   "metadata": {},
   "outputs": [
    {
     "data": {
      "image/png": "[encoded data removed]",
      "text/plain": [
       "<Figure size 432x288 with 1 Axes>"
      ]
     },
     "metadata": {},
     "output_type": "display_data"
    }
   ],
   "source": [
    "sns.residplot(x='LnFeDomains', y='LnDinv', order = 1,data=df2, color='green')\n",
    "plt.show()"
   ]
  },
  {
   "cell_type": "code",
   "execution_count": 49,
   "metadata": {},
   "outputs": [
    {
     "name": "stdout",
     "output_type": "stream",
     "text": [
      "(72, 1)\n",
      "0    0.843970\n",
      "1    1.139434\n",
      "2    1.108663\n",
      "3    1.108663\n",
      "4    1.427116\n",
      "Name: LnDinv, dtype: float64\n",
      "Beta0: 0.7158455292999182\n",
      "Beta1: [-1.30541842]\n"
     ]
    }
   ],
   "source": [
    "# Regression coefficients (Ordinary Least Squares)\n",
    "regr = skl_lm.LinearRegression()\n",
    "\n",
    "X = scale(df2['LnFeDomains'], with_mean=True, with_std=False).reshape(-1,1)\n",
    "y = df2['LnDinv']\n",
    "\n",
    "regr.fit(X,y)\n",
    "print(X.shape)\n",
    "print(y[:5])\n",
    "print('Beta0:',regr.intercept_)\n",
    "print('Beta1:',regr.coef_)"
   ]
  },
  {
   "cell_type": "code",
   "execution_count": 50,
   "metadata": {},
   "outputs": [
    {
     "data": {
      "text/html": [
       "<table class=\"simpletable\">\n",
       "<caption>OLS Regression Results</caption>\n",
       "<tr>\n",
       "  <th>Dep. Variable:</th>         <td>LnDinv</td>      <th>  R-squared:         </th> <td>   0.670</td>\n",
       "</tr>\n",
       "<tr>\n",
       "  <th>Model:</th>                   <td>OLS</td>       <th>  Adj. R-squared:    </th> <td>   0.666</td>\n",
       "</tr>\n",
       "<tr>\n",
       "  <th>Method:</th>             <td>Least Squares</td>  <th>  F-statistic:       </th> <td>   142.4</td>\n",
       "</tr>\n",
       "<tr>\n",
       "  <th>Date:</th>             <td>Wed, 11 Jul 2018</td> <th>  Prob (F-statistic):</th> <td>1.54e-18</td>\n",
       "</tr>\n",
       "<tr>\n",
       "  <th>Time:</th>                 <td>11:40:11</td>     <th>  Log-Likelihood:    </th> <td> -44.046</td>\n",
       "</tr>\n",
       "<tr>\n",
       "  <th>No. Observations:</th>      <td>    72</td>      <th>  AIC:               </th> <td>   92.09</td>\n",
       "</tr>\n",
       "<tr>\n",
       "  <th>Df Residuals:</th>          <td>    70</td>      <th>  BIC:               </th> <td>   96.64</td>\n",
       "</tr>\n",
       "<tr>\n",
       "  <th>Df Model:</th>              <td>     1</td>      <th>                     </th>     <td> </td>   \n",
       "</tr>\n",
       "<tr>\n",
       "  <th>Covariance Type:</th>      <td>nonrobust</td>    <th>                     </th>     <td> </td>   \n",
       "</tr>\n",
       "</table>\n",
       "<table class=\"simpletable\">\n",
       "<tr>\n",
       "       <td></td>          <th>coef</th>     <th>std err</th>      <th>t</th>      <th>P>|t|</th>  <th>[0.025</th>    <th>0.975]</th>  \n",
       "</tr>\n",
       "<tr>\n",
       "  <th>Intercept</th>   <td>    0.0696</td> <td>    0.076</td> <td>    0.916</td> <td> 0.363</td> <td>   -0.082</td> <td>    0.221</td>\n",
       "</tr>\n",
       "<tr>\n",
       "  <th>LnFeDomains</th> <td>   -1.3054</td> <td>    0.109</td> <td>  -11.934</td> <td> 0.000</td> <td>   -1.524</td> <td>   -1.087</td>\n",
       "</tr>\n",
       "</table>\n",
       "<table class=\"simpletable\">\n",
       "<tr>\n",
       "  <th>Omnibus:</th>       <td> 6.467</td> <th>  Durbin-Watson:     </th> <td>   0.526</td>\n",
       "</tr>\n",
       "<tr>\n",
       "  <th>Prob(Omnibus):</th> <td> 0.039</td> <th>  Jarque-Bera (JB):  </th> <td>   2.802</td>\n",
       "</tr>\n",
       "<tr>\n",
       "  <th>Skew:</th>          <td>-0.163</td> <th>  Prob(JB):          </th> <td>   0.246</td>\n",
       "</tr>\n",
       "<tr>\n",
       "  <th>Kurtosis:</th>      <td> 2.090</td> <th>  Cond. No.          </th> <td>    2.67</td>\n",
       "</tr>\n",
       "</table><br/><br/>Warnings:<br/>[1] Standard Errors assume that the covariance matrix of the errors is correctly specified."
      ],
      "text/plain": [
       "<class 'statsmodels.iolib.summary.Summary'>\n",
       "\"\"\"\n",
       "                            OLS Regression Results                            \n",
       "==============================================================================\n",
       "Dep. Variable:                 LnDinv   R-squared:                       0.670\n",
       "Model:                            OLS   Adj. R-squared:                  0.666\n",
       "Method:                 Least Squares   F-statistic:                     142.4\n",
       "Date:                Wed, 11 Jul 2018   Prob (F-statistic):           1.54e-18\n",
       "Time:                        11:40:11   Log-Likelihood:                -44.046\n",
       "No. Observations:                  72   AIC:                             92.09\n",
       "Df Residuals:                      70   BIC:                             96.64\n",
       "Df Model:                           1                                         \n",
       "Covariance Type:            nonrobust                                         \n",
       "===============================================================================\n",
       "                  coef    std err          t      P>|t|      [0.025      0.975]\n",
       "-------------------------------------------------------------------------------\n",
       "Intercept       0.0696      0.076      0.916      0.363      -0.082       0.221\n",
       "LnFeDomains    -1.3054      0.109    -11.934      0.000      -1.524      -1.087\n",
       "==============================================================================\n",
       "Omnibus:                        6.467   Durbin-Watson:                   0.526\n",
       "Prob(Omnibus):                  0.039   Jarque-Bera (JB):                2.802\n",
       "Skew:                          -0.163   Prob(JB):                        0.246\n",
       "Kurtosis:                       2.090   Cond. No.                         2.67\n",
       "==============================================================================\n",
       "\n",
       "Warnings:\n",
       "[1] Standard Errors assume that the covariance matrix of the errors is correctly specified.\n",
       "\"\"\""
      ]
     },
     "execution_count": 50,
     "metadata": {},
     "output_type": "execute_result"
    }
   ],
   "source": [
    "est = smf.ols('LnDinv ~ LnFeDomains', df2).fit()\n",
    "est.summary()"
   ]
  },
  {
   "cell_type": "code",
   "execution_count": 51,
   "metadata": {},
   "outputs": [
    {
     "data": {
      "text/plain": [
       "0.014328918247771027"
      ]
     },
     "execution_count": 51,
     "metadata": {},
     "output_type": "execute_result"
    }
   ],
   "source": [
    "# RSS with regression coefficients\n",
    "((df2['LnDinv'] - (est.params[0] + est.params[1]*df2['LnFeDomains']))**2).sum()/1000"
   ]
  },
  {
   "cell_type": "code",
   "execution_count": 52,
   "metadata": {},
   "outputs": [
    {
     "name": "stdout",
     "output_type": "stream",
     "text": [
      "0.06958169008173909\n",
      "[-1.30541842]\n"
     ]
    }
   ],
   "source": [
    "regr = skl_lm.LinearRegression()\n",
    "\n",
    "X = df2['LnFeDomains'].values.reshape(-1,1)\n",
    "y = df2['LnDinv']\n",
    "\n",
    "regr.fit(X,y)\n",
    "print(regr.intercept_)\n",
    "print(regr.coef_)"
   ]
  },
  {
   "cell_type": "code",
   "execution_count": 53,
   "metadata": {},
   "outputs": [
    {
     "data": {
      "text/plain": [
       "0.6704727506690911"
      ]
     },
     "execution_count": 53,
     "metadata": {},
     "output_type": "execute_result"
    }
   ],
   "source": [
    "LnDinv_pred = regr.predict(X)\n",
    "r2_score(y, LnDinv_pred)"
   ]
  },
  {
   "cell_type": "markdown",
   "metadata": {},
   "source": [
    "### MULTIPLE LINEAR REGRESSION"
   ]
  },
  {
   "cell_type": "code",
   "execution_count": 54,
   "metadata": {},
   "outputs": [
    {
     "data": {
      "text/html": [
       "<div>\n",
       "<style scoped>\n",
       "    .dataframe tbody tr th:only-of-type {\n",
       "        vertical-align: middle;\n",
       "    }\n",
       "\n",
       "    .dataframe tbody tr th {\n",
       "        vertical-align: top;\n",
       "    }\n",
       "\n",
       "    .dataframe thead th {\n",
       "        text-align: right;\n",
       "    }\n",
       "</style>\n",
       "<table border=\"1\" class=\"dataframe\">\n",
       "  <thead>\n",
       "    <tr style=\"text-align: right;\">\n",
       "      <th></th>\n",
       "      <th>Dinv</th>\n",
       "      <th>LnFeDomains</th>\n",
       "      <th>LnDinv</th>\n",
       "      <th>FeNiX</th>\n",
       "      <th>FeDomains</th>\n",
       "      <th>squaredFeDomains</th>\n",
       "      <th>FeDomainsInv</th>\n",
       "    </tr>\n",
       "  </thead>\n",
       "  <tbody>\n",
       "    <tr>\n",
       "      <th>0</th>\n",
       "      <td>2.325581</td>\n",
       "      <td>-0.063935</td>\n",
       "      <td>0.843970</td>\n",
       "      <td>1</td>\n",
       "      <td>0.938066</td>\n",
       "      <td>0.879968</td>\n",
       "      <td>1.066023</td>\n",
       "    </tr>\n",
       "    <tr>\n",
       "      <th>1</th>\n",
       "      <td>3.125000</td>\n",
       "      <td>-0.171537</td>\n",
       "      <td>1.139434</td>\n",
       "      <td>1</td>\n",
       "      <td>0.842369</td>\n",
       "      <td>0.709586</td>\n",
       "      <td>1.187128</td>\n",
       "    </tr>\n",
       "    <tr>\n",
       "      <th>2</th>\n",
       "      <td>3.030303</td>\n",
       "      <td>-0.297457</td>\n",
       "      <td>1.108663</td>\n",
       "      <td>1</td>\n",
       "      <td>0.742704</td>\n",
       "      <td>0.551610</td>\n",
       "      <td>1.346431</td>\n",
       "    </tr>\n",
       "    <tr>\n",
       "      <th>3</th>\n",
       "      <td>3.030303</td>\n",
       "      <td>-0.565593</td>\n",
       "      <td>1.108663</td>\n",
       "      <td>1</td>\n",
       "      <td>0.568023</td>\n",
       "      <td>0.322650</td>\n",
       "      <td>1.760491</td>\n",
       "    </tr>\n",
       "    <tr>\n",
       "      <th>4</th>\n",
       "      <td>4.166667</td>\n",
       "      <td>-0.818951</td>\n",
       "      <td>1.427116</td>\n",
       "      <td>1</td>\n",
       "      <td>0.440894</td>\n",
       "      <td>0.194387</td>\n",
       "      <td>2.268120</td>\n",
       "    </tr>\n",
       "  </tbody>\n",
       "</table>\n",
       "</div>"
      ],
      "text/plain": [
       "       Dinv  LnFeDomains    LnDinv  FeNiX   FeDomains  squaredFeDomains  \\\n",
       "0  2.325581    -0.063935  0.843970       1   0.938066          0.879968   \n",
       "1  3.125000    -0.171537  1.139434       1   0.842369          0.709586   \n",
       "2  3.030303    -0.297457  1.108663       1   0.742704          0.551610   \n",
       "3  3.030303    -0.565593  1.108663       1   0.568023          0.322650   \n",
       "4  4.166667    -0.818951  1.427116       1   0.440894          0.194387   \n",
       "\n",
       "   FeDomainsInv  \n",
       "0      1.066023  \n",
       "1      1.187128  \n",
       "2      1.346431  \n",
       "3      1.760491  \n",
       "4      2.268120  "
      ]
     },
     "execution_count": 54,
     "metadata": {},
     "output_type": "execute_result"
    }
   ],
   "source": [
    "df4.head()"
   ]
  },
  {
   "cell_type": "code",
   "execution_count": 62,
   "metadata": {},
   "outputs": [],
   "source": [
    "# est = smf.ols('LnDinv ~ LnFeDomains + FeNiX', df4).fit()\n",
    "# est.summary()"
   ]
  },
  {
   "cell_type": "markdown",
   "metadata": {},
   "source": [
    "This gives an error, some problem related to FeNiX"
   ]
  },
  {
   "cell_type": "code",
   "execution_count": null,
   "metadata": {},
   "outputs": [],
   "source": []
  }
 ],
 "metadata": {
  "kernelspec": {
   "display_name": "Python 3",
   "language": "python",
   "name": "python3"
  },
  "language_info": {
   "codemirror_mode": {
    "name": "ipython",
    "version": 3
   },
   "file_extension": ".py",
   "mimetype": "text/x-python",
   "name": "python",
   "nbconvert_exporter": "python",
   "pygments_lexer": "ipython3",
   "version": "3.6.5"
  }
 },
 "nbformat": 4,
 "nbformat_minor": 2
}
