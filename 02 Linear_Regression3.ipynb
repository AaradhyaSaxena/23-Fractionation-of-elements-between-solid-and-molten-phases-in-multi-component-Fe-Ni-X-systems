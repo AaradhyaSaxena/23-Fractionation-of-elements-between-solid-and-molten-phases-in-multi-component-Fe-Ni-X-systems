{
 "cells": [
  {
   "cell_type": "markdown",
   "metadata": {},
   "source": [
    "Here we will study each of the systems separately"
   ]
  },
  {
   "cell_type": "code",
   "execution_count": 1,
   "metadata": {},
   "outputs": [],
   "source": [
    "# %load ../standard_import.txt\n",
    "import pandas as pd\n",
    "import numpy as np\n",
    "import matplotlib\n",
    "import matplotlib.pyplot as plt\n",
    "from mpl_toolkits.mplot3d import axes3d\n",
    "import seaborn as sns\n",
    "\n",
    "from sklearn.preprocessing import scale\n",
    "import sklearn.linear_model as skl_lm\n",
    "from sklearn.metrics import mean_squared_error, r2_score\n",
    "from sklearn import preprocessing, neighbors, svm\n",
    "from sklearn.model_selection import train_test_split\n",
    "from scipy.optimize import curve_fit\n",
    "import statsmodels.api as sm\n",
    "import statsmodels.formula.api as smf\n",
    "import re\n",
    "%matplotlib inline\n",
    "plt.style.use('seaborn-white')"
   ]
  },
  {
   "cell_type": "code",
   "execution_count": 2,
   "metadata": {},
   "outputs": [
    {
     "name": "stdout",
     "output_type": "stream",
     "text": [
      "['Sheet1', 'Sheet3', 'xS vs FeS domain']\n",
      "<class 'pandas.core.frame.DataFrame'>\n",
      "RangeIndex: 72 entries, 0 to 71\n",
      "Data columns (total 4 columns):\n",
      "Dinv           72 non-null float64\n",
      "LnFeDomains    72 non-null float64\n",
      "LnDinv         72 non-null float64\n",
      "X              72 non-null int64\n",
      "dtypes: float64(3), int64(1)\n",
      "memory usage: 2.3 KB\n"
     ]
    },
    {
     "data": {
      "text/html": [
       "<div>\n",
       "<style scoped>\n",
       "    .dataframe tbody tr th:only-of-type {\n",
       "        vertical-align: middle;\n",
       "    }\n",
       "\n",
       "    .dataframe tbody tr th {\n",
       "        vertical-align: top;\n",
       "    }\n",
       "\n",
       "    .dataframe thead th {\n",
       "        text-align: right;\n",
       "    }\n",
       "</style>\n",
       "<table border=\"1\" class=\"dataframe\">\n",
       "  <thead>\n",
       "    <tr style=\"text-align: right;\">\n",
       "      <th></th>\n",
       "      <th>Dinv</th>\n",
       "      <th>LnFeDomains</th>\n",
       "      <th>LnDinv</th>\n",
       "      <th>X</th>\n",
       "    </tr>\n",
       "  </thead>\n",
       "  <tbody>\n",
       "    <tr>\n",
       "      <th>0</th>\n",
       "      <td>2.325581</td>\n",
       "      <td>-0.063935</td>\n",
       "      <td>0.843970</td>\n",
       "      <td>1</td>\n",
       "    </tr>\n",
       "    <tr>\n",
       "      <th>1</th>\n",
       "      <td>3.125000</td>\n",
       "      <td>-0.171537</td>\n",
       "      <td>1.139434</td>\n",
       "      <td>1</td>\n",
       "    </tr>\n",
       "    <tr>\n",
       "      <th>2</th>\n",
       "      <td>3.030303</td>\n",
       "      <td>-0.297457</td>\n",
       "      <td>1.108663</td>\n",
       "      <td>1</td>\n",
       "    </tr>\n",
       "    <tr>\n",
       "      <th>3</th>\n",
       "      <td>3.030303</td>\n",
       "      <td>-0.565593</td>\n",
       "      <td>1.108663</td>\n",
       "      <td>1</td>\n",
       "    </tr>\n",
       "    <tr>\n",
       "      <th>4</th>\n",
       "      <td>4.166667</td>\n",
       "      <td>-0.818951</td>\n",
       "      <td>1.427116</td>\n",
       "      <td>1</td>\n",
       "    </tr>\n",
       "  </tbody>\n",
       "</table>\n",
       "</div>"
      ],
      "text/plain": [
       "       Dinv  LnFeDomains    LnDinv  X\n",
       "0  2.325581    -0.063935  0.843970  1\n",
       "1  3.125000    -0.171537  1.139434  1\n",
       "2  3.030303    -0.297457  1.108663  1\n",
       "3  3.030303    -0.565593  1.108663  1\n",
       "4  4.166667    -0.818951  1.427116  1"
      ]
     },
     "execution_count": 2,
     "metadata": {},
     "output_type": "execute_result"
    }
   ],
   "source": [
    "data2 = pd.ExcelFile('ModifiedData/Cu_sys_intro.xlsx')\n",
    "print(data2.sheet_names)\n",
    "df3 = data2.parse('Sheet1')\n",
    "df3.head(5)\n",
    "\n",
    "df4 = df3.drop(['Reference', 'Run #', 'D(Cu)'], axis=1)\n",
    "df4.dropna()\n",
    "pd.options.display.max_rows = 999\n",
    "df4.info()\n",
    "df4.head(5)"
   ]
  },
  {
   "cell_type": "code",
   "execution_count": 3,
   "metadata": {},
   "outputs": [],
   "source": [
    "FNS = df4[(df4['X']==1)]\n",
    "FNP = df4[(df4['X']==2)]\n",
    "FNC = df4[(df4['X']==3)]\n",
    "FNSi = df4[(df4['X']==4)]\n",
    "FNSP = df4[(df4['X']==5)]\n",
    "FSC = df4[(df4['X']==6)]"
   ]
  },
  {
   "cell_type": "markdown",
   "metadata": {},
   "source": [
    "Separating all the systems >> Now we can see that FeNiC, and FeNiP show different trend from the FiNiS systems"
   ]
  },
  {
   "cell_type": "code",
   "execution_count": 4,
   "metadata": {},
   "outputs": [
    {
     "data": {
      "image/png": "[encoded data removed]",
      "text/plain": [
       "<Figure size 432x288 with 1 Axes>"
      ]
     },
     "metadata": {
      "needs_background": "light"
     },
     "output_type": "display_data"
    }
   ],
   "source": [
    "# SULPHUR\n",
    "fit = np.polyfit(FNS['LnFeDomains'],FNS['LnDinv'], 1)\n",
    "fit_fn = np.poly1d(fit)\n",
    "plt.plot(FNS['LnFeDomains'],FNS['LnDinv'], '.', np.sort(FNS['LnFeDomains']), fit_fn(np.sort(FNS['LnFeDomains'])), '--b', linewidth=2)\n",
    "\n",
    "# PHOSPHORUS\n",
    "fit = np.polyfit(FNP['LnFeDomains'],FNP['LnDinv'], 1)\n",
    "fit_fn = np.poly1d(fit)\n",
    "plt.plot(FNP['LnFeDomains'],FNP['LnDinv'], '.', np.sort(FNP['LnFeDomains']), fit_fn(np.sort(FNP['LnFeDomains'])), '--p', linewidth=2)\n",
    "\n",
    "# CARBON\n",
    "fit = np.polyfit(FNC['LnFeDomains'],FNC['LnDinv'], 1)\n",
    "fit_fn = np.poly1d(fit)\n",
    "plt.plot(FNC['LnFeDomains'],FNC['LnDinv'], '.', np.sort(FNC['LnFeDomains']), fit_fn(np.sort(FNC['LnFeDomains'])), '--y', linewidth=2)\n",
    "\n",
    "# S&P\n",
    "fit = np.polyfit(FNSP['LnFeDomains'],FNSP['LnDinv'], 1)\n",
    "fit_fn = np.poly1d(fit)\n",
    "plt.plot(FNSP['LnFeDomains'],FNSP['LnDinv'], '.', np.sort(FNSP['LnFeDomains']), fit_fn(np.sort(FNSP['LnFeDomains'])), '--g', linewidth=2)\n",
    "\n",
    "# Fe-S-C\n",
    "fit = np.polyfit(FSC['LnFeDomains'],FSC['LnDinv'], 1)\n",
    "fit_fn = np.poly1d(fit)\n",
    "plt.plot(FSC['LnFeDomains'],FSC['LnDinv'], '.', np.sort(FSC['LnFeDomains']), fit_fn(np.sort(FSC['LnFeDomains'])), '--r', linewidth=2)\n",
    "\n",
    "\n",
    "plt.xlabel(\"LnFeDomains\")\n",
    "plt.ylabel(\"LnDinv\")\n",
    "plt.show()"
   ]
  },
  {
   "cell_type": "markdown",
   "metadata": {},
   "source": [
    "Clearly we can see that, different systems have different values of fractionation constant for same value of FeDomains."
   ]
  },
  {
   "cell_type": "code",
   "execution_count": null,
   "metadata": {},
   "outputs": [],
   "source": []
  },
  {
   "cell_type": "markdown",
   "metadata": {},
   "source": [
    "#### MULTIPLE LINEAR REGRESSION"
   ]
  },
  {
   "cell_type": "code",
   "execution_count": 5,
   "metadata": {},
   "outputs": [
    {
     "data": {
      "text/html": [
       "<div>\n",
       "<style scoped>\n",
       "    .dataframe tbody tr th:only-of-type {\n",
       "        vertical-align: middle;\n",
       "    }\n",
       "\n",
       "    .dataframe tbody tr th {\n",
       "        vertical-align: top;\n",
       "    }\n",
       "\n",
       "    .dataframe thead th {\n",
       "        text-align: right;\n",
       "    }\n",
       "</style>\n",
       "<table border=\"1\" class=\"dataframe\">\n",
       "  <thead>\n",
       "    <tr style=\"text-align: right;\">\n",
       "      <th></th>\n",
       "      <th>Dinv</th>\n",
       "      <th>LnFeDomains</th>\n",
       "      <th>LnDinv</th>\n",
       "      <th>X</th>\n",
       "    </tr>\n",
       "  </thead>\n",
       "  <tbody>\n",
       "    <tr>\n",
       "      <th>67</th>\n",
       "      <td>4.545455</td>\n",
       "      <td>-0.480008</td>\n",
       "      <td>1.514128</td>\n",
       "      <td>6</td>\n",
       "    </tr>\n",
       "    <tr>\n",
       "      <th>68</th>\n",
       "      <td>2.439024</td>\n",
       "      <td>-0.092811</td>\n",
       "      <td>0.891598</td>\n",
       "      <td>6</td>\n",
       "    </tr>\n",
       "    <tr>\n",
       "      <th>69</th>\n",
       "      <td>1.923077</td>\n",
       "      <td>-0.047822</td>\n",
       "      <td>0.653926</td>\n",
       "      <td>6</td>\n",
       "    </tr>\n",
       "    <tr>\n",
       "      <th>70</th>\n",
       "      <td>5.000000</td>\n",
       "      <td>-1.332359</td>\n",
       "      <td>1.609438</td>\n",
       "      <td>6</td>\n",
       "    </tr>\n",
       "    <tr>\n",
       "      <th>71</th>\n",
       "      <td>5.882353</td>\n",
       "      <td>-1.083738</td>\n",
       "      <td>1.771957</td>\n",
       "      <td>6</td>\n",
       "    </tr>\n",
       "  </tbody>\n",
       "</table>\n",
       "</div>"
      ],
      "text/plain": [
       "        Dinv  LnFeDomains    LnDinv  X\n",
       "67  4.545455    -0.480008  1.514128  6\n",
       "68  2.439024    -0.092811  0.891598  6\n",
       "69  1.923077    -0.047822  0.653926  6\n",
       "70  5.000000    -1.332359  1.609438  6\n",
       "71  5.882353    -1.083738  1.771957  6"
      ]
     },
     "execution_count": 5,
     "metadata": {},
     "output_type": "execute_result"
    }
   ],
   "source": [
    "df4.tail(5)"
   ]
  },
  {
   "cell_type": "code",
   "execution_count": 6,
   "metadata": {},
   "outputs": [
    {
     "name": "stderr",
     "output_type": "stream",
     "text": [
      "C:\\Users\\LENOVO\\Anaconda3\\lib\\site-packages\\scipy\\stats\\stats.py:1713: FutureWarning: Using a non-tuple sequence for multidimensional indexing is deprecated; use `arr[tuple(seq)]` instead of `arr[seq]`. In the future this will be interpreted as an array index, `arr[np.array(seq)]`, which will result either in an error or a different result.\n",
      "  return np.add.reduce(sorted[indexer] * weights, axis=axis) / sumval\n"
     ]
    },
    {
     "data": {
      "image/png": "[encoded data removed]",
      "text/plain": [
       "<Figure size 360x360 with 1 Axes>"
      ]
     },
     "metadata": {
      "needs_background": "light"
     },
     "output_type": "display_data"
    }
   ],
   "source": [
    "sns.lmplot(x='LnFeDomains', y='LnDinv', data=df4)\n",
    "plt.show()"
   ]
  },
  {
   "cell_type": "code",
   "execution_count": 7,
   "metadata": {},
   "outputs": [
    {
     "name": "stderr",
     "output_type": "stream",
     "text": [
      "C:\\Users\\LENOVO\\Anaconda3\\lib\\site-packages\\scipy\\stats\\stats.py:1713: FutureWarning: Using a non-tuple sequence for multidimensional indexing is deprecated; use `arr[tuple(seq)]` instead of `arr[seq]`. In the future this will be interpreted as an array index, `arr[np.array(seq)]`, which will result either in an error or a different result.\n",
      "  return np.add.reduce(sorted[indexer] * weights, axis=axis) / sumval\n"
     ]
    },
    {
     "data": {
      "image/png": "[encoded data removed]",
      "text/plain": [
       "<Figure size 360x360 with 1 Axes>"
      ]
     },
     "metadata": {
      "needs_background": "light"
     },
     "output_type": "display_data"
    }
   ],
   "source": [
    "sns.lmplot(x='X', y='LnDinv', data=df4)\n",
    "plt.show()"
   ]
  },
  {
   "cell_type": "code",
   "execution_count": 8,
   "metadata": {},
   "outputs": [],
   "source": [
    "# sns.lmplot(x='LnFeDomains', y='X', data=df4)\n",
    "# plt.show()\n",
    "\n",
    "# # This plot shows the major problem with these models,\n",
    "# # we can see that the various systems do not have data point distributed equally\n",
    "# # but we see concentrations of systems in some small potion of FeDomain values."
   ]
  },
  {
   "cell_type": "code",
   "execution_count": 9,
   "metadata": {},
   "outputs": [
    {
     "data": {
      "text/html": [
       "<table class=\"simpletable\">\n",
       "<caption>OLS Regression Results</caption>\n",
       "<tr>\n",
       "  <th>Dep. Variable:</th>         <td>LnDinv</td>      <th>  R-squared:         </th> <td>   0.689</td>\n",
       "</tr>\n",
       "<tr>\n",
       "  <th>Model:</th>                   <td>OLS</td>       <th>  Adj. R-squared:    </th> <td>   0.675</td>\n",
       "</tr>\n",
       "<tr>\n",
       "  <th>Method:</th>             <td>Least Squares</td>  <th>  F-statistic:       </th> <td>   50.18</td>\n",
       "</tr>\n",
       "<tr>\n",
       "  <th>Date:</th>             <td>Mon, 17 Dec 2018</td> <th>  Prob (F-statistic):</th> <td>3.21e-17</td>\n",
       "</tr>\n",
       "<tr>\n",
       "  <th>Time:</th>                 <td>01:00:33</td>     <th>  Log-Likelihood:    </th> <td> -41.983</td>\n",
       "</tr>\n",
       "<tr>\n",
       "  <th>No. Observations:</th>      <td>    72</td>      <th>  AIC:               </th> <td>   91.97</td>\n",
       "</tr>\n",
       "<tr>\n",
       "  <th>Df Residuals:</th>          <td>    68</td>      <th>  BIC:               </th> <td>   101.1</td>\n",
       "</tr>\n",
       "<tr>\n",
       "  <th>Df Model:</th>              <td>     3</td>      <th>                     </th>     <td> </td>   \n",
       "</tr>\n",
       "<tr>\n",
       "  <th>Covariance Type:</th>      <td>nonrobust</td>    <th>                     </th>     <td> </td>   \n",
       "</tr>\n",
       "</table>\n",
       "<table class=\"simpletable\">\n",
       "<tr>\n",
       "        <td></td>           <th>coef</th>     <th>std err</th>      <th>t</th>      <th>P>|t|</th>  <th>[0.025</th>    <th>0.975]</th>  \n",
       "</tr>\n",
       "<tr>\n",
       "  <th>Intercept</th>     <td>    0.1670</td> <td>    0.135</td> <td>    1.234</td> <td> 0.221</td> <td>   -0.103</td> <td>    0.437</td>\n",
       "</tr>\n",
       "<tr>\n",
       "  <th>LnFeDomains</th>   <td>   -0.9963</td> <td>    0.201</td> <td>   -4.949</td> <td> 0.000</td> <td>   -1.398</td> <td>   -0.595</td>\n",
       "</tr>\n",
       "<tr>\n",
       "  <th>X</th>             <td>   -0.0311</td> <td>    0.050</td> <td>   -0.622</td> <td> 0.536</td> <td>   -0.131</td> <td>    0.069</td>\n",
       "</tr>\n",
       "<tr>\n",
       "  <th>X:LnFeDomains</th> <td>   -0.0954</td> <td>    0.057</td> <td>   -1.671</td> <td> 0.099</td> <td>   -0.209</td> <td>    0.019</td>\n",
       "</tr>\n",
       "</table>\n",
       "<table class=\"simpletable\">\n",
       "<tr>\n",
       "  <th>Omnibus:</th>       <td> 4.589</td> <th>  Durbin-Watson:     </th> <td>   0.527</td>\n",
       "</tr>\n",
       "<tr>\n",
       "  <th>Prob(Omnibus):</th> <td> 0.101</td> <th>  Jarque-Bera (JB):  </th> <td>   2.520</td>\n",
       "</tr>\n",
       "<tr>\n",
       "  <th>Skew:</th>          <td>-0.212</td> <th>  Prob(JB):          </th> <td>   0.284</td>\n",
       "</tr>\n",
       "<tr>\n",
       "  <th>Kurtosis:</th>      <td> 2.188</td> <th>  Cond. No.          </th> <td>    16.9</td>\n",
       "</tr>\n",
       "</table><br/><br/>Warnings:<br/>[1] Standard Errors assume that the covariance matrix of the errors is correctly specified."
      ],
      "text/plain": [
       "<class 'statsmodels.iolib.summary.Summary'>\n",
       "\"\"\"\n",
       "                            OLS Regression Results                            \n",
       "==============================================================================\n",
       "Dep. Variable:                 LnDinv   R-squared:                       0.689\n",
       "Model:                            OLS   Adj. R-squared:                  0.675\n",
       "Method:                 Least Squares   F-statistic:                     50.18\n",
       "Date:                Mon, 17 Dec 2018   Prob (F-statistic):           3.21e-17\n",
       "Time:                        01:00:33   Log-Likelihood:                -41.983\n",
       "No. Observations:                  72   AIC:                             91.97\n",
       "Df Residuals:                      68   BIC:                             101.1\n",
       "Df Model:                           3                                         \n",
       "Covariance Type:            nonrobust                                         \n",
       "=================================================================================\n",
       "                    coef    std err          t      P>|t|      [0.025      0.975]\n",
       "---------------------------------------------------------------------------------\n",
       "Intercept         0.1670      0.135      1.234      0.221      -0.103       0.437\n",
       "LnFeDomains      -0.9963      0.201     -4.949      0.000      -1.398      -0.595\n",
       "X                -0.0311      0.050     -0.622      0.536      -0.131       0.069\n",
       "X:LnFeDomains    -0.0954      0.057     -1.671      0.099      -0.209       0.019\n",
       "==============================================================================\n",
       "Omnibus:                        4.589   Durbin-Watson:                   0.527\n",
       "Prob(Omnibus):                  0.101   Jarque-Bera (JB):                2.520\n",
       "Skew:                          -0.212   Prob(JB):                        0.284\n",
       "Kurtosis:                       2.188   Cond. No.                         16.9\n",
       "==============================================================================\n",
       "\n",
       "Warnings:\n",
       "[1] Standard Errors assume that the covariance matrix of the errors is correctly specified.\n",
       "\"\"\""
      ]
     },
     "execution_count": 9,
     "metadata": {},
     "output_type": "execute_result"
    }
   ],
   "source": [
    "est = smf.ols('LnDinv ~ LnFeDomains + X*LnFeDomains', df4).fit()\n",
    "est.summary()"
   ]
  },
  {
   "cell_type": "markdown",
   "metadata": {},
   "source": [
    "What does this high p-value means ?"
   ]
  },
  {
   "cell_type": "markdown",
   "metadata": {},
   "source": [
    "### Multiple regression"
   ]
  },
  {
   "cell_type": "code",
   "execution_count": 50,
   "metadata": {},
   "outputs": [
    {
     "name": "stdout",
     "output_type": "stream",
     "text": [
      "['Sheet1', 'Sheet3', 'xS vs FeS domain']\n",
      "<class 'pandas.core.frame.DataFrame'>\n",
      "RangeIndex: 72 entries, 0 to 71\n",
      "Data columns (total 9 columns):\n",
      "Dinv           72 non-null float64\n",
      "LnFeDomains    72 non-null float64\n",
      "LnDinv         72 non-null float64\n",
      "x1             72 non-null int64\n",
      "x2             72 non-null int64\n",
      "x3             72 non-null int64\n",
      "x4             72 non-null int64\n",
      "x5             72 non-null int64\n",
      "x6             72 non-null int64\n",
      "dtypes: float64(3), int64(6)\n",
      "memory usage: 5.1 KB\n"
     ]
    },
    {
     "data": {
      "text/html": [
       "<div>\n",
       "<style scoped>\n",
       "    .dataframe tbody tr th:only-of-type {\n",
       "        vertical-align: middle;\n",
       "    }\n",
       "\n",
       "    .dataframe tbody tr th {\n",
       "        vertical-align: top;\n",
       "    }\n",
       "\n",
       "    .dataframe thead th {\n",
       "        text-align: right;\n",
       "    }\n",
       "</style>\n",
       "<table border=\"1\" class=\"dataframe\">\n",
       "  <thead>\n",
       "    <tr style=\"text-align: right;\">\n",
       "      <th></th>\n",
       "      <th>Dinv</th>\n",
       "      <th>LnFeDomains</th>\n",
       "      <th>LnDinv</th>\n",
       "      <th>x1</th>\n",
       "      <th>x2</th>\n",
       "      <th>x3</th>\n",
       "      <th>x4</th>\n",
       "      <th>x5</th>\n",
       "      <th>x6</th>\n",
       "    </tr>\n",
       "  </thead>\n",
       "  <tbody>\n",
       "    <tr>\n",
       "      <th>0</th>\n",
       "      <td>2.325581</td>\n",
       "      <td>-0.063935</td>\n",
       "      <td>0.843970</td>\n",
       "      <td>1</td>\n",
       "      <td>0</td>\n",
       "      <td>0</td>\n",
       "      <td>0</td>\n",
       "      <td>0</td>\n",
       "      <td>0</td>\n",
       "    </tr>\n",
       "    <tr>\n",
       "      <th>1</th>\n",
       "      <td>3.125000</td>\n",
       "      <td>-0.171537</td>\n",
       "      <td>1.139434</td>\n",
       "      <td>1</td>\n",
       "      <td>0</td>\n",
       "      <td>0</td>\n",
       "      <td>0</td>\n",
       "      <td>0</td>\n",
       "      <td>0</td>\n",
       "    </tr>\n",
       "    <tr>\n",
       "      <th>2</th>\n",
       "      <td>3.030303</td>\n",
       "      <td>-0.297457</td>\n",
       "      <td>1.108663</td>\n",
       "      <td>1</td>\n",
       "      <td>0</td>\n",
       "      <td>0</td>\n",
       "      <td>0</td>\n",
       "      <td>0</td>\n",
       "      <td>0</td>\n",
       "    </tr>\n",
       "    <tr>\n",
       "      <th>3</th>\n",
       "      <td>3.030303</td>\n",
       "      <td>-0.565593</td>\n",
       "      <td>1.108663</td>\n",
       "      <td>1</td>\n",
       "      <td>0</td>\n",
       "      <td>0</td>\n",
       "      <td>0</td>\n",
       "      <td>0</td>\n",
       "      <td>0</td>\n",
       "    </tr>\n",
       "    <tr>\n",
       "      <th>4</th>\n",
       "      <td>4.166667</td>\n",
       "      <td>-0.818951</td>\n",
       "      <td>1.427116</td>\n",
       "      <td>1</td>\n",
       "      <td>0</td>\n",
       "      <td>0</td>\n",
       "      <td>0</td>\n",
       "      <td>0</td>\n",
       "      <td>0</td>\n",
       "    </tr>\n",
       "  </tbody>\n",
       "</table>\n",
       "</div>"
      ],
      "text/plain": [
       "       Dinv  LnFeDomains    LnDinv  x1  x2  x3  x4  x5  x6\n",
       "0  2.325581    -0.063935  0.843970   1   0   0   0   0   0\n",
       "1  3.125000    -0.171537  1.139434   1   0   0   0   0   0\n",
       "2  3.030303    -0.297457  1.108663   1   0   0   0   0   0\n",
       "3  3.030303    -0.565593  1.108663   1   0   0   0   0   0\n",
       "4  4.166667    -0.818951  1.427116   1   0   0   0   0   0"
      ]
     },
     "execution_count": 50,
     "metadata": {},
     "output_type": "execute_result"
    }
   ],
   "source": [
    "data3 = pd.ExcelFile('ModifiedData/Cu_sys_oh.xlsx')\n",
    "print(data3.sheet_names)\n",
    "df5 = data3.parse('Sheet1')\n",
    "df5.head(5)\n",
    "\n",
    "df6 = df5.drop(['Reference', 'Run #', 'D(Cu)'], axis=1)\n",
    "df6.dropna()\n",
    "pd.options.display.max_rows = 999\n",
    "df6.info()\n",
    "df6.head(5)"
   ]
  },
  {
   "cell_type": "code",
   "execution_count": 52,
   "metadata": {},
   "outputs": [],
   "source": [
    "# est1 = smf.ols('LnDinv ~ LnFeDomains + x2', df6).fit()\n",
    "# regr1 = est1.params\n",
    "# est2 = smf.ols('LnDinv ~ LnFeDomains + LnFeDomains*X', df6).fit()\n",
    "# regr2 = est2.params\n",
    "\n",
    "# print('Regression 1 - without interaction term')\n",
    "# print(regr1)\n",
    "# print('\\nRegression 2 - with interaction term')\n",
    "# print(regr2)"
   ]
  },
  {
   "cell_type": "code",
   "execution_count": 57,
   "metadata": {},
   "outputs": [
    {
     "name": "stdout",
     "output_type": "stream",
     "text": [
      "                            OLS Regression Results                            \n",
      "==============================================================================\n",
      "Dep. Variable:                 LnDinv   R-squared:                       0.912\n",
      "Model:                            OLS   Adj. R-squared:                  0.899\n",
      "Method:                 Least Squares   F-statistic:                     71.00\n",
      "Date:                Mon, 17 Dec 2018   Prob (F-statistic):           2.95e-29\n",
      "Time:                        01:31:25   Log-Likelihood:                 3.3054\n",
      "No. Observations:                  72   AIC:                             13.39\n",
      "Df Residuals:                      62   BIC:                             36.16\n",
      "Df Model:                           9                                         \n",
      "Covariance Type:            nonrobust                                         \n",
      "==================================================================================\n",
      "                     coef    std err          t      P>|t|      [0.025      0.975]\n",
      "----------------------------------------------------------------------------------\n",
      "Intercept          0.4111      0.394      1.043      0.301      -0.377       1.199\n",
      "LnFeDomains       -0.1345      0.298     -0.451      0.654      -0.731       0.462\n",
      "x1                 0.0025      0.397      0.006      0.995      -0.791       0.797\n",
      "x1:LnFeDomains    -0.7384      0.308     -2.401      0.019      -1.353      -0.124\n",
      "x2                -0.5033      0.441     -1.140      0.259      -1.386       0.379\n",
      "x2:LnFeDomains    -0.0510      0.884     -0.058      0.954      -1.818       1.716\n",
      "x3                -0.1898      0.416     -0.457      0.650      -1.020       0.641\n",
      "x3:LnFeDomains     2.0938      0.675      3.104      0.003       0.745       3.442\n",
      "x5                 0.6398      1.951      0.328      0.744      -3.261       4.541\n",
      "x5:LnFeDomains    -0.7647      1.068     -0.716      0.476      -2.899       1.369\n",
      "x6                 0.4619      0.413      1.118      0.268      -0.364       1.288\n",
      "x6:LnFeDomains    -0.6742      0.336     -2.006      0.049      -1.346      -0.002\n",
      "==============================================================================\n",
      "Omnibus:                       15.289   Durbin-Watson:                   0.724\n",
      "Prob(Omnibus):                  0.000   Jarque-Bera (JB):               21.169\n",
      "Skew:                          -0.864   Prob(JB):                     2.53e-05\n",
      "Kurtosis:                       5.018   Cond. No.                     2.58e+16\n",
      "==============================================================================\n",
      "\n",
      "Warnings:\n",
      "[1] Standard Errors assume that the covariance matrix of the errors is correctly specified.\n",
      "[2] The smallest eigenvalue is 1.96e-31. This might indicate that there are\n",
      "strong multicollinearity problems or that the design matrix is singular.\n",
      "Regression 1\n",
      "Intercept         0.411108\n",
      "LnFeDomains      -0.134467\n",
      "x1                0.002546\n",
      "x1:LnFeDomains   -0.738401\n",
      "x2               -0.503344\n",
      "x2:LnFeDomains   -0.050960\n",
      "x3               -0.189756\n",
      "x3:LnFeDomains    2.093801\n",
      "x5                0.639767\n",
      "x5:LnFeDomains   -0.764744\n",
      "x6                0.461894\n",
      "x6:LnFeDomains   -0.674163\n",
      "dtype: float64\n"
     ]
    }
   ],
   "source": [
    "est1 = smf.ols('LnDinv ~ LnFeDomains + x1*LnFeDomains + x2*LnFeDomains + x3*LnFeDomains + x5*LnFeDomains + x6*LnFeDomains ', df6).fit()\n",
    "regr1 = est1.params\n",
    "print(est1.summary())\n",
    "\n",
    "print('Regression 1')\n",
    "print(regr1)"
   ]
  },
  {
   "cell_type": "markdown",
   "metadata": {},
   "source": [
    "**p-values** are quite high!, check what does it mean."
   ]
  },
  {
   "cell_type": "code",
   "execution_count": 70,
   "metadata": {},
   "outputs": [],
   "source": [
    "# feDomains = np.linspace(0,100)\n",
    "\n",
    "# sulphur = np.linspace(regr1['Intercept']+regr1['x1'],regr1['Intercept']+regr1['x1']+100*regr1['LnFeDomains'])\n",
    "# phosphorus = np.linspace(regr1['Intercept']+regr1['x2'],regr1['Intercept']+regr1['x2']+100*regr1['LnFeDomains'])\n",
    "# carbon = np.linspace(regr1['Intercept']+regr1['x3'],regr1['Intercept']+regr1['x3']+100*regr1['LnFeDomains'])\n",
    "# SC = np.linspace(regr1['Intercept']+regr1['x5'],regr1['Intercept']+regr1['x5']+100*regr1['LnFeDomains'])\n",
    "# SP = np.linspace(regr1['Intercept']+regr1['x6'],regr1['Intercept']+regr1['x6']+100*regr1['LnFeDomains'])\n",
    "\n",
    "# plt.plot(feDomains, sulphur)\n",
    "# plt.plot(feDomains, SP)\n",
    "# plt.plot(feDomains, SC)\n",
    "# plt.show()\n",
    "\n",
    "# # # Create plot\n",
    "# # fig, (ax1,ax2,ax3,ax5,ax6) = plt.subplots(5,1, figsize=(12,12))\n",
    "# # ax1.plot(feDomains, sulphur, 'b')\n",
    "# # ax2.plot(feDomains, phosphorus, 'p')\n",
    "# # ax3.plot(feDomains, carbon, 'y')\n",
    "# # ax5.plot(feDomains, SC, 'g')\n",
    "# # ax6.plot(feDomains, SP, 'r')\n",
    "\n",
    "# # for ax in fig.axes:\n",
    "# #     ax.legend(['System'], loc=2)\n",
    "# #     ax.set_xlabel('LnFeDomains')\n",
    "# #     ax.set_ylabel('LnDinv')\n",
    "# #     ax.set_ylim(ymax=10)"
   ]
  },
  {
   "cell_type": "markdown",
   "metadata": {},
   "source": [
    "Some error in the above code"
   ]
  },
  {
   "cell_type": "code",
   "execution_count": null,
   "metadata": {},
   "outputs": [],
   "source": [
    "# ## Interaction between Quantitative and Qualitative terms\n",
    "\n",
    "\n",
    "# est1 = smf.ols('Balance ~ Income + Student2', credit).fit()\n",
    "# regr1 = est1.params\n",
    "# est2 = smf.ols('Balance ~ Income + Income*Student2', credit).fit()\n",
    "# regr2 = est2.params\n",
    "\n",
    "# print('Regression 1 - without interaction term')\n",
    "# print(regr1)\n",
    "# print('\\nRegression 2 - with interaction term')\n",
    "# print(regr2)\n",
    "\n",
    "\n",
    "# # Income (x-axis)\n",
    "# income = np.linspace(0,150)\n",
    "\n",
    "# # Balance without interaction term (y-axis)\n",
    "# student1 = np.linspace(regr1['Intercept']+regr1['Student2'],\n",
    "#                        regr1['Intercept']+regr1['Student2']+150*regr1['Income'])\n",
    "# non_student1 =  np.linspace(regr1['Intercept'], regr1['Intercept']+150*regr1['Income'])\n",
    "\n",
    "# # Balance with iteraction term (y-axis)\n",
    "# student2 = np.linspace(regr2['Intercept']+regr2['Student2'],\n",
    "#                        regr2['Intercept']+regr2['Student2']+\n",
    "#                        150*(regr2['Income']+regr2['Income:Student2']))\n",
    "# non_student2 =  np.linspace(regr2['Intercept'], regr2['Intercept']+150*regr2['Income'])\n",
    "\n",
    "# # Create plot\n",
    "# fig, (ax1,ax2) = plt.subplots(1,2, figsize=(12,5))\n",
    "# ax1.plot(income, student1, 'r', income, non_student1, 'k')\n",
    "# ax2.plot(income, student2, 'r', income, non_student2, 'k')\n",
    "\n",
    "# for ax in fig.axes:\n",
    "#     ax.legend(['student', 'non-student'], loc=2)\n",
    "#     ax.set_xlabel('Income')\n",
    "#     ax.set_ylabel('Balance')\n",
    "#     ax.set_ylim(ymax=1550)"
   ]
  },
  {
   "cell_type": "code",
   "execution_count": null,
   "metadata": {},
   "outputs": [],
   "source": []
  }
 ],
 "metadata": {
  "kernelspec": {
   "display_name": "Python 3",
   "language": "python",
   "name": "python3"
  },
  "language_info": {
   "codemirror_mode": {
    "name": "ipython",
    "version": 3
   },
   "file_extension": ".py",
   "mimetype": "text/x-python",
   "name": "python",
   "nbconvert_exporter": "python",
   "pygments_lexer": "ipython3",
   "version": "3.7.0"
  }
 },
 "nbformat": 4,
 "nbformat_minor": 2
}
